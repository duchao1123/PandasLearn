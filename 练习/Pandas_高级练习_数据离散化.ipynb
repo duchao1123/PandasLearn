{
 "cells": [
  {
   "cell_type": "code",
   "execution_count": 1,
   "id": "7cec6c85-b2d4-40ce-864c-ff430ea4018c",
   "metadata": {
    "tags": []
   },
   "outputs": [],
   "source": [
    "import pandas as pd"
   ]
  },
  {
   "cell_type": "markdown",
   "id": "7262fed6-53a2-4565-9357-421ace34cd41",
   "metadata": {
    "tags": []
   },
   "source": [
    "### 一维数据"
   ]
  },
  {
   "cell_type": "code",
   "execution_count": null,
   "id": "23d373bf-0e0a-4bba-b649-b521906fd1c6",
   "metadata": {},
   "outputs": [],
   "source": []
  }
 ],
 "metadata": {
  "kernelspec": {
   "display_name": "Python 3 (ipykernel)",
   "language": "python",
   "name": "python3"
  },
  "language_info": {
   "codemirror_mode": {
    "name": "ipython",
    "version": 3
   },
   "file_extension": ".py",
   "mimetype": "text/x-python",
   "name": "python",
   "nbconvert_exporter": "python",
   "pygments_lexer": "ipython3",
   "version": "3.11.4"
  }
 },
 "nbformat": 4,
 "nbformat_minor": 5
}
