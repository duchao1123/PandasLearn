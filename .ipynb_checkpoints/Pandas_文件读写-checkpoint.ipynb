{
 "cells": [
  {
   "cell_type": "markdown",
   "id": "0d8b93cd-7bdb-4856-b04c-d9d78250cf40",
   "metadata": {},
   "source": [
    "## 常规文件读写\n",
    "- CSV\n",
    "- JSON\n",
    "- HDF5"
   ]
  },
  {
   "cell_type": "code",
   "execution_count": null,
   "id": "e631dd1c-9aaa-4132-8ffc-8fefea25ec12",
   "metadata": {},
   "outputs": [],
   "source": []
  }
 ],
 "metadata": {
  "kernelspec": {
   "display_name": "Python 3 (ipykernel)",
   "language": "python",
   "name": "python3"
  },
  "language_info": {
   "codemirror_mode": {
    "name": "ipython",
    "version": 3
   },
   "file_extension": ".py",
   "mimetype": "text/x-python",
   "name": "python",
   "nbconvert_exporter": "python",
   "pygments_lexer": "ipython3",
   "version": "3.11.4"
  }
 },
 "nbformat": 4,
 "nbformat_minor": 5
}
