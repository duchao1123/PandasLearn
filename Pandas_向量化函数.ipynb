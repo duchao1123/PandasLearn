{
 "cells": [
  {
   "cell_type": "code",
   "execution_count": 1,
   "id": "initial_id",
   "metadata": {
    "collapsed": true,
    "ExecuteTime": {
     "end_time": "2023-09-03T01:16:19.910192Z",
     "start_time": "2023-09-03T01:16:19.574234Z"
    }
   },
   "outputs": [],
   "source": [
    "import pandas as pd\n",
    "import numpy as np"
   ]
  },
  {
   "cell_type": "markdown",
   "source": [
    "## 向量化函数 numpy.vectorize"
   ],
   "metadata": {
    "collapsed": false
   },
   "id": "9c2e2801326fef6a"
  },
  {
   "cell_type": "code",
   "execution_count": 2,
   "outputs": [],
   "source": [
    "df = pd.DataFrame({'a':[10, 20, 30], 'b':[20, 30, 40]})"
   ],
   "metadata": {
    "collapsed": false,
    "ExecuteTime": {
     "end_time": "2023-09-03T01:17:52.957728Z",
     "start_time": "2023-09-03T01:17:52.936757Z"
    }
   },
   "id": "9a441dafb126f5a9"
  },
  {
   "cell_type": "markdown",
   "source": [
    "### 常见问遍表现"
   ],
   "metadata": {
    "collapsed": false
   },
   "id": "2b2293d30fb163e1"
  },
  {
   "cell_type": "code",
   "execution_count": 3,
   "outputs": [
    {
     "ename": "ValueError",
     "evalue": "The truth value of a Series is ambiguous. Use a.empty, a.bool(), a.item(), a.any() or a.all().",
     "output_type": "error",
     "traceback": [
      "\u001B[0;31m---------------------------------------------------------------------------\u001B[0m",
      "\u001B[0;31mValueError\u001B[0m                                Traceback (most recent call last)",
      "\u001B[0;32m<ipython-input-3-625664310b19>\u001B[0m in \u001B[0;36m<module>\u001B[0;34m\u001B[0m\n\u001B[1;32m      5\u001B[0m         \u001B[0;32mreturn\u001B[0m \u001B[0;34m(\u001B[0m\u001B[0mx\u001B[0m \u001B[0;34m+\u001B[0m \u001B[0my\u001B[0m\u001B[0;34m)\u001B[0m \u001B[0;34m/\u001B[0m \u001B[0;36m2\u001B[0m\u001B[0;34m\u001B[0m\u001B[0;34m\u001B[0m\u001B[0m\n\u001B[1;32m      6\u001B[0m \u001B[0;34m\u001B[0m\u001B[0m\n\u001B[0;32m----> 7\u001B[0;31m \u001B[0mavg_test\u001B[0m\u001B[0;34m(\u001B[0m\u001B[0mdf\u001B[0m\u001B[0;34m[\u001B[0m\u001B[0;34m'a'\u001B[0m\u001B[0;34m]\u001B[0m\u001B[0;34m,\u001B[0m \u001B[0mdf\u001B[0m\u001B[0;34m[\u001B[0m\u001B[0;34m'b'\u001B[0m\u001B[0;34m]\u001B[0m\u001B[0;34m)\u001B[0m\u001B[0;34m\u001B[0m\u001B[0;34m\u001B[0m\u001B[0m\n\u001B[0m",
      "\u001B[0;32m<ipython-input-3-625664310b19>\u001B[0m in \u001B[0;36mavg_test\u001B[0;34m(x, y)\u001B[0m\n\u001B[1;32m      1\u001B[0m \u001B[0;32mdef\u001B[0m \u001B[0mavg_test\u001B[0m\u001B[0;34m(\u001B[0m\u001B[0mx\u001B[0m\u001B[0;34m,\u001B[0m \u001B[0my\u001B[0m\u001B[0;34m)\u001B[0m\u001B[0;34m:\u001B[0m\u001B[0;34m\u001B[0m\u001B[0;34m\u001B[0m\u001B[0m\n\u001B[0;32m----> 2\u001B[0;31m     \u001B[0;32mif\u001B[0m \u001B[0mx\u001B[0m \u001B[0;34m==\u001B[0m \u001B[0;36m20\u001B[0m\u001B[0;34m:\u001B[0m\u001B[0;34m\u001B[0m\u001B[0;34m\u001B[0m\u001B[0m\n\u001B[0m\u001B[1;32m      3\u001B[0m         \u001B[0;32mreturn\u001B[0m \u001B[0mnp\u001B[0m\u001B[0;34m.\u001B[0m\u001B[0mNAN\u001B[0m\u001B[0;34m\u001B[0m\u001B[0;34m\u001B[0m\u001B[0m\n\u001B[1;32m      4\u001B[0m     \u001B[0;32melse\u001B[0m\u001B[0;34m:\u001B[0m\u001B[0;34m\u001B[0m\u001B[0;34m\u001B[0m\u001B[0m\n\u001B[1;32m      5\u001B[0m         \u001B[0;32mreturn\u001B[0m \u001B[0;34m(\u001B[0m\u001B[0mx\u001B[0m \u001B[0;34m+\u001B[0m \u001B[0my\u001B[0m\u001B[0;34m)\u001B[0m \u001B[0;34m/\u001B[0m \u001B[0;36m2\u001B[0m\u001B[0;34m\u001B[0m\u001B[0;34m\u001B[0m\u001B[0m\n",
      "\u001B[0;32m~/anaconda3/lib/python3.7/site-packages/pandas/core/generic.py\u001B[0m in \u001B[0;36m__nonzero__\u001B[0;34m(self)\u001B[0m\n\u001B[1;32m   1574\u001B[0m         raise ValueError(\"The truth value of a {0} is ambiguous. \"\n\u001B[1;32m   1575\u001B[0m                          \u001B[0;34m\"Use a.empty, a.bool(), a.item(), a.any() or a.all().\"\u001B[0m\u001B[0;34m\u001B[0m\u001B[0;34m\u001B[0m\u001B[0m\n\u001B[0;32m-> 1576\u001B[0;31m                          .format(self.__class__.__name__))\n\u001B[0m\u001B[1;32m   1577\u001B[0m \u001B[0;34m\u001B[0m\u001B[0m\n\u001B[1;32m   1578\u001B[0m     \u001B[0m__bool__\u001B[0m \u001B[0;34m=\u001B[0m \u001B[0m__nonzero__\u001B[0m\u001B[0;34m\u001B[0m\u001B[0;34m\u001B[0m\u001B[0m\n",
      "\u001B[0;31mValueError\u001B[0m: The truth value of a Series is ambiguous. Use a.empty, a.bool(), a.item(), a.any() or a.all()."
     ]
    }
   ],
   "source": [
    "def avg_test(x, y):\n",
    "    if x == 20:\n",
    "        return np.NAN\n",
    "    else:\n",
    "        return (x + y) / 2\n",
    "\n",
    "avg_test(df['a'], df['b'])"
   ],
   "metadata": {
    "collapsed": false,
    "ExecuteTime": {
     "end_time": "2023-09-03T01:19:25.188514Z",
     "start_time": "2023-09-03T01:19:25.171609Z"
    }
   },
   "id": "804ed7ba9f1583cc"
  },
  {
   "cell_type": "markdown",
   "source": [
    "#### 解释：函数需要传入具体值，进行运算，但是传入数据为Series"
   ],
   "metadata": {
    "collapsed": false
   },
   "id": "2914b5175316e0b0"
  },
  {
   "cell_type": "markdown",
   "source": [
    "### 处理办法使用numpy.vectorize 向量化数据"
   ],
   "metadata": {
    "collapsed": false
   },
   "id": "9bc46fdb41e4ed9e"
  },
  {
   "cell_type": "markdown",
   "source": [
    "#### 向量化使用方式一、"
   ],
   "metadata": {
    "collapsed": false
   },
   "id": "62060d9dd76870f"
  },
  {
   "cell_type": "code",
   "execution_count": 11,
   "outputs": [
    {
     "name": "stdout",
     "output_type": "stream",
     "text": [
      "x = 10, y = 20\n",
      "x = 10, y = 20\n",
      "x = 20, y = 30\n",
      "x = 30, y = 40\n"
     ]
    },
    {
     "data": {
      "text/plain": "array([15., nan, 35.])"
     },
     "execution_count": 11,
     "metadata": {},
     "output_type": "execute_result"
    }
   ],
   "source": [
    "def avg_test1(x, y):\n",
    "    print(f'x = {x}, y = {y}')\n",
    "    if x == 20:\n",
    "        return np.NAN\n",
    "    else:\n",
    "        return (x + y) / 2\n",
    "avg_vec = np.vectorize(avg_test1)\n",
    "avg_vec(df['a'], df['b'])"
   ],
   "metadata": {
    "collapsed": false,
    "ExecuteTime": {
     "end_time": "2023-09-03T01:45:41.128542Z",
     "start_time": "2023-09-03T01:45:41.118357Z"
    }
   },
   "id": "44da3355fe275755"
  },
  {
   "cell_type": "markdown",
   "source": [
    "#### 向量化使用方式二、"
   ],
   "metadata": {
    "collapsed": false
   },
   "id": "41ddb8920b809619"
  },
  {
   "cell_type": "code",
   "execution_count": 1,
   "outputs": [
    {
     "ename": "NameError",
     "evalue": "name 'np' is not defined",
     "output_type": "error",
     "traceback": [
      "\u001B[0;31m---------------------------------------------------------------------------\u001B[0m",
      "\u001B[0;31mNameError\u001B[0m                                 Traceback (most recent call last)",
      "\u001B[0;32m<ipython-input-1-cbe5e0a96e1a>\u001B[0m in \u001B[0;36m<module>\u001B[0;34m\u001B[0m\n\u001B[0;32m----> 1\u001B[0;31m \u001B[0;34m@\u001B[0m\u001B[0mnp\u001B[0m\u001B[0;34m.\u001B[0m\u001B[0mvectorize\u001B[0m\u001B[0;34m\u001B[0m\u001B[0;34m\u001B[0m\u001B[0m\n\u001B[0m\u001B[1;32m      2\u001B[0m \u001B[0;32mdef\u001B[0m \u001B[0mavg_test2\u001B[0m\u001B[0;34m(\u001B[0m\u001B[0mx\u001B[0m\u001B[0;34m,\u001B[0m \u001B[0my\u001B[0m\u001B[0;34m)\u001B[0m\u001B[0;34m:\u001B[0m\u001B[0;34m\u001B[0m\u001B[0;34m\u001B[0m\u001B[0m\n\u001B[1;32m      3\u001B[0m     \u001B[0;32mif\u001B[0m \u001B[0mx\u001B[0m \u001B[0;34m==\u001B[0m \u001B[0;36m20\u001B[0m\u001B[0;34m:\u001B[0m\u001B[0;34m\u001B[0m\u001B[0;34m\u001B[0m\u001B[0m\n\u001B[1;32m      4\u001B[0m         \u001B[0;32mreturn\u001B[0m \u001B[0mnp\u001B[0m\u001B[0;34m.\u001B[0m\u001B[0mNAN\u001B[0m\u001B[0;34m\u001B[0m\u001B[0;34m\u001B[0m\u001B[0m\n\u001B[1;32m      5\u001B[0m     \u001B[0;32melse\u001B[0m\u001B[0;34m:\u001B[0m\u001B[0;34m\u001B[0m\u001B[0;34m\u001B[0m\u001B[0m\n",
      "\u001B[0;31mNameError\u001B[0m: name 'np' is not defined"
     ]
    }
   ],
   "source": [
    "@np.vectorize\n",
    "def avg_test2(x, y):\n",
    "    if x == 20:\n",
    "        return np.NAN\n",
    "    else:\n",
    "        return (x + y) / 2\n",
    "\n",
    "avg_test2(df['a'], df['b'])"
   ],
   "metadata": {
    "collapsed": false,
    "ExecuteTime": {
     "end_time": "2023-09-03T06:29:08.836084Z",
     "start_time": "2023-09-03T06:29:08.732020Z"
    }
   },
   "id": "efa1c59a7e6f9a4c"
  },
  {
   "cell_type": "markdown",
   "source": [
    "### 官方案例"
   ],
   "metadata": {
    "collapsed": false
   },
   "id": "1a812b57153356d7"
  },
  {
   "cell_type": "code",
   "execution_count": null,
   "outputs": [],
   "source": [],
   "metadata": {
    "collapsed": false
   },
   "id": "e03a16136238f9b4"
  }
 ],
 "metadata": {
  "kernelspec": {
   "display_name": "Python 3",
   "language": "python",
   "name": "python3"
  },
  "language_info": {
   "codemirror_mode": {
    "name": "ipython",
    "version": 2
   },
   "file_extension": ".py",
   "mimetype": "text/x-python",
   "name": "python",
   "nbconvert_exporter": "python",
   "pygments_lexer": "ipython2",
   "version": "2.7.6"
  }
 },
 "nbformat": 4,
 "nbformat_minor": 5
}
