{
 "cells": [
  {
   "cell_type": "code",
   "execution_count": 4,
   "id": "86653469",
   "metadata": {
    "ExecuteTime": {
     "end_time": "2023-09-02T02:46:33.150440Z",
     "start_time": "2023-09-02T02:46:32.320082Z"
    }
   },
   "outputs": [],
   "source": [
    "# 导包\n",
    "import pandas as pd\n",
    "import numpy as np"
   ]
  },
  {
   "cell_type": "markdown",
   "id": "aae8a4bb",
   "metadata": {},
   "source": [
    "# 数据结构\n",
    "## series (一维)"
   ]
  },
  {
   "cell_type": "markdown",
   "source": [
    "### 创建方式一： list参数"
   ],
   "metadata": {
    "collapsed": false
   },
   "id": "41fb1339e7c36949"
  },
  {
   "cell_type": "code",
   "execution_count": 5,
   "id": "ae9ea7b2",
   "metadata": {
    "ExecuteTime": {
     "end_time": "2023-09-02T02:46:42.646307Z",
     "start_time": "2023-09-02T02:46:42.640383Z"
    }
   },
   "outputs": [
    {
     "data": {
      "text/plain": "0    1\n1    2\n2    3\n3    4\n4    5\ndtype: int64"
     },
     "execution_count": 5,
     "metadata": {},
     "output_type": "execute_result"
    }
   ],
   "source": [
    "ser1 = pd.Series([1, 2, 3, 4, 5])\n",
    "ser1"
   ]
  },
  {
   "cell_type": "markdown",
   "source": [
    "### 创建方式二： dist参数，指定了index"
   ],
   "metadata": {
    "collapsed": false
   },
   "id": "8a11a1969c1820a9"
  },
  {
   "cell_type": "code",
   "execution_count": 6,
   "id": "af4ae883",
   "metadata": {
    "ExecuteTime": {
     "end_time": "2023-09-02T02:46:44.988730Z",
     "start_time": "2023-09-02T02:46:44.940835Z"
    }
   },
   "outputs": [
    {
     "data": {
      "text/plain": "red      1\nblue     2\ngreen    3\ndtype: int64"
     },
     "execution_count": 6,
     "metadata": {},
     "output_type": "execute_result"
    }
   ],
   "source": [
    "ser2 = pd.Series({'red': 1, 'blue': 2, 'green': 3})\n",
    "ser2"
   ]
  },
  {
   "cell_type": "markdown",
   "source": [
    "### 创建方式三： numpy array创建"
   ],
   "metadata": {
    "collapsed": false
   },
   "id": "9fb8e453ac1fb136"
  },
  {
   "cell_type": "code",
   "execution_count": 8,
   "outputs": [
    {
     "data": {
      "text/plain": "0    1\n1    2\n2    3\n3    4\ndtype: int64"
     },
     "execution_count": 8,
     "metadata": {},
     "output_type": "execute_result"
    }
   ],
   "source": [
    "ser3 = pd.Series(np.array([1, 2, 3, 4]))\n",
    "ser3"
   ],
   "metadata": {
    "collapsed": false,
    "ExecuteTime": {
     "end_time": "2023-09-02T02:48:15.246569Z",
     "start_time": "2023-09-02T02:48:15.230994Z"
    }
   },
   "id": "268829736fc645b"
  },
  {
   "cell_type": "markdown",
   "source": [
    "### 创建方式四： numpy arange创建"
   ],
   "metadata": {
    "collapsed": false
   },
   "id": "1711d5c541de2fad"
  },
  {
   "cell_type": "code",
   "execution_count": 10,
   "outputs": [
    {
     "data": {
      "text/plain": "0    1\n1    2\n2    3\n3    4\ndtype: int64"
     },
     "execution_count": 10,
     "metadata": {},
     "output_type": "execute_result"
    }
   ],
   "source": [
    "ser4 = pd.Series(np.arange(1, 5))\n",
    "ser4"
   ],
   "metadata": {
    "collapsed": false,
    "ExecuteTime": {
     "end_time": "2023-09-02T02:49:27.307018Z",
     "start_time": "2023-09-02T02:49:27.236348Z"
    }
   },
   "id": "ea3420aa5f2210c9"
  },
  {
   "cell_type": "markdown",
   "source": [
    "### 创建方式五： 快捷创建\n",
    "- np.random.rand 随机0～1\n",
    "- np.random.randint 随机int范围\n",
    "- np.random.uniform 平均分布\n",
    "- np.random.randn or np.random.normal 正态分布\n",
    "- np.zeros() or np.zeros_like() 全零\n",
    "- np.ones() or np.ones_like() 全一"
   ],
   "metadata": {
    "collapsed": false
   },
   "id": "2eb93f9bb30c0e4c"
  },
  {
   "cell_type": "markdown",
   "source": [
    "#### np.random.rand(row, column) 创建[0, 1), row行，column列 "
   ],
   "metadata": {
    "collapsed": false
   },
   "id": "1f09ab23e20db565"
  },
  {
   "cell_type": "code",
   "execution_count": 17,
   "outputs": [
    {
     "data": {
      "text/plain": "array([[0.61106413, 0.46546788],\n       [0.10536486, 0.64774149],\n       [0.96685255, 0.51267735]])"
     },
     "execution_count": 17,
     "metadata": {},
     "output_type": "execute_result"
    }
   ],
   "source": [
    "np.random.rand(3, 2)"
   ],
   "metadata": {
    "collapsed": false,
    "ExecuteTime": {
     "end_time": "2023-09-02T03:44:48.374869Z",
     "start_time": "2023-09-02T03:44:48.252596Z"
    }
   },
   "id": "c15b7888d2a9ed6f"
  },
  {
   "cell_type": "markdown",
   "source": [
    "#### np.random.randint(min, max, (row, column)) 创建[min,max), row行，column列 "
   ],
   "metadata": {
    "collapsed": false
   },
   "id": "3806d19e6e2bff9e"
  },
  {
   "cell_type": "code",
   "execution_count": 19,
   "outputs": [
    {
     "data": {
      "text/plain": "array([[2, 2, 1, 1],\n       [2, 2, 1, 2],\n       [2, 1, 1, 1]])"
     },
     "execution_count": 19,
     "metadata": {},
     "output_type": "execute_result"
    }
   ],
   "source": [
    "np.random.randint(1, 3, (3, 4))"
   ],
   "metadata": {
    "collapsed": false,
    "ExecuteTime": {
     "end_time": "2023-09-02T03:49:16.278626Z",
     "start_time": "2023-09-02T03:49:16.135536Z"
    }
   },
   "id": "6d2d2db3a72fb0c9"
  },
  {
   "cell_type": "markdown",
   "source": [
    "#### np.random.uniform(min, max, (row, column)) 平均分布，创建[min,max), row行，column列 "
   ],
   "metadata": {
    "collapsed": false
   },
   "id": "6d1e9217598be9e8"
  },
  {
   "cell_type": "code",
   "execution_count": 21,
   "outputs": [
    {
     "data": {
      "text/plain": "array([[-0.24273708, -0.63224145, -0.62382778, -0.83854481],\n       [-0.50224326, -0.93204154, -0.39393944, -0.64932551],\n       [-0.05484918, -0.17801213, -0.4060183 , -0.72913198]])"
     },
     "execution_count": 21,
     "metadata": {},
     "output_type": "execute_result"
    }
   ],
   "source": [
    "np.random.uniform(-1, 0, (3, 4))"
   ],
   "metadata": {
    "collapsed": false,
    "ExecuteTime": {
     "end_time": "2023-09-02T03:52:18.191549Z",
     "start_time": "2023-09-02T03:52:18.109615Z"
    }
   },
   "id": "3df8231fe875a04"
  },
  {
   "cell_type": "markdown",
   "source": [
    "#### np.random.normal(center, scale, (row, column)) 正态分布 创建center为中心，差值scale, row行，column列 "
   ],
   "metadata": {
    "collapsed": false
   },
   "id": "7c0b115f5decae1"
  },
  {
   "cell_type": "code",
   "execution_count": 23,
   "outputs": [
    {
     "data": {
      "text/plain": "array([[4.04904234, 2.83087329, 2.5592104 , 4.04759017],\n       [3.35438897, 4.48931827, 4.85784192, 2.59238664]])"
     },
     "execution_count": 23,
     "metadata": {},
     "output_type": "execute_result"
    }
   ],
   "source": [
    "np.random.normal(3, 1, size=(2, 4))"
   ],
   "metadata": {
    "collapsed": false,
    "ExecuteTime": {
     "end_time": "2023-09-02T03:55:39.154721Z",
     "start_time": "2023-09-02T03:55:39.074852Z"
    }
   },
   "id": "ca130748456191b5"
  },
  {
   "cell_type": "markdown",
   "source": [
    "#### np.zeros((row, col)) 创建全零 row行，column列 "
   ],
   "metadata": {
    "collapsed": false
   },
   "id": "29d38182887546f3"
  },
  {
   "cell_type": "code",
   "execution_count": 25,
   "outputs": [
    {
     "data": {
      "text/plain": "array([[0., 0., 0., 0.],\n       [0., 0., 0., 0.],\n       [0., 0., 0., 0.]])"
     },
     "execution_count": 25,
     "metadata": {},
     "output_type": "execute_result"
    }
   ],
   "source": [
    "np.zeros((3, 4))"
   ],
   "metadata": {
    "collapsed": false,
    "ExecuteTime": {
     "end_time": "2023-09-02T03:57:28.516064Z",
     "start_time": "2023-09-02T03:57:28.340380Z"
    }
   },
   "id": "4f2b6089507e6f0f"
  },
  {
   "cell_type": "markdown",
   "source": [
    "#### np.ones((row, col)) 创建全一 row行，column列 "
   ],
   "metadata": {
    "collapsed": false
   },
   "id": "ec281dd5da9752d8"
  },
  {
   "cell_type": "code",
   "execution_count": 26,
   "outputs": [
    {
     "data": {
      "text/plain": "array([[1., 1., 1., 1.],\n       [1., 1., 1., 1.],\n       [1., 1., 1., 1.]])"
     },
     "execution_count": 26,
     "metadata": {},
     "output_type": "execute_result"
    }
   ],
   "source": [
    "np.ones((3, 4))"
   ],
   "metadata": {
    "collapsed": false,
    "ExecuteTime": {
     "end_time": "2023-09-02T03:59:01.248734Z",
     "start_time": "2023-09-02T03:59:01.176917Z"
    }
   },
   "id": "c28245e5fe708aae"
  },
  {
   "cell_type": "markdown",
   "source": [
    "### 属性\n",
    "- index 获取所有索引\n",
    "    - at 根据索引值获取 等同于 loc\n",
    "    - iat 根据索引获取 等同于 iloc\n",
    "- values 获取所有值\n",
    "- shape 形状\n",
    "- size 元素数量\n",
    "- dtype 元素数据类型"
   ],
   "metadata": {
    "collapsed": false
   },
   "id": "a7248b3e45a0fd0a"
  },
  {
   "cell_type": "code",
   "execution_count": 5,
   "id": "1e0cb203",
   "metadata": {},
   "outputs": [
    {
     "data": {
      "text/plain": [
       "Index(['red', 'blue', 'green'], dtype='object')"
      ]
     },
     "execution_count": 5,
     "metadata": {},
     "output_type": "execute_result"
    }
   ],
   "source": [
    "ser2.index"
   ]
  },
  {
   "cell_type": "code",
   "execution_count": 36,
   "outputs": [
    {
     "data": {
      "text/plain": "1"
     },
     "execution_count": 36,
     "metadata": {},
     "output_type": "execute_result"
    }
   ],
   "source": [
    "ser2.at['red']"
   ],
   "metadata": {
    "collapsed": false,
    "ExecuteTime": {
     "end_time": "2023-09-02T04:04:00.703476Z",
     "start_time": "2023-09-02T04:04:00.615774Z"
    }
   },
   "id": "e3ff2cac1b39f2c2"
  },
  {
   "cell_type": "code",
   "execution_count": 37,
   "outputs": [
    {
     "data": {
      "text/plain": "1"
     },
     "execution_count": 37,
     "metadata": {},
     "output_type": "execute_result"
    }
   ],
   "source": [
    "ser2.loc['red']"
   ],
   "metadata": {
    "collapsed": false,
    "ExecuteTime": {
     "end_time": "2023-09-02T04:04:16.090218Z",
     "start_time": "2023-09-02T04:04:15.980817Z"
    }
   },
   "id": "25d64ba001197f9f"
  },
  {
   "cell_type": "code",
   "execution_count": 38,
   "outputs": [
    {
     "data": {
      "text/plain": "1"
     },
     "execution_count": 38,
     "metadata": {},
     "output_type": "execute_result"
    }
   ],
   "source": [
    "ser2.iat[0]"
   ],
   "metadata": {
    "collapsed": false,
    "ExecuteTime": {
     "end_time": "2023-09-02T04:04:38.312910Z",
     "start_time": "2023-09-02T04:04:38.231695Z"
    }
   },
   "id": "5a2f67afb7423dc"
  },
  {
   "cell_type": "code",
   "execution_count": 39,
   "outputs": [
    {
     "data": {
      "text/plain": "1"
     },
     "execution_count": 39,
     "metadata": {},
     "output_type": "execute_result"
    }
   ],
   "source": [
    "ser2.iloc[0]"
   ],
   "metadata": {
    "collapsed": false,
    "ExecuteTime": {
     "end_time": "2023-09-02T04:04:47.978003Z",
     "start_time": "2023-09-02T04:04:47.914098Z"
    }
   },
   "id": "5440018816eba519"
  },
  {
   "cell_type": "code",
   "execution_count": 6,
   "outputs": [
    {
     "data": {
      "text/plain": [
       "array([1, 2, 3])"
      ]
     },
     "execution_count": 6,
     "metadata": {},
     "output_type": "execute_result"
    }
   ],
   "source": [
    "ser2.values"
   ],
   "metadata": {
    "collapsed": false
   },
   "id": "51149629"
  },
  {
   "cell_type": "code",
   "execution_count": 30,
   "outputs": [
    {
     "data": {
      "text/plain": "dtype('int64')"
     },
     "execution_count": 30,
     "metadata": {},
     "output_type": "execute_result"
    }
   ],
   "source": [
    "ser2.dtype"
   ],
   "metadata": {
    "collapsed": false,
    "ExecuteTime": {
     "start_time": "2023-09-02T04:01:24.866777Z"
    }
   },
   "id": "8b4c793f023b5a06"
  },
  {
   "cell_type": "code",
   "execution_count": 31,
   "outputs": [
    {
     "data": {
      "text/plain": "(3,)"
     },
     "execution_count": 31,
     "metadata": {},
     "output_type": "execute_result"
    }
   ],
   "source": [
    "ser2.shape"
   ],
   "metadata": {
    "collapsed": false,
    "ExecuteTime": {
     "start_time": "2023-09-02T04:02:21.834602Z"
    }
   },
   "id": "48013feb5df6c1df"
  },
  {
   "cell_type": "code",
   "execution_count": 32,
   "outputs": [
    {
     "data": {
      "text/plain": "3"
     },
     "execution_count": 32,
     "metadata": {},
     "output_type": "execute_result"
    }
   ],
   "source": [
    "ser2.size"
   ],
   "metadata": {
    "collapsed": false,
    "ExecuteTime": {
     "end_time": "2023-09-02T04:02:30.775452Z",
     "start_time": "2023-09-02T04:02:30.663273Z"
    }
   },
   "id": "6b25a03d1c0434b4"
  },
  {
   "cell_type": "markdown",
   "id": "84fd7efe",
   "metadata": {},
   "source": [
    "## DataFrame（二维）"
   ]
  },
  {
   "cell_type": "markdown",
   "source": [
    "### 创建 data 数据值"
   ],
   "metadata": {
    "collapsed": false
   },
   "id": "e26a742f0f83758e"
  },
  {
   "cell_type": "code",
   "execution_count": 40,
   "outputs": [
    {
     "data": {
      "text/plain": "   0  1  2  3\n0  1  2  3  4\n1  1  2  3  4",
      "text/html": "<div>\n<style scoped>\n    .dataframe tbody tr th:only-of-type {\n        vertical-align: middle;\n    }\n\n    .dataframe tbody tr th {\n        vertical-align: top;\n    }\n\n    .dataframe thead th {\n        text-align: right;\n    }\n</style>\n<table border=\"1\" class=\"dataframe\">\n  <thead>\n    <tr style=\"text-align: right;\">\n      <th></th>\n      <th>0</th>\n      <th>1</th>\n      <th>2</th>\n      <th>3</th>\n    </tr>\n  </thead>\n  <tbody>\n    <tr>\n      <th>0</th>\n      <td>1</td>\n      <td>2</td>\n      <td>3</td>\n      <td>4</td>\n    </tr>\n    <tr>\n      <th>1</th>\n      <td>1</td>\n      <td>2</td>\n      <td>3</td>\n      <td>4</td>\n    </tr>\n  </tbody>\n</table>\n</div>"
     },
     "execution_count": 40,
     "metadata": {},
     "output_type": "execute_result"
    }
   ],
   "source": [
    "list_data = [[1, 2, 3, 4], [1, 2, 3, 4]]\n",
    "pd.DataFrame(list_data)"
   ],
   "metadata": {
    "collapsed": false,
    "ExecuteTime": {
     "end_time": "2023-09-02T07:50:28.308370Z",
     "start_time": "2023-09-02T07:50:28.209216Z"
    }
   },
   "id": "a59e0efe621cca80"
  },
  {
   "cell_type": "code",
   "execution_count": 42,
   "outputs": [
    {
     "data": {
      "text/plain": "   col_1  col_2\n0      1      1\n1      2      2\n2      3      3\n3      4      4",
      "text/html": "<div>\n<style scoped>\n    .dataframe tbody tr th:only-of-type {\n        vertical-align: middle;\n    }\n\n    .dataframe tbody tr th {\n        vertical-align: top;\n    }\n\n    .dataframe thead th {\n        text-align: right;\n    }\n</style>\n<table border=\"1\" class=\"dataframe\">\n  <thead>\n    <tr style=\"text-align: right;\">\n      <th></th>\n      <th>col_1</th>\n      <th>col_2</th>\n    </tr>\n  </thead>\n  <tbody>\n    <tr>\n      <th>0</th>\n      <td>1</td>\n      <td>1</td>\n    </tr>\n    <tr>\n      <th>1</th>\n      <td>2</td>\n      <td>2</td>\n    </tr>\n    <tr>\n      <th>2</th>\n      <td>3</td>\n      <td>3</td>\n    </tr>\n    <tr>\n      <th>3</th>\n      <td>4</td>\n      <td>4</td>\n    </tr>\n  </tbody>\n</table>\n</div>"
     },
     "execution_count": 42,
     "metadata": {},
     "output_type": "execute_result"
    }
   ],
   "source": [
    "dist_data = {'col_1':[1,2,3,4],'col_2':[1,2,3,4]}\n",
    "pd.DataFrame(dist_data)"
   ],
   "metadata": {
    "collapsed": false,
    "ExecuteTime": {
     "end_time": "2023-09-02T07:52:21.479931Z",
     "start_time": "2023-09-02T07:52:21.323957Z"
    }
   },
   "id": "8a0d48d1c57ce743"
  },
  {
   "cell_type": "markdown",
   "source": [
    "### 创建 指定行名、列名 index，columns"
   ],
   "metadata": {
    "collapsed": false
   },
   "id": "3ce6953a70b470a9"
  },
  {
   "cell_type": "code",
   "execution_count": 43,
   "outputs": [
    {
     "data": {
      "text/plain": "     语文  数学  英语  历史  地理\n学生0  70  47  95  95  56\n学生1  72  86  90  97  74\n学生2  45  62  59  51  54\n学生3  81  68  41  86  62\n学生4  78  91  56  71  84\n学生5  60  93  63  97  97\n学生6  83  45  93  96  60\n学生7  83  41  73  61  89\n学生8  96  97  53  48  42\n学生9  71  58  46  54  47",
      "text/html": "<div>\n<style scoped>\n    .dataframe tbody tr th:only-of-type {\n        vertical-align: middle;\n    }\n\n    .dataframe tbody tr th {\n        vertical-align: top;\n    }\n\n    .dataframe thead th {\n        text-align: right;\n    }\n</style>\n<table border=\"1\" class=\"dataframe\">\n  <thead>\n    <tr style=\"text-align: right;\">\n      <th></th>\n      <th>语文</th>\n      <th>数学</th>\n      <th>英语</th>\n      <th>历史</th>\n      <th>地理</th>\n    </tr>\n  </thead>\n  <tbody>\n    <tr>\n      <th>学生0</th>\n      <td>70</td>\n      <td>47</td>\n      <td>95</td>\n      <td>95</td>\n      <td>56</td>\n    </tr>\n    <tr>\n      <th>学生1</th>\n      <td>72</td>\n      <td>86</td>\n      <td>90</td>\n      <td>97</td>\n      <td>74</td>\n    </tr>\n    <tr>\n      <th>学生2</th>\n      <td>45</td>\n      <td>62</td>\n      <td>59</td>\n      <td>51</td>\n      <td>54</td>\n    </tr>\n    <tr>\n      <th>学生3</th>\n      <td>81</td>\n      <td>68</td>\n      <td>41</td>\n      <td>86</td>\n      <td>62</td>\n    </tr>\n    <tr>\n      <th>学生4</th>\n      <td>78</td>\n      <td>91</td>\n      <td>56</td>\n      <td>71</td>\n      <td>84</td>\n    </tr>\n    <tr>\n      <th>学生5</th>\n      <td>60</td>\n      <td>93</td>\n      <td>63</td>\n      <td>97</td>\n      <td>97</td>\n    </tr>\n    <tr>\n      <th>学生6</th>\n      <td>83</td>\n      <td>45</td>\n      <td>93</td>\n      <td>96</td>\n      <td>60</td>\n    </tr>\n    <tr>\n      <th>学生7</th>\n      <td>83</td>\n      <td>41</td>\n      <td>73</td>\n      <td>61</td>\n      <td>89</td>\n    </tr>\n    <tr>\n      <th>学生8</th>\n      <td>96</td>\n      <td>97</td>\n      <td>53</td>\n      <td>48</td>\n      <td>42</td>\n    </tr>\n    <tr>\n      <th>学生9</th>\n      <td>71</td>\n      <td>58</td>\n      <td>46</td>\n      <td>54</td>\n      <td>47</td>\n    </tr>\n  </tbody>\n</table>\n</div>"
     },
     "execution_count": 43,
     "metadata": {},
     "output_type": "execute_result"
    }
   ],
   "source": [
    "# data : 40~100 分数之间， 10行5列数据\n",
    "score = np.random.randint(40, 100, (10, 5))\n",
    "\n",
    "# index : 对应上面说数据函数（每行代表一个学生呢）\n",
    "index = [f'学生{value}' for value in range(score.shape[0])]\n",
    "\n",
    "# columns : 固定语数外史地\n",
    "columns = ['语文', '数学', '英语', '历史', '地理']\n",
    "\n",
    "# 创建DataFrame\n",
    "df = pd.DataFrame(score, index, columns)\n",
    "df"
   ],
   "metadata": {
    "collapsed": false,
    "ExecuteTime": {
     "end_time": "2023-09-02T07:54:31.075136Z",
     "start_time": "2023-09-02T07:54:30.949442Z"
    }
   },
   "id": "40a8dfc3abc2d9a4"
  },
  {
   "cell_type": "markdown",
   "source": [
    "### 属性"
   ],
   "metadata": {
    "collapsed": false
   },
   "id": "42e44ba12ae187ec"
  },
  {
   "cell_type": "code",
   "execution_count": 44,
   "outputs": [
    {
     "data": {
      "text/plain": "(10, 5)"
     },
     "execution_count": 44,
     "metadata": {},
     "output_type": "execute_result"
    }
   ],
   "source": [
    "# 形状\n",
    "df.shape"
   ],
   "metadata": {
    "collapsed": false,
    "ExecuteTime": {
     "end_time": "2023-09-02T07:57:39.605646Z",
     "start_time": "2023-09-02T07:57:39.531225Z"
    }
   },
   "id": "2ebae22c52c11d08"
  },
  {
   "cell_type": "code",
   "execution_count": 45,
   "outputs": [
    {
     "data": {
      "text/plain": "Index(['学生0', '学生1', '学生2', '学生3', '学生4', '学生5', '学生6', '学生7', '学生8', '学生9'], dtype='object')"
     },
     "execution_count": 45,
     "metadata": {},
     "output_type": "execute_result"
    }
   ],
   "source": [
    "# row\n",
    "df.index"
   ],
   "metadata": {
    "collapsed": false,
    "ExecuteTime": {
     "end_time": "2023-09-02T07:58:17.801565Z",
     "start_time": "2023-09-02T07:58:17.729441Z"
    }
   },
   "id": "a39cd3b3083058be"
  },
  {
   "cell_type": "code",
   "execution_count": 46,
   "outputs": [
    {
     "data": {
      "text/plain": "Index(['语文', '数学', '英语', '历史', '地理'], dtype='object')"
     },
     "execution_count": 46,
     "metadata": {},
     "output_type": "execute_result"
    }
   ],
   "source": [
    "# colunms\n",
    "df.columns"
   ],
   "metadata": {
    "collapsed": false,
    "ExecuteTime": {
     "end_time": "2023-09-02T07:58:37.534271Z",
     "start_time": "2023-09-02T07:58:37.370177Z"
    }
   },
   "id": "65a65ccee27b15db"
  },
  {
   "cell_type": "code",
   "execution_count": 47,
   "outputs": [
    {
     "data": {
      "text/plain": "array([[70, 47, 95, 95, 56],\n       [72, 86, 90, 97, 74],\n       [45, 62, 59, 51, 54],\n       [81, 68, 41, 86, 62],\n       [78, 91, 56, 71, 84],\n       [60, 93, 63, 97, 97],\n       [83, 45, 93, 96, 60],\n       [83, 41, 73, 61, 89],\n       [96, 97, 53, 48, 42],\n       [71, 58, 46, 54, 47]])"
     },
     "execution_count": 47,
     "metadata": {},
     "output_type": "execute_result"
    }
   ],
   "source": [
    "# data\n",
    "df.values"
   ],
   "metadata": {
    "collapsed": false,
    "ExecuteTime": {
     "end_time": "2023-09-02T07:58:59.333737Z",
     "start_time": "2023-09-02T07:58:59.261045Z"
    }
   },
   "id": "10c76a07fdb1872d"
  },
  {
   "cell_type": "code",
   "execution_count": 49,
   "outputs": [
    {
     "data": {
      "text/plain": "    学生0  学生1  学生2  学生3  学生4  学生5  学生6  学生7  学生8  学生9\n语文   70   72   45   81   78   60   83   83   96   71\n数学   47   86   62   68   91   93   45   41   97   58\n英语   95   90   59   41   56   63   93   73   53   46\n历史   95   97   51   86   71   97   96   61   48   54\n地理   56   74   54   62   84   97   60   89   42   47",
      "text/html": "<div>\n<style scoped>\n    .dataframe tbody tr th:only-of-type {\n        vertical-align: middle;\n    }\n\n    .dataframe tbody tr th {\n        vertical-align: top;\n    }\n\n    .dataframe thead th {\n        text-align: right;\n    }\n</style>\n<table border=\"1\" class=\"dataframe\">\n  <thead>\n    <tr style=\"text-align: right;\">\n      <th></th>\n      <th>学生0</th>\n      <th>学生1</th>\n      <th>学生2</th>\n      <th>学生3</th>\n      <th>学生4</th>\n      <th>学生5</th>\n      <th>学生6</th>\n      <th>学生7</th>\n      <th>学生8</th>\n      <th>学生9</th>\n    </tr>\n  </thead>\n  <tbody>\n    <tr>\n      <th>语文</th>\n      <td>70</td>\n      <td>72</td>\n      <td>45</td>\n      <td>81</td>\n      <td>78</td>\n      <td>60</td>\n      <td>83</td>\n      <td>83</td>\n      <td>96</td>\n      <td>71</td>\n    </tr>\n    <tr>\n      <th>数学</th>\n      <td>47</td>\n      <td>86</td>\n      <td>62</td>\n      <td>68</td>\n      <td>91</td>\n      <td>93</td>\n      <td>45</td>\n      <td>41</td>\n      <td>97</td>\n      <td>58</td>\n    </tr>\n    <tr>\n      <th>英语</th>\n      <td>95</td>\n      <td>90</td>\n      <td>59</td>\n      <td>41</td>\n      <td>56</td>\n      <td>63</td>\n      <td>93</td>\n      <td>73</td>\n      <td>53</td>\n      <td>46</td>\n    </tr>\n    <tr>\n      <th>历史</th>\n      <td>95</td>\n      <td>97</td>\n      <td>51</td>\n      <td>86</td>\n      <td>71</td>\n      <td>97</td>\n      <td>96</td>\n      <td>61</td>\n      <td>48</td>\n      <td>54</td>\n    </tr>\n    <tr>\n      <th>地理</th>\n      <td>56</td>\n      <td>74</td>\n      <td>54</td>\n      <td>62</td>\n      <td>84</td>\n      <td>97</td>\n      <td>60</td>\n      <td>89</td>\n      <td>42</td>\n      <td>47</td>\n    </tr>\n  </tbody>\n</table>\n</div>"
     },
     "execution_count": 49,
     "metadata": {},
     "output_type": "execute_result"
    }
   ],
   "source": [
    "# 转置\n",
    "df.T"
   ],
   "metadata": {
    "collapsed": false,
    "ExecuteTime": {
     "end_time": "2023-09-02T07:59:28.808409Z",
     "start_time": "2023-09-02T07:59:28.730726Z"
    }
   },
   "id": "64689a814febcdbd"
  },
  {
   "cell_type": "code",
   "execution_count": 51,
   "outputs": [
    {
     "data": {
      "text/plain": "语文    int64\n数学    int64\n英语    int64\n历史    int64\n地理    int64\ndtype: object"
     },
     "execution_count": 51,
     "metadata": {},
     "output_type": "execute_result"
    }
   ],
   "source": [
    "# 每列的数据类型\n",
    "df.dtypes"
   ],
   "metadata": {
    "collapsed": false,
    "ExecuteTime": {
     "end_time": "2023-09-02T08:00:28.058100Z",
     "start_time": "2023-09-02T08:00:27.937543Z"
    }
   },
   "id": "5af4cce813065000"
  },
  {
   "cell_type": "code",
   "execution_count": 55,
   "id": "da8ad186",
   "metadata": {
    "ExecuteTime": {
     "end_time": "2023-09-02T08:02:42.796925Z",
     "start_time": "2023-09-02T08:02:42.678609Z"
    }
   },
   "outputs": [
    {
     "data": {
      "text/plain": "     语文  数学  英语  历史  地理\n学生0  70  47  95  95  56\n学生1  72  86  90  97  74\n学生2  45  62  59  51  54\n学生3  81  68  41  86  62\n学生4  78  91  56  71  84\n学生5  60  93  63  97  97\n学生6  83  45  93  96  60\n学生7  83  41  73  61  89\n学生8  96  97  53  48  42\n学生9  71  58  46  54  47",
      "text/html": "<div>\n<style scoped>\n    .dataframe tbody tr th:only-of-type {\n        vertical-align: middle;\n    }\n\n    .dataframe tbody tr th {\n        vertical-align: top;\n    }\n\n    .dataframe thead th {\n        text-align: right;\n    }\n</style>\n<table border=\"1\" class=\"dataframe\">\n  <thead>\n    <tr style=\"text-align: right;\">\n      <th></th>\n      <th>语文</th>\n      <th>数学</th>\n      <th>英语</th>\n      <th>历史</th>\n      <th>地理</th>\n    </tr>\n  </thead>\n  <tbody>\n    <tr>\n      <th>学生0</th>\n      <td>70</td>\n      <td>47</td>\n      <td>95</td>\n      <td>95</td>\n      <td>56</td>\n    </tr>\n    <tr>\n      <th>学生1</th>\n      <td>72</td>\n      <td>86</td>\n      <td>90</td>\n      <td>97</td>\n      <td>74</td>\n    </tr>\n    <tr>\n      <th>学生2</th>\n      <td>45</td>\n      <td>62</td>\n      <td>59</td>\n      <td>51</td>\n      <td>54</td>\n    </tr>\n    <tr>\n      <th>学生3</th>\n      <td>81</td>\n      <td>68</td>\n      <td>41</td>\n      <td>86</td>\n      <td>62</td>\n    </tr>\n    <tr>\n      <th>学生4</th>\n      <td>78</td>\n      <td>91</td>\n      <td>56</td>\n      <td>71</td>\n      <td>84</td>\n    </tr>\n    <tr>\n      <th>学生5</th>\n      <td>60</td>\n      <td>93</td>\n      <td>63</td>\n      <td>97</td>\n      <td>97</td>\n    </tr>\n    <tr>\n      <th>学生6</th>\n      <td>83</td>\n      <td>45</td>\n      <td>93</td>\n      <td>96</td>\n      <td>60</td>\n    </tr>\n    <tr>\n      <th>学生7</th>\n      <td>83</td>\n      <td>41</td>\n      <td>73</td>\n      <td>61</td>\n      <td>89</td>\n    </tr>\n    <tr>\n      <th>学生8</th>\n      <td>96</td>\n      <td>97</td>\n      <td>53</td>\n      <td>48</td>\n      <td>42</td>\n    </tr>\n    <tr>\n      <th>学生9</th>\n      <td>71</td>\n      <td>58</td>\n      <td>46</td>\n      <td>54</td>\n      <td>47</td>\n    </tr>\n  </tbody>\n</table>\n</div>"
     },
     "execution_count": 55,
     "metadata": {},
     "output_type": "execute_result"
    }
   ],
   "source": [
    "df"
   ]
  },
  {
   "cell_type": "code",
   "execution_count": 57,
   "id": "10abd66b",
   "metadata": {
    "ExecuteTime": {
     "end_time": "2023-09-02T08:04:15.268278Z",
     "start_time": "2023-09-02T08:04:15.127065Z"
    }
   },
   "outputs": [
    {
     "data": {
      "text/plain": "70"
     },
     "execution_count": 57,
     "metadata": {},
     "output_type": "execute_result"
    }
   ],
   "source": [
    "# 根据索引值，获取某个具体位置的值，df.at[row, col]\n",
    "df.at['学生0', '语文']"
   ]
  },
  {
   "cell_type": "code",
   "execution_count": 62,
   "id": "9dd186a7",
   "metadata": {
    "ExecuteTime": {
     "end_time": "2023-09-02T08:05:09.443206Z",
     "start_time": "2023-09-02T08:05:09.351720Z"
    }
   },
   "outputs": [
    {
     "data": {
      "text/plain": "70"
     },
     "execution_count": 62,
     "metadata": {},
     "output_type": "execute_result"
    }
   ],
   "source": [
    "# 根据索引，获取值 df.iat[row, col]\n",
    "df.iat[0, 0]"
   ]
  },
  {
   "cell_type": "code",
   "execution_count": 71,
   "outputs": [
    {
     "data": {
      "text/plain": "     语文  数学\n学生0  70  47\n学生1  72  86",
      "text/html": "<div>\n<style scoped>\n    .dataframe tbody tr th:only-of-type {\n        vertical-align: middle;\n    }\n\n    .dataframe tbody tr th {\n        vertical-align: top;\n    }\n\n    .dataframe thead th {\n        text-align: right;\n    }\n</style>\n<table border=\"1\" class=\"dataframe\">\n  <thead>\n    <tr style=\"text-align: right;\">\n      <th></th>\n      <th>语文</th>\n      <th>数学</th>\n    </tr>\n  </thead>\n  <tbody>\n    <tr>\n      <th>学生0</th>\n      <td>70</td>\n      <td>47</td>\n    </tr>\n    <tr>\n      <th>学生1</th>\n      <td>72</td>\n      <td>86</td>\n    </tr>\n  </tbody>\n</table>\n</div>"
     },
     "execution_count": 71,
     "metadata": {},
     "output_type": "execute_result"
    }
   ],
   "source": [
    "# 获取指定范围值\n",
    "df.loc[['学生0', '学生1'],['语文','数学']]"
   ],
   "metadata": {
    "collapsed": false,
    "ExecuteTime": {
     "end_time": "2023-09-02T08:10:54.927922Z",
     "start_time": "2023-09-02T08:10:54.764319Z"
    }
   },
   "id": "5ddac6be7c5b13df"
  },
  {
   "cell_type": "code",
   "execution_count": 69,
   "id": "4436c122",
   "metadata": {
    "ExecuteTime": {
     "end_time": "2023-09-02T08:09:22.496333Z",
     "start_time": "2023-09-02T08:09:22.355695Z"
    }
   },
   "outputs": [
    {
     "data": {
      "text/plain": "70"
     },
     "execution_count": 69,
     "metadata": {},
     "output_type": "execute_result"
    }
   ],
   "source": [
    "# 根据索引值，获取一行数据\n",
    "df.loc['学生0']"
   ]
  },
  {
   "cell_type": "code",
   "execution_count": 68,
   "id": "891d5f1a",
   "metadata": {
    "ExecuteTime": {
     "end_time": "2023-09-02T08:08:46.769744Z",
     "start_time": "2023-09-02T08:08:46.675940Z"
    }
   },
   "outputs": [
    {
     "data": {
      "text/plain": "学生0    70\n学生1    72\n学生2    45\n学生3    81\n学生4    78\n学生5    60\n学生6    83\n学生7    83\n学生8    96\n学生9    71\nName: 语文, dtype: int64"
     },
     "execution_count": 68,
     "metadata": {},
     "output_type": "execute_result"
    }
   ],
   "source": [
    "# 获取一列数据\n",
    "df['语文']"
   ]
  },
  {
   "cell_type": "code",
   "execution_count": 72,
   "outputs": [
    {
     "data": {
      "text/plain": "     语文  数学  英语\n学生0  70  47  95\n学生1  72  86  90\n学生2  45  62  59",
      "text/html": "<div>\n<style scoped>\n    .dataframe tbody tr th:only-of-type {\n        vertical-align: middle;\n    }\n\n    .dataframe tbody tr th {\n        vertical-align: top;\n    }\n\n    .dataframe thead th {\n        text-align: right;\n    }\n</style>\n<table border=\"1\" class=\"dataframe\">\n  <thead>\n    <tr style=\"text-align: right;\">\n      <th></th>\n      <th>语文</th>\n      <th>数学</th>\n      <th>英语</th>\n    </tr>\n  </thead>\n  <tbody>\n    <tr>\n      <th>学生0</th>\n      <td>70</td>\n      <td>47</td>\n      <td>95</td>\n    </tr>\n    <tr>\n      <th>学生1</th>\n      <td>72</td>\n      <td>86</td>\n      <td>90</td>\n    </tr>\n    <tr>\n      <th>学生2</th>\n      <td>45</td>\n      <td>62</td>\n      <td>59</td>\n    </tr>\n  </tbody>\n</table>\n</div>"
     },
     "execution_count": 72,
     "metadata": {},
     "output_type": "execute_result"
    }
   ],
   "source": [
    "# 获取指定范围的值\n",
    "df.iloc[[0,1,2], [0,1,2]]"
   ],
   "metadata": {
    "collapsed": false,
    "ExecuteTime": {
     "end_time": "2023-09-02T08:11:15.251573Z",
     "start_time": "2023-09-02T08:11:15.149997Z"
    }
   },
   "id": "16ddece0401492bd"
  },
  {
   "cell_type": "code",
   "execution_count": 75,
   "outputs": [
    {
     "data": {
      "text/plain": "     语文  数学  英语\n学生0  70  47  95\n学生1  72  86  90\n学生2  45  62  59",
      "text/html": "<div>\n<style scoped>\n    .dataframe tbody tr th:only-of-type {\n        vertical-align: middle;\n    }\n\n    .dataframe tbody tr th {\n        vertical-align: top;\n    }\n\n    .dataframe thead th {\n        text-align: right;\n    }\n</style>\n<table border=\"1\" class=\"dataframe\">\n  <thead>\n    <tr style=\"text-align: right;\">\n      <th></th>\n      <th>语文</th>\n      <th>数学</th>\n      <th>英语</th>\n    </tr>\n  </thead>\n  <tbody>\n    <tr>\n      <th>学生0</th>\n      <td>70</td>\n      <td>47</td>\n      <td>95</td>\n    </tr>\n    <tr>\n      <th>学生1</th>\n      <td>72</td>\n      <td>86</td>\n      <td>90</td>\n    </tr>\n    <tr>\n      <th>学生2</th>\n      <td>45</td>\n      <td>62</td>\n      <td>59</td>\n    </tr>\n  </tbody>\n</table>\n</div>"
     },
     "execution_count": 75,
     "metadata": {},
     "output_type": "execute_result"
    }
   ],
   "source": [
    "# 获取指定范围的值\n",
    "df.iloc[:3, :3]"
   ],
   "metadata": {
    "collapsed": false,
    "ExecuteTime": {
     "end_time": "2023-09-02T08:12:02.072218Z",
     "start_time": "2023-09-02T08:12:01.939920Z"
    }
   },
   "id": "675a44d190a231c1"
  },
  {
   "cell_type": "code",
   "execution_count": null,
   "outputs": [],
   "source": [],
   "metadata": {
    "collapsed": false
   },
   "id": "1b35f41d14ae1724"
  }
 ],
 "metadata": {
  "kernelspec": {
   "display_name": "Python 3 (ipykernel)",
   "language": "python",
   "name": "python3"
  },
  "language_info": {
   "codemirror_mode": {
    "name": "ipython",
    "version": 3
   },
   "file_extension": ".py",
   "mimetype": "text/x-python",
   "name": "python",
   "nbconvert_exporter": "python",
   "pygments_lexer": "ipython3",
   "version": "3.11.4"
  }
 },
 "nbformat": 4,
 "nbformat_minor": 5
}
