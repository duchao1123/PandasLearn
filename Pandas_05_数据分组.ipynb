{
 "cells": [
  {
   "cell_type": "code",
   "execution_count": 4,
   "outputs": [],
   "source": [
    "import pandas as pd\n",
    "import numpy as np"
   ],
   "metadata": {
    "collapsed": false,
    "ExecuteTime": {
     "end_time": "2023-09-03T11:21:36.097198Z",
     "start_time": "2023-09-03T11:21:35.531573Z"
    }
   },
   "id": "fbd5dbd3ca8b9e9"
  },
  {
   "cell_type": "markdown",
   "source": [
    "## 数据分组及操作"
   ],
   "metadata": {
    "collapsed": false
   },
   "id": "93c382d0a323e7a4"
  },
  {
   "cell_type": "markdown",
   "source": [
    "### 一、分组 groupby"
   ],
   "metadata": {
    "collapsed": false
   },
   "id": "fa176c39356849c0"
  },
  {
   "cell_type": "code",
   "execution_count": 18,
   "outputs": [
    {
     "data": {
      "text/plain": "       country continent  year  lifeExp       pop   gdpPercap\n0  Afghanistan      Asia  1952   28.801   8425333  779.445314\n1  Afghanistan      Asia  1957   30.332   9240934  820.853030\n2  Afghanistan      Asia  1962   31.997  10267083  853.100710\n3  Afghanistan      Asia  1967   34.020  11537966  836.197138\n4  Afghanistan      Asia  1972   36.088  13079460  739.981106",
      "text/html": "<div>\n<style scoped>\n    .dataframe tbody tr th:only-of-type {\n        vertical-align: middle;\n    }\n\n    .dataframe tbody tr th {\n        vertical-align: top;\n    }\n\n    .dataframe thead th {\n        text-align: right;\n    }\n</style>\n<table border=\"1\" class=\"dataframe\">\n  <thead>\n    <tr style=\"text-align: right;\">\n      <th></th>\n      <th>country</th>\n      <th>continent</th>\n      <th>year</th>\n      <th>lifeExp</th>\n      <th>pop</th>\n      <th>gdpPercap</th>\n    </tr>\n  </thead>\n  <tbody>\n    <tr>\n      <th>0</th>\n      <td>Afghanistan</td>\n      <td>Asia</td>\n      <td>1952</td>\n      <td>28.801</td>\n      <td>8425333</td>\n      <td>779.445314</td>\n    </tr>\n    <tr>\n      <th>1</th>\n      <td>Afghanistan</td>\n      <td>Asia</td>\n      <td>1957</td>\n      <td>30.332</td>\n      <td>9240934</td>\n      <td>820.853030</td>\n    </tr>\n    <tr>\n      <th>2</th>\n      <td>Afghanistan</td>\n      <td>Asia</td>\n      <td>1962</td>\n      <td>31.997</td>\n      <td>10267083</td>\n      <td>853.100710</td>\n    </tr>\n    <tr>\n      <th>3</th>\n      <td>Afghanistan</td>\n      <td>Asia</td>\n      <td>1967</td>\n      <td>34.020</td>\n      <td>11537966</td>\n      <td>836.197138</td>\n    </tr>\n    <tr>\n      <th>4</th>\n      <td>Afghanistan</td>\n      <td>Asia</td>\n      <td>1972</td>\n      <td>36.088</td>\n      <td>13079460</td>\n      <td>739.981106</td>\n    </tr>\n  </tbody>\n</table>\n</div>"
     },
     "execution_count": 18,
     "metadata": {},
     "output_type": "execute_result"
    }
   ],
   "source": [
    "df = pd.read_csv('data/gapminder.tsv', sep='\\t')\n",
    "df.head()"
   ],
   "metadata": {
    "collapsed": false,
    "ExecuteTime": {
     "end_time": "2023-09-03T11:26:47.415566Z",
     "start_time": "2023-09-03T11:26:47.335487Z"
    }
   },
   "id": "bb143c06-2164-4215-b09c-9c075566f486"
  },
  {
   "cell_type": "code",
   "execution_count": 6,
   "outputs": [
    {
     "data": {
      "text/plain": "year\n1952    49.057620\n1957    51.507401\n1962    53.609249\n1967    55.678290\n1972    57.647386\n1977    59.570157\n1982    61.533197\n1987    63.212613\n1992    64.160338\n1997    65.014676\n2002    65.694923\n2007    67.007423\nName: lifeExp, dtype: float64"
     },
     "execution_count": 6,
     "metadata": {},
     "output_type": "execute_result"
    }
   ],
   "source": [
    "# 每年的平均寿命\n",
    "df.groupby('year')['lifeExp'].mean()"
   ],
   "metadata": {
    "collapsed": false,
    "ExecuteTime": {
     "end_time": "2023-09-03T11:21:39.587451Z",
     "start_time": "2023-09-03T11:21:39.523738Z"
    }
   },
   "id": "1a4e23661cc0ab6e"
  },
  {
   "cell_type": "code",
   "execution_count": 7,
   "outputs": [
    {
     "data": {
      "text/plain": "continent\nAfrica      48.865330\nAmericas    64.658737\nAsia        60.064903\nEurope      71.903686\nOceania     74.326208\nName: lifeExp, dtype: float64"
     },
     "execution_count": 7,
     "metadata": {},
     "output_type": "execute_result"
    }
   ],
   "source": [
    "# 每个大洲的平均寿命\n",
    "df.groupby('continent')['lifeExp'].mean()"
   ],
   "metadata": {
    "collapsed": false,
    "ExecuteTime": {
     "end_time": "2023-09-03T11:21:41.732431Z",
     "start_time": "2023-09-03T11:21:41.634513Z"
    }
   },
   "id": "9d0345d80e8021f6"
  },
  {
   "cell_type": "code",
   "execution_count": 8,
   "outputs": [
    {
     "data": {
      "text/plain": "country\nAfghanistan                 37.478833\nAlbania                     68.432917\nAlgeria                     59.030167\nAngola                      37.883500\nArgentina                   69.060417\nAustralia                   74.662917\nAustria                     73.103250\nBahrain                     65.605667\nBangladesh                  49.834083\nBelgium                     73.641750\nBenin                       48.779917\nBolivia                     52.504583\nBosnia and Herzegovina      67.707833\nBotswana                    54.597500\nBrazil                      62.239500\nBulgaria                    69.743750\nBurkina Faso                44.694000\nBurundi                     44.817333\nCambodia                    47.902750\nCameroon                    48.128500\nCanada                      74.902750\nCentral African Republic    43.866917\nChad                        46.773583\nChile                       67.430917\nChina                       61.785140\nColombia                    63.897750\nComoros                     52.381750\nCongo, Dem. Rep.            44.543750\nCongo, Rep.                 52.501917\nCosta Rica                  70.181417\n                              ...    \nSierra Leone                36.769167\nSingapore                   71.220250\nSlovak Republic             70.696083\nSlovenia                    71.600750\nSomalia                     40.988667\nSouth Africa                53.993167\nSpain                       74.203417\nSri Lanka                   66.526083\nSudan                       48.400500\nSwaziland                   49.002417\nSweden                      76.177000\nSwitzerland                 75.565083\nSyria                       61.346167\nTaiwan(China)               70.336667\nTanzania                    47.912333\nThailand                    62.200250\nTogo                        51.498750\nTrinidad and Tobago         66.828000\nTunisia                     60.721000\nTurkey                      59.696417\nUganda                      47.618833\nUnited Kingdom              73.922583\nUnited States               73.478500\nUruguay                     70.781583\nVenezuela                   66.580667\nVietnam                     57.479500\nWest Bank and Gaza          60.328667\nYemen, Rep.                 46.780417\nZambia                      45.996333\nZimbabwe                    52.663167\nName: lifeExp, Length: 142, dtype: float64"
     },
     "execution_count": 8,
     "metadata": {},
     "output_type": "execute_result"
    }
   ],
   "source": [
    "# 每个国家的平均寿命\n",
    "df.groupby('country')['lifeExp'].mean()"
   ],
   "metadata": {
    "collapsed": false,
    "ExecuteTime": {
     "end_time": "2023-09-03T11:21:44.132467Z",
     "start_time": "2023-09-03T11:21:43.979016Z"
    }
   },
   "id": "9a28df9c4001ca8a"
  },
  {
   "cell_type": "code",
   "execution_count": 9,
   "outputs": [
    {
     "data": {
      "text/plain": "continent  country                 \nAfrica     Algeria                     59.030167\n           Angola                      37.883500\n           Benin                       48.779917\n           Botswana                    54.597500\n           Burkina Faso                44.694000\n           Burundi                     44.817333\n           Cameroon                    48.128500\n           Central African Republic    43.866917\n           Chad                        46.773583\n           Comoros                     52.381750\n           Congo, Dem. Rep.            44.543750\n           Congo, Rep.                 52.501917\n           Cote d'Ivoire               48.436167\n           Djibouti                    46.380750\n           Egypt                       56.243000\n           Equatorial Guinea           42.960000\n           Eritrea                     45.999250\n           Ethiopia                    44.475750\n           Gabon                       51.220500\n           Gambia                      44.400583\n           Ghana                       52.340667\n           Guinea                      43.239833\n           Guinea-Bissau               39.210250\n           Kenya                       52.681000\n           Lesotho                     50.007083\n           Liberia                     42.476250\n           Libya                       59.304167\n           Madagascar                  47.770583\n           Malawi                      43.351583\n           Mali                        43.413500\n                                         ...    \nEurope     Belgium                     73.641750\n           Bosnia and Herzegovina      67.707833\n           Bulgaria                    69.743750\n           Croatia                     70.055917\n           Czech Republic              71.510500\n           Denmark                     74.370167\n           Finland                     72.991917\n           France                      74.348917\n           Germany                     73.444417\n           Greece                      73.733167\n           Hungary                     69.393167\n           Iceland                     76.511417\n           Ireland                     73.017250\n           Italy                       74.013833\n           Montenegro                  70.299167\n           Netherlands                 75.648500\n           Norway                      75.843000\n           Poland                      70.176917\n           Portugal                    70.419833\n           Romania                     68.290667\n           Serbia                      68.551000\n           Slovak Republic             70.696083\n           Slovenia                    71.600750\n           Spain                       74.203417\n           Sweden                      76.177000\n           Switzerland                 75.565083\n           Turkey                      59.696417\n           United Kingdom              73.922583\nOceania    Australia                   74.662917\n           New Zealand                 73.989500\nName: lifeExp, Length: 142, dtype: float64"
     },
     "execution_count": 9,
     "metadata": {},
     "output_type": "execute_result"
    }
   ],
   "source": [
    "# 每个大洲的每个国家的平均寿命\n",
    "df.groupby(['continent', 'country'])['lifeExp'].mean()"
   ],
   "metadata": {
    "collapsed": false,
    "ExecuteTime": {
     "end_time": "2023-09-03T11:21:47.844484Z",
     "start_time": "2023-09-03T11:21:47.682335Z"
    }
   },
   "id": "6ae498e66f2734fb"
  },
  {
   "cell_type": "markdown",
   "source": [
    "#### 关于分组字段选择: 需要根据需求定义；一定要跟着聚合操作，脱离聚合操作的分组没有意义。"
   ],
   "metadata": {
    "collapsed": false
   },
   "id": "7dbe51988f32b252"
  },
  {
   "cell_type": "markdown",
   "source": [
    "#### 分组参数 as_index 控制分组字段是否作为index"
   ],
   "metadata": {
    "collapsed": false
   },
   "id": "47db26f22ff1ed07"
  },
  {
   "cell_type": "code",
   "execution_count": 10,
   "outputs": [
    {
     "data": {
      "text/plain": "        lifeExp\nyear           \n1952  49.057620\n1957  51.507401\n1962  53.609249\n1967  55.678290\n1972  57.647386\n1977  59.570157\n1982  61.533197\n1987  63.212613\n1992  64.160338\n1997  65.014676\n2002  65.694923\n2007  67.007423",
      "text/html": "<div>\n<style scoped>\n    .dataframe tbody tr th:only-of-type {\n        vertical-align: middle;\n    }\n\n    .dataframe tbody tr th {\n        vertical-align: top;\n    }\n\n    .dataframe thead th {\n        text-align: right;\n    }\n</style>\n<table border=\"1\" class=\"dataframe\">\n  <thead>\n    <tr style=\"text-align: right;\">\n      <th></th>\n      <th>lifeExp</th>\n    </tr>\n    <tr>\n      <th>year</th>\n      <th></th>\n    </tr>\n  </thead>\n  <tbody>\n    <tr>\n      <th>1952</th>\n      <td>49.057620</td>\n    </tr>\n    <tr>\n      <th>1957</th>\n      <td>51.507401</td>\n    </tr>\n    <tr>\n      <th>1962</th>\n      <td>53.609249</td>\n    </tr>\n    <tr>\n      <th>1967</th>\n      <td>55.678290</td>\n    </tr>\n    <tr>\n      <th>1972</th>\n      <td>57.647386</td>\n    </tr>\n    <tr>\n      <th>1977</th>\n      <td>59.570157</td>\n    </tr>\n    <tr>\n      <th>1982</th>\n      <td>61.533197</td>\n    </tr>\n    <tr>\n      <th>1987</th>\n      <td>63.212613</td>\n    </tr>\n    <tr>\n      <th>1992</th>\n      <td>64.160338</td>\n    </tr>\n    <tr>\n      <th>1997</th>\n      <td>65.014676</td>\n    </tr>\n    <tr>\n      <th>2002</th>\n      <td>65.694923</td>\n    </tr>\n    <tr>\n      <th>2007</th>\n      <td>67.007423</td>\n    </tr>\n  </tbody>\n</table>\n</div>"
     },
     "execution_count": 10,
     "metadata": {},
     "output_type": "execute_result"
    }
   ],
   "source": [
    "# 默认分组字段会被作为索引\n",
    "df.groupby('year')[['lifeExp']].mean()"
   ],
   "metadata": {
    "collapsed": false,
    "ExecuteTime": {
     "end_time": "2023-09-03T11:21:51.512128Z",
     "start_time": "2023-09-03T11:21:51.357971Z"
    }
   },
   "id": "58a422cf9fd9abe8"
  },
  {
   "cell_type": "code",
   "execution_count": 11,
   "outputs": [
    {
     "data": {
      "text/plain": "    year    lifeExp\n0   1952  49.057620\n1   1957  51.507401\n2   1962  53.609249\n3   1967  55.678290\n4   1972  57.647386\n5   1977  59.570157\n6   1982  61.533197\n7   1987  63.212613\n8   1992  64.160338\n9   1997  65.014676\n10  2002  65.694923\n11  2007  67.007423",
      "text/html": "<div>\n<style scoped>\n    .dataframe tbody tr th:only-of-type {\n        vertical-align: middle;\n    }\n\n    .dataframe tbody tr th {\n        vertical-align: top;\n    }\n\n    .dataframe thead th {\n        text-align: right;\n    }\n</style>\n<table border=\"1\" class=\"dataframe\">\n  <thead>\n    <tr style=\"text-align: right;\">\n      <th></th>\n      <th>year</th>\n      <th>lifeExp</th>\n    </tr>\n  </thead>\n  <tbody>\n    <tr>\n      <th>0</th>\n      <td>1952</td>\n      <td>49.057620</td>\n    </tr>\n    <tr>\n      <th>1</th>\n      <td>1957</td>\n      <td>51.507401</td>\n    </tr>\n    <tr>\n      <th>2</th>\n      <td>1962</td>\n      <td>53.609249</td>\n    </tr>\n    <tr>\n      <th>3</th>\n      <td>1967</td>\n      <td>55.678290</td>\n    </tr>\n    <tr>\n      <th>4</th>\n      <td>1972</td>\n      <td>57.647386</td>\n    </tr>\n    <tr>\n      <th>5</th>\n      <td>1977</td>\n      <td>59.570157</td>\n    </tr>\n    <tr>\n      <th>6</th>\n      <td>1982</td>\n      <td>61.533197</td>\n    </tr>\n    <tr>\n      <th>7</th>\n      <td>1987</td>\n      <td>63.212613</td>\n    </tr>\n    <tr>\n      <th>8</th>\n      <td>1992</td>\n      <td>64.160338</td>\n    </tr>\n    <tr>\n      <th>9</th>\n      <td>1997</td>\n      <td>65.014676</td>\n    </tr>\n    <tr>\n      <th>10</th>\n      <td>2002</td>\n      <td>65.694923</td>\n    </tr>\n    <tr>\n      <th>11</th>\n      <td>2007</td>\n      <td>67.007423</td>\n    </tr>\n  </tbody>\n</table>\n</div>"
     },
     "execution_count": 11,
     "metadata": {},
     "output_type": "execute_result"
    }
   ],
   "source": [
    "df.groupby('year', as_index=False)[['lifeExp']].mean()"
   ],
   "metadata": {
    "collapsed": false,
    "ExecuteTime": {
     "end_time": "2023-09-03T11:22:09.276452Z",
     "start_time": "2023-09-03T11:22:09.101245Z"
    }
   },
   "id": "c996ea3c8c5c34a3"
  },
  {
   "cell_type": "markdown",
   "source": [
    "### 二、聚合函数"
   ],
   "metadata": {
    "collapsed": false
   },
   "id": "adf429d055e29498"
  },
  {
   "cell_type": "markdown",
   "source": [
    "#### 1.1 内置聚合函数\n",
    "**内置聚合函数是groupby返回的对象DataFrameGroupBy,SeriesGroupBy的方法**"
   ],
   "metadata": {
    "collapsed": false
   },
   "id": "11208c61b6093bf2"
  },
  {
   "cell_type": "code",
   "execution_count": 24,
   "outputs": [],
   "source": [
    "data = pd.DataFrame([\n",
    "    ['aa', True, True],\n",
    "    ['aa', True, False],\n",
    "    ['bb', True, False]\n",
    "], columns=['c_1', 'c_2', 'c_3'])"
   ],
   "metadata": {
    "collapsed": false,
    "ExecuteTime": {
     "end_time": "2023-09-03T11:39:57.136952Z",
     "start_time": "2023-09-03T11:39:57.043480Z"
    }
   },
   "id": "6a04fb3b03eb9d34"
  },
  {
   "cell_type": "markdown",
   "source": [
    "##### 1.1.1 all 【判断全true，返回bool】"
   ],
   "metadata": {
    "collapsed": false
   },
   "id": "232ef2a572e06b2d"
  },
  {
   "cell_type": "code",
   "execution_count": 25,
   "outputs": [
    {
     "data": {
      "text/plain": "c_1\naa    True\nbb    True\nName: c_2, dtype: bool"
     },
     "execution_count": 25,
     "metadata": {},
     "output_type": "execute_result"
    }
   ],
   "source": [
    "data.groupby('c_1')['c_2'].all()"
   ],
   "metadata": {
    "collapsed": false,
    "ExecuteTime": {
     "end_time": "2023-09-03T11:39:58.915077Z",
     "start_time": "2023-09-03T11:39:58.812523Z"
    }
   },
   "id": "f8770ee29fd0ea20"
  },
  {
   "cell_type": "code",
   "execution_count": 26,
   "outputs": [
    {
     "data": {
      "text/plain": "c_1\naa    False\nbb    False\nName: c_3, dtype: bool"
     },
     "execution_count": 26,
     "metadata": {},
     "output_type": "execute_result"
    }
   ],
   "source": [
    "data.groupby('c_1')['c_3'].all()"
   ],
   "metadata": {
    "collapsed": false,
    "ExecuteTime": {
     "end_time": "2023-09-03T11:40:06.165754Z",
     "start_time": "2023-09-03T11:40:05.972560Z"
    }
   },
   "id": "5a046b942ba0fd5f"
  },
  {
   "cell_type": "markdown",
   "source": [
    "##### 1.1.2 any 【判断有true，返回bool】"
   ],
   "metadata": {
    "collapsed": false
   },
   "id": "42e152a86805c302"
  },
  {
   "cell_type": "code",
   "execution_count": 27,
   "outputs": [
    {
     "data": {
      "text/plain": "c_1\naa    True\nbb    True\nName: c_2, dtype: bool"
     },
     "execution_count": 27,
     "metadata": {},
     "output_type": "execute_result"
    }
   ],
   "source": [
    "data.groupby('c_1')['c_2'].any()"
   ],
   "metadata": {
    "collapsed": false,
    "ExecuteTime": {
     "end_time": "2023-09-03T11:41:25.888334Z",
     "start_time": "2023-09-03T11:41:25.596612Z"
    }
   },
   "id": "3561463b04c23f46"
  },
  {
   "cell_type": "code",
   "execution_count": 28,
   "outputs": [
    {
     "data": {
      "text/plain": "c_1\naa     True\nbb    False\nName: c_3, dtype: bool"
     },
     "execution_count": 28,
     "metadata": {},
     "output_type": "execute_result"
    }
   ],
   "source": [
    "data.groupby('c_1')['c_3'].any()"
   ],
   "metadata": {
    "collapsed": false,
    "ExecuteTime": {
     "end_time": "2023-09-03T11:41:28.154799Z",
     "start_time": "2023-09-03T11:41:27.938681Z"
    }
   },
   "id": "56ac82eafd1a7771"
  },
  {
   "cell_type": "markdown",
   "source": [
    "##### 1.1.2 count 【统计数量，返回每个分组的数量，选择没有空的字段进行统计】"
   ],
   "metadata": {
    "collapsed": false
   },
   "id": "72f890bc2bf8f420"
  },
  {
   "cell_type": "code",
   "execution_count": 32,
   "outputs": [],
   "source": [
    "data1 = pd.DataFrame([\n",
    "    ['aa', True, True, 1, 1],\n",
    "    ['aa', True, False, 2, 2],\n",
    "    ['bb', True, False, 3, np.NAN],\n",
    "    ['bb', True, False, 4, 4],\n",
    "    ['bb', True, False, 5, 5]\n",
    "], columns=['c_1', 'c_2', 'c_3', 'c_4', 'c_5'])"
   ],
   "metadata": {
    "collapsed": false,
    "ExecuteTime": {
     "end_time": "2023-09-03T11:45:01.269963Z",
     "start_time": "2023-09-03T11:45:01.061062Z"
    }
   },
   "id": "845c76964287651d"
  },
  {
   "cell_type": "code",
   "execution_count": 33,
   "outputs": [
    {
     "data": {
      "text/plain": "c_1\naa    2\nbb    3\nName: c_4, dtype: int64"
     },
     "execution_count": 33,
     "metadata": {},
     "output_type": "execute_result"
    }
   ],
   "source": [
    "data1.groupby('c_1')['c_4'].count()"
   ],
   "metadata": {
    "collapsed": false,
    "ExecuteTime": {
     "end_time": "2023-09-03T11:45:13.900247Z",
     "start_time": "2023-09-03T11:45:13.682396Z"
    }
   },
   "id": "a73d5e7d7a6983f1"
  },
  {
   "cell_type": "code",
   "execution_count": 34,
   "outputs": [
    {
     "data": {
      "text/plain": "c_1\naa    2\nbb    2\nName: c_5, dtype: int64"
     },
     "execution_count": 34,
     "metadata": {},
     "output_type": "execute_result"
    }
   ],
   "source": [
    "data1.groupby('c_1')['c_5'].count()"
   ],
   "metadata": {
    "collapsed": false,
    "ExecuteTime": {
     "end_time": "2023-09-03T11:45:24.351667Z",
     "start_time": "2023-09-03T11:45:24.125124Z"
    }
   },
   "id": "3e56c89310e6a87e"
  },
  {
   "cell_type": "markdown",
   "source": [
    "##### 1.1.3 value_counts 【根据值，进行再分组统计次数】"
   ],
   "metadata": {
    "collapsed": false
   },
   "id": "4b17ae8d4689f397"
  },
  {
   "cell_type": "code",
   "execution_count": 50,
   "outputs": [],
   "source": [
    "data5 = pd.DataFrame([\n",
    "    ['aa', 1],\n",
    "    ['aa', 1],\n",
    "    ['aa', 2],\n",
    "    ['aa', 2],\n",
    "    ['aa', 2],\n",
    "    ['aa', 3],\n",
    "    ['bb', 1],\n",
    "    ['bb', 2],\n",
    "], columns=['c_1', 'c_2'])"
   ],
   "metadata": {
    "collapsed": false,
    "ExecuteTime": {
     "end_time": "2023-09-03T12:07:44.420995Z",
     "start_time": "2023-09-03T12:07:44.238661Z"
    }
   },
   "id": "790037899621866"
  },
  {
   "cell_type": "code",
   "execution_count": 51,
   "outputs": [
    {
     "data": {
      "text/plain": "c_1  c_2\naa   2      3\n     1      2\n     3      1\nbb   1      1\n     2      1\nName: c_2, dtype: int64"
     },
     "execution_count": 51,
     "metadata": {},
     "output_type": "execute_result"
    }
   ],
   "source": [
    "data5.groupby('c_1')['c_2'].value_counts()"
   ],
   "metadata": {
    "collapsed": false,
    "ExecuteTime": {
     "end_time": "2023-09-03T12:08:04.558612Z",
     "start_time": "2023-09-03T12:08:04.336067Z"
    }
   },
   "id": "4844d9f53031dfc"
  },
  {
   "cell_type": "markdown",
   "source": [
    "##### 1.1.3 sum 【求和聚合字段，根据选择聚合字段的值进行求和】"
   ],
   "metadata": {
    "collapsed": false
   },
   "id": "7065b03da25bdaad"
  },
  {
   "cell_type": "code",
   "execution_count": 35,
   "outputs": [
    {
     "data": {
      "text/plain": "c_1\naa     3\nbb    12\nName: c_4, dtype: int64"
     },
     "execution_count": 35,
     "metadata": {},
     "output_type": "execute_result"
    }
   ],
   "source": [
    "data1.groupby('c_1')['c_4'].sum()"
   ],
   "metadata": {
    "collapsed": false,
    "ExecuteTime": {
     "end_time": "2023-09-03T11:47:36.482197Z",
     "start_time": "2023-09-03T11:47:36.281244Z"
    }
   },
   "id": "6b9e345c40ffbd05"
  },
  {
   "cell_type": "markdown",
   "source": [
    "##### 1.1.3 max、min 【找出聚合字段最值，根据选择聚合字段的值寻找】"
   ],
   "metadata": {
    "collapsed": false
   },
   "id": "2f1830fb69f0737e"
  },
  {
   "cell_type": "code",
   "execution_count": 36,
   "outputs": [
    {
     "data": {
      "text/plain": "c_1\naa    2\nbb    5\nName: c_4, dtype: int64"
     },
     "execution_count": 36,
     "metadata": {},
     "output_type": "execute_result"
    }
   ],
   "source": [
    "data1.groupby('c_1')['c_4'].max()"
   ],
   "metadata": {
    "collapsed": false,
    "ExecuteTime": {
     "end_time": "2023-09-03T11:48:38.045853Z",
     "start_time": "2023-09-03T11:48:37.851693Z"
    }
   },
   "id": "897ce1ea8d978c7e"
  },
  {
   "cell_type": "markdown",
   "source": [
    "##### 1.1.5 unique 【去重聚合值，根据选择聚合字段的值去重】"
   ],
   "metadata": {
    "collapsed": false
   },
   "id": "bf2ce8642ff28ad0"
  },
  {
   "cell_type": "code",
   "execution_count": 37,
   "outputs": [],
   "source": [
    "data2 = pd.DataFrame([\n",
    "    ['aa', 2, True],\n",
    "    ['aa', 4, False],\n",
    "    ['bb', 5, True],\n",
    "    ['bb', 5, False],\n",
    "    ['bb', 5, False]\n",
    "], columns=['c_1', 'c_2', 'c_3'])"
   ],
   "metadata": {
    "collapsed": false,
    "ExecuteTime": {
     "end_time": "2023-09-03T11:51:36.194938Z",
     "start_time": "2023-09-03T11:51:36.005768Z"
    }
   },
   "id": "ff92049f725b1347"
  },
  {
   "cell_type": "code",
   "execution_count": 38,
   "outputs": [
    {
     "data": {
      "text/plain": "c_1\naa    [2, 4]\nbb       [5]\nName: c_2, dtype: object"
     },
     "execution_count": 38,
     "metadata": {},
     "output_type": "execute_result"
    }
   ],
   "source": [
    "data2.groupby('c_1')['c_2'].unique()"
   ],
   "metadata": {
    "collapsed": false,
    "ExecuteTime": {
     "end_time": "2023-09-03T11:52:14.239742Z",
     "start_time": "2023-09-03T11:52:14.028954Z"
    }
   },
   "id": "98aa5481ab23fcd0"
  },
  {
   "cell_type": "markdown",
   "source": [
    "##### 1.1.6 nunique 【去重聚合值计数，根据选择聚合字段的值去重计数】"
   ],
   "metadata": {
    "collapsed": false
   },
   "id": "71904aacade4ab41"
  },
  {
   "cell_type": "code",
   "execution_count": 39,
   "outputs": [
    {
     "data": {
      "text/plain": "c_1\naa    2\nbb    1\nName: c_2, dtype: int64"
     },
     "execution_count": 39,
     "metadata": {},
     "output_type": "execute_result"
    }
   ],
   "source": [
    "data2.groupby('c_1')['c_2'].nunique()"
   ],
   "metadata": {
    "collapsed": false,
    "ExecuteTime": {
     "end_time": "2023-09-03T11:53:12.491993Z",
     "start_time": "2023-09-03T11:53:12.295883Z"
    }
   },
   "id": "1383947415453d29"
  },
  {
   "cell_type": "markdown",
   "source": [
    "##### 1.1.7 mean、median、std 【求值，根据选择聚合字段的值求平均值，中位数、方差】"
   ],
   "metadata": {
    "collapsed": false
   },
   "id": "c16b9712cd40cfc"
  },
  {
   "cell_type": "code",
   "execution_count": 42,
   "outputs": [
    {
     "data": {
      "text/plain": "c_1\naa    3\nbb    5\nName: c_2, dtype: int64"
     },
     "execution_count": 42,
     "metadata": {},
     "output_type": "execute_result"
    }
   ],
   "source": [
    "data2.groupby('c_1')['c_2'].median()"
   ],
   "metadata": {
    "collapsed": false,
    "ExecuteTime": {
     "end_time": "2023-09-03T11:56:52.253722Z",
     "start_time": "2023-09-03T11:56:52.070605Z"
    }
   },
   "id": "21d6bbaab087e41d"
  },
  {
   "cell_type": "markdown",
   "source": [
    "##### 1.1.8 first、last、head、tail 【位置范围值】"
   ],
   "metadata": {
    "collapsed": false
   },
   "id": "dc7efff5129e12e"
  },
  {
   "cell_type": "code",
   "execution_count": 43,
   "outputs": [
    {
     "data": {
      "text/plain": "c_1\naa    2\nbb    5\nName: c_2, dtype: int64"
     },
     "execution_count": 43,
     "metadata": {},
     "output_type": "execute_result"
    }
   ],
   "source": [
    "data2.groupby('c_1')['c_2'].first()"
   ],
   "metadata": {
    "collapsed": false,
    "ExecuteTime": {
     "end_time": "2023-09-03T11:58:47.222211Z",
     "start_time": "2023-09-03T11:58:47.021812Z"
    }
   },
   "id": "5f2b2ac834355040"
  },
  {
   "cell_type": "markdown",
   "source": [
    "##### 1.1.8 cumsum 【累和】"
   ],
   "metadata": {
    "collapsed": false
   },
   "id": "1ab4123e04211035"
  },
  {
   "cell_type": "code",
   "execution_count": 44,
   "outputs": [
    {
     "data": {
      "text/plain": "          country continent  year  lifeExp       pop    gdpPercap\n0     Afghanistan      Asia  1952   28.801   8425333   779.445314\n1     Afghanistan      Asia  1957   30.332   9240934   820.853030\n2     Afghanistan      Asia  1962   31.997  10267083   853.100710\n3     Afghanistan      Asia  1967   34.020  11537966   836.197138\n4     Afghanistan      Asia  1972   36.088  13079460   739.981106\n5     Afghanistan      Asia  1977   38.438  14880372   786.113360\n6     Afghanistan      Asia  1982   39.854  12881816   978.011439\n7     Afghanistan      Asia  1987   40.822  13867957   852.395945\n8     Afghanistan      Asia  1992   41.674  16317921   649.341395\n9     Afghanistan      Asia  1997   41.763  22227415   635.341351\n10    Afghanistan      Asia  2002   42.129  25268405   726.734055\n11    Afghanistan      Asia  2007   43.828  31889923   974.580338\n12        Albania    Europe  1952   55.230   1282697  1601.056136\n13        Albania    Europe  1957   59.280   1476505  1942.284244\n14        Albania    Europe  1962   64.820   1728137  2312.888958\n15        Albania    Europe  1967   66.220   1984060  2760.196931\n16        Albania    Europe  1972   67.690   2263554  3313.422188\n17        Albania    Europe  1977   68.930   2509048  3533.003910\n18        Albania    Europe  1982   70.420   2780097  3630.880722\n19        Albania    Europe  1987   72.000   3075321  3738.932735\n20        Albania    Europe  1992   71.581   3326498  2497.437901\n21        Albania    Europe  1997   72.950   3428038  3193.054604\n22        Albania    Europe  2002   75.651   3508512  4604.211737\n23        Albania    Europe  2007   76.423   3600523  5937.029526\n24        Algeria    Africa  1952   43.077   9279525  2449.008185\n25        Algeria    Africa  1957   45.685  10270856  3013.976023\n26        Algeria    Africa  1962   48.303  11000948  2550.816880\n27        Algeria    Africa  1967   51.407  12760499  3246.991771\n28        Algeria    Africa  1972   54.518  14760787  4182.663766\n29        Algeria    Africa  1977   58.014  17152804  4910.416756\n...           ...       ...   ...      ...       ...          ...\n1674  Yemen, Rep.      Asia  1982   49.113   9657618  1977.557010\n1675  Yemen, Rep.      Asia  1987   52.922  11219340  1971.741538\n1676  Yemen, Rep.      Asia  1992   55.599  13367997  1879.496673\n1677  Yemen, Rep.      Asia  1997   58.020  15826497  2117.484526\n1678  Yemen, Rep.      Asia  2002   60.308  18701257  2234.820827\n1679  Yemen, Rep.      Asia  2007   62.698  22211743  2280.769906\n1680       Zambia    Africa  1952   42.038   2672000  1147.388831\n1681       Zambia    Africa  1957   44.077   3016000  1311.956766\n1682       Zambia    Africa  1962   46.023   3421000  1452.725766\n1683       Zambia    Africa  1967   47.768   3900000  1777.077318\n1684       Zambia    Africa  1972   50.107   4506497  1773.498265\n1685       Zambia    Africa  1977   51.386   5216550  1588.688299\n1686       Zambia    Africa  1982   51.821   6100407  1408.678565\n1687       Zambia    Africa  1987   50.821   7272406  1213.315116\n1688       Zambia    Africa  1992   46.100   8381163  1210.884633\n1689       Zambia    Africa  1997   40.238   9417789  1071.353818\n1690       Zambia    Africa  2002   39.193  10595811  1071.613938\n1691       Zambia    Africa  2007   42.384  11746035  1271.211593\n1692     Zimbabwe    Africa  1952   48.451   3080907   406.884115\n1693     Zimbabwe    Africa  1957   50.469   3646340   518.764268\n1694     Zimbabwe    Africa  1962   52.358   4277736   527.272182\n1695     Zimbabwe    Africa  1967   53.995   4995432   569.795071\n1696     Zimbabwe    Africa  1972   55.635   5861135   799.362176\n1697     Zimbabwe    Africa  1977   57.674   6642107   685.587682\n1698     Zimbabwe    Africa  1982   60.363   7636524   788.855041\n1699     Zimbabwe    Africa  1987   62.351   9216418   706.157306\n1700     Zimbabwe    Africa  1992   60.377  10704340   693.420786\n1701     Zimbabwe    Africa  1997   46.809  11404948   792.449960\n1702     Zimbabwe    Africa  2002   39.989  11926563   672.038623\n1703     Zimbabwe    Africa  2007   43.487  12311143   469.709298\n\n[1704 rows x 6 columns]",
      "text/html": "<div>\n<style scoped>\n    .dataframe tbody tr th:only-of-type {\n        vertical-align: middle;\n    }\n\n    .dataframe tbody tr th {\n        vertical-align: top;\n    }\n\n    .dataframe thead th {\n        text-align: right;\n    }\n</style>\n<table border=\"1\" class=\"dataframe\">\n  <thead>\n    <tr style=\"text-align: right;\">\n      <th></th>\n      <th>country</th>\n      <th>continent</th>\n      <th>year</th>\n      <th>lifeExp</th>\n      <th>pop</th>\n      <th>gdpPercap</th>\n    </tr>\n  </thead>\n  <tbody>\n    <tr>\n      <th>0</th>\n      <td>Afghanistan</td>\n      <td>Asia</td>\n      <td>1952</td>\n      <td>28.801</td>\n      <td>8425333</td>\n      <td>779.445314</td>\n    </tr>\n    <tr>\n      <th>1</th>\n      <td>Afghanistan</td>\n      <td>Asia</td>\n      <td>1957</td>\n      <td>30.332</td>\n      <td>9240934</td>\n      <td>820.853030</td>\n    </tr>\n    <tr>\n      <th>2</th>\n      <td>Afghanistan</td>\n      <td>Asia</td>\n      <td>1962</td>\n      <td>31.997</td>\n      <td>10267083</td>\n      <td>853.100710</td>\n    </tr>\n    <tr>\n      <th>3</th>\n      <td>Afghanistan</td>\n      <td>Asia</td>\n      <td>1967</td>\n      <td>34.020</td>\n      <td>11537966</td>\n      <td>836.197138</td>\n    </tr>\n    <tr>\n      <th>4</th>\n      <td>Afghanistan</td>\n      <td>Asia</td>\n      <td>1972</td>\n      <td>36.088</td>\n      <td>13079460</td>\n      <td>739.981106</td>\n    </tr>\n    <tr>\n      <th>5</th>\n      <td>Afghanistan</td>\n      <td>Asia</td>\n      <td>1977</td>\n      <td>38.438</td>\n      <td>14880372</td>\n      <td>786.113360</td>\n    </tr>\n    <tr>\n      <th>6</th>\n      <td>Afghanistan</td>\n      <td>Asia</td>\n      <td>1982</td>\n      <td>39.854</td>\n      <td>12881816</td>\n      <td>978.011439</td>\n    </tr>\n    <tr>\n      <th>7</th>\n      <td>Afghanistan</td>\n      <td>Asia</td>\n      <td>1987</td>\n      <td>40.822</td>\n      <td>13867957</td>\n      <td>852.395945</td>\n    </tr>\n    <tr>\n      <th>8</th>\n      <td>Afghanistan</td>\n      <td>Asia</td>\n      <td>1992</td>\n      <td>41.674</td>\n      <td>16317921</td>\n      <td>649.341395</td>\n    </tr>\n    <tr>\n      <th>9</th>\n      <td>Afghanistan</td>\n      <td>Asia</td>\n      <td>1997</td>\n      <td>41.763</td>\n      <td>22227415</td>\n      <td>635.341351</td>\n    </tr>\n    <tr>\n      <th>10</th>\n      <td>Afghanistan</td>\n      <td>Asia</td>\n      <td>2002</td>\n      <td>42.129</td>\n      <td>25268405</td>\n      <td>726.734055</td>\n    </tr>\n    <tr>\n      <th>11</th>\n      <td>Afghanistan</td>\n      <td>Asia</td>\n      <td>2007</td>\n      <td>43.828</td>\n      <td>31889923</td>\n      <td>974.580338</td>\n    </tr>\n    <tr>\n      <th>12</th>\n      <td>Albania</td>\n      <td>Europe</td>\n      <td>1952</td>\n      <td>55.230</td>\n      <td>1282697</td>\n      <td>1601.056136</td>\n    </tr>\n    <tr>\n      <th>13</th>\n      <td>Albania</td>\n      <td>Europe</td>\n      <td>1957</td>\n      <td>59.280</td>\n      <td>1476505</td>\n      <td>1942.284244</td>\n    </tr>\n    <tr>\n      <th>14</th>\n      <td>Albania</td>\n      <td>Europe</td>\n      <td>1962</td>\n      <td>64.820</td>\n      <td>1728137</td>\n      <td>2312.888958</td>\n    </tr>\n    <tr>\n      <th>15</th>\n      <td>Albania</td>\n      <td>Europe</td>\n      <td>1967</td>\n      <td>66.220</td>\n      <td>1984060</td>\n      <td>2760.196931</td>\n    </tr>\n    <tr>\n      <th>16</th>\n      <td>Albania</td>\n      <td>Europe</td>\n      <td>1972</td>\n      <td>67.690</td>\n      <td>2263554</td>\n      <td>3313.422188</td>\n    </tr>\n    <tr>\n      <th>17</th>\n      <td>Albania</td>\n      <td>Europe</td>\n      <td>1977</td>\n      <td>68.930</td>\n      <td>2509048</td>\n      <td>3533.003910</td>\n    </tr>\n    <tr>\n      <th>18</th>\n      <td>Albania</td>\n      <td>Europe</td>\n      <td>1982</td>\n      <td>70.420</td>\n      <td>2780097</td>\n      <td>3630.880722</td>\n    </tr>\n    <tr>\n      <th>19</th>\n      <td>Albania</td>\n      <td>Europe</td>\n      <td>1987</td>\n      <td>72.000</td>\n      <td>3075321</td>\n      <td>3738.932735</td>\n    </tr>\n    <tr>\n      <th>20</th>\n      <td>Albania</td>\n      <td>Europe</td>\n      <td>1992</td>\n      <td>71.581</td>\n      <td>3326498</td>\n      <td>2497.437901</td>\n    </tr>\n    <tr>\n      <th>21</th>\n      <td>Albania</td>\n      <td>Europe</td>\n      <td>1997</td>\n      <td>72.950</td>\n      <td>3428038</td>\n      <td>3193.054604</td>\n    </tr>\n    <tr>\n      <th>22</th>\n      <td>Albania</td>\n      <td>Europe</td>\n      <td>2002</td>\n      <td>75.651</td>\n      <td>3508512</td>\n      <td>4604.211737</td>\n    </tr>\n    <tr>\n      <th>23</th>\n      <td>Albania</td>\n      <td>Europe</td>\n      <td>2007</td>\n      <td>76.423</td>\n      <td>3600523</td>\n      <td>5937.029526</td>\n    </tr>\n    <tr>\n      <th>24</th>\n      <td>Algeria</td>\n      <td>Africa</td>\n      <td>1952</td>\n      <td>43.077</td>\n      <td>9279525</td>\n      <td>2449.008185</td>\n    </tr>\n    <tr>\n      <th>25</th>\n      <td>Algeria</td>\n      <td>Africa</td>\n      <td>1957</td>\n      <td>45.685</td>\n      <td>10270856</td>\n      <td>3013.976023</td>\n    </tr>\n    <tr>\n      <th>26</th>\n      <td>Algeria</td>\n      <td>Africa</td>\n      <td>1962</td>\n      <td>48.303</td>\n      <td>11000948</td>\n      <td>2550.816880</td>\n    </tr>\n    <tr>\n      <th>27</th>\n      <td>Algeria</td>\n      <td>Africa</td>\n      <td>1967</td>\n      <td>51.407</td>\n      <td>12760499</td>\n      <td>3246.991771</td>\n    </tr>\n    <tr>\n      <th>28</th>\n      <td>Algeria</td>\n      <td>Africa</td>\n      <td>1972</td>\n      <td>54.518</td>\n      <td>14760787</td>\n      <td>4182.663766</td>\n    </tr>\n    <tr>\n      <th>29</th>\n      <td>Algeria</td>\n      <td>Africa</td>\n      <td>1977</td>\n      <td>58.014</td>\n      <td>17152804</td>\n      <td>4910.416756</td>\n    </tr>\n    <tr>\n      <th>...</th>\n      <td>...</td>\n      <td>...</td>\n      <td>...</td>\n      <td>...</td>\n      <td>...</td>\n      <td>...</td>\n    </tr>\n    <tr>\n      <th>1674</th>\n      <td>Yemen, Rep.</td>\n      <td>Asia</td>\n      <td>1982</td>\n      <td>49.113</td>\n      <td>9657618</td>\n      <td>1977.557010</td>\n    </tr>\n    <tr>\n      <th>1675</th>\n      <td>Yemen, Rep.</td>\n      <td>Asia</td>\n      <td>1987</td>\n      <td>52.922</td>\n      <td>11219340</td>\n      <td>1971.741538</td>\n    </tr>\n    <tr>\n      <th>1676</th>\n      <td>Yemen, Rep.</td>\n      <td>Asia</td>\n      <td>1992</td>\n      <td>55.599</td>\n      <td>13367997</td>\n      <td>1879.496673</td>\n    </tr>\n    <tr>\n      <th>1677</th>\n      <td>Yemen, Rep.</td>\n      <td>Asia</td>\n      <td>1997</td>\n      <td>58.020</td>\n      <td>15826497</td>\n      <td>2117.484526</td>\n    </tr>\n    <tr>\n      <th>1678</th>\n      <td>Yemen, Rep.</td>\n      <td>Asia</td>\n      <td>2002</td>\n      <td>60.308</td>\n      <td>18701257</td>\n      <td>2234.820827</td>\n    </tr>\n    <tr>\n      <th>1679</th>\n      <td>Yemen, Rep.</td>\n      <td>Asia</td>\n      <td>2007</td>\n      <td>62.698</td>\n      <td>22211743</td>\n      <td>2280.769906</td>\n    </tr>\n    <tr>\n      <th>1680</th>\n      <td>Zambia</td>\n      <td>Africa</td>\n      <td>1952</td>\n      <td>42.038</td>\n      <td>2672000</td>\n      <td>1147.388831</td>\n    </tr>\n    <tr>\n      <th>1681</th>\n      <td>Zambia</td>\n      <td>Africa</td>\n      <td>1957</td>\n      <td>44.077</td>\n      <td>3016000</td>\n      <td>1311.956766</td>\n    </tr>\n    <tr>\n      <th>1682</th>\n      <td>Zambia</td>\n      <td>Africa</td>\n      <td>1962</td>\n      <td>46.023</td>\n      <td>3421000</td>\n      <td>1452.725766</td>\n    </tr>\n    <tr>\n      <th>1683</th>\n      <td>Zambia</td>\n      <td>Africa</td>\n      <td>1967</td>\n      <td>47.768</td>\n      <td>3900000</td>\n      <td>1777.077318</td>\n    </tr>\n    <tr>\n      <th>1684</th>\n      <td>Zambia</td>\n      <td>Africa</td>\n      <td>1972</td>\n      <td>50.107</td>\n      <td>4506497</td>\n      <td>1773.498265</td>\n    </tr>\n    <tr>\n      <th>1685</th>\n      <td>Zambia</td>\n      <td>Africa</td>\n      <td>1977</td>\n      <td>51.386</td>\n      <td>5216550</td>\n      <td>1588.688299</td>\n    </tr>\n    <tr>\n      <th>1686</th>\n      <td>Zambia</td>\n      <td>Africa</td>\n      <td>1982</td>\n      <td>51.821</td>\n      <td>6100407</td>\n      <td>1408.678565</td>\n    </tr>\n    <tr>\n      <th>1687</th>\n      <td>Zambia</td>\n      <td>Africa</td>\n      <td>1987</td>\n      <td>50.821</td>\n      <td>7272406</td>\n      <td>1213.315116</td>\n    </tr>\n    <tr>\n      <th>1688</th>\n      <td>Zambia</td>\n      <td>Africa</td>\n      <td>1992</td>\n      <td>46.100</td>\n      <td>8381163</td>\n      <td>1210.884633</td>\n    </tr>\n    <tr>\n      <th>1689</th>\n      <td>Zambia</td>\n      <td>Africa</td>\n      <td>1997</td>\n      <td>40.238</td>\n      <td>9417789</td>\n      <td>1071.353818</td>\n    </tr>\n    <tr>\n      <th>1690</th>\n      <td>Zambia</td>\n      <td>Africa</td>\n      <td>2002</td>\n      <td>39.193</td>\n      <td>10595811</td>\n      <td>1071.613938</td>\n    </tr>\n    <tr>\n      <th>1691</th>\n      <td>Zambia</td>\n      <td>Africa</td>\n      <td>2007</td>\n      <td>42.384</td>\n      <td>11746035</td>\n      <td>1271.211593</td>\n    </tr>\n    <tr>\n      <th>1692</th>\n      <td>Zimbabwe</td>\n      <td>Africa</td>\n      <td>1952</td>\n      <td>48.451</td>\n      <td>3080907</td>\n      <td>406.884115</td>\n    </tr>\n    <tr>\n      <th>1693</th>\n      <td>Zimbabwe</td>\n      <td>Africa</td>\n      <td>1957</td>\n      <td>50.469</td>\n      <td>3646340</td>\n      <td>518.764268</td>\n    </tr>\n    <tr>\n      <th>1694</th>\n      <td>Zimbabwe</td>\n      <td>Africa</td>\n      <td>1962</td>\n      <td>52.358</td>\n      <td>4277736</td>\n      <td>527.272182</td>\n    </tr>\n    <tr>\n      <th>1695</th>\n      <td>Zimbabwe</td>\n      <td>Africa</td>\n      <td>1967</td>\n      <td>53.995</td>\n      <td>4995432</td>\n      <td>569.795071</td>\n    </tr>\n    <tr>\n      <th>1696</th>\n      <td>Zimbabwe</td>\n      <td>Africa</td>\n      <td>1972</td>\n      <td>55.635</td>\n      <td>5861135</td>\n      <td>799.362176</td>\n    </tr>\n    <tr>\n      <th>1697</th>\n      <td>Zimbabwe</td>\n      <td>Africa</td>\n      <td>1977</td>\n      <td>57.674</td>\n      <td>6642107</td>\n      <td>685.587682</td>\n    </tr>\n    <tr>\n      <th>1698</th>\n      <td>Zimbabwe</td>\n      <td>Africa</td>\n      <td>1982</td>\n      <td>60.363</td>\n      <td>7636524</td>\n      <td>788.855041</td>\n    </tr>\n    <tr>\n      <th>1699</th>\n      <td>Zimbabwe</td>\n      <td>Africa</td>\n      <td>1987</td>\n      <td>62.351</td>\n      <td>9216418</td>\n      <td>706.157306</td>\n    </tr>\n    <tr>\n      <th>1700</th>\n      <td>Zimbabwe</td>\n      <td>Africa</td>\n      <td>1992</td>\n      <td>60.377</td>\n      <td>10704340</td>\n      <td>693.420786</td>\n    </tr>\n    <tr>\n      <th>1701</th>\n      <td>Zimbabwe</td>\n      <td>Africa</td>\n      <td>1997</td>\n      <td>46.809</td>\n      <td>11404948</td>\n      <td>792.449960</td>\n    </tr>\n    <tr>\n      <th>1702</th>\n      <td>Zimbabwe</td>\n      <td>Africa</td>\n      <td>2002</td>\n      <td>39.989</td>\n      <td>11926563</td>\n      <td>672.038623</td>\n    </tr>\n    <tr>\n      <th>1703</th>\n      <td>Zimbabwe</td>\n      <td>Africa</td>\n      <td>2007</td>\n      <td>43.487</td>\n      <td>12311143</td>\n      <td>469.709298</td>\n    </tr>\n  </tbody>\n</table>\n<p>1704 rows × 6 columns</p>\n</div>"
     },
     "execution_count": 44,
     "metadata": {},
     "output_type": "execute_result"
    }
   ],
   "source": [
    "df"
   ],
   "metadata": {
    "collapsed": false,
    "ExecuteTime": {
     "end_time": "2023-09-03T12:00:26.672305Z",
     "start_time": "2023-09-03T12:00:26.505958Z"
    }
   },
   "id": "281064d18a9b98de"
  },
  {
   "cell_type": "code",
   "execution_count": 47,
   "outputs": [
    {
     "data": {
      "text/plain": "0       7.794453e+02\n1       1.600298e+03\n2       2.453399e+03\n3       3.289596e+03\n4       4.029577e+03\n5       4.815691e+03\n6       5.793702e+03\n7       6.646098e+03\n8       7.295439e+03\n9       7.930781e+03\n10      8.657515e+03\n11      9.632095e+03\n12      1.601056e+03\n13      3.543340e+03\n14      5.856229e+03\n15      8.616426e+03\n16      1.192985e+04\n17      1.546285e+04\n18      1.909373e+04\n19      2.283267e+04\n20      2.533010e+04\n21      2.852316e+04\n22      3.312737e+04\n23      3.906440e+04\n24      2.449008e+03\n25      5.462984e+03\n26      8.013801e+03\n27      1.126079e+04\n28      1.544346e+04\n29      2.035387e+04\n            ...     \n1674    3.118767e+06\n1675    3.120739e+06\n1676    3.122618e+06\n1677    3.124736e+06\n1678    3.126971e+06\n1679    3.129252e+06\n1680    1.346122e+06\n1681    1.347434e+06\n1682    1.348886e+06\n1683    1.350663e+06\n1684    1.352437e+06\n1685    1.354026e+06\n1686    1.355434e+06\n1687    1.356647e+06\n1688    1.357858e+06\n1689    1.358930e+06\n1690    1.360001e+06\n1691    1.361273e+06\n1692    1.361679e+06\n1693    1.362198e+06\n1694    1.362725e+06\n1695    1.363295e+06\n1696    1.364095e+06\n1697    1.364780e+06\n1698    1.365569e+06\n1699    1.366275e+06\n1700    1.366969e+06\n1701    1.367761e+06\n1702    1.368433e+06\n1703    1.368903e+06\nName: gdpPercap, Length: 1704, dtype: float64"
     },
     "execution_count": 47,
     "metadata": {},
     "output_type": "execute_result"
    }
   ],
   "source": [
    "df.groupby('continent')['gdpPercap'].cumsum()"
   ],
   "metadata": {
    "collapsed": false,
    "ExecuteTime": {
     "end_time": "2023-09-03T12:03:30.117370Z",
     "start_time": "2023-09-03T12:03:30.011907Z"
    }
   },
   "id": "ea83adcc7847e72d"
  },
  {
   "cell_type": "markdown",
   "source": [
    "##### 1.1.9 plot 【绘图】"
   ],
   "metadata": {
    "collapsed": false
   },
   "id": "4e9a0d0f6cccc7bc"
  },
  {
   "cell_type": "code",
   "execution_count": 49,
   "outputs": [
    {
     "data": {
      "text/plain": "continent\nAfrica      AxesSubplot(0.125,0.125;0.775x0.755)\nAmericas    AxesSubplot(0.125,0.125;0.775x0.755)\nAsia        AxesSubplot(0.125,0.125;0.775x0.755)\nEurope      AxesSubplot(0.125,0.125;0.775x0.755)\nOceania     AxesSubplot(0.125,0.125;0.775x0.755)\nName: lifeExp, dtype: object"
     },
     "execution_count": 49,
     "metadata": {},
     "output_type": "execute_result"
    },
    {
     "data": {
      "text/plain": "<Figure size 432x288 with 1 Axes>",
      "image/png": "[encoded data removed]"
     },
     "metadata": {
      "needs_background": "light"
     },
     "output_type": "display_data"
    }
   ],
   "source": [
    "df.groupby('continent')['lifeExp'].plot(kind='bar')"
   ],
   "metadata": {
    "collapsed": false,
    "ExecuteTime": {
     "end_time": "2023-09-03T12:05:13.634223Z",
     "start_time": "2023-09-03T12:05:06.692921Z"
    }
   },
   "id": "20ec13887effc097"
  },
  {
   "cell_type": "markdown",
   "source": [
    "#### 1.2 自定义聚合函数"
   ],
   "metadata": {
    "collapsed": false
   },
   "id": "71d4e5bdfdd8228a"
  },
  {
   "cell_type": "markdown",
   "source": [
    "##### 自定义聚合函数apply"
   ],
   "metadata": {
    "collapsed": false
   },
   "id": "69732fa7724aff07"
  },
  {
   "cell_type": "code",
   "execution_count": 19,
   "outputs": [
    {
     "data": {
      "text/plain": "                   pop\n0       70986236160888\n1       85394861192355\n2      105412993328888\n3      133124659417155\n4      171072273891599\n5      221425470858383\n6      165941183457855\n7      192320231353848\n8      266274545762240\n9      494057977582224\n10     638492291244024\n11    1016967188945928\n12       1645311593808\n13       2180067015024\n14       2986457490768\n15       3936494083599\n16       5123676710915\n17       6295321866303\n18       7728939329408\n19       9457599253040\n20      11065588944003\n21      11751444529443\n22      12309656454143\n23      12963765873528\n24      86109584225624\n25     105490482972735\n26     121020856898703\n27     162830334729000\n28     217880832859368\n29     294218685062415\n...                ...\n1674    93269585433923\n1675   125873590035599\n1676   178703343792008\n1677   250478007291008\n1678   349737013380048\n1679   493361527098048\n1680     7139583999999\n1681     9096255999999\n1682    11703240999999\n1683    15209999999999\n1684    20308515211008\n1685    27212393902499\n1686    37214965565648\n1687    52887889028835\n1688    70243893232568\n1689    88694749648520\n1690   112271210747720\n1691   137969338221224\n1692     9491987942648\n1693    13295795395599\n1694    18299025285695\n1695    24954340866623\n1696    34352903488224\n1697    44117585399448\n1698    58316498802575\n1699    84942360750723\n1700   114582894835599\n1701   130072838882703\n1702   142242904992968\n1703   151564241966448\n\n[1704 rows x 1 columns]",
      "text/html": "<div>\n<style scoped>\n    .dataframe tbody tr th:only-of-type {\n        vertical-align: middle;\n    }\n\n    .dataframe tbody tr th {\n        vertical-align: top;\n    }\n\n    .dataframe thead th {\n        text-align: right;\n    }\n</style>\n<table border=\"1\" class=\"dataframe\">\n  <thead>\n    <tr style=\"text-align: right;\">\n      <th></th>\n      <th>pop</th>\n    </tr>\n  </thead>\n  <tbody>\n    <tr>\n      <th>0</th>\n      <td>70986236160888</td>\n    </tr>\n    <tr>\n      <th>1</th>\n      <td>85394861192355</td>\n    </tr>\n    <tr>\n      <th>2</th>\n      <td>105412993328888</td>\n    </tr>\n    <tr>\n      <th>3</th>\n      <td>133124659417155</td>\n    </tr>\n    <tr>\n      <th>4</th>\n      <td>171072273891599</td>\n    </tr>\n    <tr>\n      <th>5</th>\n      <td>221425470858383</td>\n    </tr>\n    <tr>\n      <th>6</th>\n      <td>165941183457855</td>\n    </tr>\n    <tr>\n      <th>7</th>\n      <td>192320231353848</td>\n    </tr>\n    <tr>\n      <th>8</th>\n      <td>266274545762240</td>\n    </tr>\n    <tr>\n      <th>9</th>\n      <td>494057977582224</td>\n    </tr>\n    <tr>\n      <th>10</th>\n      <td>638492291244024</td>\n    </tr>\n    <tr>\n      <th>11</th>\n      <td>1016967188945928</td>\n    </tr>\n    <tr>\n      <th>12</th>\n      <td>1645311593808</td>\n    </tr>\n    <tr>\n      <th>13</th>\n      <td>2180067015024</td>\n    </tr>\n    <tr>\n      <th>14</th>\n      <td>2986457490768</td>\n    </tr>\n    <tr>\n      <th>15</th>\n      <td>3936494083599</td>\n    </tr>\n    <tr>\n      <th>16</th>\n      <td>5123676710915</td>\n    </tr>\n    <tr>\n      <th>17</th>\n      <td>6295321866303</td>\n    </tr>\n    <tr>\n      <th>18</th>\n      <td>7728939329408</td>\n    </tr>\n    <tr>\n      <th>19</th>\n      <td>9457599253040</td>\n    </tr>\n    <tr>\n      <th>20</th>\n      <td>11065588944003</td>\n    </tr>\n    <tr>\n      <th>21</th>\n      <td>11751444529443</td>\n    </tr>\n    <tr>\n      <th>22</th>\n      <td>12309656454143</td>\n    </tr>\n    <tr>\n      <th>23</th>\n      <td>12963765873528</td>\n    </tr>\n    <tr>\n      <th>24</th>\n      <td>86109584225624</td>\n    </tr>\n    <tr>\n      <th>25</th>\n      <td>105490482972735</td>\n    </tr>\n    <tr>\n      <th>26</th>\n      <td>121020856898703</td>\n    </tr>\n    <tr>\n      <th>27</th>\n      <td>162830334729000</td>\n    </tr>\n    <tr>\n      <th>28</th>\n      <td>217880832859368</td>\n    </tr>\n    <tr>\n      <th>29</th>\n      <td>294218685062415</td>\n    </tr>\n    <tr>\n      <th>...</th>\n      <td>...</td>\n    </tr>\n    <tr>\n      <th>1674</th>\n      <td>93269585433923</td>\n    </tr>\n    <tr>\n      <th>1675</th>\n      <td>125873590035599</td>\n    </tr>\n    <tr>\n      <th>1676</th>\n      <td>178703343792008</td>\n    </tr>\n    <tr>\n      <th>1677</th>\n      <td>250478007291008</td>\n    </tr>\n    <tr>\n      <th>1678</th>\n      <td>349737013380048</td>\n    </tr>\n    <tr>\n      <th>1679</th>\n      <td>493361527098048</td>\n    </tr>\n    <tr>\n      <th>1680</th>\n      <td>7139583999999</td>\n    </tr>\n    <tr>\n      <th>1681</th>\n      <td>9096255999999</td>\n    </tr>\n    <tr>\n      <th>1682</th>\n      <td>11703240999999</td>\n    </tr>\n    <tr>\n      <th>1683</th>\n      <td>15209999999999</td>\n    </tr>\n    <tr>\n      <th>1684</th>\n      <td>20308515211008</td>\n    </tr>\n    <tr>\n      <th>1685</th>\n      <td>27212393902499</td>\n    </tr>\n    <tr>\n      <th>1686</th>\n      <td>37214965565648</td>\n    </tr>\n    <tr>\n      <th>1687</th>\n      <td>52887889028835</td>\n    </tr>\n    <tr>\n      <th>1688</th>\n      <td>70243893232568</td>\n    </tr>\n    <tr>\n      <th>1689</th>\n      <td>88694749648520</td>\n    </tr>\n    <tr>\n      <th>1690</th>\n      <td>112271210747720</td>\n    </tr>\n    <tr>\n      <th>1691</th>\n      <td>137969338221224</td>\n    </tr>\n    <tr>\n      <th>1692</th>\n      <td>9491987942648</td>\n    </tr>\n    <tr>\n      <th>1693</th>\n      <td>13295795395599</td>\n    </tr>\n    <tr>\n      <th>1694</th>\n      <td>18299025285695</td>\n    </tr>\n    <tr>\n      <th>1695</th>\n      <td>24954340866623</td>\n    </tr>\n    <tr>\n      <th>1696</th>\n      <td>34352903488224</td>\n    </tr>\n    <tr>\n      <th>1697</th>\n      <td>44117585399448</td>\n    </tr>\n    <tr>\n      <th>1698</th>\n      <td>58316498802575</td>\n    </tr>\n    <tr>\n      <th>1699</th>\n      <td>84942360750723</td>\n    </tr>\n    <tr>\n      <th>1700</th>\n      <td>114582894835599</td>\n    </tr>\n    <tr>\n      <th>1701</th>\n      <td>130072838882703</td>\n    </tr>\n    <tr>\n      <th>1702</th>\n      <td>142242904992968</td>\n    </tr>\n    <tr>\n      <th>1703</th>\n      <td>151564241966448</td>\n    </tr>\n  </tbody>\n</table>\n<p>1704 rows × 1 columns</p>\n</div>"
     },
     "execution_count": 19,
     "metadata": {},
     "output_type": "execute_result"
    }
   ],
   "source": [
    "def myfunc(x):\n",
    "    return (x ** 2) - 1\n",
    "\n",
    "df.groupby('continent')[['pop']].apply(myfunc)"
   ],
   "metadata": {
    "collapsed": false,
    "ExecuteTime": {
     "end_time": "2023-09-03T11:29:29.061820Z",
     "start_time": "2023-09-03T11:29:28.913171Z"
    }
   },
   "id": "2a6f24d17e4ec8d8"
  },
  {
   "cell_type": "markdown",
   "source": [
    "##### 对于分组返回的结果类型不同（DataFrameGroupby, SeriesGroupby）所以apply在调用自定函数是，传入数据类型也不同，见： Pandas_apply自定义函数"
   ],
   "metadata": {
    "collapsed": false
   },
   "id": "e61482ad2e591b29"
  },
  {
   "cell_type": "markdown",
   "source": [
    "##### 自定义聚合函数agg\n",
    "**agg {'字段1': '聚合方法', '字段2': '聚合方法', ...} 可以对不同字段进行不同的聚合方法**"
   ],
   "metadata": {
    "collapsed": false
   },
   "id": "acaa598b7a547dd9"
  },
  {
   "cell_type": "code",
   "execution_count": 15,
   "id": "03cb050d-eb44-44d6-96cf-255b5e82ccff",
   "metadata": {
    "tags": [],
    "ExecuteTime": {
     "end_time": "2023-09-03T11:26:27.762650Z",
     "start_time": "2023-09-03T11:26:27.617071Z"
    }
   },
   "outputs": [
    {
     "data": {
      "text/plain": "   col_1  col_2  col_3  col_4  col_5\n0      7      8      9      6      4\n1      9      3      9      8      6\n2      1      7      6      9      1",
      "text/html": "<div>\n<style scoped>\n    .dataframe tbody tr th:only-of-type {\n        vertical-align: middle;\n    }\n\n    .dataframe tbody tr th {\n        vertical-align: top;\n    }\n\n    .dataframe thead th {\n        text-align: right;\n    }\n</style>\n<table border=\"1\" class=\"dataframe\">\n  <thead>\n    <tr style=\"text-align: right;\">\n      <th></th>\n      <th>col_1</th>\n      <th>col_2</th>\n      <th>col_3</th>\n      <th>col_4</th>\n      <th>col_5</th>\n    </tr>\n  </thead>\n  <tbody>\n    <tr>\n      <th>0</th>\n      <td>7</td>\n      <td>8</td>\n      <td>9</td>\n      <td>6</td>\n      <td>4</td>\n    </tr>\n    <tr>\n      <th>1</th>\n      <td>9</td>\n      <td>3</td>\n      <td>9</td>\n      <td>8</td>\n      <td>6</td>\n    </tr>\n    <tr>\n      <th>2</th>\n      <td>1</td>\n      <td>7</td>\n      <td>6</td>\n      <td>9</td>\n      <td>1</td>\n    </tr>\n  </tbody>\n</table>\n</div>"
     },
     "execution_count": 15,
     "metadata": {},
     "output_type": "execute_result"
    }
   ],
   "source": [
    "df1 = pd.DataFrame(np.random.randint(1, 10, (3, 5)), columns=['col_1', 'col_2', 'col_3', 'col_4', 'col_5'])\n",
    "df1"
   ]
  },
  {
   "cell_type": "code",
   "execution_count": 17,
   "outputs": [
    {
     "data": {
      "text/plain": "col_1    17.000000\ncol_2     6.000000\ncol_3     6.000000\ncol_4     9.000000\ncol_5     2.516611\ndtype: float64"
     },
     "execution_count": 17,
     "metadata": {},
     "output_type": "execute_result"
    }
   ],
   "source": [
    "# 指定不同列进行不同的聚合函数\n",
    "df1.agg({'col_1':'sum',\n",
    "        'col_2':'mean',\n",
    "        'col_3':'min',\n",
    "        'col_4':'max',\n",
    "        'col_5':'std'})"
   ],
   "metadata": {
    "collapsed": false,
    "ExecuteTime": {
     "end_time": "2023-09-03T11:26:36.105854Z",
     "start_time": "2023-09-03T11:26:35.908708Z"
    }
   },
   "id": "908a9eeff650242b"
  },
  {
   "cell_type": "markdown",
   "source": [
    "#### 1.3 聚合字段选择结论\n",
    "- 聚合使用字段的选择，需要看聚合使用的函数。\n",
    "    - 如果是mean、min、max这种和此列值有关系的函数，那么需要根据需求找指定的列。\n",
    "    - 如果是count这种，统计分组结果的函数，选择字段的限制只有列内有没有nan。"
   ],
   "metadata": {
    "collapsed": false
   },
   "id": "16cd8bfaf13431ac"
  },
  {
   "cell_type": "markdown",
   "source": [
    "### 三、转换函数 transform"
   ],
   "metadata": {
    "collapsed": false
   },
   "id": "6f5f83f5ff5ffc28"
  },
  {
   "cell_type": "code",
   "execution_count": 7,
   "outputs": [],
   "source": [
    "# 案例1:\n",
    "def my_zscore(x):\n",
    "    return (x - x.mean()) / x.std()"
   ],
   "metadata": {
    "collapsed": false,
    "ExecuteTime": {
     "end_time": "2023-09-03T06:30:51.205031Z",
     "start_time": "2023-09-03T06:30:50.515127Z"
    }
   },
   "id": "1b29d360a183e989"
  },
  {
   "cell_type": "code",
   "execution_count": 8,
   "outputs": [
    {
     "data": {
      "text/plain": "(1704, 6)"
     },
     "execution_count": 8,
     "metadata": {},
     "output_type": "execute_result"
    }
   ],
   "source": [
    "df.shape"
   ],
   "metadata": {
    "collapsed": false,
    "ExecuteTime": {
     "end_time": "2023-09-03T06:30:51.264598Z",
     "start_time": "2023-09-03T06:30:50.518768Z"
    }
   },
   "id": "f64ad4b1d92c88cb"
  },
  {
   "cell_type": "code",
   "execution_count": 9,
   "outputs": [
    {
     "data": {
      "text/plain": "0      -1.656854\n1      -1.731249\n2      -1.786543\n3      -1.848157\n4      -1.894173\n5      -1.882224\n6      -2.012809\n7      -2.121069\n8      -2.002813\n9      -2.011488\n10     -1.919077\n11     -1.919936\n12      0.504859\n13      0.635469\n14      0.926719\n15      0.899551\n16      0.882328\n17      0.833673\n18      0.825097\n19      0.832432\n20      0.660943\n21      0.686480\n22      0.810767\n23      0.779886\n24     -0.489174\n25     -0.476025\n26     -0.438633\n27     -0.364480\n28     -0.274943\n29     -0.138606\n          ...   \n1674   -1.153155\n1675   -0.974833\n1676   -0.762541\n1677   -0.605105\n1678   -0.438681\n1679   -0.356947\n1680   -0.574157\n1681   -0.607491\n1682   -0.627106\n1683   -0.675005\n1684   -0.662486\n1685   -0.728956\n1686   -0.901731\n1687   -1.173861\n1688   -1.608598\n1689   -2.143415\n1690   -2.158168\n1691   -2.039541\n1692   -0.049617\n1693   -0.084897\n1694   -0.103433\n1695   -0.143639\n1696   -0.176805\n1697   -0.168889\n1698   -0.108647\n1699   -0.081621\n1700   -0.336974\n1701   -1.574962\n1702   -2.093346\n1703   -1.948180\nName: lifeExp, Length: 1704, dtype: float64"
     },
     "execution_count": 9,
     "metadata": {},
     "output_type": "execute_result"
    }
   ],
   "source": [
    "df.groupby('year')['lifeExp'].transform(my_zscore)"
   ],
   "metadata": {
    "collapsed": false,
    "ExecuteTime": {
     "end_time": "2023-09-03T06:30:51.265073Z",
     "start_time": "2023-09-03T06:30:50.574513Z"
    }
   },
   "id": "9535caafad0c480b"
  },
  {
   "cell_type": "code",
   "execution_count": 52,
   "outputs": [
    {
     "data": {
      "text/plain": "   total_bill   tip     sex smoker  day    time  size\n0       16.99  1.01  Female     No  Sun  Dinner     2\n1       10.34  1.66    Male     No  Sun  Dinner     3\n2       21.01  3.50    Male     No  Sun  Dinner     3\n3       23.68  3.31    Male     No  Sun  Dinner     2\n4       24.59  3.61  Female     No  Sun  Dinner     4",
      "text/html": "<div>\n<style scoped>\n    .dataframe tbody tr th:only-of-type {\n        vertical-align: middle;\n    }\n\n    .dataframe tbody tr th {\n        vertical-align: top;\n    }\n\n    .dataframe thead th {\n        text-align: right;\n    }\n</style>\n<table border=\"1\" class=\"dataframe\">\n  <thead>\n    <tr style=\"text-align: right;\">\n      <th></th>\n      <th>total_bill</th>\n      <th>tip</th>\n      <th>sex</th>\n      <th>smoker</th>\n      <th>day</th>\n      <th>time</th>\n      <th>size</th>\n    </tr>\n  </thead>\n  <tbody>\n    <tr>\n      <th>0</th>\n      <td>16.99</td>\n      <td>1.01</td>\n      <td>Female</td>\n      <td>No</td>\n      <td>Sun</td>\n      <td>Dinner</td>\n      <td>2</td>\n    </tr>\n    <tr>\n      <th>1</th>\n      <td>10.34</td>\n      <td>1.66</td>\n      <td>Male</td>\n      <td>No</td>\n      <td>Sun</td>\n      <td>Dinner</td>\n      <td>3</td>\n    </tr>\n    <tr>\n      <th>2</th>\n      <td>21.01</td>\n      <td>3.50</td>\n      <td>Male</td>\n      <td>No</td>\n      <td>Sun</td>\n      <td>Dinner</td>\n      <td>3</td>\n    </tr>\n    <tr>\n      <th>3</th>\n      <td>23.68</td>\n      <td>3.31</td>\n      <td>Male</td>\n      <td>No</td>\n      <td>Sun</td>\n      <td>Dinner</td>\n      <td>2</td>\n    </tr>\n    <tr>\n      <th>4</th>\n      <td>24.59</td>\n      <td>3.61</td>\n      <td>Female</td>\n      <td>No</td>\n      <td>Sun</td>\n      <td>Dinner</td>\n      <td>4</td>\n    </tr>\n  </tbody>\n</table>\n</div>"
     },
     "execution_count": 52,
     "metadata": {},
     "output_type": "execute_result"
    }
   ],
   "source": [
    "# 案例2:\n",
    "tips = pd.read_csv('data/tips.csv')\n",
    "tips.head()"
   ],
   "metadata": {
    "collapsed": false,
    "ExecuteTime": {
     "end_time": "2023-09-03T12:13:38.710312Z",
     "start_time": "2023-09-03T12:13:38.502430Z"
    }
   },
   "id": "655de0d94568c17a"
  },
  {
   "cell_type": "code",
   "execution_count": 53,
   "outputs": [
    {
     "data": {
      "text/plain": "200    3.515\n112    4.000\n128    2.000\n179    3.550\n49     3.515\n15     3.515\n184    3.000\n213    2.500\n32     2.250\n55     3.510\nName: tip, dtype: float64"
     },
     "execution_count": 53,
     "metadata": {},
     "output_type": "execute_result"
    }
   ],
   "source": [
    "# tip取样10个\n",
    "tips10 = tips.sample(10, random_state=22)\n",
    "# 打乱index（permutition） 给tip列前4行赋值nan\n",
    "tips10.loc[np.random.permutation(tips10.index)[:4], 'tip'] = np.NAN\n",
    "# 按性别分组，对小费的缺失值，使用对应分组tip的均值填充nan\n",
    "def fill_mean(x):\n",
    "    return x.fillna(x.mean())\n",
    "tips10.groupby('sex')['tip'].transform(fill_mean)"
   ],
   "metadata": {
    "collapsed": false,
    "ExecuteTime": {
     "end_time": "2023-09-03T12:21:03.864391Z",
     "start_time": "2023-09-03T12:21:03.596413Z"
    }
   },
   "id": "9c9c1686b8dd855b"
  },
  {
   "cell_type": "markdown",
   "source": [
    "#### 测试案例："
   ],
   "metadata": {
    "collapsed": false
   },
   "id": "71e0957a6f4af3be"
  },
  {
   "cell_type": "code",
   "execution_count": 55,
   "outputs": [],
   "source": [
    "# 需求：存在数据bob和amy在近几个月的内的体重值，计算得出他们谁减重更多\n",
    "weight_loss = pd.read_csv('./data/weight_loss.csv')"
   ],
   "metadata": {
    "collapsed": false,
    "ExecuteTime": {
     "end_time": "2023-09-03T12:22:50.384120Z",
     "start_time": "2023-09-03T12:22:50.222180Z"
    }
   },
   "id": "506fb63c66a9b7e8"
  },
  {
   "cell_type": "code",
   "execution_count": 56,
   "outputs": [
    {
     "data": {
      "text/plain": "  Name Month    Week  Weight\n0  Bob   Jan  Week 1     291\n1  Amy   Jan  Week 1     197\n2  Bob   Jan  Week 2     288\n3  Amy   Jan  Week 2     189\n4  Bob   Jan  Week 3     283",
      "text/html": "<div>\n<style scoped>\n    .dataframe tbody tr th:only-of-type {\n        vertical-align: middle;\n    }\n\n    .dataframe tbody tr th {\n        vertical-align: top;\n    }\n\n    .dataframe thead th {\n        text-align: right;\n    }\n</style>\n<table border=\"1\" class=\"dataframe\">\n  <thead>\n    <tr style=\"text-align: right;\">\n      <th></th>\n      <th>Name</th>\n      <th>Month</th>\n      <th>Week</th>\n      <th>Weight</th>\n    </tr>\n  </thead>\n  <tbody>\n    <tr>\n      <th>0</th>\n      <td>Bob</td>\n      <td>Jan</td>\n      <td>Week 1</td>\n      <td>291</td>\n    </tr>\n    <tr>\n      <th>1</th>\n      <td>Amy</td>\n      <td>Jan</td>\n      <td>Week 1</td>\n      <td>197</td>\n    </tr>\n    <tr>\n      <th>2</th>\n      <td>Bob</td>\n      <td>Jan</td>\n      <td>Week 2</td>\n      <td>288</td>\n    </tr>\n    <tr>\n      <th>3</th>\n      <td>Amy</td>\n      <td>Jan</td>\n      <td>Week 2</td>\n      <td>189</td>\n    </tr>\n    <tr>\n      <th>4</th>\n      <td>Bob</td>\n      <td>Jan</td>\n      <td>Week 3</td>\n      <td>283</td>\n    </tr>\n  </tbody>\n</table>\n</div>"
     },
     "execution_count": 56,
     "metadata": {},
     "output_type": "execute_result"
    }
   ],
   "source": [
    "weight_loss.head()"
   ],
   "metadata": {
    "collapsed": false,
    "ExecuteTime": {
     "end_time": "2023-09-03T12:23:04.840488Z",
     "start_time": "2023-09-03T12:23:04.691580Z"
    }
   },
   "id": "b40edfb787369524"
  },
  {
   "cell_type": "code",
   "execution_count": 57,
   "outputs": [
    {
     "name": "stdout",
     "output_type": "stream",
     "text": [
      "<class 'pandas.core.frame.DataFrame'>\n",
      "RangeIndex: 32 entries, 0 to 31\n",
      "Data columns (total 4 columns):\n",
      "Name      32 non-null object\n",
      "Month     32 non-null object\n",
      "Week      32 non-null object\n",
      "Weight    32 non-null int64\n",
      "dtypes: int64(1), object(3)\n",
      "memory usage: 1.1+ KB\n"
     ]
    }
   ],
   "source": [
    "weight_loss.info()"
   ],
   "metadata": {
    "collapsed": false,
    "ExecuteTime": {
     "end_time": "2023-09-03T12:23:14.767060Z",
     "start_time": "2023-09-03T12:23:14.599452Z"
    }
   },
   "id": "3b2cfea4a10e59bf"
  },
  {
   "cell_type": "code",
   "execution_count": 58,
   "outputs": [
    {
     "data": {
      "text/plain": "           Weight\ncount   32.000000\nmean   223.750000\nstd     48.777308\nmin    161.000000\n25%    173.000000\n50%    223.500000\n75%    268.000000\nmax    291.000000",
      "text/html": "<div>\n<style scoped>\n    .dataframe tbody tr th:only-of-type {\n        vertical-align: middle;\n    }\n\n    .dataframe tbody tr th {\n        vertical-align: top;\n    }\n\n    .dataframe thead th {\n        text-align: right;\n    }\n</style>\n<table border=\"1\" class=\"dataframe\">\n  <thead>\n    <tr style=\"text-align: right;\">\n      <th></th>\n      <th>Weight</th>\n    </tr>\n  </thead>\n  <tbody>\n    <tr>\n      <th>count</th>\n      <td>32.000000</td>\n    </tr>\n    <tr>\n      <th>mean</th>\n      <td>223.750000</td>\n    </tr>\n    <tr>\n      <th>std</th>\n      <td>48.777308</td>\n    </tr>\n    <tr>\n      <th>min</th>\n      <td>161.000000</td>\n    </tr>\n    <tr>\n      <th>25%</th>\n      <td>173.000000</td>\n    </tr>\n    <tr>\n      <th>50%</th>\n      <td>223.500000</td>\n    </tr>\n    <tr>\n      <th>75%</th>\n      <td>268.000000</td>\n    </tr>\n    <tr>\n      <th>max</th>\n      <td>291.000000</td>\n    </tr>\n  </tbody>\n</table>\n</div>"
     },
     "execution_count": 58,
     "metadata": {},
     "output_type": "execute_result"
    }
   ],
   "source": [
    "weight_loss.describe()"
   ],
   "metadata": {
    "collapsed": false,
    "ExecuteTime": {
     "end_time": "2023-09-03T12:23:26.843054Z",
     "start_time": "2023-09-03T12:23:26.650458Z"
    }
   },
   "id": "44a72858700f7213"
  },
  {
   "cell_type": "code",
   "execution_count": 59,
   "outputs": [],
   "source": [
    "# 计算减重比例\n",
    "# 传入的是使用name分组后的体重series\n",
    "# 分别为week 1 ～ week 4\n",
    "# x.iloc[0] 为第一周的体重，及原始体重\n",
    "# x为当前周的体重，\n",
    "# 每周累计的减重比例为 x.iloc[0] - x / x.iloc[0]\n",
    "def func(x):\n",
    "    return (x.iloc[0] - x) / x.iloc[0]"
   ],
   "metadata": {
    "collapsed": false,
    "ExecuteTime": {
     "end_time": "2023-09-03T12:27:21.231999Z",
     "start_time": "2023-09-03T12:27:21.066752Z"
    }
   },
   "id": "9af92523375c8e52"
  },
  {
   "cell_type": "code",
   "execution_count": 72,
   "outputs": [
    {
     "name": "stderr",
     "output_type": "stream",
     "text": [
      "/home/duchao/anaconda3/lib/python3.7/site-packages/pandas/core/indexing.py:362: SettingWithCopyWarning: \n",
      "A value is trying to be set on a copy of a slice from a DataFrame.\n",
      "Try using .loc[row_indexer,col_indexer] = value instead\n",
      "\n",
      "See the caveats in the documentation: http://pandas.pydata.org/pandas-docs/stable/indexing.html#indexing-view-versus-copy\n",
      "  self.obj[key] = _infer_fill_value(value)\n",
      "/home/duchao/anaconda3/lib/python3.7/site-packages/pandas/core/indexing.py:543: SettingWithCopyWarning: \n",
      "A value is trying to be set on a copy of a slice from a DataFrame.\n",
      "Try using .loc[row_indexer,col_indexer] = value instead\n",
      "\n",
      "See the caveats in the documentation: http://pandas.pydata.org/pandas-docs/stable/indexing.html#indexing-view-versus-copy\n",
      "  self.obj[item] = s\n"
     ]
    },
    {
     "data": {
      "text/plain": "   Weight  sub_Weight\n0      94    0.000000\n1      99   -0.030300\n2      94   -0.013118\n3      93   -0.008042",
      "text/html": "<div>\n<style scoped>\n    .dataframe tbody tr th:only-of-type {\n        vertical-align: middle;\n    }\n\n    .dataframe tbody tr th {\n        vertical-align: top;\n    }\n\n    .dataframe thead th {\n        text-align: right;\n    }\n</style>\n<table border=\"1\" class=\"dataframe\">\n  <thead>\n    <tr style=\"text-align: right;\">\n      <th></th>\n      <th>Weight</th>\n      <th>sub_Weight</th>\n    </tr>\n  </thead>\n  <tbody>\n    <tr>\n      <th>0</th>\n      <td>94</td>\n      <td>0.000000</td>\n    </tr>\n    <tr>\n      <th>1</th>\n      <td>99</td>\n      <td>-0.030300</td>\n    </tr>\n    <tr>\n      <th>2</th>\n      <td>94</td>\n      <td>-0.013118</td>\n    </tr>\n    <tr>\n      <th>3</th>\n      <td>93</td>\n      <td>-0.008042</td>\n    </tr>\n  </tbody>\n</table>\n</div>"
     },
     "execution_count": 72,
     "metadata": {},
     "output_type": "execute_result"
    }
   ],
   "source": [
    "# 只查询一月分的数据, 验证自定义获取减重比例函数\n",
    "data = weight_loss.query(\"Month == 'Jan'\")\n",
    "data.loc[:,'sub_Weight'] = data.groupby('Name')['Weight'].transform(func)\n",
    "# 分别获取俩人这个月的体重\n",
    "bob_data = data[data['Name'] == 'Bob']\n",
    "bob_data = bob_data.reset_index().loc[:, ['Weight', 'sub_Weight']]\n",
    "amy_data = data[data['Name'] == 'Amy']\n",
    "amy_data = amy_data.reset_index().loc[:, ['Weight', 'sub_Weight']]\n",
    "# 比较俩个人每月减重较多的人\n",
    "bob_data - amy_data"
   ],
   "metadata": {
    "collapsed": false,
    "ExecuteTime": {
     "end_time": "2023-09-03T12:36:55.593845Z",
     "start_time": "2023-09-03T12:36:55.169115Z"
    }
   },
   "id": "43ab4ccf4730a96a"
  },
  {
   "cell_type": "code",
   "execution_count": 73,
   "outputs": [],
   "source": [
    "weight_loss['sub'] = weight_loss.groupby(['Name', 'Month'])['Weight'].transform(func)"
   ],
   "metadata": {
    "collapsed": false,
    "ExecuteTime": {
     "end_time": "2023-09-03T12:38:13.973653Z",
     "start_time": "2023-09-03T12:38:13.789453Z"
    }
   },
   "id": "1986c64347386ade"
  },
  {
   "cell_type": "code",
   "execution_count": 74,
   "outputs": [],
   "source": [
    "bob_data_index = weight_loss.query('Name == \"Bob\" and Week == \"Week 4\"')[['Month', 'sub']].set_index('Month')\n",
    "amy_data_index = weight_loss.query('Name == \"Amy\" and Week == \"Week 4\"')[['Month', 'sub']].set_index('Month')"
   ],
   "metadata": {
    "collapsed": false,
    "ExecuteTime": {
     "end_time": "2023-09-03T12:38:16.341139Z",
     "start_time": "2023-09-03T12:38:16.164344Z"
    }
   },
   "id": "580ddb565abc2bcc"
  },
  {
   "cell_type": "code",
   "execution_count": 75,
   "outputs": [
    {
     "data": {
      "text/plain": "            sub\nMonth          \nJan   -0.008042\nFeb   -0.036470\nMar    0.008778\nApr   -0.010796",
      "text/html": "<div>\n<style scoped>\n    .dataframe tbody tr th:only-of-type {\n        vertical-align: middle;\n    }\n\n    .dataframe tbody tr th {\n        vertical-align: top;\n    }\n\n    .dataframe thead th {\n        text-align: right;\n    }\n</style>\n<table border=\"1\" class=\"dataframe\">\n  <thead>\n    <tr style=\"text-align: right;\">\n      <th></th>\n      <th>sub</th>\n    </tr>\n    <tr>\n      <th>Month</th>\n      <th></th>\n    </tr>\n  </thead>\n  <tbody>\n    <tr>\n      <th>Jan</th>\n      <td>-0.008042</td>\n    </tr>\n    <tr>\n      <th>Feb</th>\n      <td>-0.036470</td>\n    </tr>\n    <tr>\n      <th>Mar</th>\n      <td>0.008778</td>\n    </tr>\n    <tr>\n      <th>Apr</th>\n      <td>-0.010796</td>\n    </tr>\n  </tbody>\n</table>\n</div>"
     },
     "execution_count": 75,
     "metadata": {},
     "output_type": "execute_result"
    }
   ],
   "source": [
    "# 比较结果\n",
    "bob_data_index - amy_data_index"
   ],
   "metadata": {
    "collapsed": false,
    "ExecuteTime": {
     "end_time": "2023-09-03T12:38:18.853901Z",
     "start_time": "2023-09-03T12:38:18.682401Z"
    }
   },
   "id": "7de7172ea02dbfa7"
  },
  {
   "cell_type": "markdown",
   "source": [
    "### 三、过滤函数 filter"
   ],
   "metadata": {
    "collapsed": false
   },
   "id": "ee244fb7c69bbb49"
  },
  {
   "cell_type": "markdown",
   "source": [
    "**filter内需要是返回bool值的函数，可以是内置、自定义、匿名；过滤留下所有True的值**"
   ],
   "metadata": {
    "collapsed": false
   },
   "id": "1be0b8e691394c01"
  },
  {
   "cell_type": "code",
   "execution_count": 77,
   "outputs": [
    {
     "data": {
      "text/plain": "2    156\n3     38\n4     37\n5      5\n6      4\n1      4\nName: size, dtype: int64"
     },
     "execution_count": 77,
     "metadata": {},
     "output_type": "execute_result"
    }
   ],
   "source": [
    "tips['size'].value_counts()"
   ],
   "metadata": {
    "collapsed": false,
    "ExecuteTime": {
     "end_time": "2023-09-03T12:39:43.866778Z",
     "start_time": "2023-09-03T12:39:43.700388Z"
    }
   },
   "id": "a65813f8ff1751bb"
  },
  {
   "cell_type": "code",
   "execution_count": 78,
   "outputs": [
    {
     "data": {
      "text/plain": "     total_bill   tip     sex smoker   day    time  size\n0         16.99  1.01  Female     No   Sun  Dinner     2\n1         10.34  1.66    Male     No   Sun  Dinner     3\n2         21.01  3.50    Male     No   Sun  Dinner     3\n3         23.68  3.31    Male     No   Sun  Dinner     2\n4         24.59  3.61  Female     No   Sun  Dinner     4\n5         25.29  4.71    Male     No   Sun  Dinner     4\n6          8.77  2.00    Male     No   Sun  Dinner     2\n7         26.88  3.12    Male     No   Sun  Dinner     4\n8         15.04  1.96    Male     No   Sun  Dinner     2\n9         14.78  3.23    Male     No   Sun  Dinner     2\n10        10.27  1.71    Male     No   Sun  Dinner     2\n11        35.26  5.00  Female     No   Sun  Dinner     4\n12        15.42  1.57    Male     No   Sun  Dinner     2\n13        18.43  3.00    Male     No   Sun  Dinner     4\n14        14.83  3.02  Female     No   Sun  Dinner     2\n15        21.58  3.92    Male     No   Sun  Dinner     2\n16        10.33  1.67  Female     No   Sun  Dinner     3\n17        16.29  3.71    Male     No   Sun  Dinner     3\n18        16.97  3.50  Female     No   Sun  Dinner     3\n19        20.65  3.35    Male     No   Sat  Dinner     3\n20        17.92  4.08    Male     No   Sat  Dinner     2\n21        20.29  2.75  Female     No   Sat  Dinner     2\n22        15.77  2.23  Female     No   Sat  Dinner     2\n23        39.42  7.58    Male     No   Sat  Dinner     4\n24        19.82  3.18    Male     No   Sat  Dinner     2\n25        17.81  2.34    Male     No   Sat  Dinner     4\n26        13.37  2.00    Male     No   Sat  Dinner     2\n27        12.69  2.00    Male     No   Sat  Dinner     2\n28        21.70  4.30    Male     No   Sat  Dinner     2\n29        19.65  3.00  Female     No   Sat  Dinner     2\n..          ...   ...     ...    ...   ...     ...   ...\n212       48.33  9.00    Male     No   Sat  Dinner     4\n213       13.27  2.50  Female    Yes   Sat  Dinner     2\n214       28.17  6.50  Female    Yes   Sat  Dinner     3\n215       12.90  1.10  Female    Yes   Sat  Dinner     2\n217       11.59  1.50    Male    Yes   Sat  Dinner     2\n218        7.74  1.44    Male    Yes   Sat  Dinner     2\n219       30.14  3.09  Female    Yes   Sat  Dinner     4\n220       12.16  2.20    Male    Yes   Fri   Lunch     2\n221       13.42  3.48  Female    Yes   Fri   Lunch     2\n223       15.98  3.00  Female     No   Fri   Lunch     3\n224       13.42  1.58    Male    Yes   Fri   Lunch     2\n225       16.27  2.50  Female    Yes   Fri   Lunch     2\n226       10.09  2.00  Female    Yes   Fri   Lunch     2\n227       20.45  3.00    Male     No   Sat  Dinner     4\n228       13.28  2.72    Male     No   Sat  Dinner     2\n229       22.12  2.88  Female    Yes   Sat  Dinner     2\n230       24.01  2.00    Male    Yes   Sat  Dinner     4\n231       15.69  3.00    Male    Yes   Sat  Dinner     3\n232       11.61  3.39    Male     No   Sat  Dinner     2\n233       10.77  1.47    Male     No   Sat  Dinner     2\n234       15.53  3.00    Male    Yes   Sat  Dinner     2\n235       10.07  1.25    Male     No   Sat  Dinner     2\n236       12.60  1.00    Male    Yes   Sat  Dinner     2\n237       32.83  1.17    Male    Yes   Sat  Dinner     2\n238       35.83  4.67  Female     No   Sat  Dinner     3\n239       29.03  5.92    Male     No   Sat  Dinner     3\n240       27.18  2.00  Female    Yes   Sat  Dinner     2\n241       22.67  2.00    Male    Yes   Sat  Dinner     2\n242       17.82  1.75    Male     No   Sat  Dinner     2\n243       18.78  3.00  Female     No  Thur  Dinner     2\n\n[231 rows x 7 columns]",
      "text/html": "<div>\n<style scoped>\n    .dataframe tbody tr th:only-of-type {\n        vertical-align: middle;\n    }\n\n    .dataframe tbody tr th {\n        vertical-align: top;\n    }\n\n    .dataframe thead th {\n        text-align: right;\n    }\n</style>\n<table border=\"1\" class=\"dataframe\">\n  <thead>\n    <tr style=\"text-align: right;\">\n      <th></th>\n      <th>total_bill</th>\n      <th>tip</th>\n      <th>sex</th>\n      <th>smoker</th>\n      <th>day</th>\n      <th>time</th>\n      <th>size</th>\n    </tr>\n  </thead>\n  <tbody>\n    <tr>\n      <th>0</th>\n      <td>16.99</td>\n      <td>1.01</td>\n      <td>Female</td>\n      <td>No</td>\n      <td>Sun</td>\n      <td>Dinner</td>\n      <td>2</td>\n    </tr>\n    <tr>\n      <th>1</th>\n      <td>10.34</td>\n      <td>1.66</td>\n      <td>Male</td>\n      <td>No</td>\n      <td>Sun</td>\n      <td>Dinner</td>\n      <td>3</td>\n    </tr>\n    <tr>\n      <th>2</th>\n      <td>21.01</td>\n      <td>3.50</td>\n      <td>Male</td>\n      <td>No</td>\n      <td>Sun</td>\n      <td>Dinner</td>\n      <td>3</td>\n    </tr>\n    <tr>\n      <th>3</th>\n      <td>23.68</td>\n      <td>3.31</td>\n      <td>Male</td>\n      <td>No</td>\n      <td>Sun</td>\n      <td>Dinner</td>\n      <td>2</td>\n    </tr>\n    <tr>\n      <th>4</th>\n      <td>24.59</td>\n      <td>3.61</td>\n      <td>Female</td>\n      <td>No</td>\n      <td>Sun</td>\n      <td>Dinner</td>\n      <td>4</td>\n    </tr>\n    <tr>\n      <th>5</th>\n      <td>25.29</td>\n      <td>4.71</td>\n      <td>Male</td>\n      <td>No</td>\n      <td>Sun</td>\n      <td>Dinner</td>\n      <td>4</td>\n    </tr>\n    <tr>\n      <th>6</th>\n      <td>8.77</td>\n      <td>2.00</td>\n      <td>Male</td>\n      <td>No</td>\n      <td>Sun</td>\n      <td>Dinner</td>\n      <td>2</td>\n    </tr>\n    <tr>\n      <th>7</th>\n      <td>26.88</td>\n      <td>3.12</td>\n      <td>Male</td>\n      <td>No</td>\n      <td>Sun</td>\n      <td>Dinner</td>\n      <td>4</td>\n    </tr>\n    <tr>\n      <th>8</th>\n      <td>15.04</td>\n      <td>1.96</td>\n      <td>Male</td>\n      <td>No</td>\n      <td>Sun</td>\n      <td>Dinner</td>\n      <td>2</td>\n    </tr>\n    <tr>\n      <th>9</th>\n      <td>14.78</td>\n      <td>3.23</td>\n      <td>Male</td>\n      <td>No</td>\n      <td>Sun</td>\n      <td>Dinner</td>\n      <td>2</td>\n    </tr>\n    <tr>\n      <th>10</th>\n      <td>10.27</td>\n      <td>1.71</td>\n      <td>Male</td>\n      <td>No</td>\n      <td>Sun</td>\n      <td>Dinner</td>\n      <td>2</td>\n    </tr>\n    <tr>\n      <th>11</th>\n      <td>35.26</td>\n      <td>5.00</td>\n      <td>Female</td>\n      <td>No</td>\n      <td>Sun</td>\n      <td>Dinner</td>\n      <td>4</td>\n    </tr>\n    <tr>\n      <th>12</th>\n      <td>15.42</td>\n      <td>1.57</td>\n      <td>Male</td>\n      <td>No</td>\n      <td>Sun</td>\n      <td>Dinner</td>\n      <td>2</td>\n    </tr>\n    <tr>\n      <th>13</th>\n      <td>18.43</td>\n      <td>3.00</td>\n      <td>Male</td>\n      <td>No</td>\n      <td>Sun</td>\n      <td>Dinner</td>\n      <td>4</td>\n    </tr>\n    <tr>\n      <th>14</th>\n      <td>14.83</td>\n      <td>3.02</td>\n      <td>Female</td>\n      <td>No</td>\n      <td>Sun</td>\n      <td>Dinner</td>\n      <td>2</td>\n    </tr>\n    <tr>\n      <th>15</th>\n      <td>21.58</td>\n      <td>3.92</td>\n      <td>Male</td>\n      <td>No</td>\n      <td>Sun</td>\n      <td>Dinner</td>\n      <td>2</td>\n    </tr>\n    <tr>\n      <th>16</th>\n      <td>10.33</td>\n      <td>1.67</td>\n      <td>Female</td>\n      <td>No</td>\n      <td>Sun</td>\n      <td>Dinner</td>\n      <td>3</td>\n    </tr>\n    <tr>\n      <th>17</th>\n      <td>16.29</td>\n      <td>3.71</td>\n      <td>Male</td>\n      <td>No</td>\n      <td>Sun</td>\n      <td>Dinner</td>\n      <td>3</td>\n    </tr>\n    <tr>\n      <th>18</th>\n      <td>16.97</td>\n      <td>3.50</td>\n      <td>Female</td>\n      <td>No</td>\n      <td>Sun</td>\n      <td>Dinner</td>\n      <td>3</td>\n    </tr>\n    <tr>\n      <th>19</th>\n      <td>20.65</td>\n      <td>3.35</td>\n      <td>Male</td>\n      <td>No</td>\n      <td>Sat</td>\n      <td>Dinner</td>\n      <td>3</td>\n    </tr>\n    <tr>\n      <th>20</th>\n      <td>17.92</td>\n      <td>4.08</td>\n      <td>Male</td>\n      <td>No</td>\n      <td>Sat</td>\n      <td>Dinner</td>\n      <td>2</td>\n    </tr>\n    <tr>\n      <th>21</th>\n      <td>20.29</td>\n      <td>2.75</td>\n      <td>Female</td>\n      <td>No</td>\n      <td>Sat</td>\n      <td>Dinner</td>\n      <td>2</td>\n    </tr>\n    <tr>\n      <th>22</th>\n      <td>15.77</td>\n      <td>2.23</td>\n      <td>Female</td>\n      <td>No</td>\n      <td>Sat</td>\n      <td>Dinner</td>\n      <td>2</td>\n    </tr>\n    <tr>\n      <th>23</th>\n      <td>39.42</td>\n      <td>7.58</td>\n      <td>Male</td>\n      <td>No</td>\n      <td>Sat</td>\n      <td>Dinner</td>\n      <td>4</td>\n    </tr>\n    <tr>\n      <th>24</th>\n      <td>19.82</td>\n      <td>3.18</td>\n      <td>Male</td>\n      <td>No</td>\n      <td>Sat</td>\n      <td>Dinner</td>\n      <td>2</td>\n    </tr>\n    <tr>\n      <th>25</th>\n      <td>17.81</td>\n      <td>2.34</td>\n      <td>Male</td>\n      <td>No</td>\n      <td>Sat</td>\n      <td>Dinner</td>\n      <td>4</td>\n    </tr>\n    <tr>\n      <th>26</th>\n      <td>13.37</td>\n      <td>2.00</td>\n      <td>Male</td>\n      <td>No</td>\n      <td>Sat</td>\n      <td>Dinner</td>\n      <td>2</td>\n    </tr>\n    <tr>\n      <th>27</th>\n      <td>12.69</td>\n      <td>2.00</td>\n      <td>Male</td>\n      <td>No</td>\n      <td>Sat</td>\n      <td>Dinner</td>\n      <td>2</td>\n    </tr>\n    <tr>\n      <th>28</th>\n      <td>21.70</td>\n      <td>4.30</td>\n      <td>Male</td>\n      <td>No</td>\n      <td>Sat</td>\n      <td>Dinner</td>\n      <td>2</td>\n    </tr>\n    <tr>\n      <th>29</th>\n      <td>19.65</td>\n      <td>3.00</td>\n      <td>Female</td>\n      <td>No</td>\n      <td>Sat</td>\n      <td>Dinner</td>\n      <td>2</td>\n    </tr>\n    <tr>\n      <th>...</th>\n      <td>...</td>\n      <td>...</td>\n      <td>...</td>\n      <td>...</td>\n      <td>...</td>\n      <td>...</td>\n      <td>...</td>\n    </tr>\n    <tr>\n      <th>212</th>\n      <td>48.33</td>\n      <td>9.00</td>\n      <td>Male</td>\n      <td>No</td>\n      <td>Sat</td>\n      <td>Dinner</td>\n      <td>4</td>\n    </tr>\n    <tr>\n      <th>213</th>\n      <td>13.27</td>\n      <td>2.50</td>\n      <td>Female</td>\n      <td>Yes</td>\n      <td>Sat</td>\n      <td>Dinner</td>\n      <td>2</td>\n    </tr>\n    <tr>\n      <th>214</th>\n      <td>28.17</td>\n      <td>6.50</td>\n      <td>Female</td>\n      <td>Yes</td>\n      <td>Sat</td>\n      <td>Dinner</td>\n      <td>3</td>\n    </tr>\n    <tr>\n      <th>215</th>\n      <td>12.90</td>\n      <td>1.10</td>\n      <td>Female</td>\n      <td>Yes</td>\n      <td>Sat</td>\n      <td>Dinner</td>\n      <td>2</td>\n    </tr>\n    <tr>\n      <th>217</th>\n      <td>11.59</td>\n      <td>1.50</td>\n      <td>Male</td>\n      <td>Yes</td>\n      <td>Sat</td>\n      <td>Dinner</td>\n      <td>2</td>\n    </tr>\n    <tr>\n      <th>218</th>\n      <td>7.74</td>\n      <td>1.44</td>\n      <td>Male</td>\n      <td>Yes</td>\n      <td>Sat</td>\n      <td>Dinner</td>\n      <td>2</td>\n    </tr>\n    <tr>\n      <th>219</th>\n      <td>30.14</td>\n      <td>3.09</td>\n      <td>Female</td>\n      <td>Yes</td>\n      <td>Sat</td>\n      <td>Dinner</td>\n      <td>4</td>\n    </tr>\n    <tr>\n      <th>220</th>\n      <td>12.16</td>\n      <td>2.20</td>\n      <td>Male</td>\n      <td>Yes</td>\n      <td>Fri</td>\n      <td>Lunch</td>\n      <td>2</td>\n    </tr>\n    <tr>\n      <th>221</th>\n      <td>13.42</td>\n      <td>3.48</td>\n      <td>Female</td>\n      <td>Yes</td>\n      <td>Fri</td>\n      <td>Lunch</td>\n      <td>2</td>\n    </tr>\n    <tr>\n      <th>223</th>\n      <td>15.98</td>\n      <td>3.00</td>\n      <td>Female</td>\n      <td>No</td>\n      <td>Fri</td>\n      <td>Lunch</td>\n      <td>3</td>\n    </tr>\n    <tr>\n      <th>224</th>\n      <td>13.42</td>\n      <td>1.58</td>\n      <td>Male</td>\n      <td>Yes</td>\n      <td>Fri</td>\n      <td>Lunch</td>\n      <td>2</td>\n    </tr>\n    <tr>\n      <th>225</th>\n      <td>16.27</td>\n      <td>2.50</td>\n      <td>Female</td>\n      <td>Yes</td>\n      <td>Fri</td>\n      <td>Lunch</td>\n      <td>2</td>\n    </tr>\n    <tr>\n      <th>226</th>\n      <td>10.09</td>\n      <td>2.00</td>\n      <td>Female</td>\n      <td>Yes</td>\n      <td>Fri</td>\n      <td>Lunch</td>\n      <td>2</td>\n    </tr>\n    <tr>\n      <th>227</th>\n      <td>20.45</td>\n      <td>3.00</td>\n      <td>Male</td>\n      <td>No</td>\n      <td>Sat</td>\n      <td>Dinner</td>\n      <td>4</td>\n    </tr>\n    <tr>\n      <th>228</th>\n      <td>13.28</td>\n      <td>2.72</td>\n      <td>Male</td>\n      <td>No</td>\n      <td>Sat</td>\n      <td>Dinner</td>\n      <td>2</td>\n    </tr>\n    <tr>\n      <th>229</th>\n      <td>22.12</td>\n      <td>2.88</td>\n      <td>Female</td>\n      <td>Yes</td>\n      <td>Sat</td>\n      <td>Dinner</td>\n      <td>2</td>\n    </tr>\n    <tr>\n      <th>230</th>\n      <td>24.01</td>\n      <td>2.00</td>\n      <td>Male</td>\n      <td>Yes</td>\n      <td>Sat</td>\n      <td>Dinner</td>\n      <td>4</td>\n    </tr>\n    <tr>\n      <th>231</th>\n      <td>15.69</td>\n      <td>3.00</td>\n      <td>Male</td>\n      <td>Yes</td>\n      <td>Sat</td>\n      <td>Dinner</td>\n      <td>3</td>\n    </tr>\n    <tr>\n      <th>232</th>\n      <td>11.61</td>\n      <td>3.39</td>\n      <td>Male</td>\n      <td>No</td>\n      <td>Sat</td>\n      <td>Dinner</td>\n      <td>2</td>\n    </tr>\n    <tr>\n      <th>233</th>\n      <td>10.77</td>\n      <td>1.47</td>\n      <td>Male</td>\n      <td>No</td>\n      <td>Sat</td>\n      <td>Dinner</td>\n      <td>2</td>\n    </tr>\n    <tr>\n      <th>234</th>\n      <td>15.53</td>\n      <td>3.00</td>\n      <td>Male</td>\n      <td>Yes</td>\n      <td>Sat</td>\n      <td>Dinner</td>\n      <td>2</td>\n    </tr>\n    <tr>\n      <th>235</th>\n      <td>10.07</td>\n      <td>1.25</td>\n      <td>Male</td>\n      <td>No</td>\n      <td>Sat</td>\n      <td>Dinner</td>\n      <td>2</td>\n    </tr>\n    <tr>\n      <th>236</th>\n      <td>12.60</td>\n      <td>1.00</td>\n      <td>Male</td>\n      <td>Yes</td>\n      <td>Sat</td>\n      <td>Dinner</td>\n      <td>2</td>\n    </tr>\n    <tr>\n      <th>237</th>\n      <td>32.83</td>\n      <td>1.17</td>\n      <td>Male</td>\n      <td>Yes</td>\n      <td>Sat</td>\n      <td>Dinner</td>\n      <td>2</td>\n    </tr>\n    <tr>\n      <th>238</th>\n      <td>35.83</td>\n      <td>4.67</td>\n      <td>Female</td>\n      <td>No</td>\n      <td>Sat</td>\n      <td>Dinner</td>\n      <td>3</td>\n    </tr>\n    <tr>\n      <th>239</th>\n      <td>29.03</td>\n      <td>5.92</td>\n      <td>Male</td>\n      <td>No</td>\n      <td>Sat</td>\n      <td>Dinner</td>\n      <td>3</td>\n    </tr>\n    <tr>\n      <th>240</th>\n      <td>27.18</td>\n      <td>2.00</td>\n      <td>Female</td>\n      <td>Yes</td>\n      <td>Sat</td>\n      <td>Dinner</td>\n      <td>2</td>\n    </tr>\n    <tr>\n      <th>241</th>\n      <td>22.67</td>\n      <td>2.00</td>\n      <td>Male</td>\n      <td>Yes</td>\n      <td>Sat</td>\n      <td>Dinner</td>\n      <td>2</td>\n    </tr>\n    <tr>\n      <th>242</th>\n      <td>17.82</td>\n      <td>1.75</td>\n      <td>Male</td>\n      <td>No</td>\n      <td>Sat</td>\n      <td>Dinner</td>\n      <td>2</td>\n    </tr>\n    <tr>\n      <th>243</th>\n      <td>18.78</td>\n      <td>3.00</td>\n      <td>Female</td>\n      <td>No</td>\n      <td>Thur</td>\n      <td>Dinner</td>\n      <td>2</td>\n    </tr>\n  </tbody>\n</table>\n<p>231 rows × 7 columns</p>\n</div>"
     },
     "execution_count": 78,
     "metadata": {},
     "output_type": "execute_result"
    }
   ],
   "source": [
    "# 过滤size count大于5的数据\n",
    "tips.groupby('size').filter(lambda x:x['size'].count() > 5)"
   ],
   "metadata": {
    "collapsed": false,
    "ExecuteTime": {
     "end_time": "2023-09-03T12:40:57.682705Z",
     "start_time": "2023-09-03T12:40:57.451673Z"
    }
   },
   "id": "2da235777c6ac976"
  },
  {
   "cell_type": "code",
   "execution_count": null,
   "outputs": [],
   "source": [],
   "metadata": {
    "collapsed": false
   },
   "id": "3250e4fcce622e0f"
  }
 ],
 "metadata": {
  "kernelspec": {
   "display_name": "Python 3 (ipykernel)",
   "language": "python",
   "name": "python3"
  },
  "language_info": {
   "codemirror_mode": {
    "name": "ipython",
    "version": 3
   },
   "file_extension": ".py",
   "mimetype": "text/x-python",
   "name": "python",
   "nbconvert_exporter": "python",
   "pygments_lexer": "ipython3",
   "version": "3.11.4"
  }
 },
 "nbformat": 4,
 "nbformat_minor": 5
}
