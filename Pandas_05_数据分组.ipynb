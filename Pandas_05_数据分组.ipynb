{
 "cells": [
  {
   "cell_type": "code",
   "execution_count": 2,
   "outputs": [],
   "source": [
    "import pandas as pd\n",
    "import numpy as np"
   ],
   "metadata": {
    "collapsed": false,
    "ExecuteTime": {
     "end_time": "2023-09-05T11:23:32.545367Z",
     "start_time": "2023-09-05T11:23:32.016546Z"
    }
   },
   "id": "fbd5dbd3ca8b9e9"
  },
  {
   "cell_type": "markdown",
   "source": [
    "## 数据分组及操作"
   ],
   "metadata": {
    "collapsed": false
   },
   "id": "93c382d0a323e7a4"
  },
  {
   "cell_type": "markdown",
   "source": [
    "### 一、分组 groupby"
   ],
   "metadata": {
    "collapsed": false
   },
   "id": "fa176c39356849c0"
  },
  {
   "cell_type": "code",
   "execution_count": 3,
   "outputs": [
    {
     "data": {
      "text/plain": "       country continent  year  lifeExp       pop   gdpPercap\n0  Afghanistan      Asia  1952   28.801   8425333  779.445314\n1  Afghanistan      Asia  1957   30.332   9240934  820.853030\n2  Afghanistan      Asia  1962   31.997  10267083  853.100710\n3  Afghanistan      Asia  1967   34.020  11537966  836.197138\n4  Afghanistan      Asia  1972   36.088  13079460  739.981106",
      "text/html": "<div>\n<style scoped>\n    .dataframe tbody tr th:only-of-type {\n        vertical-align: middle;\n    }\n\n    .dataframe tbody tr th {\n        vertical-align: top;\n    }\n\n    .dataframe thead th {\n        text-align: right;\n    }\n</style>\n<table border=\"1\" class=\"dataframe\">\n  <thead>\n    <tr style=\"text-align: right;\">\n      <th></th>\n      <th>country</th>\n      <th>continent</th>\n      <th>year</th>\n      <th>lifeExp</th>\n      <th>pop</th>\n      <th>gdpPercap</th>\n    </tr>\n  </thead>\n  <tbody>\n    <tr>\n      <th>0</th>\n      <td>Afghanistan</td>\n      <td>Asia</td>\n      <td>1952</td>\n      <td>28.801</td>\n      <td>8425333</td>\n      <td>779.445314</td>\n    </tr>\n    <tr>\n      <th>1</th>\n      <td>Afghanistan</td>\n      <td>Asia</td>\n      <td>1957</td>\n      <td>30.332</td>\n      <td>9240934</td>\n      <td>820.853030</td>\n    </tr>\n    <tr>\n      <th>2</th>\n      <td>Afghanistan</td>\n      <td>Asia</td>\n      <td>1962</td>\n      <td>31.997</td>\n      <td>10267083</td>\n      <td>853.100710</td>\n    </tr>\n    <tr>\n      <th>3</th>\n      <td>Afghanistan</td>\n      <td>Asia</td>\n      <td>1967</td>\n      <td>34.020</td>\n      <td>11537966</td>\n      <td>836.197138</td>\n    </tr>\n    <tr>\n      <th>4</th>\n      <td>Afghanistan</td>\n      <td>Asia</td>\n      <td>1972</td>\n      <td>36.088</td>\n      <td>13079460</td>\n      <td>739.981106</td>\n    </tr>\n  </tbody>\n</table>\n</div>"
     },
     "execution_count": 3,
     "metadata": {},
     "output_type": "execute_result"
    }
   ],
   "source": [
    "df = pd.read_csv('data/gapminder.tsv', sep='\\t')\n",
    "df.head()"
   ],
   "metadata": {
    "collapsed": false,
    "ExecuteTime": {
     "end_time": "2023-09-05T11:23:33.353155Z",
     "start_time": "2023-09-05T11:23:32.042847Z"
    }
   },
   "id": "bb143c06-2164-4215-b09c-9c075566f486"
  },
  {
   "cell_type": "code",
   "execution_count": 4,
   "outputs": [
    {
     "data": {
      "text/plain": "year\n1952    49.057620\n1957    51.507401\n1962    53.609249\n1967    55.678290\n1972    57.647386\n1977    59.570157\n1982    61.533197\n1987    63.212613\n1992    64.160338\n1997    65.014676\n2002    65.694923\n2007    67.007423\nName: lifeExp, dtype: float64"
     },
     "execution_count": 4,
     "metadata": {},
     "output_type": "execute_result"
    }
   ],
   "source": [
    "# 每年的平均寿命\n",
    "df.groupby('year')['lifeExp'].mean()"
   ],
   "metadata": {
    "collapsed": false,
    "ExecuteTime": {
     "end_time": "2023-09-05T11:23:33.353644Z",
     "start_time": "2023-09-05T11:23:32.062056Z"
    }
   },
   "id": "1a4e23661cc0ab6e"
  },
  {
   "cell_type": "code",
   "execution_count": 5,
   "outputs": [
    {
     "data": {
      "text/plain": "continent\nAfrica      48.865330\nAmericas    64.658737\nAsia        60.064903\nEurope      71.903686\nOceania     74.326208\nName: lifeExp, dtype: float64"
     },
     "execution_count": 5,
     "metadata": {},
     "output_type": "execute_result"
    }
   ],
   "source": [
    "# 每个大洲的平均寿命\n",
    "df.groupby('continent')['lifeExp'].mean()"
   ],
   "metadata": {
    "collapsed": false,
    "ExecuteTime": {
     "end_time": "2023-09-05T11:23:33.353980Z",
     "start_time": "2023-09-05T11:23:32.066242Z"
    }
   },
   "id": "9d0345d80e8021f6"
  },
  {
   "cell_type": "code",
   "execution_count": 6,
   "outputs": [
    {
     "data": {
      "text/plain": "country\nAfghanistan           37.478833\nAlbania               68.432917\nAlgeria               59.030167\nAngola                37.883500\nArgentina             69.060417\n                        ...    \nVietnam               57.479500\nWest Bank and Gaza    60.328667\nYemen, Rep.           46.780417\nZambia                45.996333\nZimbabwe              52.663167\nName: lifeExp, Length: 142, dtype: float64"
     },
     "execution_count": 6,
     "metadata": {},
     "output_type": "execute_result"
    }
   ],
   "source": [
    "# 每个国家的平均寿命\n",
    "df.groupby('country')['lifeExp'].mean()"
   ],
   "metadata": {
    "collapsed": false,
    "ExecuteTime": {
     "end_time": "2023-09-05T11:23:33.389779Z",
     "start_time": "2023-09-05T11:23:32.071376Z"
    }
   },
   "id": "9a28df9c4001ca8a"
  },
  {
   "cell_type": "code",
   "execution_count": 7,
   "outputs": [
    {
     "data": {
      "text/plain": "continent  country       \nAfrica     Algeria           59.030167\n           Angola            37.883500\n           Benin             48.779917\n           Botswana          54.597500\n           Burkina Faso      44.694000\n                               ...    \nEurope     Switzerland       75.565083\n           Turkey            59.696417\n           United Kingdom    73.922583\nOceania    Australia         74.662917\n           New Zealand       73.989500\nName: lifeExp, Length: 142, dtype: float64"
     },
     "execution_count": 7,
     "metadata": {},
     "output_type": "execute_result"
    }
   ],
   "source": [
    "# 每个大洲的每个国家的平均寿命\n",
    "df.groupby(['continent', 'country'])['lifeExp'].mean()"
   ],
   "metadata": {
    "collapsed": false,
    "ExecuteTime": {
     "end_time": "2023-09-05T11:23:33.581601Z",
     "start_time": "2023-09-05T11:23:32.079048Z"
    }
   },
   "id": "6ae498e66f2734fb"
  },
  {
   "cell_type": "markdown",
   "source": [
    "#### 关于分组字段选择: 需要根据需求定义；一定要跟着聚合操作，脱离聚合操作的分组没有意义。"
   ],
   "metadata": {
    "collapsed": false
   },
   "id": "7dbe51988f32b252"
  },
  {
   "cell_type": "markdown",
   "source": [
    "#### 分组参数 as_index 控制分组字段是否作为index"
   ],
   "metadata": {
    "collapsed": false
   },
   "id": "47db26f22ff1ed07"
  },
  {
   "cell_type": "code",
   "execution_count": 8,
   "outputs": [
    {
     "data": {
      "text/plain": "        lifeExp\nyear           \n1952  49.057620\n1957  51.507401\n1962  53.609249\n1967  55.678290\n1972  57.647386\n1977  59.570157\n1982  61.533197\n1987  63.212613\n1992  64.160338\n1997  65.014676\n2002  65.694923\n2007  67.007423",
      "text/html": "<div>\n<style scoped>\n    .dataframe tbody tr th:only-of-type {\n        vertical-align: middle;\n    }\n\n    .dataframe tbody tr th {\n        vertical-align: top;\n    }\n\n    .dataframe thead th {\n        text-align: right;\n    }\n</style>\n<table border=\"1\" class=\"dataframe\">\n  <thead>\n    <tr style=\"text-align: right;\">\n      <th></th>\n      <th>lifeExp</th>\n    </tr>\n    <tr>\n      <th>year</th>\n      <th></th>\n    </tr>\n  </thead>\n  <tbody>\n    <tr>\n      <th>1952</th>\n      <td>49.057620</td>\n    </tr>\n    <tr>\n      <th>1957</th>\n      <td>51.507401</td>\n    </tr>\n    <tr>\n      <th>1962</th>\n      <td>53.609249</td>\n    </tr>\n    <tr>\n      <th>1967</th>\n      <td>55.678290</td>\n    </tr>\n    <tr>\n      <th>1972</th>\n      <td>57.647386</td>\n    </tr>\n    <tr>\n      <th>1977</th>\n      <td>59.570157</td>\n    </tr>\n    <tr>\n      <th>1982</th>\n      <td>61.533197</td>\n    </tr>\n    <tr>\n      <th>1987</th>\n      <td>63.212613</td>\n    </tr>\n    <tr>\n      <th>1992</th>\n      <td>64.160338</td>\n    </tr>\n    <tr>\n      <th>1997</th>\n      <td>65.014676</td>\n    </tr>\n    <tr>\n      <th>2002</th>\n      <td>65.694923</td>\n    </tr>\n    <tr>\n      <th>2007</th>\n      <td>67.007423</td>\n    </tr>\n  </tbody>\n</table>\n</div>"
     },
     "execution_count": 8,
     "metadata": {},
     "output_type": "execute_result"
    }
   ],
   "source": [
    "# 默认分组字段会被作为索引\n",
    "df.groupby('year')[['lifeExp']].mean()"
   ],
   "metadata": {
    "collapsed": false,
    "ExecuteTime": {
     "end_time": "2023-09-05T11:23:33.738829Z",
     "start_time": "2023-09-05T11:23:32.085697Z"
    }
   },
   "id": "58a422cf9fd9abe8"
  },
  {
   "cell_type": "code",
   "execution_count": 9,
   "outputs": [
    {
     "data": {
      "text/plain": "    year    lifeExp\n0   1952  49.057620\n1   1957  51.507401\n2   1962  53.609249\n3   1967  55.678290\n4   1972  57.647386\n5   1977  59.570157\n6   1982  61.533197\n7   1987  63.212613\n8   1992  64.160338\n9   1997  65.014676\n10  2002  65.694923\n11  2007  67.007423",
      "text/html": "<div>\n<style scoped>\n    .dataframe tbody tr th:only-of-type {\n        vertical-align: middle;\n    }\n\n    .dataframe tbody tr th {\n        vertical-align: top;\n    }\n\n    .dataframe thead th {\n        text-align: right;\n    }\n</style>\n<table border=\"1\" class=\"dataframe\">\n  <thead>\n    <tr style=\"text-align: right;\">\n      <th></th>\n      <th>year</th>\n      <th>lifeExp</th>\n    </tr>\n  </thead>\n  <tbody>\n    <tr>\n      <th>0</th>\n      <td>1952</td>\n      <td>49.057620</td>\n    </tr>\n    <tr>\n      <th>1</th>\n      <td>1957</td>\n      <td>51.507401</td>\n    </tr>\n    <tr>\n      <th>2</th>\n      <td>1962</td>\n      <td>53.609249</td>\n    </tr>\n    <tr>\n      <th>3</th>\n      <td>1967</td>\n      <td>55.678290</td>\n    </tr>\n    <tr>\n      <th>4</th>\n      <td>1972</td>\n      <td>57.647386</td>\n    </tr>\n    <tr>\n      <th>5</th>\n      <td>1977</td>\n      <td>59.570157</td>\n    </tr>\n    <tr>\n      <th>6</th>\n      <td>1982</td>\n      <td>61.533197</td>\n    </tr>\n    <tr>\n      <th>7</th>\n      <td>1987</td>\n      <td>63.212613</td>\n    </tr>\n    <tr>\n      <th>8</th>\n      <td>1992</td>\n      <td>64.160338</td>\n    </tr>\n    <tr>\n      <th>9</th>\n      <td>1997</td>\n      <td>65.014676</td>\n    </tr>\n    <tr>\n      <th>10</th>\n      <td>2002</td>\n      <td>65.694923</td>\n    </tr>\n    <tr>\n      <th>11</th>\n      <td>2007</td>\n      <td>67.007423</td>\n    </tr>\n  </tbody>\n</table>\n</div>"
     },
     "execution_count": 9,
     "metadata": {},
     "output_type": "execute_result"
    }
   ],
   "source": [
    "df.groupby('year', as_index=False)[['lifeExp']].mean()"
   ],
   "metadata": {
    "collapsed": false,
    "ExecuteTime": {
     "end_time": "2023-09-05T11:23:33.975515Z",
     "start_time": "2023-09-05T11:23:32.093794Z"
    }
   },
   "id": "c996ea3c8c5c34a3"
  },
  {
   "cell_type": "markdown",
   "source": [
    "### 二、聚合函数"
   ],
   "metadata": {
    "collapsed": false
   },
   "id": "adf429d055e29498"
  },
  {
   "cell_type": "markdown",
   "source": [
    "#### 1.1 内置聚合函数\n",
    "**内置聚合函数是groupby返回的对象DataFrameGroupBy,SeriesGroupBy的方法**"
   ],
   "metadata": {
    "collapsed": false
   },
   "id": "11208c61b6093bf2"
  },
  {
   "cell_type": "code",
   "execution_count": 10,
   "outputs": [],
   "source": [
    "data = pd.DataFrame([\n",
    "    ['aa', True, True],\n",
    "    ['aa', True, False],\n",
    "    ['bb', True, False]\n",
    "], columns=['c_1', 'c_2', 'c_3'])"
   ],
   "metadata": {
    "collapsed": false,
    "ExecuteTime": {
     "end_time": "2023-09-05T11:23:33.975739Z",
     "start_time": "2023-09-05T11:23:32.116854Z"
    }
   },
   "id": "6a04fb3b03eb9d34"
  },
  {
   "cell_type": "markdown",
   "source": [
    "##### 1.1.1 all 【判断全true，返回bool】"
   ],
   "metadata": {
    "collapsed": false
   },
   "id": "232ef2a572e06b2d"
  },
  {
   "cell_type": "code",
   "execution_count": 11,
   "outputs": [
    {
     "data": {
      "text/plain": "c_1\naa    True\nbb    True\nName: c_2, dtype: bool"
     },
     "execution_count": 11,
     "metadata": {},
     "output_type": "execute_result"
    }
   ],
   "source": [
    "data.groupby('c_1')['c_2'].all()"
   ],
   "metadata": {
    "collapsed": false,
    "ExecuteTime": {
     "end_time": "2023-09-05T11:23:34.070026Z",
     "start_time": "2023-09-05T11:23:32.123758Z"
    }
   },
   "id": "f8770ee29fd0ea20"
  },
  {
   "cell_type": "code",
   "execution_count": 12,
   "outputs": [
    {
     "data": {
      "text/plain": "c_1\naa    False\nbb    False\nName: c_3, dtype: bool"
     },
     "execution_count": 12,
     "metadata": {},
     "output_type": "execute_result"
    }
   ],
   "source": [
    "data.groupby('c_1')['c_3'].all()"
   ],
   "metadata": {
    "collapsed": false,
    "ExecuteTime": {
     "end_time": "2023-09-05T11:23:34.142989Z",
     "start_time": "2023-09-05T11:23:32.128655Z"
    }
   },
   "id": "5a046b942ba0fd5f"
  },
  {
   "cell_type": "markdown",
   "source": [
    "##### 1.1.2 any 【判断有true，返回bool】"
   ],
   "metadata": {
    "collapsed": false
   },
   "id": "42e152a86805c302"
  },
  {
   "cell_type": "code",
   "execution_count": 13,
   "outputs": [
    {
     "data": {
      "text/plain": "c_1\naa    True\nbb    True\nName: c_2, dtype: bool"
     },
     "execution_count": 13,
     "metadata": {},
     "output_type": "execute_result"
    }
   ],
   "source": [
    "data.groupby('c_1')['c_2'].any()"
   ],
   "metadata": {
    "collapsed": false,
    "ExecuteTime": {
     "end_time": "2023-09-05T11:23:34.179220Z",
     "start_time": "2023-09-05T11:23:32.133627Z"
    }
   },
   "id": "3561463b04c23f46"
  },
  {
   "cell_type": "code",
   "execution_count": 14,
   "outputs": [
    {
     "data": {
      "text/plain": "c_1\naa     True\nbb    False\nName: c_3, dtype: bool"
     },
     "execution_count": 14,
     "metadata": {},
     "output_type": "execute_result"
    }
   ],
   "source": [
    "data.groupby('c_1')['c_3'].any()"
   ],
   "metadata": {
    "collapsed": false,
    "ExecuteTime": {
     "end_time": "2023-09-05T11:23:34.179696Z",
     "start_time": "2023-09-05T11:23:32.138393Z"
    }
   },
   "id": "56ac82eafd1a7771"
  },
  {
   "cell_type": "markdown",
   "source": [
    "##### 1.1.2 count 【统计数量，返回每个分组的数量，选择没有空的字段进行统计】"
   ],
   "metadata": {
    "collapsed": false
   },
   "id": "72f890bc2bf8f420"
  },
  {
   "cell_type": "code",
   "execution_count": 15,
   "outputs": [],
   "source": [
    "data1 = pd.DataFrame([\n",
    "    ['aa', True, True, 1, 1],\n",
    "    ['aa', True, False, 2, 2],\n",
    "    ['bb', True, False, 3, np.NAN],\n",
    "    ['bb', True, False, 4, 4],\n",
    "    ['bb', True, False, 5, 5]\n",
    "], columns=['c_1', 'c_2', 'c_3', 'c_4', 'c_5'])"
   ],
   "metadata": {
    "collapsed": false,
    "ExecuteTime": {
     "end_time": "2023-09-05T11:23:34.235146Z",
     "start_time": "2023-09-05T11:23:32.143259Z"
    }
   },
   "id": "845c76964287651d"
  },
  {
   "cell_type": "code",
   "execution_count": 16,
   "outputs": [
    {
     "data": {
      "text/plain": "c_1\naa    2\nbb    3\nName: c_4, dtype: int64"
     },
     "execution_count": 16,
     "metadata": {},
     "output_type": "execute_result"
    }
   ],
   "source": [
    "data1.groupby('c_1')['c_4'].count()"
   ],
   "metadata": {
    "collapsed": false,
    "ExecuteTime": {
     "end_time": "2023-09-05T11:23:34.235931Z",
     "start_time": "2023-09-05T11:23:32.147872Z"
    }
   },
   "id": "a73d5e7d7a6983f1"
  },
  {
   "cell_type": "code",
   "execution_count": 17,
   "outputs": [
    {
     "data": {
      "text/plain": "c_1\naa    2\nbb    2\nName: c_5, dtype: int64"
     },
     "execution_count": 17,
     "metadata": {},
     "output_type": "execute_result"
    }
   ],
   "source": [
    "data1.groupby('c_1')['c_5'].count()"
   ],
   "metadata": {
    "collapsed": false,
    "ExecuteTime": {
     "end_time": "2023-09-05T11:23:34.311190Z",
     "start_time": "2023-09-05T11:23:32.152548Z"
    }
   },
   "id": "3e56c89310e6a87e"
  },
  {
   "cell_type": "markdown",
   "source": [
    "##### 1.1.3 value_counts 【根据值，进行再分组统计次数】"
   ],
   "metadata": {
    "collapsed": false
   },
   "id": "4b17ae8d4689f397"
  },
  {
   "cell_type": "code",
   "execution_count": 18,
   "outputs": [],
   "source": [
    "data5 = pd.DataFrame([\n",
    "    ['aa', 1],\n",
    "    ['aa', 1],\n",
    "    ['aa', 2],\n",
    "    ['aa', 2],\n",
    "    ['aa', 2],\n",
    "    ['aa', 3],\n",
    "    ['bb', 1],\n",
    "    ['bb', 2],\n",
    "], columns=['c_1', 'c_2'])"
   ],
   "metadata": {
    "collapsed": false,
    "ExecuteTime": {
     "end_time": "2023-09-05T11:23:34.311408Z",
     "start_time": "2023-09-05T11:23:32.157060Z"
    }
   },
   "id": "790037899621866"
  },
  {
   "cell_type": "code",
   "execution_count": 19,
   "outputs": [
    {
     "data": {
      "text/plain": "c_1  c_2\naa   2      3\n     1      2\n     3      1\nbb   1      1\n     2      1\nName: c_2, dtype: int64"
     },
     "execution_count": 19,
     "metadata": {},
     "output_type": "execute_result"
    }
   ],
   "source": [
    "data5.groupby('c_1')['c_2'].value_counts()"
   ],
   "metadata": {
    "collapsed": false,
    "ExecuteTime": {
     "end_time": "2023-09-05T11:23:34.368422Z",
     "start_time": "2023-09-05T11:23:32.160588Z"
    }
   },
   "id": "4844d9f53031dfc"
  },
  {
   "cell_type": "markdown",
   "source": [
    "##### 1.1.3 sum 【求和聚合字段，根据选择聚合字段的值进行求和】"
   ],
   "metadata": {
    "collapsed": false
   },
   "id": "7065b03da25bdaad"
  },
  {
   "cell_type": "code",
   "execution_count": 20,
   "outputs": [
    {
     "data": {
      "text/plain": "c_1\naa     3\nbb    12\nName: c_4, dtype: int64"
     },
     "execution_count": 20,
     "metadata": {},
     "output_type": "execute_result"
    }
   ],
   "source": [
    "data1.groupby('c_1')['c_4'].sum()"
   ],
   "metadata": {
    "collapsed": false,
    "ExecuteTime": {
     "end_time": "2023-09-05T11:23:34.370218Z",
     "start_time": "2023-09-05T11:23:32.167357Z"
    }
   },
   "id": "6b9e345c40ffbd05"
  },
  {
   "cell_type": "markdown",
   "source": [
    "##### 1.1.3 max、min 【找出聚合字段最值，根据选择聚合字段的值寻找】"
   ],
   "metadata": {
    "collapsed": false
   },
   "id": "2f1830fb69f0737e"
  },
  {
   "cell_type": "code",
   "execution_count": 21,
   "outputs": [
    {
     "data": {
      "text/plain": "c_1\naa    2\nbb    5\nName: c_4, dtype: int64"
     },
     "execution_count": 21,
     "metadata": {},
     "output_type": "execute_result"
    }
   ],
   "source": [
    "data1.groupby('c_1')['c_4'].max()"
   ],
   "metadata": {
    "collapsed": false,
    "ExecuteTime": {
     "end_time": "2023-09-05T11:23:34.479449Z",
     "start_time": "2023-09-05T11:23:32.170586Z"
    }
   },
   "id": "897ce1ea8d978c7e"
  },
  {
   "cell_type": "markdown",
   "source": [
    "##### 1.1.5 unique 【去重聚合值，根据选择聚合字段的值去重】"
   ],
   "metadata": {
    "collapsed": false
   },
   "id": "bf2ce8642ff28ad0"
  },
  {
   "cell_type": "code",
   "execution_count": 22,
   "outputs": [],
   "source": [
    "data2 = pd.DataFrame([\n",
    "    ['aa', 2, True],\n",
    "    ['aa', 4, False],\n",
    "    ['bb', 5, True],\n",
    "    ['bb', 5, False],\n",
    "    ['bb', 5, False]\n",
    "], columns=['c_1', 'c_2', 'c_3'])"
   ],
   "metadata": {
    "collapsed": false,
    "ExecuteTime": {
     "end_time": "2023-09-05T11:23:34.479839Z",
     "start_time": "2023-09-05T11:23:32.192119Z"
    }
   },
   "id": "ff92049f725b1347"
  },
  {
   "cell_type": "code",
   "execution_count": 23,
   "outputs": [
    {
     "data": {
      "text/plain": "c_1\naa    [2, 4]\nbb       [5]\nName: c_2, dtype: object"
     },
     "execution_count": 23,
     "metadata": {},
     "output_type": "execute_result"
    }
   ],
   "source": [
    "data2.groupby('c_1')['c_2'].unique()"
   ],
   "metadata": {
    "collapsed": false,
    "ExecuteTime": {
     "end_time": "2023-09-05T11:23:34.524944Z",
     "start_time": "2023-09-05T11:23:32.198171Z"
    }
   },
   "id": "98aa5481ab23fcd0"
  },
  {
   "cell_type": "markdown",
   "source": [
    "##### 1.1.6 nunique 【去重聚合值计数，根据选择聚合字段的值去重计数】"
   ],
   "metadata": {
    "collapsed": false
   },
   "id": "71904aacade4ab41"
  },
  {
   "cell_type": "code",
   "execution_count": 24,
   "outputs": [
    {
     "data": {
      "text/plain": "c_1\naa    2\nbb    1\nName: c_2, dtype: int64"
     },
     "execution_count": 24,
     "metadata": {},
     "output_type": "execute_result"
    }
   ],
   "source": [
    "data2.groupby('c_1')['c_2'].nunique()"
   ],
   "metadata": {
    "collapsed": false,
    "ExecuteTime": {
     "end_time": "2023-09-05T11:23:34.552849Z",
     "start_time": "2023-09-05T11:23:32.202893Z"
    }
   },
   "id": "1383947415453d29"
  },
  {
   "cell_type": "markdown",
   "source": [
    "##### 1.1.7 mean、median、std 【求值，根据选择聚合字段的值求平均值，中位数、方差】"
   ],
   "metadata": {
    "collapsed": false
   },
   "id": "c16b9712cd40cfc"
  },
  {
   "cell_type": "code",
   "execution_count": 25,
   "outputs": [
    {
     "data": {
      "text/plain": "c_1\naa    3.0\nbb    5.0\nName: c_2, dtype: float64"
     },
     "execution_count": 25,
     "metadata": {},
     "output_type": "execute_result"
    }
   ],
   "source": [
    "data2.groupby('c_1')['c_2'].median()"
   ],
   "metadata": {
    "collapsed": false,
    "ExecuteTime": {
     "end_time": "2023-09-05T11:23:34.553211Z",
     "start_time": "2023-09-05T11:23:32.207868Z"
    }
   },
   "id": "21d6bbaab087e41d"
  },
  {
   "cell_type": "markdown",
   "source": [
    "##### 1.1.8 first、last、head、tail 【位置范围值】"
   ],
   "metadata": {
    "collapsed": false
   },
   "id": "dc7efff5129e12e"
  },
  {
   "cell_type": "code",
   "execution_count": 26,
   "outputs": [
    {
     "data": {
      "text/plain": "c_1\naa    2\nbb    5\nName: c_2, dtype: int64"
     },
     "execution_count": 26,
     "metadata": {},
     "output_type": "execute_result"
    }
   ],
   "source": [
    "data2.groupby('c_1')['c_2'].first()"
   ],
   "metadata": {
    "collapsed": false,
    "ExecuteTime": {
     "end_time": "2023-09-05T11:23:34.795643Z",
     "start_time": "2023-09-05T11:23:32.214234Z"
    }
   },
   "id": "5f2b2ac834355040"
  },
  {
   "cell_type": "markdown",
   "source": [
    "##### 1.1.8 cumsum 【累和】"
   ],
   "metadata": {
    "collapsed": false
   },
   "id": "1ab4123e04211035"
  },
  {
   "cell_type": "code",
   "execution_count": 27,
   "outputs": [
    {
     "data": {
      "text/plain": "          country continent  year  lifeExp       pop   gdpPercap\n0     Afghanistan      Asia  1952   28.801   8425333  779.445314\n1     Afghanistan      Asia  1957   30.332   9240934  820.853030\n2     Afghanistan      Asia  1962   31.997  10267083  853.100710\n3     Afghanistan      Asia  1967   34.020  11537966  836.197138\n4     Afghanistan      Asia  1972   36.088  13079460  739.981106\n...           ...       ...   ...      ...       ...         ...\n1699     Zimbabwe    Africa  1987   62.351   9216418  706.157306\n1700     Zimbabwe    Africa  1992   60.377  10704340  693.420786\n1701     Zimbabwe    Africa  1997   46.809  11404948  792.449960\n1702     Zimbabwe    Africa  2002   39.989  11926563  672.038623\n1703     Zimbabwe    Africa  2007   43.487  12311143  469.709298\n\n[1704 rows x 6 columns]",
      "text/html": "<div>\n<style scoped>\n    .dataframe tbody tr th:only-of-type {\n        vertical-align: middle;\n    }\n\n    .dataframe tbody tr th {\n        vertical-align: top;\n    }\n\n    .dataframe thead th {\n        text-align: right;\n    }\n</style>\n<table border=\"1\" class=\"dataframe\">\n  <thead>\n    <tr style=\"text-align: right;\">\n      <th></th>\n      <th>country</th>\n      <th>continent</th>\n      <th>year</th>\n      <th>lifeExp</th>\n      <th>pop</th>\n      <th>gdpPercap</th>\n    </tr>\n  </thead>\n  <tbody>\n    <tr>\n      <th>0</th>\n      <td>Afghanistan</td>\n      <td>Asia</td>\n      <td>1952</td>\n      <td>28.801</td>\n      <td>8425333</td>\n      <td>779.445314</td>\n    </tr>\n    <tr>\n      <th>1</th>\n      <td>Afghanistan</td>\n      <td>Asia</td>\n      <td>1957</td>\n      <td>30.332</td>\n      <td>9240934</td>\n      <td>820.853030</td>\n    </tr>\n    <tr>\n      <th>2</th>\n      <td>Afghanistan</td>\n      <td>Asia</td>\n      <td>1962</td>\n      <td>31.997</td>\n      <td>10267083</td>\n      <td>853.100710</td>\n    </tr>\n    <tr>\n      <th>3</th>\n      <td>Afghanistan</td>\n      <td>Asia</td>\n      <td>1967</td>\n      <td>34.020</td>\n      <td>11537966</td>\n      <td>836.197138</td>\n    </tr>\n    <tr>\n      <th>4</th>\n      <td>Afghanistan</td>\n      <td>Asia</td>\n      <td>1972</td>\n      <td>36.088</td>\n      <td>13079460</td>\n      <td>739.981106</td>\n    </tr>\n    <tr>\n      <th>...</th>\n      <td>...</td>\n      <td>...</td>\n      <td>...</td>\n      <td>...</td>\n      <td>...</td>\n      <td>...</td>\n    </tr>\n    <tr>\n      <th>1699</th>\n      <td>Zimbabwe</td>\n      <td>Africa</td>\n      <td>1987</td>\n      <td>62.351</td>\n      <td>9216418</td>\n      <td>706.157306</td>\n    </tr>\n    <tr>\n      <th>1700</th>\n      <td>Zimbabwe</td>\n      <td>Africa</td>\n      <td>1992</td>\n      <td>60.377</td>\n      <td>10704340</td>\n      <td>693.420786</td>\n    </tr>\n    <tr>\n      <th>1701</th>\n      <td>Zimbabwe</td>\n      <td>Africa</td>\n      <td>1997</td>\n      <td>46.809</td>\n      <td>11404948</td>\n      <td>792.449960</td>\n    </tr>\n    <tr>\n      <th>1702</th>\n      <td>Zimbabwe</td>\n      <td>Africa</td>\n      <td>2002</td>\n      <td>39.989</td>\n      <td>11926563</td>\n      <td>672.038623</td>\n    </tr>\n    <tr>\n      <th>1703</th>\n      <td>Zimbabwe</td>\n      <td>Africa</td>\n      <td>2007</td>\n      <td>43.487</td>\n      <td>12311143</td>\n      <td>469.709298</td>\n    </tr>\n  </tbody>\n</table>\n<p>1704 rows × 6 columns</p>\n</div>"
     },
     "execution_count": 27,
     "metadata": {},
     "output_type": "execute_result"
    }
   ],
   "source": [
    "df"
   ],
   "metadata": {
    "collapsed": false,
    "ExecuteTime": {
     "end_time": "2023-09-05T11:23:35.221424Z",
     "start_time": "2023-09-05T11:23:32.218329Z"
    }
   },
   "id": "281064d18a9b98de"
  },
  {
   "cell_type": "code",
   "execution_count": 28,
   "outputs": [
    {
     "data": {
      "text/plain": "0       7.794453e+02\n1       1.600298e+03\n2       2.453399e+03\n3       3.289596e+03\n4       4.029577e+03\n            ...     \n1699    1.366275e+06\n1700    1.366969e+06\n1701    1.367761e+06\n1702    1.368433e+06\n1703    1.368903e+06\nName: gdpPercap, Length: 1704, dtype: float64"
     },
     "execution_count": 28,
     "metadata": {},
     "output_type": "execute_result"
    }
   ],
   "source": [
    "df.groupby('continent')['gdpPercap'].cumsum()"
   ],
   "metadata": {
    "collapsed": false,
    "ExecuteTime": {
     "end_time": "2023-09-05T11:23:35.352845Z",
     "start_time": "2023-09-05T11:23:32.228212Z"
    }
   },
   "id": "ea83adcc7847e72d"
  },
  {
   "cell_type": "markdown",
   "source": [
    "##### 1.1.9 plot 【绘图】"
   ],
   "metadata": {
    "collapsed": false
   },
   "id": "4e9a0d0f6cccc7bc"
  },
  {
   "cell_type": "code",
   "execution_count": 29,
   "outputs": [
    {
     "data": {
      "text/plain": "continent\nAfrica      Axes(0.125,0.11;0.775x0.77)\nAmericas    Axes(0.125,0.11;0.775x0.77)\nAsia        Axes(0.125,0.11;0.775x0.77)\nEurope      Axes(0.125,0.11;0.775x0.77)\nOceania     Axes(0.125,0.11;0.775x0.77)\nName: lifeExp, dtype: object"
     },
     "execution_count": 29,
     "metadata": {},
     "output_type": "execute_result"
    },
    {
     "data": {
      "text/plain": "<Figure size 640x480 with 1 Axes>",
      "image/png": "[encoded data removed]"
     },
     "metadata": {},
     "output_type": "display_data"
    }
   ],
   "source": [
    "df.groupby('continent')['lifeExp'].plot(kind='bar')"
   ],
   "metadata": {
    "collapsed": false,
    "ExecuteTime": {
     "end_time": "2023-09-05T11:23:36.573428Z",
     "start_time": "2023-09-05T11:23:32.234933Z"
    }
   },
   "id": "20ec13887effc097"
  },
  {
   "cell_type": "markdown",
   "source": [
    "#### DataFrameGroupBy groups用法"
   ],
   "metadata": {
    "collapsed": false
   },
   "id": "e698e90f2fe5510f"
  },
  {
   "cell_type": "code",
   "execution_count": 50,
   "outputs": [
    {
     "data": {
      "text/plain": "{'Africa': [24, 25, 26, 27, 28, 29, 30, 31, 32, 33, 34, 35, 36, 37, 38, 39, 40, 41, 42, 43, 44, 45, 46, 47, 120, 121, 122, 123, 124, 125, 126, 127, 128, 129, 130, 131, 156, 157, 158, 159, 160, 161, 162, 163, 164, 165, 166, 167, 192, 193, 194, 195, 196, 197, 198, 199, 200, 201, 202, 203, 204, 205, 206, 207, 208, 209, 210, 211, 212, 213, 214, 215, 228, 229, 230, 231, 232, 233, 234, 235, 236, 237, 238, 239, 252, 253, 254, 255, 256, 257, 258, 259, 260, 261, 262, 263, 264, 265, 266, 267, ...], 'Americas': [48, 49, 50, 51, 52, 53, 54, 55, 56, 57, 58, 59, 132, 133, 134, 135, 136, 137, 138, 139, 140, 141, 142, 143, 168, 169, 170, 171, 172, 173, 174, 175, 176, 177, 178, 179, 240, 241, 242, 243, 244, 245, 246, 247, 248, 249, 250, 251, 276, 277, 278, 279, 280, 281, 282, 283, 284, 285, 286, 287, 300, 301, 302, 303, 304, 305, 306, 307, 308, 309, 310, 311, 348, 349, 350, 351, 352, 353, 354, 355, 356, 357, 358, 359, 384, 385, 386, 387, 388, 389, 390, 391, 392, 393, 394, 395, 432, 433, 434, 435, ...], 'Asia': [0, 1, 2, 3, 4, 5, 6, 7, 8, 9, 10, 11, 84, 85, 86, 87, 88, 89, 90, 91, 92, 93, 94, 95, 96, 97, 98, 99, 100, 101, 102, 103, 104, 105, 106, 107, 216, 217, 218, 219, 220, 221, 222, 223, 224, 225, 226, 227, 288, 289, 290, 291, 292, 293, 294, 295, 296, 297, 298, 299, 660, 661, 662, 663, 664, 665, 666, 667, 668, 669, 670, 671, 696, 697, 698, 699, 700, 701, 702, 703, 704, 705, 706, 707, 708, 709, 710, 711, 712, 713, 714, 715, 716, 717, 718, 719, 720, 721, 722, 723, ...], 'Europe': [12, 13, 14, 15, 16, 17, 18, 19, 20, 21, 22, 23, 72, 73, 74, 75, 76, 77, 78, 79, 80, 81, 82, 83, 108, 109, 110, 111, 112, 113, 114, 115, 116, 117, 118, 119, 144, 145, 146, 147, 148, 149, 150, 151, 152, 153, 154, 155, 180, 181, 182, 183, 184, 185, 186, 187, 188, 189, 190, 191, 372, 373, 374, 375, 376, 377, 378, 379, 380, 381, 382, 383, 396, 397, 398, 399, 400, 401, 402, 403, 404, 405, 406, 407, 408, 409, 410, 411, 412, 413, 414, 415, 416, 417, 418, 419, 516, 517, 518, 519, ...], 'Oceania': [60, 61, 62, 63, 64, 65, 66, 67, 68, 69, 70, 71, 1092, 1093, 1094, 1095, 1096, 1097, 1098, 1099, 1100, 1101, 1102, 1103]}"
     },
     "execution_count": 50,
     "metadata": {},
     "output_type": "execute_result"
    }
   ],
   "source": [
    "# 按大洲分组\n",
    "group_by_continent = df.groupby('continent')\n",
    "group_by_continent.groups"
   ],
   "metadata": {
    "collapsed": false,
    "ExecuteTime": {
     "end_time": "2023-09-05T11:24:13.800784Z",
     "start_time": "2023-09-05T11:24:13.754154Z"
    }
   },
   "id": "2960922870e9a6bb"
  },
  {
   "cell_type": "code",
   "execution_count": 59,
   "outputs": [
    {
     "data": {
      "text/plain": "6187585961"
     },
     "execution_count": 59,
     "metadata": {},
     "output_type": "execute_result"
    }
   ],
   "source": [
    "# 遍历分组，获取到5大洲\n",
    "'''\n",
    "def get_group(self, name, obj=None) -> DataFrame | Series:\n",
    "'''\n",
    "group_data = group_by_continent.get_group('Africa')\n",
    "group_data['pop'].sum()"
   ],
   "metadata": {
    "collapsed": false,
    "ExecuteTime": {
     "end_time": "2023-09-05T11:31:45.322278Z",
     "start_time": "2023-09-05T11:31:45.253137Z"
    }
   },
   "id": "4d4c008363342977"
  },
  {
   "cell_type": "markdown",
   "source": [
    "#### 1.2 自定义聚合函数"
   ],
   "metadata": {
    "collapsed": false
   },
   "id": "71d4e5bdfdd8228a"
  },
  {
   "cell_type": "markdown",
   "source": [
    "##### 自定义聚合函数apply"
   ],
   "metadata": {
    "collapsed": false
   },
   "id": "69732fa7724aff07"
  },
  {
   "cell_type": "code",
   "execution_count": 31,
   "outputs": [
    {
     "name": "stderr",
     "output_type": "stream",
     "text": [
      "/var/folders/b4/glz9zwj572q15bxbv_pxjymm0000gn/T/ipykernel_3300/924176729.py:4: FutureWarning: Not prepending group keys to the result index of transform-like apply. In the future, the group keys will be included in the index, regardless of whether the applied function returns a like-indexed object.\n",
      "To preserve the previous behavior, use\n",
      "\n",
      "\t>>> .groupby(..., group_keys=False)\n",
      "\n",
      "To adopt the future behavior and silence this warning, use \n",
      "\n",
      "\t>>> .groupby(..., group_keys=True)\n",
      "  df.groupby('continent')[['pop']].apply(myfunc)\n"
     ]
    },
    {
     "data": {
      "text/plain": "                  pop\n0      70986236160888\n1      85394861192355\n2     105412993328888\n3     133124659417155\n4     171072273891599\n...               ...\n1699   84942360750723\n1700  114582894835599\n1701  130072838882703\n1702  142242904992968\n1703  151564241966448\n\n[1704 rows x 1 columns]",
      "text/html": "<div>\n<style scoped>\n    .dataframe tbody tr th:only-of-type {\n        vertical-align: middle;\n    }\n\n    .dataframe tbody tr th {\n        vertical-align: top;\n    }\n\n    .dataframe thead th {\n        text-align: right;\n    }\n</style>\n<table border=\"1\" class=\"dataframe\">\n  <thead>\n    <tr style=\"text-align: right;\">\n      <th></th>\n      <th>pop</th>\n    </tr>\n  </thead>\n  <tbody>\n    <tr>\n      <th>0</th>\n      <td>70986236160888</td>\n    </tr>\n    <tr>\n      <th>1</th>\n      <td>85394861192355</td>\n    </tr>\n    <tr>\n      <th>2</th>\n      <td>105412993328888</td>\n    </tr>\n    <tr>\n      <th>3</th>\n      <td>133124659417155</td>\n    </tr>\n    <tr>\n      <th>4</th>\n      <td>171072273891599</td>\n    </tr>\n    <tr>\n      <th>...</th>\n      <td>...</td>\n    </tr>\n    <tr>\n      <th>1699</th>\n      <td>84942360750723</td>\n    </tr>\n    <tr>\n      <th>1700</th>\n      <td>114582894835599</td>\n    </tr>\n    <tr>\n      <th>1701</th>\n      <td>130072838882703</td>\n    </tr>\n    <tr>\n      <th>1702</th>\n      <td>142242904992968</td>\n    </tr>\n    <tr>\n      <th>1703</th>\n      <td>151564241966448</td>\n    </tr>\n  </tbody>\n</table>\n<p>1704 rows × 1 columns</p>\n</div>"
     },
     "execution_count": 31,
     "metadata": {},
     "output_type": "execute_result"
    }
   ],
   "source": [
    "def myfunc(x):\n",
    "    return (x ** 2) - 1\n",
    "\n",
    "df.groupby('continent')[['pop']].apply(myfunc)"
   ],
   "metadata": {
    "collapsed": false,
    "ExecuteTime": {
     "end_time": "2023-09-05T11:23:36.717521Z",
     "start_time": "2023-09-05T11:23:36.026084Z"
    }
   },
   "id": "2a6f24d17e4ec8d8"
  },
  {
   "cell_type": "markdown",
   "source": [
    "##### 对于分组返回的结果类型不同（DataFrameGroupby, SeriesGroupby）所以apply在调用自定函数是，传入数据类型也不同，见： Pandas_apply自定义函数"
   ],
   "metadata": {
    "collapsed": false
   },
   "id": "e61482ad2e591b29"
  },
  {
   "cell_type": "markdown",
   "source": [
    "##### 自定义聚合函数agg\n",
    "**agg {'字段1': '聚合方法', '字段2': '聚合方法', ...} 可以对不同字段进行不同的聚合方法**"
   ],
   "metadata": {
    "collapsed": false
   },
   "id": "acaa598b7a547dd9"
  },
  {
   "cell_type": "code",
   "execution_count": 32,
   "id": "03cb050d-eb44-44d6-96cf-255b5e82ccff",
   "metadata": {
    "tags": [],
    "ExecuteTime": {
     "end_time": "2023-09-05T11:23:36.718703Z",
     "start_time": "2023-09-05T11:23:36.054165Z"
    }
   },
   "outputs": [
    {
     "data": {
      "text/plain": "   col_1  col_2  col_3  col_4  col_5\n0      2      7      8      7      5\n1      4      8      9      8      3\n2      1      6      4      8      3",
      "text/html": "<div>\n<style scoped>\n    .dataframe tbody tr th:only-of-type {\n        vertical-align: middle;\n    }\n\n    .dataframe tbody tr th {\n        vertical-align: top;\n    }\n\n    .dataframe thead th {\n        text-align: right;\n    }\n</style>\n<table border=\"1\" class=\"dataframe\">\n  <thead>\n    <tr style=\"text-align: right;\">\n      <th></th>\n      <th>col_1</th>\n      <th>col_2</th>\n      <th>col_3</th>\n      <th>col_4</th>\n      <th>col_5</th>\n    </tr>\n  </thead>\n  <tbody>\n    <tr>\n      <th>0</th>\n      <td>2</td>\n      <td>7</td>\n      <td>8</td>\n      <td>7</td>\n      <td>5</td>\n    </tr>\n    <tr>\n      <th>1</th>\n      <td>4</td>\n      <td>8</td>\n      <td>9</td>\n      <td>8</td>\n      <td>3</td>\n    </tr>\n    <tr>\n      <th>2</th>\n      <td>1</td>\n      <td>6</td>\n      <td>4</td>\n      <td>8</td>\n      <td>3</td>\n    </tr>\n  </tbody>\n</table>\n</div>"
     },
     "execution_count": 32,
     "metadata": {},
     "output_type": "execute_result"
    }
   ],
   "source": [
    "df1 = pd.DataFrame(np.random.randint(1, 10, (3, 5)), columns=['col_1', 'col_2', 'col_3', 'col_4', 'col_5'])\n",
    "df1"
   ]
  },
  {
   "cell_type": "code",
   "execution_count": 33,
   "outputs": [
    {
     "data": {
      "text/plain": "col_1    7.000000\ncol_2    7.000000\ncol_3    4.000000\ncol_4    8.000000\ncol_5    1.154701\ndtype: float64"
     },
     "execution_count": 33,
     "metadata": {},
     "output_type": "execute_result"
    }
   ],
   "source": [
    "# 指定不同列进行不同的聚合函数\n",
    "df1.agg({'col_1':'sum',\n",
    "        'col_2':'mean',\n",
    "        'col_3':'min',\n",
    "        'col_4':'max',\n",
    "        'col_5':'std'})"
   ],
   "metadata": {
    "collapsed": false,
    "ExecuteTime": {
     "end_time": "2023-09-05T11:23:36.719046Z",
     "start_time": "2023-09-05T11:23:36.062451Z"
    }
   },
   "id": "908a9eeff650242b"
  },
  {
   "cell_type": "markdown",
   "source": [
    "#### 1.3 聚合字段选择结论\n",
    "- 聚合使用字段的选择，需要看聚合使用的函数。\n",
    "    - 如果是mean、min、max这种和此列值有关系的函数，那么需要根据需求找指定的列。\n",
    "    - 如果是count这种，统计分组结果的函数，选择字段的限制只有列内有没有nan。"
   ],
   "metadata": {
    "collapsed": false
   },
   "id": "16cd8bfaf13431ac"
  },
  {
   "cell_type": "markdown",
   "source": [
    "### 三、转换函数 transform"
   ],
   "metadata": {
    "collapsed": false
   },
   "id": "6f5f83f5ff5ffc28"
  },
  {
   "cell_type": "code",
   "execution_count": 34,
   "outputs": [],
   "source": [
    "# 案例1:\n",
    "def my_zscore(x):\n",
    "    return (x - x.mean()) / x.std()"
   ],
   "metadata": {
    "collapsed": false,
    "ExecuteTime": {
     "end_time": "2023-09-05T11:23:36.719179Z",
     "start_time": "2023-09-05T11:23:36.066245Z"
    }
   },
   "id": "1b29d360a183e989"
  },
  {
   "cell_type": "code",
   "execution_count": 35,
   "outputs": [
    {
     "data": {
      "text/plain": "(1704, 6)"
     },
     "execution_count": 35,
     "metadata": {},
     "output_type": "execute_result"
    }
   ],
   "source": [
    "df.shape"
   ],
   "metadata": {
    "collapsed": false,
    "ExecuteTime": {
     "end_time": "2023-09-05T11:23:36.719437Z",
     "start_time": "2023-09-05T11:23:36.075563Z"
    }
   },
   "id": "f64ad4b1d92c88cb"
  },
  {
   "cell_type": "code",
   "execution_count": 36,
   "outputs": [
    {
     "data": {
      "text/plain": "0      -1.656854\n1      -1.731249\n2      -1.786543\n3      -1.848157\n4      -1.894173\n          ...   \n1699   -0.081621\n1700   -0.336974\n1701   -1.574962\n1702   -2.093346\n1703   -1.948180\nName: lifeExp, Length: 1704, dtype: float64"
     },
     "execution_count": 36,
     "metadata": {},
     "output_type": "execute_result"
    }
   ],
   "source": [
    "df.groupby('year')['lifeExp'].transform(my_zscore)"
   ],
   "metadata": {
    "collapsed": false,
    "ExecuteTime": {
     "end_time": "2023-09-05T11:23:36.867307Z",
     "start_time": "2023-09-05T11:23:36.083724Z"
    }
   },
   "id": "9535caafad0c480b"
  },
  {
   "cell_type": "code",
   "execution_count": 37,
   "outputs": [
    {
     "data": {
      "text/plain": "   total_bill   tip     sex smoker  day    time  size\n0       16.99  1.01  Female     No  Sun  Dinner     2\n1       10.34  1.66    Male     No  Sun  Dinner     3\n2       21.01  3.50    Male     No  Sun  Dinner     3\n3       23.68  3.31    Male     No  Sun  Dinner     2\n4       24.59  3.61  Female     No  Sun  Dinner     4",
      "text/html": "<div>\n<style scoped>\n    .dataframe tbody tr th:only-of-type {\n        vertical-align: middle;\n    }\n\n    .dataframe tbody tr th {\n        vertical-align: top;\n    }\n\n    .dataframe thead th {\n        text-align: right;\n    }\n</style>\n<table border=\"1\" class=\"dataframe\">\n  <thead>\n    <tr style=\"text-align: right;\">\n      <th></th>\n      <th>total_bill</th>\n      <th>tip</th>\n      <th>sex</th>\n      <th>smoker</th>\n      <th>day</th>\n      <th>time</th>\n      <th>size</th>\n    </tr>\n  </thead>\n  <tbody>\n    <tr>\n      <th>0</th>\n      <td>16.99</td>\n      <td>1.01</td>\n      <td>Female</td>\n      <td>No</td>\n      <td>Sun</td>\n      <td>Dinner</td>\n      <td>2</td>\n    </tr>\n    <tr>\n      <th>1</th>\n      <td>10.34</td>\n      <td>1.66</td>\n      <td>Male</td>\n      <td>No</td>\n      <td>Sun</td>\n      <td>Dinner</td>\n      <td>3</td>\n    </tr>\n    <tr>\n      <th>2</th>\n      <td>21.01</td>\n      <td>3.50</td>\n      <td>Male</td>\n      <td>No</td>\n      <td>Sun</td>\n      <td>Dinner</td>\n      <td>3</td>\n    </tr>\n    <tr>\n      <th>3</th>\n      <td>23.68</td>\n      <td>3.31</td>\n      <td>Male</td>\n      <td>No</td>\n      <td>Sun</td>\n      <td>Dinner</td>\n      <td>2</td>\n    </tr>\n    <tr>\n      <th>4</th>\n      <td>24.59</td>\n      <td>3.61</td>\n      <td>Female</td>\n      <td>No</td>\n      <td>Sun</td>\n      <td>Dinner</td>\n      <td>4</td>\n    </tr>\n  </tbody>\n</table>\n</div>"
     },
     "execution_count": 37,
     "metadata": {},
     "output_type": "execute_result"
    }
   ],
   "source": [
    "# 案例2:\n",
    "tips = pd.read_csv('data/tips.csv')\n",
    "tips.head()"
   ],
   "metadata": {
    "collapsed": false,
    "ExecuteTime": {
     "end_time": "2023-09-05T11:23:37.120095Z",
     "start_time": "2023-09-05T11:23:36.097725Z"
    }
   },
   "id": "655de0d94568c17a"
  },
  {
   "cell_type": "code",
   "execution_count": 38,
   "outputs": [
    {
     "data": {
      "text/plain": "200    3.823333\n112    4.000000\n128    2.000000\n179    3.550000\n49     3.823333\n15     3.920000\n184    3.823333\n213    2.500000\n32     3.000000\n55     3.823333\nName: tip, dtype: float64"
     },
     "execution_count": 38,
     "metadata": {},
     "output_type": "execute_result"
    }
   ],
   "source": [
    "# tip取样10个\n",
    "tips10 = tips.sample(10, random_state=22)\n",
    "# 打乱index（permutition） 给tip列前4行赋值nan\n",
    "tips10.loc[np.random.permutation(tips10.index)[:4], 'tip'] = np.NAN\n",
    "# 按性别分组，对小费的缺失值，使用对应分组tip的均值填充nan\n",
    "def fill_mean(x):\n",
    "    return x.fillna(x.mean())\n",
    "tips10.groupby('sex')['tip'].transform(fill_mean)"
   ],
   "metadata": {
    "collapsed": false,
    "ExecuteTime": {
     "end_time": "2023-09-05T11:23:37.242434Z",
     "start_time": "2023-09-05T11:23:36.114626Z"
    }
   },
   "id": "9c9c1686b8dd855b"
  },
  {
   "cell_type": "markdown",
   "source": [
    "#### 测试案例："
   ],
   "metadata": {
    "collapsed": false
   },
   "id": "71e0957a6f4af3be"
  },
  {
   "cell_type": "code",
   "execution_count": 39,
   "outputs": [],
   "source": [
    "# 需求：存在数据bob和amy在近几个月的内的体重值，计算得出他们谁减重更多\n",
    "weight_loss = pd.read_csv('./data/weight_loss.csv')"
   ],
   "metadata": {
    "collapsed": false,
    "ExecuteTime": {
     "end_time": "2023-09-05T11:23:37.242753Z",
     "start_time": "2023-09-05T11:23:36.122600Z"
    }
   },
   "id": "506fb63c66a9b7e8"
  },
  {
   "cell_type": "code",
   "execution_count": 40,
   "outputs": [
    {
     "data": {
      "text/plain": "  Name Month    Week  Weight\n0  Bob   Jan  Week 1     291\n1  Amy   Jan  Week 1     197\n2  Bob   Jan  Week 2     288\n3  Amy   Jan  Week 2     189\n4  Bob   Jan  Week 3     283",
      "text/html": "<div>\n<style scoped>\n    .dataframe tbody tr th:only-of-type {\n        vertical-align: middle;\n    }\n\n    .dataframe tbody tr th {\n        vertical-align: top;\n    }\n\n    .dataframe thead th {\n        text-align: right;\n    }\n</style>\n<table border=\"1\" class=\"dataframe\">\n  <thead>\n    <tr style=\"text-align: right;\">\n      <th></th>\n      <th>Name</th>\n      <th>Month</th>\n      <th>Week</th>\n      <th>Weight</th>\n    </tr>\n  </thead>\n  <tbody>\n    <tr>\n      <th>0</th>\n      <td>Bob</td>\n      <td>Jan</td>\n      <td>Week 1</td>\n      <td>291</td>\n    </tr>\n    <tr>\n      <th>1</th>\n      <td>Amy</td>\n      <td>Jan</td>\n      <td>Week 1</td>\n      <td>197</td>\n    </tr>\n    <tr>\n      <th>2</th>\n      <td>Bob</td>\n      <td>Jan</td>\n      <td>Week 2</td>\n      <td>288</td>\n    </tr>\n    <tr>\n      <th>3</th>\n      <td>Amy</td>\n      <td>Jan</td>\n      <td>Week 2</td>\n      <td>189</td>\n    </tr>\n    <tr>\n      <th>4</th>\n      <td>Bob</td>\n      <td>Jan</td>\n      <td>Week 3</td>\n      <td>283</td>\n    </tr>\n  </tbody>\n</table>\n</div>"
     },
     "execution_count": 40,
     "metadata": {},
     "output_type": "execute_result"
    }
   ],
   "source": [
    "weight_loss.head()"
   ],
   "metadata": {
    "collapsed": false,
    "ExecuteTime": {
     "end_time": "2023-09-05T11:23:37.243241Z",
     "start_time": "2023-09-05T11:23:36.131369Z"
    }
   },
   "id": "b40edfb787369524"
  },
  {
   "cell_type": "code",
   "execution_count": 41,
   "outputs": [
    {
     "name": "stdout",
     "output_type": "stream",
     "text": [
      "<class 'pandas.core.frame.DataFrame'>\n",
      "RangeIndex: 32 entries, 0 to 31\n",
      "Data columns (total 4 columns):\n",
      " #   Column  Non-Null Count  Dtype \n",
      "---  ------  --------------  ----- \n",
      " 0   Name    32 non-null     object\n",
      " 1   Month   32 non-null     object\n",
      " 2   Week    32 non-null     object\n",
      " 3   Weight  32 non-null     int64 \n",
      "dtypes: int64(1), object(3)\n",
      "memory usage: 1.1+ KB\n"
     ]
    }
   ],
   "source": [
    "weight_loss.info()"
   ],
   "metadata": {
    "collapsed": false,
    "ExecuteTime": {
     "end_time": "2023-09-05T11:23:37.243562Z",
     "start_time": "2023-09-05T11:23:36.135256Z"
    }
   },
   "id": "3b2cfea4a10e59bf"
  },
  {
   "cell_type": "code",
   "execution_count": 42,
   "outputs": [
    {
     "data": {
      "text/plain": "           Weight\ncount   32.000000\nmean   223.750000\nstd     48.777308\nmin    161.000000\n25%    173.000000\n50%    223.500000\n75%    268.000000\nmax    291.000000",
      "text/html": "<div>\n<style scoped>\n    .dataframe tbody tr th:only-of-type {\n        vertical-align: middle;\n    }\n\n    .dataframe tbody tr th {\n        vertical-align: top;\n    }\n\n    .dataframe thead th {\n        text-align: right;\n    }\n</style>\n<table border=\"1\" class=\"dataframe\">\n  <thead>\n    <tr style=\"text-align: right;\">\n      <th></th>\n      <th>Weight</th>\n    </tr>\n  </thead>\n  <tbody>\n    <tr>\n      <th>count</th>\n      <td>32.000000</td>\n    </tr>\n    <tr>\n      <th>mean</th>\n      <td>223.750000</td>\n    </tr>\n    <tr>\n      <th>std</th>\n      <td>48.777308</td>\n    </tr>\n    <tr>\n      <th>min</th>\n      <td>161.000000</td>\n    </tr>\n    <tr>\n      <th>25%</th>\n      <td>173.000000</td>\n    </tr>\n    <tr>\n      <th>50%</th>\n      <td>223.500000</td>\n    </tr>\n    <tr>\n      <th>75%</th>\n      <td>268.000000</td>\n    </tr>\n    <tr>\n      <th>max</th>\n      <td>291.000000</td>\n    </tr>\n  </tbody>\n</table>\n</div>"
     },
     "execution_count": 42,
     "metadata": {},
     "output_type": "execute_result"
    }
   ],
   "source": [
    "weight_loss.describe()"
   ],
   "metadata": {
    "collapsed": false,
    "ExecuteTime": {
     "end_time": "2023-09-05T11:23:37.244207Z",
     "start_time": "2023-09-05T11:23:36.142453Z"
    }
   },
   "id": "44a72858700f7213"
  },
  {
   "cell_type": "code",
   "execution_count": 43,
   "outputs": [],
   "source": [
    "# 计算减重比例\n",
    "# 传入的是使用name分组后的体重series\n",
    "# 分别为week 1 ～ week 4\n",
    "# x.iloc[0] 为第一周的体重，及原始体重\n",
    "# x为当前周的体重，\n",
    "# 每周累计的减重比例为 x.iloc[0] - x / x.iloc[0]\n",
    "def func(x):\n",
    "    return (x.iloc[0] - x) / x.iloc[0]"
   ],
   "metadata": {
    "collapsed": false,
    "ExecuteTime": {
     "end_time": "2023-09-05T11:23:37.244351Z",
     "start_time": "2023-09-05T11:23:36.151313Z"
    }
   },
   "id": "9af92523375c8e52"
  },
  {
   "cell_type": "code",
   "execution_count": 44,
   "outputs": [
    {
     "name": "stderr",
     "output_type": "stream",
     "text": [
      "/var/folders/b4/glz9zwj572q15bxbv_pxjymm0000gn/T/ipykernel_3300/2840637856.py:3: SettingWithCopyWarning: \n",
      "A value is trying to be set on a copy of a slice from a DataFrame.\n",
      "Try using .loc[row_indexer,col_indexer] = value instead\n",
      "\n",
      "See the caveats in the documentation: https://pandas.pydata.org/pandas-docs/stable/user_guide/indexing.html#returning-a-view-versus-a-copy\n",
      "  data.loc[:,'sub_Weight'] = data.groupby('Name')['Weight'].transform(func)\n"
     ]
    },
    {
     "data": {
      "text/plain": "   Weight  sub_Weight\n0      94    0.000000\n1      99   -0.030300\n2      94   -0.013118\n3      93   -0.008042",
      "text/html": "<div>\n<style scoped>\n    .dataframe tbody tr th:only-of-type {\n        vertical-align: middle;\n    }\n\n    .dataframe tbody tr th {\n        vertical-align: top;\n    }\n\n    .dataframe thead th {\n        text-align: right;\n    }\n</style>\n<table border=\"1\" class=\"dataframe\">\n  <thead>\n    <tr style=\"text-align: right;\">\n      <th></th>\n      <th>Weight</th>\n      <th>sub_Weight</th>\n    </tr>\n  </thead>\n  <tbody>\n    <tr>\n      <th>0</th>\n      <td>94</td>\n      <td>0.000000</td>\n    </tr>\n    <tr>\n      <th>1</th>\n      <td>99</td>\n      <td>-0.030300</td>\n    </tr>\n    <tr>\n      <th>2</th>\n      <td>94</td>\n      <td>-0.013118</td>\n    </tr>\n    <tr>\n      <th>3</th>\n      <td>93</td>\n      <td>-0.008042</td>\n    </tr>\n  </tbody>\n</table>\n</div>"
     },
     "execution_count": 44,
     "metadata": {},
     "output_type": "execute_result"
    }
   ],
   "source": [
    "# 只查询一月分的数据, 验证自定义获取减重比例函数\n",
    "data = weight_loss.query(\"Month == 'Jan'\")\n",
    "data.loc[:,'sub_Weight'] = data.groupby('Name')['Weight'].transform(func)\n",
    "# 分别获取俩人这个月的体重\n",
    "bob_data = data[data['Name'] == 'Bob']\n",
    "bob_data = bob_data.reset_index().loc[:, ['Weight', 'sub_Weight']]\n",
    "amy_data = data[data['Name'] == 'Amy']\n",
    "amy_data = amy_data.reset_index().loc[:, ['Weight', 'sub_Weight']]\n",
    "# 比较俩个人每月减重较多的人\n",
    "bob_data - amy_data"
   ],
   "metadata": {
    "collapsed": false,
    "ExecuteTime": {
     "end_time": "2023-09-05T11:23:37.244873Z",
     "start_time": "2023-09-05T11:23:36.157311Z"
    }
   },
   "id": "43ab4ccf4730a96a"
  },
  {
   "cell_type": "code",
   "execution_count": 45,
   "outputs": [],
   "source": [
    "weight_loss['sub'] = weight_loss.groupby(['Name', 'Month'])['Weight'].transform(func)"
   ],
   "metadata": {
    "collapsed": false,
    "ExecuteTime": {
     "end_time": "2023-09-05T11:23:37.245033Z",
     "start_time": "2023-09-05T11:23:36.168294Z"
    }
   },
   "id": "1986c64347386ade"
  },
  {
   "cell_type": "code",
   "execution_count": 46,
   "outputs": [],
   "source": [
    "bob_data_index = weight_loss.query('Name == \"Bob\" and Week == \"Week 4\"')[['Month', 'sub']].set_index('Month')\n",
    "amy_data_index = weight_loss.query('Name == \"Amy\" and Week == \"Week 4\"')[['Month', 'sub']].set_index('Month')"
   ],
   "metadata": {
    "collapsed": false,
    "ExecuteTime": {
     "end_time": "2023-09-05T11:23:37.245168Z",
     "start_time": "2023-09-05T11:23:36.182168Z"
    }
   },
   "id": "580ddb565abc2bcc"
  },
  {
   "cell_type": "code",
   "execution_count": 47,
   "outputs": [
    {
     "data": {
      "text/plain": "            sub\nMonth          \nJan   -0.008042\nFeb   -0.036470\nMar    0.008778\nApr   -0.010796",
      "text/html": "<div>\n<style scoped>\n    .dataframe tbody tr th:only-of-type {\n        vertical-align: middle;\n    }\n\n    .dataframe tbody tr th {\n        vertical-align: top;\n    }\n\n    .dataframe thead th {\n        text-align: right;\n    }\n</style>\n<table border=\"1\" class=\"dataframe\">\n  <thead>\n    <tr style=\"text-align: right;\">\n      <th></th>\n      <th>sub</th>\n    </tr>\n    <tr>\n      <th>Month</th>\n      <th></th>\n    </tr>\n  </thead>\n  <tbody>\n    <tr>\n      <th>Jan</th>\n      <td>-0.008042</td>\n    </tr>\n    <tr>\n      <th>Feb</th>\n      <td>-0.036470</td>\n    </tr>\n    <tr>\n      <th>Mar</th>\n      <td>0.008778</td>\n    </tr>\n    <tr>\n      <th>Apr</th>\n      <td>-0.010796</td>\n    </tr>\n  </tbody>\n</table>\n</div>"
     },
     "execution_count": 47,
     "metadata": {},
     "output_type": "execute_result"
    }
   ],
   "source": [
    "# 比较结果\n",
    "bob_data_index - amy_data_index"
   ],
   "metadata": {
    "collapsed": false,
    "ExecuteTime": {
     "end_time": "2023-09-05T11:23:37.245590Z",
     "start_time": "2023-09-05T11:23:36.187180Z"
    }
   },
   "id": "7de7172ea02dbfa7"
  },
  {
   "cell_type": "markdown",
   "source": [
    "### 三、过滤函数 filter"
   ],
   "metadata": {
    "collapsed": false
   },
   "id": "ee244fb7c69bbb49"
  },
  {
   "cell_type": "markdown",
   "source": [
    "**filter内需要是返回bool值的函数，可以是内置、自定义、匿名；过滤留下所有True的值**"
   ],
   "metadata": {
    "collapsed": false
   },
   "id": "1be0b8e691394c01"
  },
  {
   "cell_type": "code",
   "execution_count": 48,
   "outputs": [
    {
     "data": {
      "text/plain": "2    156\n3     38\n4     37\n5      5\n1      4\n6      4\nName: size, dtype: int64"
     },
     "execution_count": 48,
     "metadata": {},
     "output_type": "execute_result"
    }
   ],
   "source": [
    "tips['size'].value_counts()"
   ],
   "metadata": {
    "collapsed": false,
    "ExecuteTime": {
     "end_time": "2023-09-05T11:23:37.245911Z",
     "start_time": "2023-09-05T11:23:36.192101Z"
    }
   },
   "id": "a65813f8ff1751bb"
  },
  {
   "cell_type": "code",
   "execution_count": 49,
   "outputs": [
    {
     "data": {
      "text/plain": "     total_bill   tip     sex smoker   day    time  size\n0         16.99  1.01  Female     No   Sun  Dinner     2\n1         10.34  1.66    Male     No   Sun  Dinner     3\n2         21.01  3.50    Male     No   Sun  Dinner     3\n3         23.68  3.31    Male     No   Sun  Dinner     2\n4         24.59  3.61  Female     No   Sun  Dinner     4\n..          ...   ...     ...    ...   ...     ...   ...\n239       29.03  5.92    Male     No   Sat  Dinner     3\n240       27.18  2.00  Female    Yes   Sat  Dinner     2\n241       22.67  2.00    Male    Yes   Sat  Dinner     2\n242       17.82  1.75    Male     No   Sat  Dinner     2\n243       18.78  3.00  Female     No  Thur  Dinner     2\n\n[231 rows x 7 columns]",
      "text/html": "<div>\n<style scoped>\n    .dataframe tbody tr th:only-of-type {\n        vertical-align: middle;\n    }\n\n    .dataframe tbody tr th {\n        vertical-align: top;\n    }\n\n    .dataframe thead th {\n        text-align: right;\n    }\n</style>\n<table border=\"1\" class=\"dataframe\">\n  <thead>\n    <tr style=\"text-align: right;\">\n      <th></th>\n      <th>total_bill</th>\n      <th>tip</th>\n      <th>sex</th>\n      <th>smoker</th>\n      <th>day</th>\n      <th>time</th>\n      <th>size</th>\n    </tr>\n  </thead>\n  <tbody>\n    <tr>\n      <th>0</th>\n      <td>16.99</td>\n      <td>1.01</td>\n      <td>Female</td>\n      <td>No</td>\n      <td>Sun</td>\n      <td>Dinner</td>\n      <td>2</td>\n    </tr>\n    <tr>\n      <th>1</th>\n      <td>10.34</td>\n      <td>1.66</td>\n      <td>Male</td>\n      <td>No</td>\n      <td>Sun</td>\n      <td>Dinner</td>\n      <td>3</td>\n    </tr>\n    <tr>\n      <th>2</th>\n      <td>21.01</td>\n      <td>3.50</td>\n      <td>Male</td>\n      <td>No</td>\n      <td>Sun</td>\n      <td>Dinner</td>\n      <td>3</td>\n    </tr>\n    <tr>\n      <th>3</th>\n      <td>23.68</td>\n      <td>3.31</td>\n      <td>Male</td>\n      <td>No</td>\n      <td>Sun</td>\n      <td>Dinner</td>\n      <td>2</td>\n    </tr>\n    <tr>\n      <th>4</th>\n      <td>24.59</td>\n      <td>3.61</td>\n      <td>Female</td>\n      <td>No</td>\n      <td>Sun</td>\n      <td>Dinner</td>\n      <td>4</td>\n    </tr>\n    <tr>\n      <th>...</th>\n      <td>...</td>\n      <td>...</td>\n      <td>...</td>\n      <td>...</td>\n      <td>...</td>\n      <td>...</td>\n      <td>...</td>\n    </tr>\n    <tr>\n      <th>239</th>\n      <td>29.03</td>\n      <td>5.92</td>\n      <td>Male</td>\n      <td>No</td>\n      <td>Sat</td>\n      <td>Dinner</td>\n      <td>3</td>\n    </tr>\n    <tr>\n      <th>240</th>\n      <td>27.18</td>\n      <td>2.00</td>\n      <td>Female</td>\n      <td>Yes</td>\n      <td>Sat</td>\n      <td>Dinner</td>\n      <td>2</td>\n    </tr>\n    <tr>\n      <th>241</th>\n      <td>22.67</td>\n      <td>2.00</td>\n      <td>Male</td>\n      <td>Yes</td>\n      <td>Sat</td>\n      <td>Dinner</td>\n      <td>2</td>\n    </tr>\n    <tr>\n      <th>242</th>\n      <td>17.82</td>\n      <td>1.75</td>\n      <td>Male</td>\n      <td>No</td>\n      <td>Sat</td>\n      <td>Dinner</td>\n      <td>2</td>\n    </tr>\n    <tr>\n      <th>243</th>\n      <td>18.78</td>\n      <td>3.00</td>\n      <td>Female</td>\n      <td>No</td>\n      <td>Thur</td>\n      <td>Dinner</td>\n      <td>2</td>\n    </tr>\n  </tbody>\n</table>\n<p>231 rows × 7 columns</p>\n</div>"
     },
     "execution_count": 49,
     "metadata": {},
     "output_type": "execute_result"
    }
   ],
   "source": [
    "# 过滤size count大于5的数据\n",
    "tips.groupby('size').filter(lambda x:x['size'].count() > 5)"
   ],
   "metadata": {
    "collapsed": false,
    "ExecuteTime": {
     "end_time": "2023-09-05T11:23:37.246457Z",
     "start_time": "2023-09-05T11:23:36.197046Z"
    }
   },
   "id": "2da235777c6ac976"
  },
  {
   "cell_type": "code",
   "execution_count": 49,
   "outputs": [],
   "source": [],
   "metadata": {
    "collapsed": false,
    "ExecuteTime": {
     "end_time": "2023-09-05T11:23:37.246599Z",
     "start_time": "2023-09-05T11:23:36.206543Z"
    }
   },
   "id": "3250e4fcce622e0f"
  }
 ],
 "metadata": {
  "kernelspec": {
   "display_name": "Python 3 (ipykernel)",
   "language": "python",
   "name": "python3"
  },
  "language_info": {
   "codemirror_mode": {
    "name": "ipython",
    "version": 3
   },
   "file_extension": ".py",
   "mimetype": "text/x-python",
   "name": "python",
   "nbconvert_exporter": "python",
   "pygments_lexer": "ipython3",
   "version": "3.11.4"
  }
 },
 "nbformat": 4,
 "nbformat_minor": 5
}
