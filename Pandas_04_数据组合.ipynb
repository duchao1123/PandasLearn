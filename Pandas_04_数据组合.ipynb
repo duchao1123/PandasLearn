{
 "cells": [
  {
   "cell_type": "code",
   "execution_count": 1,
   "id": "initial_id",
   "metadata": {
    "collapsed": true,
    "ExecuteTime": {
     "end_time": "2023-09-02T00:58:01.739530Z",
     "start_time": "2023-09-02T00:58:01.332605Z"
    }
   },
   "outputs": [],
   "source": [
    "import pandas as pd"
   ]
  },
  {
   "cell_type": "markdown",
   "source": [
    "## 数据组合（类似于SQL join）\n",
    "- concat：连接"
   ],
   "metadata": {
    "collapsed": false
   },
   "id": "f84177c0014c1c45"
  },
  {
   "cell_type": "markdown",
   "source": [
    "### 一、concat 适用：行名、列名一样"
   ],
   "metadata": {
    "collapsed": false
   },
   "id": "f168b6b74d2aee31"
  },
  {
   "cell_type": "code",
   "execution_count": 4,
   "outputs": [],
   "source": [
    "df1 = pd.read_csv('./data/concat_1.csv')\n",
    "df2 = pd.read_csv('./data/concat_2.csv')\n",
    "df3 = pd.read_csv('./data/concat_3.csv')"
   ],
   "metadata": {
    "collapsed": false,
    "ExecuteTime": {
     "end_time": "2023-09-02T02:09:42.973951Z",
     "start_time": "2023-09-02T02:09:42.856385Z"
    }
   },
   "id": "66f969444635dee8"
  },
  {
   "cell_type": "markdown",
   "source": [
    "#### 1.1 按行拼接(拼接一行、多行数据)"
   ],
   "metadata": {
    "collapsed": false
   },
   "id": "ee4fadd5fdb26224"
  },
  {
   "cell_type": "code",
   "execution_count": 5,
   "outputs": [
    {
     "data": {
      "text/plain": "     A    B    C    D\n0   a0   b0   c0   d0\n1   a1   b1   c1   d1\n2   a2   b2   c2   d2\n3   a3   b3   c3   d3\n0   a4   b4   c4   d4\n1   a5   b5   c5   d5\n2   a6   b6   c6   d6\n3   a7   b7   c7   d7\n0   a8   b8   c8   d8\n1   a9   b9   c9   d9\n2  a10  b10  c10  d10\n3  a11  b11  c11  d11",
      "text/html": "<div>\n<style scoped>\n    .dataframe tbody tr th:only-of-type {\n        vertical-align: middle;\n    }\n\n    .dataframe tbody tr th {\n        vertical-align: top;\n    }\n\n    .dataframe thead th {\n        text-align: right;\n    }\n</style>\n<table border=\"1\" class=\"dataframe\">\n  <thead>\n    <tr style=\"text-align: right;\">\n      <th></th>\n      <th>A</th>\n      <th>B</th>\n      <th>C</th>\n      <th>D</th>\n    </tr>\n  </thead>\n  <tbody>\n    <tr>\n      <th>0</th>\n      <td>a0</td>\n      <td>b0</td>\n      <td>c0</td>\n      <td>d0</td>\n    </tr>\n    <tr>\n      <th>1</th>\n      <td>a1</td>\n      <td>b1</td>\n      <td>c1</td>\n      <td>d1</td>\n    </tr>\n    <tr>\n      <th>2</th>\n      <td>a2</td>\n      <td>b2</td>\n      <td>c2</td>\n      <td>d2</td>\n    </tr>\n    <tr>\n      <th>3</th>\n      <td>a3</td>\n      <td>b3</td>\n      <td>c3</td>\n      <td>d3</td>\n    </tr>\n    <tr>\n      <th>0</th>\n      <td>a4</td>\n      <td>b4</td>\n      <td>c4</td>\n      <td>d4</td>\n    </tr>\n    <tr>\n      <th>1</th>\n      <td>a5</td>\n      <td>b5</td>\n      <td>c5</td>\n      <td>d5</td>\n    </tr>\n    <tr>\n      <th>2</th>\n      <td>a6</td>\n      <td>b6</td>\n      <td>c6</td>\n      <td>d6</td>\n    </tr>\n    <tr>\n      <th>3</th>\n      <td>a7</td>\n      <td>b7</td>\n      <td>c7</td>\n      <td>d7</td>\n    </tr>\n    <tr>\n      <th>0</th>\n      <td>a8</td>\n      <td>b8</td>\n      <td>c8</td>\n      <td>d8</td>\n    </tr>\n    <tr>\n      <th>1</th>\n      <td>a9</td>\n      <td>b9</td>\n      <td>c9</td>\n      <td>d9</td>\n    </tr>\n    <tr>\n      <th>2</th>\n      <td>a10</td>\n      <td>b10</td>\n      <td>c10</td>\n      <td>d10</td>\n    </tr>\n    <tr>\n      <th>3</th>\n      <td>a11</td>\n      <td>b11</td>\n      <td>c11</td>\n      <td>d11</td>\n    </tr>\n  </tbody>\n</table>\n</div>"
     },
     "execution_count": 5,
     "metadata": {},
     "output_type": "execute_result"
    }
   ],
   "source": [
    "pd.concat([df1, df2, df3], axis='index')"
   ],
   "metadata": {
    "collapsed": false,
    "ExecuteTime": {
     "end_time": "2023-09-02T02:10:11.281843Z",
     "start_time": "2023-09-02T02:10:11.158259Z"
    }
   },
   "id": "da4e18ab3b8b10c5"
  },
  {
   "cell_type": "markdown",
   "source": [
    "#### ignore_index重新生成索引"
   ],
   "metadata": {
    "collapsed": false
   },
   "id": "fea390233e65787e"
  },
  {
   "cell_type": "code",
   "execution_count": 9,
   "outputs": [
    {
     "data": {
      "text/plain": "      A    B    C    D\n0    a0   b0   c0   d0\n1    a1   b1   c1   d1\n2    a2   b2   c2   d2\n3    a3   b3   c3   d3\n4    a4   b4   c4   d4\n5    a5   b5   c5   d5\n6    a6   b6   c6   d6\n7    a7   b7   c7   d7\n8    a8   b8   c8   d8\n9    a9   b9   c9   d9\n10  a10  b10  c10  d10\n11  a11  b11  c11  d11",
      "text/html": "<div>\n<style scoped>\n    .dataframe tbody tr th:only-of-type {\n        vertical-align: middle;\n    }\n\n    .dataframe tbody tr th {\n        vertical-align: top;\n    }\n\n    .dataframe thead th {\n        text-align: right;\n    }\n</style>\n<table border=\"1\" class=\"dataframe\">\n  <thead>\n    <tr style=\"text-align: right;\">\n      <th></th>\n      <th>A</th>\n      <th>B</th>\n      <th>C</th>\n      <th>D</th>\n    </tr>\n  </thead>\n  <tbody>\n    <tr>\n      <th>0</th>\n      <td>a0</td>\n      <td>b0</td>\n      <td>c0</td>\n      <td>d0</td>\n    </tr>\n    <tr>\n      <th>1</th>\n      <td>a1</td>\n      <td>b1</td>\n      <td>c1</td>\n      <td>d1</td>\n    </tr>\n    <tr>\n      <th>2</th>\n      <td>a2</td>\n      <td>b2</td>\n      <td>c2</td>\n      <td>d2</td>\n    </tr>\n    <tr>\n      <th>3</th>\n      <td>a3</td>\n      <td>b3</td>\n      <td>c3</td>\n      <td>d3</td>\n    </tr>\n    <tr>\n      <th>4</th>\n      <td>a4</td>\n      <td>b4</td>\n      <td>c4</td>\n      <td>d4</td>\n    </tr>\n    <tr>\n      <th>5</th>\n      <td>a5</td>\n      <td>b5</td>\n      <td>c5</td>\n      <td>d5</td>\n    </tr>\n    <tr>\n      <th>6</th>\n      <td>a6</td>\n      <td>b6</td>\n      <td>c6</td>\n      <td>d6</td>\n    </tr>\n    <tr>\n      <th>7</th>\n      <td>a7</td>\n      <td>b7</td>\n      <td>c7</td>\n      <td>d7</td>\n    </tr>\n    <tr>\n      <th>8</th>\n      <td>a8</td>\n      <td>b8</td>\n      <td>c8</td>\n      <td>d8</td>\n    </tr>\n    <tr>\n      <th>9</th>\n      <td>a9</td>\n      <td>b9</td>\n      <td>c9</td>\n      <td>d9</td>\n    </tr>\n    <tr>\n      <th>10</th>\n      <td>a10</td>\n      <td>b10</td>\n      <td>c10</td>\n      <td>d10</td>\n    </tr>\n    <tr>\n      <th>11</th>\n      <td>a11</td>\n      <td>b11</td>\n      <td>c11</td>\n      <td>d11</td>\n    </tr>\n  </tbody>\n</table>\n</div>"
     },
     "execution_count": 9,
     "metadata": {},
     "output_type": "execute_result"
    }
   ],
   "source": [
    "pd.concat([df1, df2, df3], axis='index', ignore_index=True)"
   ],
   "metadata": {
    "collapsed": false,
    "ExecuteTime": {
     "end_time": "2023-09-02T02:22:22.574548Z",
     "start_time": "2023-09-02T02:22:22.431182Z"
    }
   },
   "id": "62983b25fc372463"
  },
  {
   "cell_type": "markdown",
   "source": [
    "#### 行列名匹配原则\n",
    "- 拼接行时，按列名放置，如果列名不同，会出现新列，其他没有匹配的列出现nan；\n",
    "- 拼接列时，按行名放置.."
   ],
   "metadata": {
    "collapsed": false
   },
   "id": "6ca71a116d656a5e"
  },
  {
   "cell_type": "code",
   "execution_count": 10,
   "outputs": [
    {
     "data": {
      "text/plain": "     E    A    B    C    D\n0   aa  NaN  NaN  NaN  NaN\n1   bb  NaN  NaN  NaN  NaN\n2   cc  NaN  NaN  NaN  NaN\n3   dd  NaN  NaN  NaN  NaN\n0  NaN   a0   b0   c0   d0\n1  NaN   a1   b1   c1   d1\n2  NaN   a2   b2   c2   d2\n3  NaN   a3   b3   c3   d3\n0  NaN   a4   b4   c4   d4\n1  NaN   a5   b5   c5   d5\n2  NaN   a6   b6   c6   d6\n3  NaN   a7   b7   c7   d7\n0  NaN   a8   b8   c8   d8\n1  NaN   a9   b9   c9   d9\n2  NaN  a10  b10  c10  d10\n3  NaN  a11  b11  c11  d11",
      "text/html": "<div>\n<style scoped>\n    .dataframe tbody tr th:only-of-type {\n        vertical-align: middle;\n    }\n\n    .dataframe tbody tr th {\n        vertical-align: top;\n    }\n\n    .dataframe thead th {\n        text-align: right;\n    }\n</style>\n<table border=\"1\" class=\"dataframe\">\n  <thead>\n    <tr style=\"text-align: right;\">\n      <th></th>\n      <th>E</th>\n      <th>A</th>\n      <th>B</th>\n      <th>C</th>\n      <th>D</th>\n    </tr>\n  </thead>\n  <tbody>\n    <tr>\n      <th>0</th>\n      <td>aa</td>\n      <td>NaN</td>\n      <td>NaN</td>\n      <td>NaN</td>\n      <td>NaN</td>\n    </tr>\n    <tr>\n      <th>1</th>\n      <td>bb</td>\n      <td>NaN</td>\n      <td>NaN</td>\n      <td>NaN</td>\n      <td>NaN</td>\n    </tr>\n    <tr>\n      <th>2</th>\n      <td>cc</td>\n      <td>NaN</td>\n      <td>NaN</td>\n      <td>NaN</td>\n      <td>NaN</td>\n    </tr>\n    <tr>\n      <th>3</th>\n      <td>dd</td>\n      <td>NaN</td>\n      <td>NaN</td>\n      <td>NaN</td>\n      <td>NaN</td>\n    </tr>\n    <tr>\n      <th>0</th>\n      <td>NaN</td>\n      <td>a0</td>\n      <td>b0</td>\n      <td>c0</td>\n      <td>d0</td>\n    </tr>\n    <tr>\n      <th>1</th>\n      <td>NaN</td>\n      <td>a1</td>\n      <td>b1</td>\n      <td>c1</td>\n      <td>d1</td>\n    </tr>\n    <tr>\n      <th>2</th>\n      <td>NaN</td>\n      <td>a2</td>\n      <td>b2</td>\n      <td>c2</td>\n      <td>d2</td>\n    </tr>\n    <tr>\n      <th>3</th>\n      <td>NaN</td>\n      <td>a3</td>\n      <td>b3</td>\n      <td>c3</td>\n      <td>d3</td>\n    </tr>\n    <tr>\n      <th>0</th>\n      <td>NaN</td>\n      <td>a4</td>\n      <td>b4</td>\n      <td>c4</td>\n      <td>d4</td>\n    </tr>\n    <tr>\n      <th>1</th>\n      <td>NaN</td>\n      <td>a5</td>\n      <td>b5</td>\n      <td>c5</td>\n      <td>d5</td>\n    </tr>\n    <tr>\n      <th>2</th>\n      <td>NaN</td>\n      <td>a6</td>\n      <td>b6</td>\n      <td>c6</td>\n      <td>d6</td>\n    </tr>\n    <tr>\n      <th>3</th>\n      <td>NaN</td>\n      <td>a7</td>\n      <td>b7</td>\n      <td>c7</td>\n      <td>d7</td>\n    </tr>\n    <tr>\n      <th>0</th>\n      <td>NaN</td>\n      <td>a8</td>\n      <td>b8</td>\n      <td>c8</td>\n      <td>d8</td>\n    </tr>\n    <tr>\n      <th>1</th>\n      <td>NaN</td>\n      <td>a9</td>\n      <td>b9</td>\n      <td>c9</td>\n      <td>d9</td>\n    </tr>\n    <tr>\n      <th>2</th>\n      <td>NaN</td>\n      <td>a10</td>\n      <td>b10</td>\n      <td>c10</td>\n      <td>d10</td>\n    </tr>\n    <tr>\n      <th>3</th>\n      <td>NaN</td>\n      <td>a11</td>\n      <td>b11</td>\n      <td>c11</td>\n      <td>d11</td>\n    </tr>\n  </tbody>\n</table>\n</div>"
     },
     "execution_count": 10,
     "metadata": {},
     "output_type": "execute_result"
    }
   ],
   "source": [
    "df4 = pd.DataFrame([['aa'], ['bb'], ['cc'], ['dd']], columns=['E'])\n",
    "pd.concat([df4, df1, df2, df3], axis='index')"
   ],
   "metadata": {
    "collapsed": false,
    "ExecuteTime": {
     "end_time": "2023-09-02T02:22:29.978283Z",
     "start_time": "2023-09-02T02:22:29.796049Z"
    }
   },
   "id": "7aa70f7546c25579"
  },
  {
   "cell_type": "markdown",
   "source": [
    "#### 1.2 按列拼接(拼接一列、多列数据)"
   ],
   "metadata": {
    "collapsed": false
   },
   "id": "1f00e0aba6cd51fa"
  },
  {
   "cell_type": "code",
   "execution_count": 8,
   "outputs": [
    {
     "data": {
      "text/plain": "    A   B   C   D   A   B   C   D    A    B    C    D\n0  a0  b0  c0  d0  a4  b4  c4  d4   a8   b8   c8   d8\n1  a1  b1  c1  d1  a5  b5  c5  d5   a9   b9   c9   d9\n2  a2  b2  c2  d2  a6  b6  c6  d6  a10  b10  c10  d10\n3  a3  b3  c3  d3  a7  b7  c7  d7  a11  b11  c11  d11",
      "text/html": "<div>\n<style scoped>\n    .dataframe tbody tr th:only-of-type {\n        vertical-align: middle;\n    }\n\n    .dataframe tbody tr th {\n        vertical-align: top;\n    }\n\n    .dataframe thead th {\n        text-align: right;\n    }\n</style>\n<table border=\"1\" class=\"dataframe\">\n  <thead>\n    <tr style=\"text-align: right;\">\n      <th></th>\n      <th>A</th>\n      <th>B</th>\n      <th>C</th>\n      <th>D</th>\n      <th>A</th>\n      <th>B</th>\n      <th>C</th>\n      <th>D</th>\n      <th>A</th>\n      <th>B</th>\n      <th>C</th>\n      <th>D</th>\n    </tr>\n  </thead>\n  <tbody>\n    <tr>\n      <th>0</th>\n      <td>a0</td>\n      <td>b0</td>\n      <td>c0</td>\n      <td>d0</td>\n      <td>a4</td>\n      <td>b4</td>\n      <td>c4</td>\n      <td>d4</td>\n      <td>a8</td>\n      <td>b8</td>\n      <td>c8</td>\n      <td>d8</td>\n    </tr>\n    <tr>\n      <th>1</th>\n      <td>a1</td>\n      <td>b1</td>\n      <td>c1</td>\n      <td>d1</td>\n      <td>a5</td>\n      <td>b5</td>\n      <td>c5</td>\n      <td>d5</td>\n      <td>a9</td>\n      <td>b9</td>\n      <td>c9</td>\n      <td>d9</td>\n    </tr>\n    <tr>\n      <th>2</th>\n      <td>a2</td>\n      <td>b2</td>\n      <td>c2</td>\n      <td>d2</td>\n      <td>a6</td>\n      <td>b6</td>\n      <td>c6</td>\n      <td>d6</td>\n      <td>a10</td>\n      <td>b10</td>\n      <td>c10</td>\n      <td>d10</td>\n    </tr>\n    <tr>\n      <th>3</th>\n      <td>a3</td>\n      <td>b3</td>\n      <td>c3</td>\n      <td>d3</td>\n      <td>a7</td>\n      <td>b7</td>\n      <td>c7</td>\n      <td>d7</td>\n      <td>a11</td>\n      <td>b11</td>\n      <td>c11</td>\n      <td>d11</td>\n    </tr>\n  </tbody>\n</table>\n</div>"
     },
     "execution_count": 8,
     "metadata": {},
     "output_type": "execute_result"
    }
   ],
   "source": [
    "pd.concat([df1, df2, df3], axis='columns')"
   ],
   "metadata": {
    "collapsed": false,
    "ExecuteTime": {
     "end_time": "2023-09-02T02:19:36.665559Z",
     "start_time": "2023-09-02T02:19:36.532998Z"
    }
   },
   "id": "10f751a794b89e61"
  },
  {
   "cell_type": "markdown",
   "source": [
    "### 二、merge 适用：值一样"
   ],
   "metadata": {
    "collapsed": false
   },
   "id": "1dceca31f07e5de8"
  },
  {
   "cell_type": "code",
   "execution_count": 12,
   "outputs": [
    {
     "data": {
      "text/plain": "   TrackId                                     Name  AlbumId  MediaTypeId  \\\n0        1  For Those About To Rock (We Salute You)        1            1   \n1        2                        Balls to the Wall        2            2   \n2        3                          Fast As a Shark        3            2   \n3        4                        Restless and Wild        3            2   \n4        5                     Princess of the Dawn        3            2   \n\n   GenreId                                           Composer  Milliseconds  \\\n0        1          Angus Young, Malcolm Young, Brian Johnson        343719   \n1        1                                               None        342562   \n2        1  F. Baltes, S. Kaufman, U. Dirkscneider & W. Ho...        230619   \n3        1  F. Baltes, R.A. Smith-Diesel, S. Kaufman, U. D...        252051   \n4        1                         Deaffy & R.A. Smith-Diesel        375418   \n\n      Bytes  UnitPrice  \n0  11170334       0.99  \n1   5510424       0.99  \n2   3990994       0.99  \n3   4331779       0.99  \n4   6290521       0.99  ",
      "text/html": "<div>\n<style scoped>\n    .dataframe tbody tr th:only-of-type {\n        vertical-align: middle;\n    }\n\n    .dataframe tbody tr th {\n        vertical-align: top;\n    }\n\n    .dataframe thead th {\n        text-align: right;\n    }\n</style>\n<table border=\"1\" class=\"dataframe\">\n  <thead>\n    <tr style=\"text-align: right;\">\n      <th></th>\n      <th>TrackId</th>\n      <th>Name</th>\n      <th>AlbumId</th>\n      <th>MediaTypeId</th>\n      <th>GenreId</th>\n      <th>Composer</th>\n      <th>Milliseconds</th>\n      <th>Bytes</th>\n      <th>UnitPrice</th>\n    </tr>\n  </thead>\n  <tbody>\n    <tr>\n      <th>0</th>\n      <td>1</td>\n      <td>For Those About To Rock (We Salute You)</td>\n      <td>1</td>\n      <td>1</td>\n      <td>1</td>\n      <td>Angus Young, Malcolm Young, Brian Johnson</td>\n      <td>343719</td>\n      <td>11170334</td>\n      <td>0.99</td>\n    </tr>\n    <tr>\n      <th>1</th>\n      <td>2</td>\n      <td>Balls to the Wall</td>\n      <td>2</td>\n      <td>2</td>\n      <td>1</td>\n      <td>None</td>\n      <td>342562</td>\n      <td>5510424</td>\n      <td>0.99</td>\n    </tr>\n    <tr>\n      <th>2</th>\n      <td>3</td>\n      <td>Fast As a Shark</td>\n      <td>3</td>\n      <td>2</td>\n      <td>1</td>\n      <td>F. Baltes, S. Kaufman, U. Dirkscneider &amp; W. Ho...</td>\n      <td>230619</td>\n      <td>3990994</td>\n      <td>0.99</td>\n    </tr>\n    <tr>\n      <th>3</th>\n      <td>4</td>\n      <td>Restless and Wild</td>\n      <td>3</td>\n      <td>2</td>\n      <td>1</td>\n      <td>F. Baltes, R.A. Smith-Diesel, S. Kaufman, U. D...</td>\n      <td>252051</td>\n      <td>4331779</td>\n      <td>0.99</td>\n    </tr>\n    <tr>\n      <th>4</th>\n      <td>5</td>\n      <td>Princess of the Dawn</td>\n      <td>3</td>\n      <td>2</td>\n      <td>1</td>\n      <td>Deaffy &amp; R.A. Smith-Diesel</td>\n      <td>375418</td>\n      <td>6290521</td>\n      <td>0.99</td>\n    </tr>\n  </tbody>\n</table>\n</div>"
     },
     "execution_count": 12,
     "metadata": {},
     "output_type": "execute_result"
    }
   ],
   "source": [
    "# 数据准备\n",
    "import sqlite3 as sq\n",
    "con = sq.connect('./data/chinook.db')\n",
    "tracks = pd.read_sql_query(\"select * from tracks\", con)\n",
    "tracks.head()"
   ],
   "metadata": {
    "collapsed": false,
    "ExecuteTime": {
     "end_time": "2023-09-02T02:26:26.588646Z",
     "start_time": "2023-09-02T02:26:26.407391Z"
    }
   },
   "id": "eaeb1851f042460e"
  },
  {
   "cell_type": "code",
   "execution_count": 13,
   "outputs": [
    {
     "data": {
      "text/plain": "   GenreId                Name\n0        1                Rock\n1        2                Jazz\n2        3               Metal\n3        4  Alternative & Punk\n4        5       Rock And Roll",
      "text/html": "<div>\n<style scoped>\n    .dataframe tbody tr th:only-of-type {\n        vertical-align: middle;\n    }\n\n    .dataframe tbody tr th {\n        vertical-align: top;\n    }\n\n    .dataframe thead th {\n        text-align: right;\n    }\n</style>\n<table border=\"1\" class=\"dataframe\">\n  <thead>\n    <tr style=\"text-align: right;\">\n      <th></th>\n      <th>GenreId</th>\n      <th>Name</th>\n    </tr>\n  </thead>\n  <tbody>\n    <tr>\n      <th>0</th>\n      <td>1</td>\n      <td>Rock</td>\n    </tr>\n    <tr>\n      <th>1</th>\n      <td>2</td>\n      <td>Jazz</td>\n    </tr>\n    <tr>\n      <th>2</th>\n      <td>3</td>\n      <td>Metal</td>\n    </tr>\n    <tr>\n      <th>3</th>\n      <td>4</td>\n      <td>Alternative &amp; Punk</td>\n    </tr>\n    <tr>\n      <th>4</th>\n      <td>5</td>\n      <td>Rock And Roll</td>\n    </tr>\n  </tbody>\n</table>\n</div>"
     },
     "execution_count": 13,
     "metadata": {},
     "output_type": "execute_result"
    }
   ],
   "source": [
    "genres = pd.read_sql_query(\"select * from genres\", con)\n",
    "genres.head()"
   ],
   "metadata": {
    "collapsed": false,
    "ExecuteTime": {
     "end_time": "2023-09-02T02:30:53.867801Z",
     "start_time": "2023-09-02T02:30:53.695889Z"
    }
   },
   "id": "170a3aaee20173c8"
  },
  {
   "cell_type": "code",
   "execution_count": 14,
   "outputs": [
    {
     "data": {
      "text/plain": "     TrackId                                     Name  AlbumId  MediaTypeId  \\\n0          1  For Those About To Rock (We Salute You)        1            1   \n62        63                               Desafinado        8            1   \n76        77                            Enter Sandman        9            1   \n98        99                       Your Time Has Come       11            1   \n110      111                                    Money       12            1   \n193      194               First Time I Met The Blues       20            1   \n204      205                       Jorge Da Capadócia       21            1   \n281      282                                 Girassol       26            1   \n322      323           Dig-Dig, Lambe-Lambe (Ao Vivo)       29            1   \n359      360                             Vai-Vai 2001       32            1   \n\n     GenreId                                           Composer  Milliseconds  \\\n0          1          Angus Young, Malcolm Young, Brian Johnson        343719   \n62         2                                               None        185338   \n76         3                                       Apocalyptica        221701   \n98         4                 Cornell, Commerford, Morello, Wilk        255529   \n110        5                    Berry Gordy, Jr./Janie Bradford        147591   \n193        6                                 Eurreal Montgomery        140434   \n204        7                                          Jorge Ben        177397   \n281        8  Bino Farias/Da Gama/Lazão/Pedro Luis/Toni Garrido        249808   \n322        9     Cassiano Costa/Cintia Maviane/J.F./Lucas Costa        205479   \n359       10                                               None        276349   \n\n        Bytes  UnitPrice  \n0    11170334       0.99  \n62    5990473       0.99  \n76    7286305       0.99  \n98    8273592       0.99  \n110   2365897       0.99  \n193   4604995       0.99  \n204   5842196       0.99  \n281   8327676       0.99  \n322   6892516       0.99  \n359   9402241       0.99  ",
      "text/html": "<div>\n<style scoped>\n    .dataframe tbody tr th:only-of-type {\n        vertical-align: middle;\n    }\n\n    .dataframe tbody tr th {\n        vertical-align: top;\n    }\n\n    .dataframe thead th {\n        text-align: right;\n    }\n</style>\n<table border=\"1\" class=\"dataframe\">\n  <thead>\n    <tr style=\"text-align: right;\">\n      <th></th>\n      <th>TrackId</th>\n      <th>Name</th>\n      <th>AlbumId</th>\n      <th>MediaTypeId</th>\n      <th>GenreId</th>\n      <th>Composer</th>\n      <th>Milliseconds</th>\n      <th>Bytes</th>\n      <th>UnitPrice</th>\n    </tr>\n  </thead>\n  <tbody>\n    <tr>\n      <th>0</th>\n      <td>1</td>\n      <td>For Those About To Rock (We Salute You)</td>\n      <td>1</td>\n      <td>1</td>\n      <td>1</td>\n      <td>Angus Young, Malcolm Young, Brian Johnson</td>\n      <td>343719</td>\n      <td>11170334</td>\n      <td>0.99</td>\n    </tr>\n    <tr>\n      <th>62</th>\n      <td>63</td>\n      <td>Desafinado</td>\n      <td>8</td>\n      <td>1</td>\n      <td>2</td>\n      <td>None</td>\n      <td>185338</td>\n      <td>5990473</td>\n      <td>0.99</td>\n    </tr>\n    <tr>\n      <th>76</th>\n      <td>77</td>\n      <td>Enter Sandman</td>\n      <td>9</td>\n      <td>1</td>\n      <td>3</td>\n      <td>Apocalyptica</td>\n      <td>221701</td>\n      <td>7286305</td>\n      <td>0.99</td>\n    </tr>\n    <tr>\n      <th>98</th>\n      <td>99</td>\n      <td>Your Time Has Come</td>\n      <td>11</td>\n      <td>1</td>\n      <td>4</td>\n      <td>Cornell, Commerford, Morello, Wilk</td>\n      <td>255529</td>\n      <td>8273592</td>\n      <td>0.99</td>\n    </tr>\n    <tr>\n      <th>110</th>\n      <td>111</td>\n      <td>Money</td>\n      <td>12</td>\n      <td>1</td>\n      <td>5</td>\n      <td>Berry Gordy, Jr./Janie Bradford</td>\n      <td>147591</td>\n      <td>2365897</td>\n      <td>0.99</td>\n    </tr>\n    <tr>\n      <th>193</th>\n      <td>194</td>\n      <td>First Time I Met The Blues</td>\n      <td>20</td>\n      <td>1</td>\n      <td>6</td>\n      <td>Eurreal Montgomery</td>\n      <td>140434</td>\n      <td>4604995</td>\n      <td>0.99</td>\n    </tr>\n    <tr>\n      <th>204</th>\n      <td>205</td>\n      <td>Jorge Da Capadócia</td>\n      <td>21</td>\n      <td>1</td>\n      <td>7</td>\n      <td>Jorge Ben</td>\n      <td>177397</td>\n      <td>5842196</td>\n      <td>0.99</td>\n    </tr>\n    <tr>\n      <th>281</th>\n      <td>282</td>\n      <td>Girassol</td>\n      <td>26</td>\n      <td>1</td>\n      <td>8</td>\n      <td>Bino Farias/Da Gama/Lazão/Pedro Luis/Toni Garrido</td>\n      <td>249808</td>\n      <td>8327676</td>\n      <td>0.99</td>\n    </tr>\n    <tr>\n      <th>322</th>\n      <td>323</td>\n      <td>Dig-Dig, Lambe-Lambe (Ao Vivo)</td>\n      <td>29</td>\n      <td>1</td>\n      <td>9</td>\n      <td>Cassiano Costa/Cintia Maviane/J.F./Lucas Costa</td>\n      <td>205479</td>\n      <td>6892516</td>\n      <td>0.99</td>\n    </tr>\n    <tr>\n      <th>359</th>\n      <td>360</td>\n      <td>Vai-Vai 2001</td>\n      <td>32</td>\n      <td>1</td>\n      <td>10</td>\n      <td>None</td>\n      <td>276349</td>\n      <td>9402241</td>\n      <td>0.99</td>\n    </tr>\n  </tbody>\n</table>\n</div>"
     },
     "execution_count": 14,
     "metadata": {},
     "output_type": "execute_result"
    }
   ],
   "source": [
    "# 取出部分行\n",
    "tracks_subset = tracks.loc[[0, 62, 76, 98, 110, 193, 204, 281, 322, 359],]\n",
    "tracks_subset"
   ],
   "metadata": {
    "collapsed": false,
    "ExecuteTime": {
     "end_time": "2023-09-02T02:34:36.583689Z",
     "start_time": "2023-09-02T02:34:36.417803Z"
    }
   },
   "id": "ccfa89be453055a1"
  },
  {
   "cell_type": "markdown",
   "source": [
    "#### 1、参数how，决定连接方式\n",
    "- inner 交集\n",
    "- outer 并集\n",
    "- left 左外链接\n",
    "- right 右外链接"
   ],
   "metadata": {
    "collapsed": false
   },
   "id": "6c98c2b46b75f7f3"
  },
  {
   "cell_type": "markdown",
   "source": [
    "##### 1.1、inner（交集）"
   ],
   "metadata": {
    "collapsed": false
   },
   "id": "13db5aa884a825d5"
  },
  {
   "cell_type": "code",
   "execution_count": 16,
   "outputs": [
    {
     "data": {
      "text/plain": "   GenreId              Name_x  TrackId  \\\n0        1                Rock        1   \n1        2                Jazz       63   \n2        3               Metal       77   \n3        4  Alternative & Punk       99   \n4        5       Rock And Roll      111   \n5        6               Blues      194   \n6        7               Latin      205   \n7        8              Reggae      282   \n8        9                 Pop      323   \n9       10          Soundtrack      360   \n\n                                    Name_y  AlbumId  MediaTypeId  \\\n0  For Those About To Rock (We Salute You)        1            1   \n1                               Desafinado        8            1   \n2                            Enter Sandman        9            1   \n3                       Your Time Has Come       11            1   \n4                                    Money       12            1   \n5               First Time I Met The Blues       20            1   \n6                       Jorge Da Capadócia       21            1   \n7                                 Girassol       26            1   \n8           Dig-Dig, Lambe-Lambe (Ao Vivo)       29            1   \n9                             Vai-Vai 2001       32            1   \n\n                                            Composer  Milliseconds     Bytes  \\\n0          Angus Young, Malcolm Young, Brian Johnson        343719  11170334   \n1                                               None        185338   5990473   \n2                                       Apocalyptica        221701   7286305   \n3                 Cornell, Commerford, Morello, Wilk        255529   8273592   \n4                    Berry Gordy, Jr./Janie Bradford        147591   2365897   \n5                                 Eurreal Montgomery        140434   4604995   \n6                                          Jorge Ben        177397   5842196   \n7  Bino Farias/Da Gama/Lazão/Pedro Luis/Toni Garrido        249808   8327676   \n8     Cassiano Costa/Cintia Maviane/J.F./Lucas Costa        205479   6892516   \n9                                               None        276349   9402241   \n\n   UnitPrice  \n0       0.99  \n1       0.99  \n2       0.99  \n3       0.99  \n4       0.99  \n5       0.99  \n6       0.99  \n7       0.99  \n8       0.99  \n9       0.99  ",
      "text/html": "<div>\n<style scoped>\n    .dataframe tbody tr th:only-of-type {\n        vertical-align: middle;\n    }\n\n    .dataframe tbody tr th {\n        vertical-align: top;\n    }\n\n    .dataframe thead th {\n        text-align: right;\n    }\n</style>\n<table border=\"1\" class=\"dataframe\">\n  <thead>\n    <tr style=\"text-align: right;\">\n      <th></th>\n      <th>GenreId</th>\n      <th>Name_x</th>\n      <th>TrackId</th>\n      <th>Name_y</th>\n      <th>AlbumId</th>\n      <th>MediaTypeId</th>\n      <th>Composer</th>\n      <th>Milliseconds</th>\n      <th>Bytes</th>\n      <th>UnitPrice</th>\n    </tr>\n  </thead>\n  <tbody>\n    <tr>\n      <th>0</th>\n      <td>1</td>\n      <td>Rock</td>\n      <td>1</td>\n      <td>For Those About To Rock (We Salute You)</td>\n      <td>1</td>\n      <td>1</td>\n      <td>Angus Young, Malcolm Young, Brian Johnson</td>\n      <td>343719</td>\n      <td>11170334</td>\n      <td>0.99</td>\n    </tr>\n    <tr>\n      <th>1</th>\n      <td>2</td>\n      <td>Jazz</td>\n      <td>63</td>\n      <td>Desafinado</td>\n      <td>8</td>\n      <td>1</td>\n      <td>None</td>\n      <td>185338</td>\n      <td>5990473</td>\n      <td>0.99</td>\n    </tr>\n    <tr>\n      <th>2</th>\n      <td>3</td>\n      <td>Metal</td>\n      <td>77</td>\n      <td>Enter Sandman</td>\n      <td>9</td>\n      <td>1</td>\n      <td>Apocalyptica</td>\n      <td>221701</td>\n      <td>7286305</td>\n      <td>0.99</td>\n    </tr>\n    <tr>\n      <th>3</th>\n      <td>4</td>\n      <td>Alternative &amp; Punk</td>\n      <td>99</td>\n      <td>Your Time Has Come</td>\n      <td>11</td>\n      <td>1</td>\n      <td>Cornell, Commerford, Morello, Wilk</td>\n      <td>255529</td>\n      <td>8273592</td>\n      <td>0.99</td>\n    </tr>\n    <tr>\n      <th>4</th>\n      <td>5</td>\n      <td>Rock And Roll</td>\n      <td>111</td>\n      <td>Money</td>\n      <td>12</td>\n      <td>1</td>\n      <td>Berry Gordy, Jr./Janie Bradford</td>\n      <td>147591</td>\n      <td>2365897</td>\n      <td>0.99</td>\n    </tr>\n    <tr>\n      <th>5</th>\n      <td>6</td>\n      <td>Blues</td>\n      <td>194</td>\n      <td>First Time I Met The Blues</td>\n      <td>20</td>\n      <td>1</td>\n      <td>Eurreal Montgomery</td>\n      <td>140434</td>\n      <td>4604995</td>\n      <td>0.99</td>\n    </tr>\n    <tr>\n      <th>6</th>\n      <td>7</td>\n      <td>Latin</td>\n      <td>205</td>\n      <td>Jorge Da Capadócia</td>\n      <td>21</td>\n      <td>1</td>\n      <td>Jorge Ben</td>\n      <td>177397</td>\n      <td>5842196</td>\n      <td>0.99</td>\n    </tr>\n    <tr>\n      <th>7</th>\n      <td>8</td>\n      <td>Reggae</td>\n      <td>282</td>\n      <td>Girassol</td>\n      <td>26</td>\n      <td>1</td>\n      <td>Bino Farias/Da Gama/Lazão/Pedro Luis/Toni Garrido</td>\n      <td>249808</td>\n      <td>8327676</td>\n      <td>0.99</td>\n    </tr>\n    <tr>\n      <th>8</th>\n      <td>9</td>\n      <td>Pop</td>\n      <td>323</td>\n      <td>Dig-Dig, Lambe-Lambe (Ao Vivo)</td>\n      <td>29</td>\n      <td>1</td>\n      <td>Cassiano Costa/Cintia Maviane/J.F./Lucas Costa</td>\n      <td>205479</td>\n      <td>6892516</td>\n      <td>0.99</td>\n    </tr>\n    <tr>\n      <th>9</th>\n      <td>10</td>\n      <td>Soundtrack</td>\n      <td>360</td>\n      <td>Vai-Vai 2001</td>\n      <td>32</td>\n      <td>1</td>\n      <td>None</td>\n      <td>276349</td>\n      <td>9402241</td>\n      <td>0.99</td>\n    </tr>\n  </tbody>\n</table>\n</div>"
     },
     "execution_count": 16,
     "metadata": {},
     "output_type": "execute_result"
    }
   ],
   "source": [
    "genres.merge(tracks_subset, how='inner', on='GenreId')"
   ],
   "metadata": {
    "collapsed": false,
    "ExecuteTime": {
     "end_time": "2023-09-02T02:38:40.648257Z",
     "start_time": "2023-09-02T02:38:40.396153Z"
    }
   },
   "id": "2cef39ac5a7e58c0"
  },
  {
   "cell_type": "markdown",
   "source": [
    "##### 1.2、outer（交集）"
   ],
   "metadata": {
    "collapsed": false
   },
   "id": "5bb990d18de91a1d"
  },
  {
   "cell_type": "code",
   "execution_count": 17,
   "outputs": [
    {
     "data": {
      "text/plain": "    GenreId              Name_x  TrackId  \\\n0         1                Rock      1.0   \n1         2                Jazz     63.0   \n2         3               Metal     77.0   \n3         4  Alternative & Punk     99.0   \n4         5       Rock And Roll    111.0   \n5         6               Blues    194.0   \n6         7               Latin    205.0   \n7         8              Reggae    282.0   \n8         9                 Pop    323.0   \n9        10          Soundtrack    360.0   \n10       11          Bossa Nova      NaN   \n11       12      Easy Listening      NaN   \n12       13         Heavy Metal      NaN   \n13       14            R&B/Soul      NaN   \n14       15   Electronica/Dance      NaN   \n15       16               World      NaN   \n16       17         Hip Hop/Rap      NaN   \n17       18     Science Fiction      NaN   \n18       19            TV Shows      NaN   \n19       20    Sci Fi & Fantasy      NaN   \n20       21               Drama      NaN   \n21       22              Comedy      NaN   \n22       23         Alternative      NaN   \n23       24           Classical      NaN   \n24       25               Opera      NaN   \n\n                                     Name_y  AlbumId  MediaTypeId  \\\n0   For Those About To Rock (We Salute You)      1.0          1.0   \n1                                Desafinado      8.0          1.0   \n2                             Enter Sandman      9.0          1.0   \n3                        Your Time Has Come     11.0          1.0   \n4                                     Money     12.0          1.0   \n5                First Time I Met The Blues     20.0          1.0   \n6                        Jorge Da Capadócia     21.0          1.0   \n7                                  Girassol     26.0          1.0   \n8            Dig-Dig, Lambe-Lambe (Ao Vivo)     29.0          1.0   \n9                              Vai-Vai 2001     32.0          1.0   \n10                                      NaN      NaN          NaN   \n11                                      NaN      NaN          NaN   \n12                                      NaN      NaN          NaN   \n13                                      NaN      NaN          NaN   \n14                                      NaN      NaN          NaN   \n15                                      NaN      NaN          NaN   \n16                                      NaN      NaN          NaN   \n17                                      NaN      NaN          NaN   \n18                                      NaN      NaN          NaN   \n19                                      NaN      NaN          NaN   \n20                                      NaN      NaN          NaN   \n21                                      NaN      NaN          NaN   \n22                                      NaN      NaN          NaN   \n23                                      NaN      NaN          NaN   \n24                                      NaN      NaN          NaN   \n\n                                             Composer  Milliseconds  \\\n0           Angus Young, Malcolm Young, Brian Johnson      343719.0   \n1                                                None      185338.0   \n2                                        Apocalyptica      221701.0   \n3                  Cornell, Commerford, Morello, Wilk      255529.0   \n4                     Berry Gordy, Jr./Janie Bradford      147591.0   \n5                                  Eurreal Montgomery      140434.0   \n6                                           Jorge Ben      177397.0   \n7   Bino Farias/Da Gama/Lazão/Pedro Luis/Toni Garrido      249808.0   \n8      Cassiano Costa/Cintia Maviane/J.F./Lucas Costa      205479.0   \n9                                                None      276349.0   \n10                                                NaN           NaN   \n11                                                NaN           NaN   \n12                                                NaN           NaN   \n13                                                NaN           NaN   \n14                                                NaN           NaN   \n15                                                NaN           NaN   \n16                                                NaN           NaN   \n17                                                NaN           NaN   \n18                                                NaN           NaN   \n19                                                NaN           NaN   \n20                                                NaN           NaN   \n21                                                NaN           NaN   \n22                                                NaN           NaN   \n23                                                NaN           NaN   \n24                                                NaN           NaN   \n\n         Bytes  UnitPrice  \n0   11170334.0       0.99  \n1    5990473.0       0.99  \n2    7286305.0       0.99  \n3    8273592.0       0.99  \n4    2365897.0       0.99  \n5    4604995.0       0.99  \n6    5842196.0       0.99  \n7    8327676.0       0.99  \n8    6892516.0       0.99  \n9    9402241.0       0.99  \n10         NaN        NaN  \n11         NaN        NaN  \n12         NaN        NaN  \n13         NaN        NaN  \n14         NaN        NaN  \n15         NaN        NaN  \n16         NaN        NaN  \n17         NaN        NaN  \n18         NaN        NaN  \n19         NaN        NaN  \n20         NaN        NaN  \n21         NaN        NaN  \n22         NaN        NaN  \n23         NaN        NaN  \n24         NaN        NaN  ",
      "text/html": "<div>\n<style scoped>\n    .dataframe tbody tr th:only-of-type {\n        vertical-align: middle;\n    }\n\n    .dataframe tbody tr th {\n        vertical-align: top;\n    }\n\n    .dataframe thead th {\n        text-align: right;\n    }\n</style>\n<table border=\"1\" class=\"dataframe\">\n  <thead>\n    <tr style=\"text-align: right;\">\n      <th></th>\n      <th>GenreId</th>\n      <th>Name_x</th>\n      <th>TrackId</th>\n      <th>Name_y</th>\n      <th>AlbumId</th>\n      <th>MediaTypeId</th>\n      <th>Composer</th>\n      <th>Milliseconds</th>\n      <th>Bytes</th>\n      <th>UnitPrice</th>\n    </tr>\n  </thead>\n  <tbody>\n    <tr>\n      <th>0</th>\n      <td>1</td>\n      <td>Rock</td>\n      <td>1.0</td>\n      <td>For Those About To Rock (We Salute You)</td>\n      <td>1.0</td>\n      <td>1.0</td>\n      <td>Angus Young, Malcolm Young, Brian Johnson</td>\n      <td>343719.0</td>\n      <td>11170334.0</td>\n      <td>0.99</td>\n    </tr>\n    <tr>\n      <th>1</th>\n      <td>2</td>\n      <td>Jazz</td>\n      <td>63.0</td>\n      <td>Desafinado</td>\n      <td>8.0</td>\n      <td>1.0</td>\n      <td>None</td>\n      <td>185338.0</td>\n      <td>5990473.0</td>\n      <td>0.99</td>\n    </tr>\n    <tr>\n      <th>2</th>\n      <td>3</td>\n      <td>Metal</td>\n      <td>77.0</td>\n      <td>Enter Sandman</td>\n      <td>9.0</td>\n      <td>1.0</td>\n      <td>Apocalyptica</td>\n      <td>221701.0</td>\n      <td>7286305.0</td>\n      <td>0.99</td>\n    </tr>\n    <tr>\n      <th>3</th>\n      <td>4</td>\n      <td>Alternative &amp; Punk</td>\n      <td>99.0</td>\n      <td>Your Time Has Come</td>\n      <td>11.0</td>\n      <td>1.0</td>\n      <td>Cornell, Commerford, Morello, Wilk</td>\n      <td>255529.0</td>\n      <td>8273592.0</td>\n      <td>0.99</td>\n    </tr>\n    <tr>\n      <th>4</th>\n      <td>5</td>\n      <td>Rock And Roll</td>\n      <td>111.0</td>\n      <td>Money</td>\n      <td>12.0</td>\n      <td>1.0</td>\n      <td>Berry Gordy, Jr./Janie Bradford</td>\n      <td>147591.0</td>\n      <td>2365897.0</td>\n      <td>0.99</td>\n    </tr>\n    <tr>\n      <th>5</th>\n      <td>6</td>\n      <td>Blues</td>\n      <td>194.0</td>\n      <td>First Time I Met The Blues</td>\n      <td>20.0</td>\n      <td>1.0</td>\n      <td>Eurreal Montgomery</td>\n      <td>140434.0</td>\n      <td>4604995.0</td>\n      <td>0.99</td>\n    </tr>\n    <tr>\n      <th>6</th>\n      <td>7</td>\n      <td>Latin</td>\n      <td>205.0</td>\n      <td>Jorge Da Capadócia</td>\n      <td>21.0</td>\n      <td>1.0</td>\n      <td>Jorge Ben</td>\n      <td>177397.0</td>\n      <td>5842196.0</td>\n      <td>0.99</td>\n    </tr>\n    <tr>\n      <th>7</th>\n      <td>8</td>\n      <td>Reggae</td>\n      <td>282.0</td>\n      <td>Girassol</td>\n      <td>26.0</td>\n      <td>1.0</td>\n      <td>Bino Farias/Da Gama/Lazão/Pedro Luis/Toni Garrido</td>\n      <td>249808.0</td>\n      <td>8327676.0</td>\n      <td>0.99</td>\n    </tr>\n    <tr>\n      <th>8</th>\n      <td>9</td>\n      <td>Pop</td>\n      <td>323.0</td>\n      <td>Dig-Dig, Lambe-Lambe (Ao Vivo)</td>\n      <td>29.0</td>\n      <td>1.0</td>\n      <td>Cassiano Costa/Cintia Maviane/J.F./Lucas Costa</td>\n      <td>205479.0</td>\n      <td>6892516.0</td>\n      <td>0.99</td>\n    </tr>\n    <tr>\n      <th>9</th>\n      <td>10</td>\n      <td>Soundtrack</td>\n      <td>360.0</td>\n      <td>Vai-Vai 2001</td>\n      <td>32.0</td>\n      <td>1.0</td>\n      <td>None</td>\n      <td>276349.0</td>\n      <td>9402241.0</td>\n      <td>0.99</td>\n    </tr>\n    <tr>\n      <th>10</th>\n      <td>11</td>\n      <td>Bossa Nova</td>\n      <td>NaN</td>\n      <td>NaN</td>\n      <td>NaN</td>\n      <td>NaN</td>\n      <td>NaN</td>\n      <td>NaN</td>\n      <td>NaN</td>\n      <td>NaN</td>\n    </tr>\n    <tr>\n      <th>11</th>\n      <td>12</td>\n      <td>Easy Listening</td>\n      <td>NaN</td>\n      <td>NaN</td>\n      <td>NaN</td>\n      <td>NaN</td>\n      <td>NaN</td>\n      <td>NaN</td>\n      <td>NaN</td>\n      <td>NaN</td>\n    </tr>\n    <tr>\n      <th>12</th>\n      <td>13</td>\n      <td>Heavy Metal</td>\n      <td>NaN</td>\n      <td>NaN</td>\n      <td>NaN</td>\n      <td>NaN</td>\n      <td>NaN</td>\n      <td>NaN</td>\n      <td>NaN</td>\n      <td>NaN</td>\n    </tr>\n    <tr>\n      <th>13</th>\n      <td>14</td>\n      <td>R&amp;B/Soul</td>\n      <td>NaN</td>\n      <td>NaN</td>\n      <td>NaN</td>\n      <td>NaN</td>\n      <td>NaN</td>\n      <td>NaN</td>\n      <td>NaN</td>\n      <td>NaN</td>\n    </tr>\n    <tr>\n      <th>14</th>\n      <td>15</td>\n      <td>Electronica/Dance</td>\n      <td>NaN</td>\n      <td>NaN</td>\n      <td>NaN</td>\n      <td>NaN</td>\n      <td>NaN</td>\n      <td>NaN</td>\n      <td>NaN</td>\n      <td>NaN</td>\n    </tr>\n    <tr>\n      <th>15</th>\n      <td>16</td>\n      <td>World</td>\n      <td>NaN</td>\n      <td>NaN</td>\n      <td>NaN</td>\n      <td>NaN</td>\n      <td>NaN</td>\n      <td>NaN</td>\n      <td>NaN</td>\n      <td>NaN</td>\n    </tr>\n    <tr>\n      <th>16</th>\n      <td>17</td>\n      <td>Hip Hop/Rap</td>\n      <td>NaN</td>\n      <td>NaN</td>\n      <td>NaN</td>\n      <td>NaN</td>\n      <td>NaN</td>\n      <td>NaN</td>\n      <td>NaN</td>\n      <td>NaN</td>\n    </tr>\n    <tr>\n      <th>17</th>\n      <td>18</td>\n      <td>Science Fiction</td>\n      <td>NaN</td>\n      <td>NaN</td>\n      <td>NaN</td>\n      <td>NaN</td>\n      <td>NaN</td>\n      <td>NaN</td>\n      <td>NaN</td>\n      <td>NaN</td>\n    </tr>\n    <tr>\n      <th>18</th>\n      <td>19</td>\n      <td>TV Shows</td>\n      <td>NaN</td>\n      <td>NaN</td>\n      <td>NaN</td>\n      <td>NaN</td>\n      <td>NaN</td>\n      <td>NaN</td>\n      <td>NaN</td>\n      <td>NaN</td>\n    </tr>\n    <tr>\n      <th>19</th>\n      <td>20</td>\n      <td>Sci Fi &amp; Fantasy</td>\n      <td>NaN</td>\n      <td>NaN</td>\n      <td>NaN</td>\n      <td>NaN</td>\n      <td>NaN</td>\n      <td>NaN</td>\n      <td>NaN</td>\n      <td>NaN</td>\n    </tr>\n    <tr>\n      <th>20</th>\n      <td>21</td>\n      <td>Drama</td>\n      <td>NaN</td>\n      <td>NaN</td>\n      <td>NaN</td>\n      <td>NaN</td>\n      <td>NaN</td>\n      <td>NaN</td>\n      <td>NaN</td>\n      <td>NaN</td>\n    </tr>\n    <tr>\n      <th>21</th>\n      <td>22</td>\n      <td>Comedy</td>\n      <td>NaN</td>\n      <td>NaN</td>\n      <td>NaN</td>\n      <td>NaN</td>\n      <td>NaN</td>\n      <td>NaN</td>\n      <td>NaN</td>\n      <td>NaN</td>\n    </tr>\n    <tr>\n      <th>22</th>\n      <td>23</td>\n      <td>Alternative</td>\n      <td>NaN</td>\n      <td>NaN</td>\n      <td>NaN</td>\n      <td>NaN</td>\n      <td>NaN</td>\n      <td>NaN</td>\n      <td>NaN</td>\n      <td>NaN</td>\n    </tr>\n    <tr>\n      <th>23</th>\n      <td>24</td>\n      <td>Classical</td>\n      <td>NaN</td>\n      <td>NaN</td>\n      <td>NaN</td>\n      <td>NaN</td>\n      <td>NaN</td>\n      <td>NaN</td>\n      <td>NaN</td>\n      <td>NaN</td>\n    </tr>\n    <tr>\n      <th>24</th>\n      <td>25</td>\n      <td>Opera</td>\n      <td>NaN</td>\n      <td>NaN</td>\n      <td>NaN</td>\n      <td>NaN</td>\n      <td>NaN</td>\n      <td>NaN</td>\n      <td>NaN</td>\n      <td>NaN</td>\n    </tr>\n  </tbody>\n</table>\n</div>"
     },
     "execution_count": 17,
     "metadata": {},
     "output_type": "execute_result"
    }
   ],
   "source": [
    "genres.merge(tracks_subset, how='outer', on='GenreId')"
   ],
   "metadata": {
    "collapsed": false,
    "ExecuteTime": {
     "end_time": "2023-09-02T02:39:25.797798Z",
     "start_time": "2023-09-02T02:39:25.729544Z"
    }
   },
   "id": "5f3b51351848cb83"
  },
  {
   "cell_type": "markdown",
   "source": [
    "##### 1.3、left (左外链接)"
   ],
   "metadata": {
    "collapsed": false
   },
   "id": "691668cc368504e5"
  },
  {
   "cell_type": "code",
   "execution_count": 19,
   "outputs": [
    {
     "data": {
      "text/plain": "    GenreId              Name_x  TrackId  \\\n0         1                Rock      1.0   \n1         2                Jazz     63.0   \n2         3               Metal     77.0   \n3         4  Alternative & Punk     99.0   \n4         5       Rock And Roll    111.0   \n5         6               Blues    194.0   \n6         7               Latin    205.0   \n7         8              Reggae    282.0   \n8         9                 Pop    323.0   \n9        10          Soundtrack    360.0   \n10       11          Bossa Nova      NaN   \n11       12      Easy Listening      NaN   \n12       13         Heavy Metal      NaN   \n13       14            R&B/Soul      NaN   \n14       15   Electronica/Dance      NaN   \n15       16               World      NaN   \n16       17         Hip Hop/Rap      NaN   \n17       18     Science Fiction      NaN   \n18       19            TV Shows      NaN   \n19       20    Sci Fi & Fantasy      NaN   \n20       21               Drama      NaN   \n21       22              Comedy      NaN   \n22       23         Alternative      NaN   \n23       24           Classical      NaN   \n24       25               Opera      NaN   \n\n                                     Name_y  AlbumId  MediaTypeId  \\\n0   For Those About To Rock (We Salute You)      1.0          1.0   \n1                                Desafinado      8.0          1.0   \n2                             Enter Sandman      9.0          1.0   \n3                        Your Time Has Come     11.0          1.0   \n4                                     Money     12.0          1.0   \n5                First Time I Met The Blues     20.0          1.0   \n6                        Jorge Da Capadócia     21.0          1.0   \n7                                  Girassol     26.0          1.0   \n8            Dig-Dig, Lambe-Lambe (Ao Vivo)     29.0          1.0   \n9                              Vai-Vai 2001     32.0          1.0   \n10                                      NaN      NaN          NaN   \n11                                      NaN      NaN          NaN   \n12                                      NaN      NaN          NaN   \n13                                      NaN      NaN          NaN   \n14                                      NaN      NaN          NaN   \n15                                      NaN      NaN          NaN   \n16                                      NaN      NaN          NaN   \n17                                      NaN      NaN          NaN   \n18                                      NaN      NaN          NaN   \n19                                      NaN      NaN          NaN   \n20                                      NaN      NaN          NaN   \n21                                      NaN      NaN          NaN   \n22                                      NaN      NaN          NaN   \n23                                      NaN      NaN          NaN   \n24                                      NaN      NaN          NaN   \n\n                                             Composer  Milliseconds  \\\n0           Angus Young, Malcolm Young, Brian Johnson      343719.0   \n1                                                None      185338.0   \n2                                        Apocalyptica      221701.0   \n3                  Cornell, Commerford, Morello, Wilk      255529.0   \n4                     Berry Gordy, Jr./Janie Bradford      147591.0   \n5                                  Eurreal Montgomery      140434.0   \n6                                           Jorge Ben      177397.0   \n7   Bino Farias/Da Gama/Lazão/Pedro Luis/Toni Garrido      249808.0   \n8      Cassiano Costa/Cintia Maviane/J.F./Lucas Costa      205479.0   \n9                                                None      276349.0   \n10                                                NaN           NaN   \n11                                                NaN           NaN   \n12                                                NaN           NaN   \n13                                                NaN           NaN   \n14                                                NaN           NaN   \n15                                                NaN           NaN   \n16                                                NaN           NaN   \n17                                                NaN           NaN   \n18                                                NaN           NaN   \n19                                                NaN           NaN   \n20                                                NaN           NaN   \n21                                                NaN           NaN   \n22                                                NaN           NaN   \n23                                                NaN           NaN   \n24                                                NaN           NaN   \n\n         Bytes  UnitPrice  \n0   11170334.0       0.99  \n1    5990473.0       0.99  \n2    7286305.0       0.99  \n3    8273592.0       0.99  \n4    2365897.0       0.99  \n5    4604995.0       0.99  \n6    5842196.0       0.99  \n7    8327676.0       0.99  \n8    6892516.0       0.99  \n9    9402241.0       0.99  \n10         NaN        NaN  \n11         NaN        NaN  \n12         NaN        NaN  \n13         NaN        NaN  \n14         NaN        NaN  \n15         NaN        NaN  \n16         NaN        NaN  \n17         NaN        NaN  \n18         NaN        NaN  \n19         NaN        NaN  \n20         NaN        NaN  \n21         NaN        NaN  \n22         NaN        NaN  \n23         NaN        NaN  \n24         NaN        NaN  ",
      "text/html": "<div>\n<style scoped>\n    .dataframe tbody tr th:only-of-type {\n        vertical-align: middle;\n    }\n\n    .dataframe tbody tr th {\n        vertical-align: top;\n    }\n\n    .dataframe thead th {\n        text-align: right;\n    }\n</style>\n<table border=\"1\" class=\"dataframe\">\n  <thead>\n    <tr style=\"text-align: right;\">\n      <th></th>\n      <th>GenreId</th>\n      <th>Name_x</th>\n      <th>TrackId</th>\n      <th>Name_y</th>\n      <th>AlbumId</th>\n      <th>MediaTypeId</th>\n      <th>Composer</th>\n      <th>Milliseconds</th>\n      <th>Bytes</th>\n      <th>UnitPrice</th>\n    </tr>\n  </thead>\n  <tbody>\n    <tr>\n      <th>0</th>\n      <td>1</td>\n      <td>Rock</td>\n      <td>1.0</td>\n      <td>For Those About To Rock (We Salute You)</td>\n      <td>1.0</td>\n      <td>1.0</td>\n      <td>Angus Young, Malcolm Young, Brian Johnson</td>\n      <td>343719.0</td>\n      <td>11170334.0</td>\n      <td>0.99</td>\n    </tr>\n    <tr>\n      <th>1</th>\n      <td>2</td>\n      <td>Jazz</td>\n      <td>63.0</td>\n      <td>Desafinado</td>\n      <td>8.0</td>\n      <td>1.0</td>\n      <td>None</td>\n      <td>185338.0</td>\n      <td>5990473.0</td>\n      <td>0.99</td>\n    </tr>\n    <tr>\n      <th>2</th>\n      <td>3</td>\n      <td>Metal</td>\n      <td>77.0</td>\n      <td>Enter Sandman</td>\n      <td>9.0</td>\n      <td>1.0</td>\n      <td>Apocalyptica</td>\n      <td>221701.0</td>\n      <td>7286305.0</td>\n      <td>0.99</td>\n    </tr>\n    <tr>\n      <th>3</th>\n      <td>4</td>\n      <td>Alternative &amp; Punk</td>\n      <td>99.0</td>\n      <td>Your Time Has Come</td>\n      <td>11.0</td>\n      <td>1.0</td>\n      <td>Cornell, Commerford, Morello, Wilk</td>\n      <td>255529.0</td>\n      <td>8273592.0</td>\n      <td>0.99</td>\n    </tr>\n    <tr>\n      <th>4</th>\n      <td>5</td>\n      <td>Rock And Roll</td>\n      <td>111.0</td>\n      <td>Money</td>\n      <td>12.0</td>\n      <td>1.0</td>\n      <td>Berry Gordy, Jr./Janie Bradford</td>\n      <td>147591.0</td>\n      <td>2365897.0</td>\n      <td>0.99</td>\n    </tr>\n    <tr>\n      <th>5</th>\n      <td>6</td>\n      <td>Blues</td>\n      <td>194.0</td>\n      <td>First Time I Met The Blues</td>\n      <td>20.0</td>\n      <td>1.0</td>\n      <td>Eurreal Montgomery</td>\n      <td>140434.0</td>\n      <td>4604995.0</td>\n      <td>0.99</td>\n    </tr>\n    <tr>\n      <th>6</th>\n      <td>7</td>\n      <td>Latin</td>\n      <td>205.0</td>\n      <td>Jorge Da Capadócia</td>\n      <td>21.0</td>\n      <td>1.0</td>\n      <td>Jorge Ben</td>\n      <td>177397.0</td>\n      <td>5842196.0</td>\n      <td>0.99</td>\n    </tr>\n    <tr>\n      <th>7</th>\n      <td>8</td>\n      <td>Reggae</td>\n      <td>282.0</td>\n      <td>Girassol</td>\n      <td>26.0</td>\n      <td>1.0</td>\n      <td>Bino Farias/Da Gama/Lazão/Pedro Luis/Toni Garrido</td>\n      <td>249808.0</td>\n      <td>8327676.0</td>\n      <td>0.99</td>\n    </tr>\n    <tr>\n      <th>8</th>\n      <td>9</td>\n      <td>Pop</td>\n      <td>323.0</td>\n      <td>Dig-Dig, Lambe-Lambe (Ao Vivo)</td>\n      <td>29.0</td>\n      <td>1.0</td>\n      <td>Cassiano Costa/Cintia Maviane/J.F./Lucas Costa</td>\n      <td>205479.0</td>\n      <td>6892516.0</td>\n      <td>0.99</td>\n    </tr>\n    <tr>\n      <th>9</th>\n      <td>10</td>\n      <td>Soundtrack</td>\n      <td>360.0</td>\n      <td>Vai-Vai 2001</td>\n      <td>32.0</td>\n      <td>1.0</td>\n      <td>None</td>\n      <td>276349.0</td>\n      <td>9402241.0</td>\n      <td>0.99</td>\n    </tr>\n    <tr>\n      <th>10</th>\n      <td>11</td>\n      <td>Bossa Nova</td>\n      <td>NaN</td>\n      <td>NaN</td>\n      <td>NaN</td>\n      <td>NaN</td>\n      <td>NaN</td>\n      <td>NaN</td>\n      <td>NaN</td>\n      <td>NaN</td>\n    </tr>\n    <tr>\n      <th>11</th>\n      <td>12</td>\n      <td>Easy Listening</td>\n      <td>NaN</td>\n      <td>NaN</td>\n      <td>NaN</td>\n      <td>NaN</td>\n      <td>NaN</td>\n      <td>NaN</td>\n      <td>NaN</td>\n      <td>NaN</td>\n    </tr>\n    <tr>\n      <th>12</th>\n      <td>13</td>\n      <td>Heavy Metal</td>\n      <td>NaN</td>\n      <td>NaN</td>\n      <td>NaN</td>\n      <td>NaN</td>\n      <td>NaN</td>\n      <td>NaN</td>\n      <td>NaN</td>\n      <td>NaN</td>\n    </tr>\n    <tr>\n      <th>13</th>\n      <td>14</td>\n      <td>R&amp;B/Soul</td>\n      <td>NaN</td>\n      <td>NaN</td>\n      <td>NaN</td>\n      <td>NaN</td>\n      <td>NaN</td>\n      <td>NaN</td>\n      <td>NaN</td>\n      <td>NaN</td>\n    </tr>\n    <tr>\n      <th>14</th>\n      <td>15</td>\n      <td>Electronica/Dance</td>\n      <td>NaN</td>\n      <td>NaN</td>\n      <td>NaN</td>\n      <td>NaN</td>\n      <td>NaN</td>\n      <td>NaN</td>\n      <td>NaN</td>\n      <td>NaN</td>\n    </tr>\n    <tr>\n      <th>15</th>\n      <td>16</td>\n      <td>World</td>\n      <td>NaN</td>\n      <td>NaN</td>\n      <td>NaN</td>\n      <td>NaN</td>\n      <td>NaN</td>\n      <td>NaN</td>\n      <td>NaN</td>\n      <td>NaN</td>\n    </tr>\n    <tr>\n      <th>16</th>\n      <td>17</td>\n      <td>Hip Hop/Rap</td>\n      <td>NaN</td>\n      <td>NaN</td>\n      <td>NaN</td>\n      <td>NaN</td>\n      <td>NaN</td>\n      <td>NaN</td>\n      <td>NaN</td>\n      <td>NaN</td>\n    </tr>\n    <tr>\n      <th>17</th>\n      <td>18</td>\n      <td>Science Fiction</td>\n      <td>NaN</td>\n      <td>NaN</td>\n      <td>NaN</td>\n      <td>NaN</td>\n      <td>NaN</td>\n      <td>NaN</td>\n      <td>NaN</td>\n      <td>NaN</td>\n    </tr>\n    <tr>\n      <th>18</th>\n      <td>19</td>\n      <td>TV Shows</td>\n      <td>NaN</td>\n      <td>NaN</td>\n      <td>NaN</td>\n      <td>NaN</td>\n      <td>NaN</td>\n      <td>NaN</td>\n      <td>NaN</td>\n      <td>NaN</td>\n    </tr>\n    <tr>\n      <th>19</th>\n      <td>20</td>\n      <td>Sci Fi &amp; Fantasy</td>\n      <td>NaN</td>\n      <td>NaN</td>\n      <td>NaN</td>\n      <td>NaN</td>\n      <td>NaN</td>\n      <td>NaN</td>\n      <td>NaN</td>\n      <td>NaN</td>\n    </tr>\n    <tr>\n      <th>20</th>\n      <td>21</td>\n      <td>Drama</td>\n      <td>NaN</td>\n      <td>NaN</td>\n      <td>NaN</td>\n      <td>NaN</td>\n      <td>NaN</td>\n      <td>NaN</td>\n      <td>NaN</td>\n      <td>NaN</td>\n    </tr>\n    <tr>\n      <th>21</th>\n      <td>22</td>\n      <td>Comedy</td>\n      <td>NaN</td>\n      <td>NaN</td>\n      <td>NaN</td>\n      <td>NaN</td>\n      <td>NaN</td>\n      <td>NaN</td>\n      <td>NaN</td>\n      <td>NaN</td>\n    </tr>\n    <tr>\n      <th>22</th>\n      <td>23</td>\n      <td>Alternative</td>\n      <td>NaN</td>\n      <td>NaN</td>\n      <td>NaN</td>\n      <td>NaN</td>\n      <td>NaN</td>\n      <td>NaN</td>\n      <td>NaN</td>\n      <td>NaN</td>\n    </tr>\n    <tr>\n      <th>23</th>\n      <td>24</td>\n      <td>Classical</td>\n      <td>NaN</td>\n      <td>NaN</td>\n      <td>NaN</td>\n      <td>NaN</td>\n      <td>NaN</td>\n      <td>NaN</td>\n      <td>NaN</td>\n      <td>NaN</td>\n    </tr>\n    <tr>\n      <th>24</th>\n      <td>25</td>\n      <td>Opera</td>\n      <td>NaN</td>\n      <td>NaN</td>\n      <td>NaN</td>\n      <td>NaN</td>\n      <td>NaN</td>\n      <td>NaN</td>\n      <td>NaN</td>\n      <td>NaN</td>\n    </tr>\n  </tbody>\n</table>\n</div>"
     },
     "execution_count": 19,
     "metadata": {},
     "output_type": "execute_result"
    }
   ],
   "source": [
    "genres.merge(tracks_subset, how='left', on='GenreId')"
   ],
   "metadata": {
    "collapsed": false,
    "ExecuteTime": {
     "end_time": "2023-09-02T02:40:12.089217Z",
     "start_time": "2023-09-02T02:40:11.854029Z"
    }
   },
   "id": "a2c86b6f17840c9c"
  },
  {
   "cell_type": "markdown",
   "source": [
    "##### 1.4、right (右外链接)"
   ],
   "metadata": {
    "collapsed": false
   },
   "id": "dc661072cf9d51a2"
  },
  {
   "cell_type": "code",
   "execution_count": 20,
   "outputs": [
    {
     "data": {
      "text/plain": "   GenreId              Name_x  TrackId  \\\n0        1                Rock        1   \n1        2                Jazz       63   \n2        3               Metal       77   \n3        4  Alternative & Punk       99   \n4        5       Rock And Roll      111   \n5        6               Blues      194   \n6        7               Latin      205   \n7        8              Reggae      282   \n8        9                 Pop      323   \n9       10          Soundtrack      360   \n\n                                    Name_y  AlbumId  MediaTypeId  \\\n0  For Those About To Rock (We Salute You)        1            1   \n1                               Desafinado        8            1   \n2                            Enter Sandman        9            1   \n3                       Your Time Has Come       11            1   \n4                                    Money       12            1   \n5               First Time I Met The Blues       20            1   \n6                       Jorge Da Capadócia       21            1   \n7                                 Girassol       26            1   \n8           Dig-Dig, Lambe-Lambe (Ao Vivo)       29            1   \n9                             Vai-Vai 2001       32            1   \n\n                                            Composer  Milliseconds     Bytes  \\\n0          Angus Young, Malcolm Young, Brian Johnson        343719  11170334   \n1                                               None        185338   5990473   \n2                                       Apocalyptica        221701   7286305   \n3                 Cornell, Commerford, Morello, Wilk        255529   8273592   \n4                    Berry Gordy, Jr./Janie Bradford        147591   2365897   \n5                                 Eurreal Montgomery        140434   4604995   \n6                                          Jorge Ben        177397   5842196   \n7  Bino Farias/Da Gama/Lazão/Pedro Luis/Toni Garrido        249808   8327676   \n8     Cassiano Costa/Cintia Maviane/J.F./Lucas Costa        205479   6892516   \n9                                               None        276349   9402241   \n\n   UnitPrice  \n0       0.99  \n1       0.99  \n2       0.99  \n3       0.99  \n4       0.99  \n5       0.99  \n6       0.99  \n7       0.99  \n8       0.99  \n9       0.99  ",
      "text/html": "<div>\n<style scoped>\n    .dataframe tbody tr th:only-of-type {\n        vertical-align: middle;\n    }\n\n    .dataframe tbody tr th {\n        vertical-align: top;\n    }\n\n    .dataframe thead th {\n        text-align: right;\n    }\n</style>\n<table border=\"1\" class=\"dataframe\">\n  <thead>\n    <tr style=\"text-align: right;\">\n      <th></th>\n      <th>GenreId</th>\n      <th>Name_x</th>\n      <th>TrackId</th>\n      <th>Name_y</th>\n      <th>AlbumId</th>\n      <th>MediaTypeId</th>\n      <th>Composer</th>\n      <th>Milliseconds</th>\n      <th>Bytes</th>\n      <th>UnitPrice</th>\n    </tr>\n  </thead>\n  <tbody>\n    <tr>\n      <th>0</th>\n      <td>1</td>\n      <td>Rock</td>\n      <td>1</td>\n      <td>For Those About To Rock (We Salute You)</td>\n      <td>1</td>\n      <td>1</td>\n      <td>Angus Young, Malcolm Young, Brian Johnson</td>\n      <td>343719</td>\n      <td>11170334</td>\n      <td>0.99</td>\n    </tr>\n    <tr>\n      <th>1</th>\n      <td>2</td>\n      <td>Jazz</td>\n      <td>63</td>\n      <td>Desafinado</td>\n      <td>8</td>\n      <td>1</td>\n      <td>None</td>\n      <td>185338</td>\n      <td>5990473</td>\n      <td>0.99</td>\n    </tr>\n    <tr>\n      <th>2</th>\n      <td>3</td>\n      <td>Metal</td>\n      <td>77</td>\n      <td>Enter Sandman</td>\n      <td>9</td>\n      <td>1</td>\n      <td>Apocalyptica</td>\n      <td>221701</td>\n      <td>7286305</td>\n      <td>0.99</td>\n    </tr>\n    <tr>\n      <th>3</th>\n      <td>4</td>\n      <td>Alternative &amp; Punk</td>\n      <td>99</td>\n      <td>Your Time Has Come</td>\n      <td>11</td>\n      <td>1</td>\n      <td>Cornell, Commerford, Morello, Wilk</td>\n      <td>255529</td>\n      <td>8273592</td>\n      <td>0.99</td>\n    </tr>\n    <tr>\n      <th>4</th>\n      <td>5</td>\n      <td>Rock And Roll</td>\n      <td>111</td>\n      <td>Money</td>\n      <td>12</td>\n      <td>1</td>\n      <td>Berry Gordy, Jr./Janie Bradford</td>\n      <td>147591</td>\n      <td>2365897</td>\n      <td>0.99</td>\n    </tr>\n    <tr>\n      <th>5</th>\n      <td>6</td>\n      <td>Blues</td>\n      <td>194</td>\n      <td>First Time I Met The Blues</td>\n      <td>20</td>\n      <td>1</td>\n      <td>Eurreal Montgomery</td>\n      <td>140434</td>\n      <td>4604995</td>\n      <td>0.99</td>\n    </tr>\n    <tr>\n      <th>6</th>\n      <td>7</td>\n      <td>Latin</td>\n      <td>205</td>\n      <td>Jorge Da Capadócia</td>\n      <td>21</td>\n      <td>1</td>\n      <td>Jorge Ben</td>\n      <td>177397</td>\n      <td>5842196</td>\n      <td>0.99</td>\n    </tr>\n    <tr>\n      <th>7</th>\n      <td>8</td>\n      <td>Reggae</td>\n      <td>282</td>\n      <td>Girassol</td>\n      <td>26</td>\n      <td>1</td>\n      <td>Bino Farias/Da Gama/Lazão/Pedro Luis/Toni Garrido</td>\n      <td>249808</td>\n      <td>8327676</td>\n      <td>0.99</td>\n    </tr>\n    <tr>\n      <th>8</th>\n      <td>9</td>\n      <td>Pop</td>\n      <td>323</td>\n      <td>Dig-Dig, Lambe-Lambe (Ao Vivo)</td>\n      <td>29</td>\n      <td>1</td>\n      <td>Cassiano Costa/Cintia Maviane/J.F./Lucas Costa</td>\n      <td>205479</td>\n      <td>6892516</td>\n      <td>0.99</td>\n    </tr>\n    <tr>\n      <th>9</th>\n      <td>10</td>\n      <td>Soundtrack</td>\n      <td>360</td>\n      <td>Vai-Vai 2001</td>\n      <td>32</td>\n      <td>1</td>\n      <td>None</td>\n      <td>276349</td>\n      <td>9402241</td>\n      <td>0.99</td>\n    </tr>\n  </tbody>\n</table>\n</div>"
     },
     "execution_count": 20,
     "metadata": {},
     "output_type": "execute_result"
    }
   ],
   "source": [
    "genres.merge(tracks_subset, how='right', on='GenreId')"
   ],
   "metadata": {
    "collapsed": false,
    "ExecuteTime": {
     "end_time": "2023-09-02T02:40:45.346822Z",
     "start_time": "2023-09-02T02:40:45.187462Z"
    }
   },
   "id": "416f2a8c156ca944"
  },
  {
   "cell_type": "markdown",
   "source": [
    "#### 2、参数on，连接的key，可以是[]\n",
    "- 如果左右字段名字不同，使用left_on,right_on指定左右表分别使用的字段"
   ],
   "metadata": {
    "collapsed": false
   },
   "id": "d8427d0df6255df6"
  },
  {
   "cell_type": "markdown",
   "source": [
    "#### 3、suffixes后缀, 如果左右表存在同名列，合并后会拼接后缀用于区分，默认拼接_x,_y. 修改的话传入元组"
   ],
   "metadata": {
    "collapsed": false
   },
   "id": "ccb44bd320ca097a"
  },
  {
   "cell_type": "code",
   "execution_count": 22,
   "outputs": [
    {
     "data": {
      "text/plain": "   GenreId            Name_gen  TrackId  \\\n0        1                Rock        1   \n1        2                Jazz       63   \n2        3               Metal       77   \n3        4  Alternative & Punk       99   \n4        5       Rock And Roll      111   \n5        6               Blues      194   \n6        7               Latin      205   \n7        8              Reggae      282   \n8        9                 Pop      323   \n9       10          Soundtrack      360   \n\n                                Name_track  AlbumId  MediaTypeId  \\\n0  For Those About To Rock (We Salute You)        1            1   \n1                               Desafinado        8            1   \n2                            Enter Sandman        9            1   \n3                       Your Time Has Come       11            1   \n4                                    Money       12            1   \n5               First Time I Met The Blues       20            1   \n6                       Jorge Da Capadócia       21            1   \n7                                 Girassol       26            1   \n8           Dig-Dig, Lambe-Lambe (Ao Vivo)       29            1   \n9                             Vai-Vai 2001       32            1   \n\n                                            Composer  Milliseconds     Bytes  \\\n0          Angus Young, Malcolm Young, Brian Johnson        343719  11170334   \n1                                               None        185338   5990473   \n2                                       Apocalyptica        221701   7286305   \n3                 Cornell, Commerford, Morello, Wilk        255529   8273592   \n4                    Berry Gordy, Jr./Janie Bradford        147591   2365897   \n5                                 Eurreal Montgomery        140434   4604995   \n6                                          Jorge Ben        177397   5842196   \n7  Bino Farias/Da Gama/Lazão/Pedro Luis/Toni Garrido        249808   8327676   \n8     Cassiano Costa/Cintia Maviane/J.F./Lucas Costa        205479   6892516   \n9                                               None        276349   9402241   \n\n   UnitPrice  \n0       0.99  \n1       0.99  \n2       0.99  \n3       0.99  \n4       0.99  \n5       0.99  \n6       0.99  \n7       0.99  \n8       0.99  \n9       0.99  ",
      "text/html": "<div>\n<style scoped>\n    .dataframe tbody tr th:only-of-type {\n        vertical-align: middle;\n    }\n\n    .dataframe tbody tr th {\n        vertical-align: top;\n    }\n\n    .dataframe thead th {\n        text-align: right;\n    }\n</style>\n<table border=\"1\" class=\"dataframe\">\n  <thead>\n    <tr style=\"text-align: right;\">\n      <th></th>\n      <th>GenreId</th>\n      <th>Name_gen</th>\n      <th>TrackId</th>\n      <th>Name_track</th>\n      <th>AlbumId</th>\n      <th>MediaTypeId</th>\n      <th>Composer</th>\n      <th>Milliseconds</th>\n      <th>Bytes</th>\n      <th>UnitPrice</th>\n    </tr>\n  </thead>\n  <tbody>\n    <tr>\n      <th>0</th>\n      <td>1</td>\n      <td>Rock</td>\n      <td>1</td>\n      <td>For Those About To Rock (We Salute You)</td>\n      <td>1</td>\n      <td>1</td>\n      <td>Angus Young, Malcolm Young, Brian Johnson</td>\n      <td>343719</td>\n      <td>11170334</td>\n      <td>0.99</td>\n    </tr>\n    <tr>\n      <th>1</th>\n      <td>2</td>\n      <td>Jazz</td>\n      <td>63</td>\n      <td>Desafinado</td>\n      <td>8</td>\n      <td>1</td>\n      <td>None</td>\n      <td>185338</td>\n      <td>5990473</td>\n      <td>0.99</td>\n    </tr>\n    <tr>\n      <th>2</th>\n      <td>3</td>\n      <td>Metal</td>\n      <td>77</td>\n      <td>Enter Sandman</td>\n      <td>9</td>\n      <td>1</td>\n      <td>Apocalyptica</td>\n      <td>221701</td>\n      <td>7286305</td>\n      <td>0.99</td>\n    </tr>\n    <tr>\n      <th>3</th>\n      <td>4</td>\n      <td>Alternative &amp; Punk</td>\n      <td>99</td>\n      <td>Your Time Has Come</td>\n      <td>11</td>\n      <td>1</td>\n      <td>Cornell, Commerford, Morello, Wilk</td>\n      <td>255529</td>\n      <td>8273592</td>\n      <td>0.99</td>\n    </tr>\n    <tr>\n      <th>4</th>\n      <td>5</td>\n      <td>Rock And Roll</td>\n      <td>111</td>\n      <td>Money</td>\n      <td>12</td>\n      <td>1</td>\n      <td>Berry Gordy, Jr./Janie Bradford</td>\n      <td>147591</td>\n      <td>2365897</td>\n      <td>0.99</td>\n    </tr>\n    <tr>\n      <th>5</th>\n      <td>6</td>\n      <td>Blues</td>\n      <td>194</td>\n      <td>First Time I Met The Blues</td>\n      <td>20</td>\n      <td>1</td>\n      <td>Eurreal Montgomery</td>\n      <td>140434</td>\n      <td>4604995</td>\n      <td>0.99</td>\n    </tr>\n    <tr>\n      <th>6</th>\n      <td>7</td>\n      <td>Latin</td>\n      <td>205</td>\n      <td>Jorge Da Capadócia</td>\n      <td>21</td>\n      <td>1</td>\n      <td>Jorge Ben</td>\n      <td>177397</td>\n      <td>5842196</td>\n      <td>0.99</td>\n    </tr>\n    <tr>\n      <th>7</th>\n      <td>8</td>\n      <td>Reggae</td>\n      <td>282</td>\n      <td>Girassol</td>\n      <td>26</td>\n      <td>1</td>\n      <td>Bino Farias/Da Gama/Lazão/Pedro Luis/Toni Garrido</td>\n      <td>249808</td>\n      <td>8327676</td>\n      <td>0.99</td>\n    </tr>\n    <tr>\n      <th>8</th>\n      <td>9</td>\n      <td>Pop</td>\n      <td>323</td>\n      <td>Dig-Dig, Lambe-Lambe (Ao Vivo)</td>\n      <td>29</td>\n      <td>1</td>\n      <td>Cassiano Costa/Cintia Maviane/J.F./Lucas Costa</td>\n      <td>205479</td>\n      <td>6892516</td>\n      <td>0.99</td>\n    </tr>\n    <tr>\n      <th>9</th>\n      <td>10</td>\n      <td>Soundtrack</td>\n      <td>360</td>\n      <td>Vai-Vai 2001</td>\n      <td>32</td>\n      <td>1</td>\n      <td>None</td>\n      <td>276349</td>\n      <td>9402241</td>\n      <td>0.99</td>\n    </tr>\n  </tbody>\n</table>\n</div>"
     },
     "execution_count": 22,
     "metadata": {},
     "output_type": "execute_result"
    }
   ],
   "source": [
    "genres.merge(tracks_subset, how='right', on='GenreId', suffixes=('_gen', '_track'))"
   ],
   "metadata": {
    "collapsed": false,
    "ExecuteTime": {
     "end_time": "2023-09-02T03:07:06.875414Z",
     "start_time": "2023-09-02T03:07:06.774878Z"
    }
   },
   "id": "12bf547f66b923ca"
  },
  {
   "cell_type": "markdown",
   "source": [
    "### 三、join 合并"
   ],
   "metadata": {
    "collapsed": false
   },
   "id": "2f7e8e5e995ad5ae"
  },
  {
   "cell_type": "code",
   "execution_count": 23,
   "outputs": [],
   "source": [
    "st16 = pd.read_csv('./data/stocks_2016.csv')\n",
    "st17 = pd.read_csv('./data/stocks_2017.csv')\n",
    "st18 = pd.read_csv('./data/stocks_2018.csv')"
   ],
   "metadata": {
    "collapsed": false,
    "ExecuteTime": {
     "end_time": "2023-09-02T03:20:22.804795Z",
     "start_time": "2023-09-02T03:20:22.675891Z"
    }
   },
   "id": "2d6df3b207dec85d"
  },
  {
   "cell_type": "markdown",
   "source": [
    "#### 1、用法一：类似merge用法(只能拼接列，不能拼接行)"
   ],
   "metadata": {
    "collapsed": false
   },
   "id": "78ff6f0f1fd0d49b"
  },
  {
   "cell_type": "markdown",
   "source": [
    "##### 特殊参数：lsuffix、rsuffix如果存在同名列，需要指定左右后缀"
   ],
   "metadata": {
    "collapsed": false
   },
   "id": "5f8099dc8d17d7e"
  },
  {
   "cell_type": "code",
   "execution_count": 24,
   "outputs": [
    {
     "data": {
      "text/plain": "  Symbol_2016  Shares_2016  Low_2016  High_2016 Symbol_2017  Shares_2017  \\\n0        AAPL           80        95        110        AAPL           50   \n1        TSLA           50        80        130          GE          100   \n2         WMT           40        55         70         IBM           87   \n\n   Low_2017  High_2017  \n0       120        140  \n1        30         40  \n2        75         95  ",
      "text/html": "<div>\n<style scoped>\n    .dataframe tbody tr th:only-of-type {\n        vertical-align: middle;\n    }\n\n    .dataframe tbody tr th {\n        vertical-align: top;\n    }\n\n    .dataframe thead th {\n        text-align: right;\n    }\n</style>\n<table border=\"1\" class=\"dataframe\">\n  <thead>\n    <tr style=\"text-align: right;\">\n      <th></th>\n      <th>Symbol_2016</th>\n      <th>Shares_2016</th>\n      <th>Low_2016</th>\n      <th>High_2016</th>\n      <th>Symbol_2017</th>\n      <th>Shares_2017</th>\n      <th>Low_2017</th>\n      <th>High_2017</th>\n    </tr>\n  </thead>\n  <tbody>\n    <tr>\n      <th>0</th>\n      <td>AAPL</td>\n      <td>80</td>\n      <td>95</td>\n      <td>110</td>\n      <td>AAPL</td>\n      <td>50</td>\n      <td>120</td>\n      <td>140</td>\n    </tr>\n    <tr>\n      <th>1</th>\n      <td>TSLA</td>\n      <td>50</td>\n      <td>80</td>\n      <td>130</td>\n      <td>GE</td>\n      <td>100</td>\n      <td>30</td>\n      <td>40</td>\n    </tr>\n    <tr>\n      <th>2</th>\n      <td>WMT</td>\n      <td>40</td>\n      <td>55</td>\n      <td>70</td>\n      <td>IBM</td>\n      <td>87</td>\n      <td>75</td>\n      <td>95</td>\n    </tr>\n  </tbody>\n</table>\n</div>"
     },
     "execution_count": 24,
     "metadata": {},
     "output_type": "execute_result"
    }
   ],
   "source": [
    "st16.join(st17, lsuffix='_2016', rsuffix='_2017')"
   ],
   "metadata": {
    "collapsed": false,
    "ExecuteTime": {
     "end_time": "2023-09-02T03:21:05.695438Z",
     "start_time": "2023-09-02T03:21:05.605834Z"
    }
   },
   "id": "cbc3601f8708f127"
  },
  {
   "cell_type": "markdown",
   "source": [
    "#### 2、用法二: 想用某列作为匹配，（默认是用index匹配）\n",
    "**解释：如下案例，想要看同一公司的不同表数据，需要按公司维度拼接数据；所以想要是用公司名列匹配**"
   ],
   "metadata": {
    "collapsed": false
   },
   "id": "a18c75f44f8af181"
  },
  {
   "cell_type": "code",
   "execution_count": 27,
   "outputs": [
    {
     "data": {
      "text/plain": "  Symbol  Shares_2016  Low_2016  High_2016  Shares_2018  Low_2018  High_2018\n0   AAPL           80        95        110         40.0     135.0      170.0\n1   TSLA           50        80        130         50.0     220.0      400.0\n2    WMT           40        55         70          NaN       NaN        NaN",
      "text/html": "<div>\n<style scoped>\n    .dataframe tbody tr th:only-of-type {\n        vertical-align: middle;\n    }\n\n    .dataframe tbody tr th {\n        vertical-align: top;\n    }\n\n    .dataframe thead th {\n        text-align: right;\n    }\n</style>\n<table border=\"1\" class=\"dataframe\">\n  <thead>\n    <tr style=\"text-align: right;\">\n      <th></th>\n      <th>Symbol</th>\n      <th>Shares_2016</th>\n      <th>Low_2016</th>\n      <th>High_2016</th>\n      <th>Shares_2018</th>\n      <th>Low_2018</th>\n      <th>High_2018</th>\n    </tr>\n  </thead>\n  <tbody>\n    <tr>\n      <th>0</th>\n      <td>AAPL</td>\n      <td>80</td>\n      <td>95</td>\n      <td>110</td>\n      <td>40.0</td>\n      <td>135.0</td>\n      <td>170.0</td>\n    </tr>\n    <tr>\n      <th>1</th>\n      <td>TSLA</td>\n      <td>50</td>\n      <td>80</td>\n      <td>130</td>\n      <td>50.0</td>\n      <td>220.0</td>\n      <td>400.0</td>\n    </tr>\n    <tr>\n      <th>2</th>\n      <td>WMT</td>\n      <td>40</td>\n      <td>55</td>\n      <td>70</td>\n      <td>NaN</td>\n      <td>NaN</td>\n      <td>NaN</td>\n    </tr>\n  </tbody>\n</table>\n</div>"
     },
     "execution_count": 27,
     "metadata": {},
     "output_type": "execute_result"
    }
   ],
   "source": [
    "st16.join(st18.set_index('Symbol'), lsuffix='_2016', rsuffix='_2018', on='Symbol')"
   ],
   "metadata": {
    "collapsed": false,
    "ExecuteTime": {
     "end_time": "2023-09-02T03:31:40.045746Z",
     "start_time": "2023-09-02T03:31:39.908916Z"
    }
   },
   "id": "a83e817ef81f5b13"
  },
  {
   "cell_type": "code",
   "execution_count": null,
   "outputs": [],
   "source": [],
   "metadata": {
    "collapsed": false
   },
   "id": "1524c98f857e0d4a"
  }
 ],
 "metadata": {
  "kernelspec": {
   "display_name": "Python 3",
   "language": "python",
   "name": "python3"
  },
  "language_info": {
   "codemirror_mode": {
    "name": "ipython",
    "version": 2
   },
   "file_extension": ".py",
   "mimetype": "text/x-python",
   "name": "python",
   "nbconvert_exporter": "python",
   "pygments_lexer": "ipython2",
   "version": "2.7.6"
  }
 },
 "nbformat": 4,
 "nbformat_minor": 5
}
