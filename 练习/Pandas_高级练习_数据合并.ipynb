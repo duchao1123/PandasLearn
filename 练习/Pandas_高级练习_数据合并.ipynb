{
 "cells": [
  {
   "cell_type": "code",
   "execution_count": 1,
   "outputs": [],
   "source": [
    "import pandas as pd\n",
    "import numpy as np\n",
    "import sqlite3 as sq"
   ],
   "metadata": {
    "collapsed": false,
    "ExecuteTime": {
     "end_time": "2023-09-03T01:05:33.405409Z",
     "start_time": "2023-09-03T01:05:32.562096Z"
    }
   },
   "id": "a7f463104ed47249"
  },
  {
   "cell_type": "code",
   "execution_count": 2,
   "outputs": [
    {
     "data": {
      "text/plain": "'/home/duchao/project/learn_notebook/jupyter_demo/Pandas/练习'"
     },
     "execution_count": 2,
     "metadata": {},
     "output_type": "execute_result"
    }
   ],
   "source": [
    "pwd"
   ],
   "metadata": {
    "collapsed": false,
    "ExecuteTime": {
     "end_time": "2023-09-03T01:05:33.431315Z",
     "start_time": "2023-09-03T01:05:32.883714Z"
    }
   },
   "id": "dbf7ea3a7eb44f56"
  },
  {
   "cell_type": "raw",
   "source": [
    "一共6张表, 关联查询, 回答以下问题\n",
    "- 找到数据集中数字媒体(音乐/视频)销量的top 10 (tracks 中每一条记录就是一个数字媒体)\n",
    "- 找到艺术家销量的top10 (artists 表中 每一条记录对应一个艺术家)\n",
    "- 找到最高产的艺术家top5\n",
    "- 找到哪一种类型的数字媒体产品最受欢迎 (数字媒体类型 对应genres表 一共25种类型)\n",
    "- 统计账单地址是美国的用户最喜欢的歌手和媒体类型\n",
    "- 统计每个国家下单数量最多/下单金额最高的用户\n",
    "- 统计每一张表中的缺失值数量\n",
    "- 如果数据中包含数值类型的缺失值用均值填充, 如果包含类别型变量的缺失值用众数填充"
   ],
   "metadata": {
    "collapsed": false
   },
   "id": "285eb81952d0ccab"
  },
  {
   "cell_type": "code",
   "execution_count": 3,
   "outputs": [],
   "source": [
    "con = sq.connect('../data/chinook.db')\n",
    "tracks = pd.read_sql_query('SELECT * FROM tracks',con)\n",
    "artists = pd.read_sql_query('SELECT * FROM artists',con)\n",
    "customer = pd.read_sql_query('SELECT * FROM Customers',con)\n",
    "album = pd.read_sql_query('SELECT * FROM albums',con)\n",
    "invoice = pd.read_sql_query('select * from invoices', con)\n",
    "invoice_items = pd.read_sql_query('select * from invoice_items', con)\n",
    "genres = pd.read_sql_query('select * from genres', con)\n",
    "medias = pd.read_sql_query('select * from media_types', con)\n",
    "employees = pd.read_sql_query('select * from employees', con)"
   ],
   "metadata": {
    "collapsed": false,
    "ExecuteTime": {
     "end_time": "2023-09-03T01:05:33.431500Z",
     "start_time": "2023-09-03T01:05:32.895975Z"
    }
   },
   "id": "5458c31a4a4bc08e"
  },
  {
   "cell_type": "code",
   "execution_count": 4,
   "outputs": [
    {
     "data": {
      "text/plain": "      InvoiceLineId  InvoiceId  TrackId  UnitPrice  Quantity\n0                 1          1        2       0.99         1\n1                 2          1        4       0.99         1\n2                 3          2        6       0.99         1\n3                 4          2        8       0.99         1\n4                 5          2       10       0.99         1\n5                 6          2       12       0.99         1\n6                 7          3       16       0.99         1\n7                 8          3       20       0.99         1\n8                 9          3       24       0.99         1\n9                10          3       28       0.99         1\n10               11          3       32       0.99         1\n11               12          3       36       0.99         1\n12               13          4       42       0.99         1\n13               14          4       48       0.99         1\n14               15          4       54       0.99         1\n15               16          4       60       0.99         1\n16               17          4       66       0.99         1\n17               18          4       72       0.99         1\n18               19          4       78       0.99         1\n19               20          4       84       0.99         1\n20               21          4       90       0.99         1\n21               22          5       99       0.99         1\n22               23          5      108       0.99         1\n23               24          5      117       0.99         1\n24               25          5      126       0.99         1\n25               26          5      135       0.99         1\n26               27          5      144       0.99         1\n27               28          5      153       0.99         1\n28               29          5      162       0.99         1\n29               30          5      171       0.99         1\n...             ...        ...      ...        ...       ...\n2210           2211        409     2963       0.99         1\n2211           2212        409     2967       0.99         1\n2212           2213        409     2971       0.99         1\n2213           2214        409     2975       0.99         1\n2214           2215        409     2979       0.99         1\n2215           2216        409     2983       0.99         1\n2216           2217        410     2989       0.99         1\n2217           2218        410     2995       0.99         1\n2218           2219        410     3001       0.99         1\n2219           2220        410     3007       0.99         1\n2220           2221        410     3013       0.99         1\n2221           2222        410     3019       0.99         1\n2222           2223        410     3025       0.99         1\n2223           2224        410     3031       0.99         1\n2224           2225        410     3037       0.99         1\n2225           2226        411     3046       0.99         1\n2226           2227        411     3055       0.99         1\n2227           2228        411     3064       0.99         1\n2228           2229        411     3073       0.99         1\n2229           2230        411     3082       0.99         1\n2230           2231        411     3091       0.99         1\n2231           2232        411     3100       0.99         1\n2232           2233        411     3109       0.99         1\n2233           2234        411     3118       0.99         1\n2234           2235        411     3127       0.99         1\n2235           2236        411     3136       0.99         1\n2236           2237        411     3145       0.99         1\n2237           2238        411     3154       0.99         1\n2238           2239        411     3163       0.99         1\n2239           2240        412     3177       1.99         1\n\n[2240 rows x 5 columns]",
      "text/html": "<div>\n<style scoped>\n    .dataframe tbody tr th:only-of-type {\n        vertical-align: middle;\n    }\n\n    .dataframe tbody tr th {\n        vertical-align: top;\n    }\n\n    .dataframe thead th {\n        text-align: right;\n    }\n</style>\n<table border=\"1\" class=\"dataframe\">\n  <thead>\n    <tr style=\"text-align: right;\">\n      <th></th>\n      <th>InvoiceLineId</th>\n      <th>InvoiceId</th>\n      <th>TrackId</th>\n      <th>UnitPrice</th>\n      <th>Quantity</th>\n    </tr>\n  </thead>\n  <tbody>\n    <tr>\n      <th>0</th>\n      <td>1</td>\n      <td>1</td>\n      <td>2</td>\n      <td>0.99</td>\n      <td>1</td>\n    </tr>\n    <tr>\n      <th>1</th>\n      <td>2</td>\n      <td>1</td>\n      <td>4</td>\n      <td>0.99</td>\n      <td>1</td>\n    </tr>\n    <tr>\n      <th>2</th>\n      <td>3</td>\n      <td>2</td>\n      <td>6</td>\n      <td>0.99</td>\n      <td>1</td>\n    </tr>\n    <tr>\n      <th>3</th>\n      <td>4</td>\n      <td>2</td>\n      <td>8</td>\n      <td>0.99</td>\n      <td>1</td>\n    </tr>\n    <tr>\n      <th>4</th>\n      <td>5</td>\n      <td>2</td>\n      <td>10</td>\n      <td>0.99</td>\n      <td>1</td>\n    </tr>\n    <tr>\n      <th>5</th>\n      <td>6</td>\n      <td>2</td>\n      <td>12</td>\n      <td>0.99</td>\n      <td>1</td>\n    </tr>\n    <tr>\n      <th>6</th>\n      <td>7</td>\n      <td>3</td>\n      <td>16</td>\n      <td>0.99</td>\n      <td>1</td>\n    </tr>\n    <tr>\n      <th>7</th>\n      <td>8</td>\n      <td>3</td>\n      <td>20</td>\n      <td>0.99</td>\n      <td>1</td>\n    </tr>\n    <tr>\n      <th>8</th>\n      <td>9</td>\n      <td>3</td>\n      <td>24</td>\n      <td>0.99</td>\n      <td>1</td>\n    </tr>\n    <tr>\n      <th>9</th>\n      <td>10</td>\n      <td>3</td>\n      <td>28</td>\n      <td>0.99</td>\n      <td>1</td>\n    </tr>\n    <tr>\n      <th>10</th>\n      <td>11</td>\n      <td>3</td>\n      <td>32</td>\n      <td>0.99</td>\n      <td>1</td>\n    </tr>\n    <tr>\n      <th>11</th>\n      <td>12</td>\n      <td>3</td>\n      <td>36</td>\n      <td>0.99</td>\n      <td>1</td>\n    </tr>\n    <tr>\n      <th>12</th>\n      <td>13</td>\n      <td>4</td>\n      <td>42</td>\n      <td>0.99</td>\n      <td>1</td>\n    </tr>\n    <tr>\n      <th>13</th>\n      <td>14</td>\n      <td>4</td>\n      <td>48</td>\n      <td>0.99</td>\n      <td>1</td>\n    </tr>\n    <tr>\n      <th>14</th>\n      <td>15</td>\n      <td>4</td>\n      <td>54</td>\n      <td>0.99</td>\n      <td>1</td>\n    </tr>\n    <tr>\n      <th>15</th>\n      <td>16</td>\n      <td>4</td>\n      <td>60</td>\n      <td>0.99</td>\n      <td>1</td>\n    </tr>\n    <tr>\n      <th>16</th>\n      <td>17</td>\n      <td>4</td>\n      <td>66</td>\n      <td>0.99</td>\n      <td>1</td>\n    </tr>\n    <tr>\n      <th>17</th>\n      <td>18</td>\n      <td>4</td>\n      <td>72</td>\n      <td>0.99</td>\n      <td>1</td>\n    </tr>\n    <tr>\n      <th>18</th>\n      <td>19</td>\n      <td>4</td>\n      <td>78</td>\n      <td>0.99</td>\n      <td>1</td>\n    </tr>\n    <tr>\n      <th>19</th>\n      <td>20</td>\n      <td>4</td>\n      <td>84</td>\n      <td>0.99</td>\n      <td>1</td>\n    </tr>\n    <tr>\n      <th>20</th>\n      <td>21</td>\n      <td>4</td>\n      <td>90</td>\n      <td>0.99</td>\n      <td>1</td>\n    </tr>\n    <tr>\n      <th>21</th>\n      <td>22</td>\n      <td>5</td>\n      <td>99</td>\n      <td>0.99</td>\n      <td>1</td>\n    </tr>\n    <tr>\n      <th>22</th>\n      <td>23</td>\n      <td>5</td>\n      <td>108</td>\n      <td>0.99</td>\n      <td>1</td>\n    </tr>\n    <tr>\n      <th>23</th>\n      <td>24</td>\n      <td>5</td>\n      <td>117</td>\n      <td>0.99</td>\n      <td>1</td>\n    </tr>\n    <tr>\n      <th>24</th>\n      <td>25</td>\n      <td>5</td>\n      <td>126</td>\n      <td>0.99</td>\n      <td>1</td>\n    </tr>\n    <tr>\n      <th>25</th>\n      <td>26</td>\n      <td>5</td>\n      <td>135</td>\n      <td>0.99</td>\n      <td>1</td>\n    </tr>\n    <tr>\n      <th>26</th>\n      <td>27</td>\n      <td>5</td>\n      <td>144</td>\n      <td>0.99</td>\n      <td>1</td>\n    </tr>\n    <tr>\n      <th>27</th>\n      <td>28</td>\n      <td>5</td>\n      <td>153</td>\n      <td>0.99</td>\n      <td>1</td>\n    </tr>\n    <tr>\n      <th>28</th>\n      <td>29</td>\n      <td>5</td>\n      <td>162</td>\n      <td>0.99</td>\n      <td>1</td>\n    </tr>\n    <tr>\n      <th>29</th>\n      <td>30</td>\n      <td>5</td>\n      <td>171</td>\n      <td>0.99</td>\n      <td>1</td>\n    </tr>\n    <tr>\n      <th>...</th>\n      <td>...</td>\n      <td>...</td>\n      <td>...</td>\n      <td>...</td>\n      <td>...</td>\n    </tr>\n    <tr>\n      <th>2210</th>\n      <td>2211</td>\n      <td>409</td>\n      <td>2963</td>\n      <td>0.99</td>\n      <td>1</td>\n    </tr>\n    <tr>\n      <th>2211</th>\n      <td>2212</td>\n      <td>409</td>\n      <td>2967</td>\n      <td>0.99</td>\n      <td>1</td>\n    </tr>\n    <tr>\n      <th>2212</th>\n      <td>2213</td>\n      <td>409</td>\n      <td>2971</td>\n      <td>0.99</td>\n      <td>1</td>\n    </tr>\n    <tr>\n      <th>2213</th>\n      <td>2214</td>\n      <td>409</td>\n      <td>2975</td>\n      <td>0.99</td>\n      <td>1</td>\n    </tr>\n    <tr>\n      <th>2214</th>\n      <td>2215</td>\n      <td>409</td>\n      <td>2979</td>\n      <td>0.99</td>\n      <td>1</td>\n    </tr>\n    <tr>\n      <th>2215</th>\n      <td>2216</td>\n      <td>409</td>\n      <td>2983</td>\n      <td>0.99</td>\n      <td>1</td>\n    </tr>\n    <tr>\n      <th>2216</th>\n      <td>2217</td>\n      <td>410</td>\n      <td>2989</td>\n      <td>0.99</td>\n      <td>1</td>\n    </tr>\n    <tr>\n      <th>2217</th>\n      <td>2218</td>\n      <td>410</td>\n      <td>2995</td>\n      <td>0.99</td>\n      <td>1</td>\n    </tr>\n    <tr>\n      <th>2218</th>\n      <td>2219</td>\n      <td>410</td>\n      <td>3001</td>\n      <td>0.99</td>\n      <td>1</td>\n    </tr>\n    <tr>\n      <th>2219</th>\n      <td>2220</td>\n      <td>410</td>\n      <td>3007</td>\n      <td>0.99</td>\n      <td>1</td>\n    </tr>\n    <tr>\n      <th>2220</th>\n      <td>2221</td>\n      <td>410</td>\n      <td>3013</td>\n      <td>0.99</td>\n      <td>1</td>\n    </tr>\n    <tr>\n      <th>2221</th>\n      <td>2222</td>\n      <td>410</td>\n      <td>3019</td>\n      <td>0.99</td>\n      <td>1</td>\n    </tr>\n    <tr>\n      <th>2222</th>\n      <td>2223</td>\n      <td>410</td>\n      <td>3025</td>\n      <td>0.99</td>\n      <td>1</td>\n    </tr>\n    <tr>\n      <th>2223</th>\n      <td>2224</td>\n      <td>410</td>\n      <td>3031</td>\n      <td>0.99</td>\n      <td>1</td>\n    </tr>\n    <tr>\n      <th>2224</th>\n      <td>2225</td>\n      <td>410</td>\n      <td>3037</td>\n      <td>0.99</td>\n      <td>1</td>\n    </tr>\n    <tr>\n      <th>2225</th>\n      <td>2226</td>\n      <td>411</td>\n      <td>3046</td>\n      <td>0.99</td>\n      <td>1</td>\n    </tr>\n    <tr>\n      <th>2226</th>\n      <td>2227</td>\n      <td>411</td>\n      <td>3055</td>\n      <td>0.99</td>\n      <td>1</td>\n    </tr>\n    <tr>\n      <th>2227</th>\n      <td>2228</td>\n      <td>411</td>\n      <td>3064</td>\n      <td>0.99</td>\n      <td>1</td>\n    </tr>\n    <tr>\n      <th>2228</th>\n      <td>2229</td>\n      <td>411</td>\n      <td>3073</td>\n      <td>0.99</td>\n      <td>1</td>\n    </tr>\n    <tr>\n      <th>2229</th>\n      <td>2230</td>\n      <td>411</td>\n      <td>3082</td>\n      <td>0.99</td>\n      <td>1</td>\n    </tr>\n    <tr>\n      <th>2230</th>\n      <td>2231</td>\n      <td>411</td>\n      <td>3091</td>\n      <td>0.99</td>\n      <td>1</td>\n    </tr>\n    <tr>\n      <th>2231</th>\n      <td>2232</td>\n      <td>411</td>\n      <td>3100</td>\n      <td>0.99</td>\n      <td>1</td>\n    </tr>\n    <tr>\n      <th>2232</th>\n      <td>2233</td>\n      <td>411</td>\n      <td>3109</td>\n      <td>0.99</td>\n      <td>1</td>\n    </tr>\n    <tr>\n      <th>2233</th>\n      <td>2234</td>\n      <td>411</td>\n      <td>3118</td>\n      <td>0.99</td>\n      <td>1</td>\n    </tr>\n    <tr>\n      <th>2234</th>\n      <td>2235</td>\n      <td>411</td>\n      <td>3127</td>\n      <td>0.99</td>\n      <td>1</td>\n    </tr>\n    <tr>\n      <th>2235</th>\n      <td>2236</td>\n      <td>411</td>\n      <td>3136</td>\n      <td>0.99</td>\n      <td>1</td>\n    </tr>\n    <tr>\n      <th>2236</th>\n      <td>2237</td>\n      <td>411</td>\n      <td>3145</td>\n      <td>0.99</td>\n      <td>1</td>\n    </tr>\n    <tr>\n      <th>2237</th>\n      <td>2238</td>\n      <td>411</td>\n      <td>3154</td>\n      <td>0.99</td>\n      <td>1</td>\n    </tr>\n    <tr>\n      <th>2238</th>\n      <td>2239</td>\n      <td>411</td>\n      <td>3163</td>\n      <td>0.99</td>\n      <td>1</td>\n    </tr>\n    <tr>\n      <th>2239</th>\n      <td>2240</td>\n      <td>412</td>\n      <td>3177</td>\n      <td>1.99</td>\n      <td>1</td>\n    </tr>\n  </tbody>\n</table>\n<p>2240 rows × 5 columns</p>\n</div>"
     },
     "execution_count": 4,
     "metadata": {},
     "output_type": "execute_result"
    }
   ],
   "source": [
    "invoice_items"
   ],
   "metadata": {
    "collapsed": false,
    "ExecuteTime": {
     "end_time": "2023-09-03T01:05:33.432011Z",
     "start_time": "2023-09-03T01:05:33.078007Z"
    }
   },
   "id": "cc702beeee1f4670"
  },
  {
   "cell_type": "code",
   "execution_count": 5,
   "outputs": [
    {
     "data": {
      "text/plain": "array([   1,    2,    3, ..., 3501, 3502, 3503])"
     },
     "execution_count": 5,
     "metadata": {},
     "output_type": "execute_result"
    }
   ],
   "source": [
    "tracks['TrackId'].unique()\n"
   ],
   "metadata": {
    "collapsed": false,
    "ExecuteTime": {
     "end_time": "2023-09-03T01:05:33.432200Z",
     "start_time": "2023-09-03T01:05:33.100931Z"
    }
   },
   "id": "c54e6ecb81b2780"
  },
  {
   "cell_type": "code",
   "execution_count": 6,
   "outputs": [
    {
     "data": {
      "text/plain": "   ArtistId               Name\n0         1              AC/DC\n1         2             Accept\n2         3          Aerosmith\n3         4  Alanis Morissette\n4         5    Alice In Chains",
      "text/html": "<div>\n<style scoped>\n    .dataframe tbody tr th:only-of-type {\n        vertical-align: middle;\n    }\n\n    .dataframe tbody tr th {\n        vertical-align: top;\n    }\n\n    .dataframe thead th {\n        text-align: right;\n    }\n</style>\n<table border=\"1\" class=\"dataframe\">\n  <thead>\n    <tr style=\"text-align: right;\">\n      <th></th>\n      <th>ArtistId</th>\n      <th>Name</th>\n    </tr>\n  </thead>\n  <tbody>\n    <tr>\n      <th>0</th>\n      <td>1</td>\n      <td>AC/DC</td>\n    </tr>\n    <tr>\n      <th>1</th>\n      <td>2</td>\n      <td>Accept</td>\n    </tr>\n    <tr>\n      <th>2</th>\n      <td>3</td>\n      <td>Aerosmith</td>\n    </tr>\n    <tr>\n      <th>3</th>\n      <td>4</td>\n      <td>Alanis Morissette</td>\n    </tr>\n    <tr>\n      <th>4</th>\n      <td>5</td>\n      <td>Alice In Chains</td>\n    </tr>\n  </tbody>\n</table>\n</div>"
     },
     "execution_count": 6,
     "metadata": {},
     "output_type": "execute_result"
    }
   ],
   "source": [
    "artists.head()"
   ],
   "metadata": {
    "collapsed": false,
    "ExecuteTime": {
     "end_time": "2023-09-03T01:05:33.432517Z",
     "start_time": "2023-09-03T01:05:33.118556Z"
    }
   },
   "id": "c2cd111618c5e899"
  },
  {
   "cell_type": "code",
   "execution_count": 7,
   "outputs": [
    {
     "data": {
      "text/plain": "   CustomerId  FirstName     LastName  \\\n0           1       Luís    Gonçalves   \n1           2     Leonie       Köhler   \n2           3   François     Tremblay   \n3           4      Bjørn       Hansen   \n4           5  František  Wichterlová   \n\n                                            Company  \\\n0  Embraer - Empresa Brasileira de Aeronáutica S.A.   \n1                                              None   \n2                                              None   \n3                                              None   \n4                                  JetBrains s.r.o.   \n\n                           Address                 City State         Country  \\\n0  Av. Brigadeiro Faria Lima, 2170  São José dos Campos    SP          Brazil   \n1          Theodor-Heuss-Straße 34            Stuttgart  None         Germany   \n2                1498 rue Bélanger             Montréal    QC          Canada   \n3                 Ullevålsveien 14                 Oslo  None          Norway   \n4                    Klanova 9/506               Prague  None  Czech Republic   \n\n  PostalCode               Phone                 Fax  \\\n0  12227-000  +55 (12) 3923-5555  +55 (12) 3923-5566   \n1      70174    +49 0711 2842222                None   \n2    H2G 1A7   +1 (514) 721-4711                None   \n3       0171     +47 22 44 22 22                None   \n4      14700    +420 2 4172 5555    +420 2 4172 5555   \n\n                      Email  SupportRepId  \n0      luisg@embraer.com.br             3  \n1     leonekohler@surfeu.de             5  \n2       ftremblay@gmail.com             3  \n3     bjorn.hansen@yahoo.no             4  \n4  frantisekw@jetbrains.com             4  ",
      "text/html": "<div>\n<style scoped>\n    .dataframe tbody tr th:only-of-type {\n        vertical-align: middle;\n    }\n\n    .dataframe tbody tr th {\n        vertical-align: top;\n    }\n\n    .dataframe thead th {\n        text-align: right;\n    }\n</style>\n<table border=\"1\" class=\"dataframe\">\n  <thead>\n    <tr style=\"text-align: right;\">\n      <th></th>\n      <th>CustomerId</th>\n      <th>FirstName</th>\n      <th>LastName</th>\n      <th>Company</th>\n      <th>Address</th>\n      <th>City</th>\n      <th>State</th>\n      <th>Country</th>\n      <th>PostalCode</th>\n      <th>Phone</th>\n      <th>Fax</th>\n      <th>Email</th>\n      <th>SupportRepId</th>\n    </tr>\n  </thead>\n  <tbody>\n    <tr>\n      <th>0</th>\n      <td>1</td>\n      <td>Luís</td>\n      <td>Gonçalves</td>\n      <td>Embraer - Empresa Brasileira de Aeronáutica S.A.</td>\n      <td>Av. Brigadeiro Faria Lima, 2170</td>\n      <td>São José dos Campos</td>\n      <td>SP</td>\n      <td>Brazil</td>\n      <td>12227-000</td>\n      <td>+55 (12) 3923-5555</td>\n      <td>+55 (12) 3923-5566</td>\n      <td>luisg@embraer.com.br</td>\n      <td>3</td>\n    </tr>\n    <tr>\n      <th>1</th>\n      <td>2</td>\n      <td>Leonie</td>\n      <td>Köhler</td>\n      <td>None</td>\n      <td>Theodor-Heuss-Straße 34</td>\n      <td>Stuttgart</td>\n      <td>None</td>\n      <td>Germany</td>\n      <td>70174</td>\n      <td>+49 0711 2842222</td>\n      <td>None</td>\n      <td>leonekohler@surfeu.de</td>\n      <td>5</td>\n    </tr>\n    <tr>\n      <th>2</th>\n      <td>3</td>\n      <td>François</td>\n      <td>Tremblay</td>\n      <td>None</td>\n      <td>1498 rue Bélanger</td>\n      <td>Montréal</td>\n      <td>QC</td>\n      <td>Canada</td>\n      <td>H2G 1A7</td>\n      <td>+1 (514) 721-4711</td>\n      <td>None</td>\n      <td>ftremblay@gmail.com</td>\n      <td>3</td>\n    </tr>\n    <tr>\n      <th>3</th>\n      <td>4</td>\n      <td>Bjørn</td>\n      <td>Hansen</td>\n      <td>None</td>\n      <td>Ullevålsveien 14</td>\n      <td>Oslo</td>\n      <td>None</td>\n      <td>Norway</td>\n      <td>0171</td>\n      <td>+47 22 44 22 22</td>\n      <td>None</td>\n      <td>bjorn.hansen@yahoo.no</td>\n      <td>4</td>\n    </tr>\n    <tr>\n      <th>4</th>\n      <td>5</td>\n      <td>František</td>\n      <td>Wichterlová</td>\n      <td>JetBrains s.r.o.</td>\n      <td>Klanova 9/506</td>\n      <td>Prague</td>\n      <td>None</td>\n      <td>Czech Republic</td>\n      <td>14700</td>\n      <td>+420 2 4172 5555</td>\n      <td>+420 2 4172 5555</td>\n      <td>frantisekw@jetbrains.com</td>\n      <td>4</td>\n    </tr>\n  </tbody>\n</table>\n</div>"
     },
     "execution_count": 7,
     "metadata": {},
     "output_type": "execute_result"
    }
   ],
   "source": [
    "customer.head()"
   ],
   "metadata": {
    "collapsed": false,
    "ExecuteTime": {
     "end_time": "2023-09-03T01:05:33.433146Z",
     "start_time": "2023-09-03T01:05:33.146029Z"
    }
   },
   "id": "f61396ecb237e7ae"
  },
  {
   "cell_type": "code",
   "execution_count": 8,
   "outputs": [
    {
     "data": {
      "text/plain": "     AlbumId                                              Title  ArtistId\n0          1              For Those About To Rock We Salute You         1\n1          2                                  Balls to the Wall         2\n2          3                                  Restless and Wild         2\n3          4                                  Let There Be Rock         1\n4          5                                           Big Ones         3\n5          6                                 Jagged Little Pill         4\n6          7                                           Facelift         5\n7          8                                     Warner 25 Anos         6\n8          9                     Plays Metallica By Four Cellos         7\n9         10                                         Audioslave         8\n10        11                                       Out Of Exile         8\n11        12                                BackBeat Soundtrack         9\n12        13                           The Best Of Billy Cobham        10\n13        14           Alcohol Fueled Brewtality Live! [Disc 1]        11\n14        15           Alcohol Fueled Brewtality Live! [Disc 2]        11\n15        16                                      Black Sabbath        12\n16        17                    Black Sabbath Vol. 4 (Remaster)        12\n17        18                                         Body Count        13\n18        19                                   Chemical Wedding        14\n19        20   The Best Of Buddy Guy - The Millenium Collection        15\n20        21                                       Prenda Minha        16\n21        22                              Sozinho Remix Ao Vivo        16\n22        23                                     Minha Historia        17\n23        24                                     Afrociberdelia        18\n24        25                                    Da Lama Ao Caos        18\n25        26                                Acústico MTV [Live]        19\n26        27                                Cidade Negra - Hits        19\n27        28                                           Na Pista        20\n28        29                                     Axé Bahia 2001        21\n29        30                       BBC Sessions [Disc 1] [Live]        22\n..       ...                                                ...       ...\n317      318                           SCRIABIN: Vers la flamme       250\n318      319  Armada: Music from the Courts of England and S...       251\n319      320                    Mozart: Symphonies Nos. 40 & 41       248\n320      321                                      Back to Black       252\n321      322                                              Frank       252\n322      323              Carried to Dust (Bonus Track Version)       253\n323      324          Beethoven: Symphony No. 6 'Pastoral' Etc.       254\n324      325                   Bartok: Violin & Viola Concertos       255\n325      326             Mendelssohn: A Midsummer Night's Dream       256\n326      327                 Bach: Orchestral Suites Nos. 1 - 4       257\n327      328      Charpentier: Divertissements, Airs & Concerts       258\n328      329                             South American Getaway       259\n329      330                            Górecki: Symphony No. 3       260\n330      331                           Purcell: The Fairy Queen       261\n331      332                      The Ultimate Relexation Album       262\n332      333                  Purcell: Music for the Queen Mary       263\n333      334                       Weill: The Seven Deadly Sins       264\n334      335  J.S. Bach: Chaconne, Suite in E Minor, Partita...       265\n335      336  Prokofiev: Symphony No.5 & Stravinksy: Le Sacr...       248\n336      337                   Szymanowski: Piano Works, Vol. 1       266\n337      338                        Nielsen: The Six Symphonies       267\n338      339  Great Recordings of the Century: Paganini's 24...       268\n339      340        Liszt - 12 Études D'Execution Transcendante       269\n340      341  Great Recordings of the Century - Shubert: Sch...       270\n341      342  Locatelli: Concertos for Violin, Strings and C...       271\n342      343                             Respighi:Pines of Rome       226\n343      344  Schubert: The Late String Quartets & String Qu...       272\n344      345                                Monteverdi: L'Orfeo       273\n345      346                              Mozart: Chamber Music       274\n346      347  Koyaanisqatsi (Soundtrack from the Motion Pict...       275\n\n[347 rows x 3 columns]",
      "text/html": "<div>\n<style scoped>\n    .dataframe tbody tr th:only-of-type {\n        vertical-align: middle;\n    }\n\n    .dataframe tbody tr th {\n        vertical-align: top;\n    }\n\n    .dataframe thead th {\n        text-align: right;\n    }\n</style>\n<table border=\"1\" class=\"dataframe\">\n  <thead>\n    <tr style=\"text-align: right;\">\n      <th></th>\n      <th>AlbumId</th>\n      <th>Title</th>\n      <th>ArtistId</th>\n    </tr>\n  </thead>\n  <tbody>\n    <tr>\n      <th>0</th>\n      <td>1</td>\n      <td>For Those About To Rock We Salute You</td>\n      <td>1</td>\n    </tr>\n    <tr>\n      <th>1</th>\n      <td>2</td>\n      <td>Balls to the Wall</td>\n      <td>2</td>\n    </tr>\n    <tr>\n      <th>2</th>\n      <td>3</td>\n      <td>Restless and Wild</td>\n      <td>2</td>\n    </tr>\n    <tr>\n      <th>3</th>\n      <td>4</td>\n      <td>Let There Be Rock</td>\n      <td>1</td>\n    </tr>\n    <tr>\n      <th>4</th>\n      <td>5</td>\n      <td>Big Ones</td>\n      <td>3</td>\n    </tr>\n    <tr>\n      <th>5</th>\n      <td>6</td>\n      <td>Jagged Little Pill</td>\n      <td>4</td>\n    </tr>\n    <tr>\n      <th>6</th>\n      <td>7</td>\n      <td>Facelift</td>\n      <td>5</td>\n    </tr>\n    <tr>\n      <th>7</th>\n      <td>8</td>\n      <td>Warner 25 Anos</td>\n      <td>6</td>\n    </tr>\n    <tr>\n      <th>8</th>\n      <td>9</td>\n      <td>Plays Metallica By Four Cellos</td>\n      <td>7</td>\n    </tr>\n    <tr>\n      <th>9</th>\n      <td>10</td>\n      <td>Audioslave</td>\n      <td>8</td>\n    </tr>\n    <tr>\n      <th>10</th>\n      <td>11</td>\n      <td>Out Of Exile</td>\n      <td>8</td>\n    </tr>\n    <tr>\n      <th>11</th>\n      <td>12</td>\n      <td>BackBeat Soundtrack</td>\n      <td>9</td>\n    </tr>\n    <tr>\n      <th>12</th>\n      <td>13</td>\n      <td>The Best Of Billy Cobham</td>\n      <td>10</td>\n    </tr>\n    <tr>\n      <th>13</th>\n      <td>14</td>\n      <td>Alcohol Fueled Brewtality Live! [Disc 1]</td>\n      <td>11</td>\n    </tr>\n    <tr>\n      <th>14</th>\n      <td>15</td>\n      <td>Alcohol Fueled Brewtality Live! [Disc 2]</td>\n      <td>11</td>\n    </tr>\n    <tr>\n      <th>15</th>\n      <td>16</td>\n      <td>Black Sabbath</td>\n      <td>12</td>\n    </tr>\n    <tr>\n      <th>16</th>\n      <td>17</td>\n      <td>Black Sabbath Vol. 4 (Remaster)</td>\n      <td>12</td>\n    </tr>\n    <tr>\n      <th>17</th>\n      <td>18</td>\n      <td>Body Count</td>\n      <td>13</td>\n    </tr>\n    <tr>\n      <th>18</th>\n      <td>19</td>\n      <td>Chemical Wedding</td>\n      <td>14</td>\n    </tr>\n    <tr>\n      <th>19</th>\n      <td>20</td>\n      <td>The Best Of Buddy Guy - The Millenium Collection</td>\n      <td>15</td>\n    </tr>\n    <tr>\n      <th>20</th>\n      <td>21</td>\n      <td>Prenda Minha</td>\n      <td>16</td>\n    </tr>\n    <tr>\n      <th>21</th>\n      <td>22</td>\n      <td>Sozinho Remix Ao Vivo</td>\n      <td>16</td>\n    </tr>\n    <tr>\n      <th>22</th>\n      <td>23</td>\n      <td>Minha Historia</td>\n      <td>17</td>\n    </tr>\n    <tr>\n      <th>23</th>\n      <td>24</td>\n      <td>Afrociberdelia</td>\n      <td>18</td>\n    </tr>\n    <tr>\n      <th>24</th>\n      <td>25</td>\n      <td>Da Lama Ao Caos</td>\n      <td>18</td>\n    </tr>\n    <tr>\n      <th>25</th>\n      <td>26</td>\n      <td>Acústico MTV [Live]</td>\n      <td>19</td>\n    </tr>\n    <tr>\n      <th>26</th>\n      <td>27</td>\n      <td>Cidade Negra - Hits</td>\n      <td>19</td>\n    </tr>\n    <tr>\n      <th>27</th>\n      <td>28</td>\n      <td>Na Pista</td>\n      <td>20</td>\n    </tr>\n    <tr>\n      <th>28</th>\n      <td>29</td>\n      <td>Axé Bahia 2001</td>\n      <td>21</td>\n    </tr>\n    <tr>\n      <th>29</th>\n      <td>30</td>\n      <td>BBC Sessions [Disc 1] [Live]</td>\n      <td>22</td>\n    </tr>\n    <tr>\n      <th>...</th>\n      <td>...</td>\n      <td>...</td>\n      <td>...</td>\n    </tr>\n    <tr>\n      <th>317</th>\n      <td>318</td>\n      <td>SCRIABIN: Vers la flamme</td>\n      <td>250</td>\n    </tr>\n    <tr>\n      <th>318</th>\n      <td>319</td>\n      <td>Armada: Music from the Courts of England and S...</td>\n      <td>251</td>\n    </tr>\n    <tr>\n      <th>319</th>\n      <td>320</td>\n      <td>Mozart: Symphonies Nos. 40 &amp; 41</td>\n      <td>248</td>\n    </tr>\n    <tr>\n      <th>320</th>\n      <td>321</td>\n      <td>Back to Black</td>\n      <td>252</td>\n    </tr>\n    <tr>\n      <th>321</th>\n      <td>322</td>\n      <td>Frank</td>\n      <td>252</td>\n    </tr>\n    <tr>\n      <th>322</th>\n      <td>323</td>\n      <td>Carried to Dust (Bonus Track Version)</td>\n      <td>253</td>\n    </tr>\n    <tr>\n      <th>323</th>\n      <td>324</td>\n      <td>Beethoven: Symphony No. 6 'Pastoral' Etc.</td>\n      <td>254</td>\n    </tr>\n    <tr>\n      <th>324</th>\n      <td>325</td>\n      <td>Bartok: Violin &amp; Viola Concertos</td>\n      <td>255</td>\n    </tr>\n    <tr>\n      <th>325</th>\n      <td>326</td>\n      <td>Mendelssohn: A Midsummer Night's Dream</td>\n      <td>256</td>\n    </tr>\n    <tr>\n      <th>326</th>\n      <td>327</td>\n      <td>Bach: Orchestral Suites Nos. 1 - 4</td>\n      <td>257</td>\n    </tr>\n    <tr>\n      <th>327</th>\n      <td>328</td>\n      <td>Charpentier: Divertissements, Airs &amp; Concerts</td>\n      <td>258</td>\n    </tr>\n    <tr>\n      <th>328</th>\n      <td>329</td>\n      <td>South American Getaway</td>\n      <td>259</td>\n    </tr>\n    <tr>\n      <th>329</th>\n      <td>330</td>\n      <td>Górecki: Symphony No. 3</td>\n      <td>260</td>\n    </tr>\n    <tr>\n      <th>330</th>\n      <td>331</td>\n      <td>Purcell: The Fairy Queen</td>\n      <td>261</td>\n    </tr>\n    <tr>\n      <th>331</th>\n      <td>332</td>\n      <td>The Ultimate Relexation Album</td>\n      <td>262</td>\n    </tr>\n    <tr>\n      <th>332</th>\n      <td>333</td>\n      <td>Purcell: Music for the Queen Mary</td>\n      <td>263</td>\n    </tr>\n    <tr>\n      <th>333</th>\n      <td>334</td>\n      <td>Weill: The Seven Deadly Sins</td>\n      <td>264</td>\n    </tr>\n    <tr>\n      <th>334</th>\n      <td>335</td>\n      <td>J.S. Bach: Chaconne, Suite in E Minor, Partita...</td>\n      <td>265</td>\n    </tr>\n    <tr>\n      <th>335</th>\n      <td>336</td>\n      <td>Prokofiev: Symphony No.5 &amp; Stravinksy: Le Sacr...</td>\n      <td>248</td>\n    </tr>\n    <tr>\n      <th>336</th>\n      <td>337</td>\n      <td>Szymanowski: Piano Works, Vol. 1</td>\n      <td>266</td>\n    </tr>\n    <tr>\n      <th>337</th>\n      <td>338</td>\n      <td>Nielsen: The Six Symphonies</td>\n      <td>267</td>\n    </tr>\n    <tr>\n      <th>338</th>\n      <td>339</td>\n      <td>Great Recordings of the Century: Paganini's 24...</td>\n      <td>268</td>\n    </tr>\n    <tr>\n      <th>339</th>\n      <td>340</td>\n      <td>Liszt - 12 Études D'Execution Transcendante</td>\n      <td>269</td>\n    </tr>\n    <tr>\n      <th>340</th>\n      <td>341</td>\n      <td>Great Recordings of the Century - Shubert: Sch...</td>\n      <td>270</td>\n    </tr>\n    <tr>\n      <th>341</th>\n      <td>342</td>\n      <td>Locatelli: Concertos for Violin, Strings and C...</td>\n      <td>271</td>\n    </tr>\n    <tr>\n      <th>342</th>\n      <td>343</td>\n      <td>Respighi:Pines of Rome</td>\n      <td>226</td>\n    </tr>\n    <tr>\n      <th>343</th>\n      <td>344</td>\n      <td>Schubert: The Late String Quartets &amp; String Qu...</td>\n      <td>272</td>\n    </tr>\n    <tr>\n      <th>344</th>\n      <td>345</td>\n      <td>Monteverdi: L'Orfeo</td>\n      <td>273</td>\n    </tr>\n    <tr>\n      <th>345</th>\n      <td>346</td>\n      <td>Mozart: Chamber Music</td>\n      <td>274</td>\n    </tr>\n    <tr>\n      <th>346</th>\n      <td>347</td>\n      <td>Koyaanisqatsi (Soundtrack from the Motion Pict...</td>\n      <td>275</td>\n    </tr>\n  </tbody>\n</table>\n<p>347 rows × 3 columns</p>\n</div>"
     },
     "execution_count": 8,
     "metadata": {},
     "output_type": "execute_result"
    }
   ],
   "source": [
    "album"
   ],
   "metadata": {
    "collapsed": false,
    "ExecuteTime": {
     "end_time": "2023-09-03T01:05:34.502712Z",
     "start_time": "2023-09-03T01:05:33.177367Z"
    }
   },
   "id": "51848be33f42b04c"
  },
  {
   "cell_type": "code",
   "execution_count": 9,
   "outputs": [
    {
     "data": {
      "text/plain": "      InvoiceLineId  InvoiceId  TrackId  UnitPrice  Quantity\n0                 1          1        2       0.99         1\n1                 2          1        4       0.99         1\n2                 3          2        6       0.99         1\n3                 4          2        8       0.99         1\n4                 5          2       10       0.99         1\n5                 6          2       12       0.99         1\n6                 7          3       16       0.99         1\n7                 8          3       20       0.99         1\n8                 9          3       24       0.99         1\n9                10          3       28       0.99         1\n10               11          3       32       0.99         1\n11               12          3       36       0.99         1\n12               13          4       42       0.99         1\n13               14          4       48       0.99         1\n14               15          4       54       0.99         1\n15               16          4       60       0.99         1\n16               17          4       66       0.99         1\n17               18          4       72       0.99         1\n18               19          4       78       0.99         1\n19               20          4       84       0.99         1\n20               21          4       90       0.99         1\n21               22          5       99       0.99         1\n22               23          5      108       0.99         1\n23               24          5      117       0.99         1\n24               25          5      126       0.99         1\n25               26          5      135       0.99         1\n26               27          5      144       0.99         1\n27               28          5      153       0.99         1\n28               29          5      162       0.99         1\n29               30          5      171       0.99         1\n...             ...        ...      ...        ...       ...\n2210           2211        409     2963       0.99         1\n2211           2212        409     2967       0.99         1\n2212           2213        409     2971       0.99         1\n2213           2214        409     2975       0.99         1\n2214           2215        409     2979       0.99         1\n2215           2216        409     2983       0.99         1\n2216           2217        410     2989       0.99         1\n2217           2218        410     2995       0.99         1\n2218           2219        410     3001       0.99         1\n2219           2220        410     3007       0.99         1\n2220           2221        410     3013       0.99         1\n2221           2222        410     3019       0.99         1\n2222           2223        410     3025       0.99         1\n2223           2224        410     3031       0.99         1\n2224           2225        410     3037       0.99         1\n2225           2226        411     3046       0.99         1\n2226           2227        411     3055       0.99         1\n2227           2228        411     3064       0.99         1\n2228           2229        411     3073       0.99         1\n2229           2230        411     3082       0.99         1\n2230           2231        411     3091       0.99         1\n2231           2232        411     3100       0.99         1\n2232           2233        411     3109       0.99         1\n2233           2234        411     3118       0.99         1\n2234           2235        411     3127       0.99         1\n2235           2236        411     3136       0.99         1\n2236           2237        411     3145       0.99         1\n2237           2238        411     3154       0.99         1\n2238           2239        411     3163       0.99         1\n2239           2240        412     3177       1.99         1\n\n[2240 rows x 5 columns]",
      "text/html": "<div>\n<style scoped>\n    .dataframe tbody tr th:only-of-type {\n        vertical-align: middle;\n    }\n\n    .dataframe tbody tr th {\n        vertical-align: top;\n    }\n\n    .dataframe thead th {\n        text-align: right;\n    }\n</style>\n<table border=\"1\" class=\"dataframe\">\n  <thead>\n    <tr style=\"text-align: right;\">\n      <th></th>\n      <th>InvoiceLineId</th>\n      <th>InvoiceId</th>\n      <th>TrackId</th>\n      <th>UnitPrice</th>\n      <th>Quantity</th>\n    </tr>\n  </thead>\n  <tbody>\n    <tr>\n      <th>0</th>\n      <td>1</td>\n      <td>1</td>\n      <td>2</td>\n      <td>0.99</td>\n      <td>1</td>\n    </tr>\n    <tr>\n      <th>1</th>\n      <td>2</td>\n      <td>1</td>\n      <td>4</td>\n      <td>0.99</td>\n      <td>1</td>\n    </tr>\n    <tr>\n      <th>2</th>\n      <td>3</td>\n      <td>2</td>\n      <td>6</td>\n      <td>0.99</td>\n      <td>1</td>\n    </tr>\n    <tr>\n      <th>3</th>\n      <td>4</td>\n      <td>2</td>\n      <td>8</td>\n      <td>0.99</td>\n      <td>1</td>\n    </tr>\n    <tr>\n      <th>4</th>\n      <td>5</td>\n      <td>2</td>\n      <td>10</td>\n      <td>0.99</td>\n      <td>1</td>\n    </tr>\n    <tr>\n      <th>5</th>\n      <td>6</td>\n      <td>2</td>\n      <td>12</td>\n      <td>0.99</td>\n      <td>1</td>\n    </tr>\n    <tr>\n      <th>6</th>\n      <td>7</td>\n      <td>3</td>\n      <td>16</td>\n      <td>0.99</td>\n      <td>1</td>\n    </tr>\n    <tr>\n      <th>7</th>\n      <td>8</td>\n      <td>3</td>\n      <td>20</td>\n      <td>0.99</td>\n      <td>1</td>\n    </tr>\n    <tr>\n      <th>8</th>\n      <td>9</td>\n      <td>3</td>\n      <td>24</td>\n      <td>0.99</td>\n      <td>1</td>\n    </tr>\n    <tr>\n      <th>9</th>\n      <td>10</td>\n      <td>3</td>\n      <td>28</td>\n      <td>0.99</td>\n      <td>1</td>\n    </tr>\n    <tr>\n      <th>10</th>\n      <td>11</td>\n      <td>3</td>\n      <td>32</td>\n      <td>0.99</td>\n      <td>1</td>\n    </tr>\n    <tr>\n      <th>11</th>\n      <td>12</td>\n      <td>3</td>\n      <td>36</td>\n      <td>0.99</td>\n      <td>1</td>\n    </tr>\n    <tr>\n      <th>12</th>\n      <td>13</td>\n      <td>4</td>\n      <td>42</td>\n      <td>0.99</td>\n      <td>1</td>\n    </tr>\n    <tr>\n      <th>13</th>\n      <td>14</td>\n      <td>4</td>\n      <td>48</td>\n      <td>0.99</td>\n      <td>1</td>\n    </tr>\n    <tr>\n      <th>14</th>\n      <td>15</td>\n      <td>4</td>\n      <td>54</td>\n      <td>0.99</td>\n      <td>1</td>\n    </tr>\n    <tr>\n      <th>15</th>\n      <td>16</td>\n      <td>4</td>\n      <td>60</td>\n      <td>0.99</td>\n      <td>1</td>\n    </tr>\n    <tr>\n      <th>16</th>\n      <td>17</td>\n      <td>4</td>\n      <td>66</td>\n      <td>0.99</td>\n      <td>1</td>\n    </tr>\n    <tr>\n      <th>17</th>\n      <td>18</td>\n      <td>4</td>\n      <td>72</td>\n      <td>0.99</td>\n      <td>1</td>\n    </tr>\n    <tr>\n      <th>18</th>\n      <td>19</td>\n      <td>4</td>\n      <td>78</td>\n      <td>0.99</td>\n      <td>1</td>\n    </tr>\n    <tr>\n      <th>19</th>\n      <td>20</td>\n      <td>4</td>\n      <td>84</td>\n      <td>0.99</td>\n      <td>1</td>\n    </tr>\n    <tr>\n      <th>20</th>\n      <td>21</td>\n      <td>4</td>\n      <td>90</td>\n      <td>0.99</td>\n      <td>1</td>\n    </tr>\n    <tr>\n      <th>21</th>\n      <td>22</td>\n      <td>5</td>\n      <td>99</td>\n      <td>0.99</td>\n      <td>1</td>\n    </tr>\n    <tr>\n      <th>22</th>\n      <td>23</td>\n      <td>5</td>\n      <td>108</td>\n      <td>0.99</td>\n      <td>1</td>\n    </tr>\n    <tr>\n      <th>23</th>\n      <td>24</td>\n      <td>5</td>\n      <td>117</td>\n      <td>0.99</td>\n      <td>1</td>\n    </tr>\n    <tr>\n      <th>24</th>\n      <td>25</td>\n      <td>5</td>\n      <td>126</td>\n      <td>0.99</td>\n      <td>1</td>\n    </tr>\n    <tr>\n      <th>25</th>\n      <td>26</td>\n      <td>5</td>\n      <td>135</td>\n      <td>0.99</td>\n      <td>1</td>\n    </tr>\n    <tr>\n      <th>26</th>\n      <td>27</td>\n      <td>5</td>\n      <td>144</td>\n      <td>0.99</td>\n      <td>1</td>\n    </tr>\n    <tr>\n      <th>27</th>\n      <td>28</td>\n      <td>5</td>\n      <td>153</td>\n      <td>0.99</td>\n      <td>1</td>\n    </tr>\n    <tr>\n      <th>28</th>\n      <td>29</td>\n      <td>5</td>\n      <td>162</td>\n      <td>0.99</td>\n      <td>1</td>\n    </tr>\n    <tr>\n      <th>29</th>\n      <td>30</td>\n      <td>5</td>\n      <td>171</td>\n      <td>0.99</td>\n      <td>1</td>\n    </tr>\n    <tr>\n      <th>...</th>\n      <td>...</td>\n      <td>...</td>\n      <td>...</td>\n      <td>...</td>\n      <td>...</td>\n    </tr>\n    <tr>\n      <th>2210</th>\n      <td>2211</td>\n      <td>409</td>\n      <td>2963</td>\n      <td>0.99</td>\n      <td>1</td>\n    </tr>\n    <tr>\n      <th>2211</th>\n      <td>2212</td>\n      <td>409</td>\n      <td>2967</td>\n      <td>0.99</td>\n      <td>1</td>\n    </tr>\n    <tr>\n      <th>2212</th>\n      <td>2213</td>\n      <td>409</td>\n      <td>2971</td>\n      <td>0.99</td>\n      <td>1</td>\n    </tr>\n    <tr>\n      <th>2213</th>\n      <td>2214</td>\n      <td>409</td>\n      <td>2975</td>\n      <td>0.99</td>\n      <td>1</td>\n    </tr>\n    <tr>\n      <th>2214</th>\n      <td>2215</td>\n      <td>409</td>\n      <td>2979</td>\n      <td>0.99</td>\n      <td>1</td>\n    </tr>\n    <tr>\n      <th>2215</th>\n      <td>2216</td>\n      <td>409</td>\n      <td>2983</td>\n      <td>0.99</td>\n      <td>1</td>\n    </tr>\n    <tr>\n      <th>2216</th>\n      <td>2217</td>\n      <td>410</td>\n      <td>2989</td>\n      <td>0.99</td>\n      <td>1</td>\n    </tr>\n    <tr>\n      <th>2217</th>\n      <td>2218</td>\n      <td>410</td>\n      <td>2995</td>\n      <td>0.99</td>\n      <td>1</td>\n    </tr>\n    <tr>\n      <th>2218</th>\n      <td>2219</td>\n      <td>410</td>\n      <td>3001</td>\n      <td>0.99</td>\n      <td>1</td>\n    </tr>\n    <tr>\n      <th>2219</th>\n      <td>2220</td>\n      <td>410</td>\n      <td>3007</td>\n      <td>0.99</td>\n      <td>1</td>\n    </tr>\n    <tr>\n      <th>2220</th>\n      <td>2221</td>\n      <td>410</td>\n      <td>3013</td>\n      <td>0.99</td>\n      <td>1</td>\n    </tr>\n    <tr>\n      <th>2221</th>\n      <td>2222</td>\n      <td>410</td>\n      <td>3019</td>\n      <td>0.99</td>\n      <td>1</td>\n    </tr>\n    <tr>\n      <th>2222</th>\n      <td>2223</td>\n      <td>410</td>\n      <td>3025</td>\n      <td>0.99</td>\n      <td>1</td>\n    </tr>\n    <tr>\n      <th>2223</th>\n      <td>2224</td>\n      <td>410</td>\n      <td>3031</td>\n      <td>0.99</td>\n      <td>1</td>\n    </tr>\n    <tr>\n      <th>2224</th>\n      <td>2225</td>\n      <td>410</td>\n      <td>3037</td>\n      <td>0.99</td>\n      <td>1</td>\n    </tr>\n    <tr>\n      <th>2225</th>\n      <td>2226</td>\n      <td>411</td>\n      <td>3046</td>\n      <td>0.99</td>\n      <td>1</td>\n    </tr>\n    <tr>\n      <th>2226</th>\n      <td>2227</td>\n      <td>411</td>\n      <td>3055</td>\n      <td>0.99</td>\n      <td>1</td>\n    </tr>\n    <tr>\n      <th>2227</th>\n      <td>2228</td>\n      <td>411</td>\n      <td>3064</td>\n      <td>0.99</td>\n      <td>1</td>\n    </tr>\n    <tr>\n      <th>2228</th>\n      <td>2229</td>\n      <td>411</td>\n      <td>3073</td>\n      <td>0.99</td>\n      <td>1</td>\n    </tr>\n    <tr>\n      <th>2229</th>\n      <td>2230</td>\n      <td>411</td>\n      <td>3082</td>\n      <td>0.99</td>\n      <td>1</td>\n    </tr>\n    <tr>\n      <th>2230</th>\n      <td>2231</td>\n      <td>411</td>\n      <td>3091</td>\n      <td>0.99</td>\n      <td>1</td>\n    </tr>\n    <tr>\n      <th>2231</th>\n      <td>2232</td>\n      <td>411</td>\n      <td>3100</td>\n      <td>0.99</td>\n      <td>1</td>\n    </tr>\n    <tr>\n      <th>2232</th>\n      <td>2233</td>\n      <td>411</td>\n      <td>3109</td>\n      <td>0.99</td>\n      <td>1</td>\n    </tr>\n    <tr>\n      <th>2233</th>\n      <td>2234</td>\n      <td>411</td>\n      <td>3118</td>\n      <td>0.99</td>\n      <td>1</td>\n    </tr>\n    <tr>\n      <th>2234</th>\n      <td>2235</td>\n      <td>411</td>\n      <td>3127</td>\n      <td>0.99</td>\n      <td>1</td>\n    </tr>\n    <tr>\n      <th>2235</th>\n      <td>2236</td>\n      <td>411</td>\n      <td>3136</td>\n      <td>0.99</td>\n      <td>1</td>\n    </tr>\n    <tr>\n      <th>2236</th>\n      <td>2237</td>\n      <td>411</td>\n      <td>3145</td>\n      <td>0.99</td>\n      <td>1</td>\n    </tr>\n    <tr>\n      <th>2237</th>\n      <td>2238</td>\n      <td>411</td>\n      <td>3154</td>\n      <td>0.99</td>\n      <td>1</td>\n    </tr>\n    <tr>\n      <th>2238</th>\n      <td>2239</td>\n      <td>411</td>\n      <td>3163</td>\n      <td>0.99</td>\n      <td>1</td>\n    </tr>\n    <tr>\n      <th>2239</th>\n      <td>2240</td>\n      <td>412</td>\n      <td>3177</td>\n      <td>1.99</td>\n      <td>1</td>\n    </tr>\n  </tbody>\n</table>\n<p>2240 rows × 5 columns</p>\n</div>"
     },
     "execution_count": 9,
     "metadata": {},
     "output_type": "execute_result"
    }
   ],
   "source": [
    "invoice_items"
   ],
   "metadata": {
    "collapsed": false,
    "ExecuteTime": {
     "end_time": "2023-09-03T01:05:34.503457Z",
     "start_time": "2023-09-03T01:05:33.206594Z"
    }
   },
   "id": "329c9aa237d34974"
  },
  {
   "cell_type": "code",
   "execution_count": 10,
   "outputs": [
    {
     "data": {
      "text/plain": "   InvoiceId  CustomerId          InvoiceDate           BillingAddress  \\\n0          1           2  2009-01-01 00:00:00  Theodor-Heuss-Straße 34   \n1          2           4  2009-01-02 00:00:00         Ullevålsveien 14   \n2          3           8  2009-01-03 00:00:00          Grétrystraat 63   \n3          4          14  2009-01-06 00:00:00           8210 111 ST NW   \n4          5          23  2009-01-11 00:00:00          69 Salem Street   \n\n  BillingCity BillingState BillingCountry BillingPostalCode  Total  \n0   Stuttgart         None        Germany             70174   1.98  \n1        Oslo         None         Norway              0171   3.96  \n2    Brussels         None        Belgium              1000   5.94  \n3    Edmonton           AB         Canada           T6G 2C7   8.91  \n4      Boston           MA            USA              2113  13.86  ",
      "text/html": "<div>\n<style scoped>\n    .dataframe tbody tr th:only-of-type {\n        vertical-align: middle;\n    }\n\n    .dataframe tbody tr th {\n        vertical-align: top;\n    }\n\n    .dataframe thead th {\n        text-align: right;\n    }\n</style>\n<table border=\"1\" class=\"dataframe\">\n  <thead>\n    <tr style=\"text-align: right;\">\n      <th></th>\n      <th>InvoiceId</th>\n      <th>CustomerId</th>\n      <th>InvoiceDate</th>\n      <th>BillingAddress</th>\n      <th>BillingCity</th>\n      <th>BillingState</th>\n      <th>BillingCountry</th>\n      <th>BillingPostalCode</th>\n      <th>Total</th>\n    </tr>\n  </thead>\n  <tbody>\n    <tr>\n      <th>0</th>\n      <td>1</td>\n      <td>2</td>\n      <td>2009-01-01 00:00:00</td>\n      <td>Theodor-Heuss-Straße 34</td>\n      <td>Stuttgart</td>\n      <td>None</td>\n      <td>Germany</td>\n      <td>70174</td>\n      <td>1.98</td>\n    </tr>\n    <tr>\n      <th>1</th>\n      <td>2</td>\n      <td>4</td>\n      <td>2009-01-02 00:00:00</td>\n      <td>Ullevålsveien 14</td>\n      <td>Oslo</td>\n      <td>None</td>\n      <td>Norway</td>\n      <td>0171</td>\n      <td>3.96</td>\n    </tr>\n    <tr>\n      <th>2</th>\n      <td>3</td>\n      <td>8</td>\n      <td>2009-01-03 00:00:00</td>\n      <td>Grétrystraat 63</td>\n      <td>Brussels</td>\n      <td>None</td>\n      <td>Belgium</td>\n      <td>1000</td>\n      <td>5.94</td>\n    </tr>\n    <tr>\n      <th>3</th>\n      <td>4</td>\n      <td>14</td>\n      <td>2009-01-06 00:00:00</td>\n      <td>8210 111 ST NW</td>\n      <td>Edmonton</td>\n      <td>AB</td>\n      <td>Canada</td>\n      <td>T6G 2C7</td>\n      <td>8.91</td>\n    </tr>\n    <tr>\n      <th>4</th>\n      <td>5</td>\n      <td>23</td>\n      <td>2009-01-11 00:00:00</td>\n      <td>69 Salem Street</td>\n      <td>Boston</td>\n      <td>MA</td>\n      <td>USA</td>\n      <td>2113</td>\n      <td>13.86</td>\n    </tr>\n  </tbody>\n</table>\n</div>"
     },
     "execution_count": 10,
     "metadata": {},
     "output_type": "execute_result"
    }
   ],
   "source": [
    "invoice.head()"
   ],
   "metadata": {
    "collapsed": false,
    "ExecuteTime": {
     "end_time": "2023-09-03T01:05:34.503760Z",
     "start_time": "2023-09-03T01:05:33.238138Z"
    }
   },
   "id": "593ffcaabd002599"
  },
  {
   "cell_type": "code",
   "execution_count": 11,
   "outputs": [
    {
     "data": {
      "text/plain": "   InvoiceLineId  InvoiceId  TrackId  UnitPrice  Quantity\n0              1          1        2       0.99         1\n1              2          1        4       0.99         1\n2              3          2        6       0.99         1\n3              4          2        8       0.99         1\n4              5          2       10       0.99         1",
      "text/html": "<div>\n<style scoped>\n    .dataframe tbody tr th:only-of-type {\n        vertical-align: middle;\n    }\n\n    .dataframe tbody tr th {\n        vertical-align: top;\n    }\n\n    .dataframe thead th {\n        text-align: right;\n    }\n</style>\n<table border=\"1\" class=\"dataframe\">\n  <thead>\n    <tr style=\"text-align: right;\">\n      <th></th>\n      <th>InvoiceLineId</th>\n      <th>InvoiceId</th>\n      <th>TrackId</th>\n      <th>UnitPrice</th>\n      <th>Quantity</th>\n    </tr>\n  </thead>\n  <tbody>\n    <tr>\n      <th>0</th>\n      <td>1</td>\n      <td>1</td>\n      <td>2</td>\n      <td>0.99</td>\n      <td>1</td>\n    </tr>\n    <tr>\n      <th>1</th>\n      <td>2</td>\n      <td>1</td>\n      <td>4</td>\n      <td>0.99</td>\n      <td>1</td>\n    </tr>\n    <tr>\n      <th>2</th>\n      <td>3</td>\n      <td>2</td>\n      <td>6</td>\n      <td>0.99</td>\n      <td>1</td>\n    </tr>\n    <tr>\n      <th>3</th>\n      <td>4</td>\n      <td>2</td>\n      <td>8</td>\n      <td>0.99</td>\n      <td>1</td>\n    </tr>\n    <tr>\n      <th>4</th>\n      <td>5</td>\n      <td>2</td>\n      <td>10</td>\n      <td>0.99</td>\n      <td>1</td>\n    </tr>\n  </tbody>\n</table>\n</div>"
     },
     "execution_count": 11,
     "metadata": {},
     "output_type": "execute_result"
    }
   ],
   "source": [
    "invoice_items.head()"
   ],
   "metadata": {
    "collapsed": false,
    "ExecuteTime": {
     "end_time": "2023-09-03T01:05:34.504010Z",
     "start_time": "2023-09-03T01:05:33.257109Z"
    }
   },
   "id": "640068ec107b1a9e"
  },
  {
   "cell_type": "code",
   "execution_count": 12,
   "outputs": [
    {
     "data": {
      "text/plain": "   GenreId                Name\n0        1                Rock\n1        2                Jazz\n2        3               Metal\n3        4  Alternative & Punk\n4        5       Rock And Roll",
      "text/html": "<div>\n<style scoped>\n    .dataframe tbody tr th:only-of-type {\n        vertical-align: middle;\n    }\n\n    .dataframe tbody tr th {\n        vertical-align: top;\n    }\n\n    .dataframe thead th {\n        text-align: right;\n    }\n</style>\n<table border=\"1\" class=\"dataframe\">\n  <thead>\n    <tr style=\"text-align: right;\">\n      <th></th>\n      <th>GenreId</th>\n      <th>Name</th>\n    </tr>\n  </thead>\n  <tbody>\n    <tr>\n      <th>0</th>\n      <td>1</td>\n      <td>Rock</td>\n    </tr>\n    <tr>\n      <th>1</th>\n      <td>2</td>\n      <td>Jazz</td>\n    </tr>\n    <tr>\n      <th>2</th>\n      <td>3</td>\n      <td>Metal</td>\n    </tr>\n    <tr>\n      <th>3</th>\n      <td>4</td>\n      <td>Alternative &amp; Punk</td>\n    </tr>\n    <tr>\n      <th>4</th>\n      <td>5</td>\n      <td>Rock And Roll</td>\n    </tr>\n  </tbody>\n</table>\n</div>"
     },
     "execution_count": 12,
     "metadata": {},
     "output_type": "execute_result"
    }
   ],
   "source": [
    "genres.head()"
   ],
   "metadata": {
    "collapsed": false,
    "ExecuteTime": {
     "end_time": "2023-09-03T01:05:34.504296Z",
     "start_time": "2023-09-03T01:05:33.267403Z"
    }
   },
   "id": "5a37800721640735"
  },
  {
   "cell_type": "code",
   "execution_count": 13,
   "outputs": [
    {
     "data": {
      "text/plain": "1    3034\n2     237\n3     214\n5      11\n4       7\nName: MediaTypeId, dtype: int64"
     },
     "execution_count": 13,
     "metadata": {},
     "output_type": "execute_result"
    }
   ],
   "source": [
    "tracks['MediaTypeId'].value_counts()"
   ],
   "metadata": {
    "collapsed": false,
    "ExecuteTime": {
     "end_time": "2023-09-03T01:05:34.504504Z",
     "start_time": "2023-09-03T01:05:33.281531Z"
    }
   },
   "id": "248dd18861d5cfc2"
  },
  {
   "cell_type": "code",
   "execution_count": 14,
   "outputs": [],
   "source": [
    "# 找到数据集中数字媒体(音乐/视频)销量的top 10 (tracks 中每一条记录就是一个数字媒体)\n",
    "# 销量：invoice_item的数量\n",
    "# 数字媒体：trackID 已此分组\n",
    "# 聚合求每组数量count\n",
    "# top10: 排序，倒序"
   ],
   "metadata": {
    "collapsed": false,
    "ExecuteTime": {
     "end_time": "2023-09-03T01:05:34.504669Z",
     "start_time": "2023-09-03T01:05:33.299884Z"
    }
   },
   "id": "574c525335af99aa"
  },
  {
   "cell_type": "code",
   "execution_count": 15,
   "outputs": [
    {
     "data": {
      "text/plain": "TrackId\n3500    2\n705     2\n393     2\n3024    2\n3025    2\n1090    2\n704     2\n1344    2\n1922    2\n1089    2\nName: TrackId, dtype: int64"
     },
     "execution_count": 15,
     "metadata": {},
     "output_type": "execute_result"
    }
   ],
   "source": [
    "# 合并\n",
    "itm_tb = invoice_items.merge(tracks, on='TrackId')\n",
    "\n",
    "# 分组聚合\n",
    "count_itm = itm_tb.groupby('TrackId')['TrackId'].count()\n",
    "\n",
    "# 排序\n",
    "count_itm.sort_values(ascending=False).head(10)"
   ],
   "metadata": {
    "collapsed": false,
    "ExecuteTime": {
     "end_time": "2023-09-03T01:05:34.504854Z",
     "start_time": "2023-09-03T01:05:33.316667Z"
    }
   },
   "id": "30bda75e3d7c3c28"
  },
  {
   "cell_type": "code",
   "execution_count": 16,
   "outputs": [],
   "source": [
    "# 找到艺术家销量的top10 (artists 表中 每一条记录对应一个艺术家)\n",
    "# 销量：invoice_item的数量\n",
    "# 艺术家： artists name\n",
    "# 聚合求每组数量count\n",
    "# top10: 排序，倒序"
   ],
   "metadata": {
    "collapsed": false,
    "ExecuteTime": {
     "end_time": "2023-09-03T01:05:34.504998Z",
     "start_time": "2023-09-03T01:05:33.338276Z"
    }
   },
   "id": "e09f50f09ac271f1"
  },
  {
   "cell_type": "code",
   "execution_count": 17,
   "outputs": [
    {
     "data": {
      "text/plain": "Name_art\nIron Maiden                140\nU2                         107\nMetallica                   91\nLed Zeppelin                87\nOs Paralamas Do Sucesso     45\nDeep Purple                 44\nFaith No More               42\nLost                        41\nEric Clapton                40\nR.E.M.                      39\nName: ArtistId, dtype: int64"
     },
     "execution_count": 17,
     "metadata": {},
     "output_type": "execute_result"
    }
   ],
   "source": [
    "# 合并\n",
    "itaar_tb = invoice_items.merge(tracks, on='TrackId').merge(album, on='AlbumId').merge(artists, on='ArtistId', suffixes=('_x', '_art'))\n",
    "\n",
    "# 分组聚合\n",
    "count_itaar_tb = itaar_tb.groupby('Name_art')['ArtistId'].count()\n",
    "\n",
    "# 排序取值\n",
    "count_itaar_tb.sort_values(ascending=False).head(10)"
   ],
   "metadata": {
    "collapsed": false,
    "ExecuteTime": {
     "end_time": "2023-09-03T01:05:34.505182Z",
     "start_time": "2023-09-03T01:05:33.347009Z"
    }
   },
   "id": "7d41ad74073b13dd"
  },
  {
   "cell_type": "code",
   "execution_count": 18,
   "outputs": [],
   "source": [
    "# 找到最高产的艺术家top5\n",
    "# 需求分析：最高产= 按artists_id分组tracks，统计总量，排序取前5"
   ],
   "metadata": {
    "collapsed": false,
    "ExecuteTime": {
     "end_time": "2023-09-03T01:05:34.505325Z",
     "start_time": "2023-09-03T01:05:33.397495Z"
    }
   },
   "id": "bd5826a196173639"
  },
  {
   "cell_type": "code",
   "execution_count": 19,
   "outputs": [
    {
     "data": {
      "text/plain": "Name_art\nIron Maiden     213\nU2              135\nLed Zeppelin    114\nMetallica       112\nDeep Purple      92\nName: TrackId, dtype: int64"
     },
     "execution_count": 19,
     "metadata": {},
     "output_type": "execute_result"
    }
   ],
   "source": [
    "# 合并三表\n",
    "taar_tb = tracks.merge(album, on='AlbumId').merge(artists, on='ArtistId', suffixes=('_x', '_art'))\n",
    "# 分组 聚合获取数量\n",
    "count_map = taar_tb.groupby('Name_art')['TrackId'].count()\n",
    "# 排序截取\n",
    "count_map.sort_values(ascending=False).iloc[:5]"
   ],
   "metadata": {
    "collapsed": false,
    "ExecuteTime": {
     "end_time": "2023-09-03T01:05:34.505496Z",
     "start_time": "2023-09-03T01:05:33.404716Z"
    }
   },
   "id": "11b6cbf69f2ec42"
  },
  {
   "cell_type": "code",
   "execution_count": 20,
   "outputs": [],
   "source": [
    "# 找到哪一种类型的数字媒体产品最受欢迎 (数字媒体类型 对应genres表 一共25种类型)\n",
    "# 最受欢迎：顾客最多，invoices 中 customerId 的数量\n",
    "# 数字媒体产品类型：genres name\n",
    "# 分组：genres 聚合：customerId 的数量 要去重\n",
    "# 排序"
   ],
   "metadata": {
    "collapsed": false,
    "ExecuteTime": {
     "end_time": "2023-09-03T01:05:34.505637Z",
     "start_time": "2023-09-03T01:05:33.421538Z"
    }
   },
   "id": "5d45690ee3a6443"
  },
  {
   "cell_type": "code",
   "execution_count": 21,
   "outputs": [
    {
     "data": {
      "text/plain": "Name_gen\nRock    59\nName: CustomerId, dtype: int64"
     },
     "execution_count": 21,
     "metadata": {},
     "output_type": "execute_result"
    }
   ],
   "source": [
    "# 合并\n",
    "itg_tb = invoice.merge(invoice_items, on='InvoiceId').merge(tracks, on='TrackId').merge(genres, on='GenreId', suffixes=('_x', '_gen'))\n",
    "\n",
    "# 分组聚合\n",
    "count_itg_tb = itg_tb.groupby('Name_gen')['CustomerId'].nunique()\n",
    "\n",
    "# 排序取值\n",
    "count_itg_tb.sort_values(ascending=False).head(1)"
   ],
   "metadata": {
    "collapsed": false,
    "ExecuteTime": {
     "end_time": "2023-09-03T01:05:34.505874Z",
     "start_time": "2023-09-03T01:05:33.436716Z"
    }
   },
   "id": "ebe4ab7adfc5fb9f"
  },
  {
   "cell_type": "code",
   "execution_count": 22,
   "outputs": [],
   "source": [
    "# 统计账单地址是美国的用户最喜欢的歌手和媒体类型\n",
    "# 账单地址是美国的用户: customers['Country'] = us  过滤数据\n",
    "# 最喜欢: invoices CustomerId 去重后的数量\n",
    "# 歌手：artists name\n",
    "# 媒体类型： genres name\n",
    "# 分组 artists + genres，聚合，count\n",
    "# 排序"
   ],
   "metadata": {
    "collapsed": false,
    "ExecuteTime": {
     "end_time": "2023-09-03T01:05:34.506038Z",
     "start_time": "2023-09-03T01:05:33.475134Z"
    }
   },
   "id": "4ef561d034c22540"
  },
  {
   "cell_type": "code",
   "execution_count": 23,
   "outputs": [
    {
     "data": {
      "text/plain": "Index(['CustomerId', 'FirstName', 'LastName', 'Company', 'Address', 'City',\n       'State', 'Country', 'PostalCode', 'Phone', 'Fax', 'Email',\n       'SupportRepId', 'InvoiceId', 'InvoiceDate', 'BillingAddress',\n       'BillingCity', 'BillingState', 'BillingCountry', 'BillingPostalCode',\n       'Total', 'InvoiceLineId', 'TrackId', 'UnitPrice_x', 'Quantity',\n       'Name_track', 'AlbumId', 'MediaTypeId', 'GenreId', 'Composer',\n       'Milliseconds', 'Bytes', 'UnitPrice_y', 'Name_genre', 'Title',\n       'ArtistId', 'Name'],\n      dtype='object')"
     },
     "execution_count": 23,
     "metadata": {},
     "output_type": "execute_result"
    }
   ],
   "source": [
    "# 合并\n",
    "result = customer.merge(invoice, on='CustomerId').merge(invoice_items, on='InvoiceId').merge(tracks, on='TrackId').merge(genres, on='GenreId', suffixes=('_track', '_genre')).merge(album, on='AlbumId').merge(artists, on='ArtistId', suffixes=('', '_artist'))\n",
    "\n",
    "# 过滤\n",
    "result = result[result['Country'] == 'USA']\n",
    "\n",
    "result.columns"
   ],
   "metadata": {
    "collapsed": false,
    "ExecuteTime": {
     "end_time": "2023-09-03T01:05:34.506256Z",
     "start_time": "2023-09-03T01:05:33.492284Z"
    }
   },
   "id": "101c719281a1ce53"
  },
  {
   "cell_type": "code",
   "execution_count": 24,
   "outputs": [
    {
     "data": {
      "text/plain": "Name_genre  Name\nRock        U2      8\nName: CustomerId, dtype: int64"
     },
     "execution_count": 24,
     "metadata": {},
     "output_type": "execute_result"
    }
   ],
   "source": [
    "# 分组聚合\n",
    "result_uni = result.groupby(['Name_genre', 'Name'])['CustomerId'].nunique()\n",
    "# 排序取值\n",
    "result_uni.sort_values(ascending=False).head(1)"
   ],
   "metadata": {
    "collapsed": false,
    "ExecuteTime": {
     "end_time": "2023-09-03T01:05:34.506691Z",
     "start_time": "2023-09-03T01:05:33.549227Z"
    }
   },
   "id": "4123bbc0bb242f9b"
  },
  {
   "cell_type": "code",
   "execution_count": 25,
   "outputs": [],
   "source": [
    "# 统计每个国家下单数量最多/下单金额最高的用户\n",
    "# 确定所需合并表 customers invoices invoice_items\n",
    "# 每个国家：country分组\n",
    "# 下单数量最多：分组count最多\n",
    "# 下单金额最高：invoices total sum 最大"
   ],
   "metadata": {
    "collapsed": false,
    "ExecuteTime": {
     "end_time": "2023-09-03T01:05:34.506986Z",
     "start_time": "2023-09-03T01:05:33.562113Z"
    }
   },
   "id": "dfb8acb54ebc975a"
  },
  {
   "cell_type": "code",
   "execution_count": 26,
   "outputs": [
    {
     "data": {
      "text/plain": "         InvoiceId    Total\nCountry                    \nUSA            494  4667.06",
      "text/html": "<div>\n<style scoped>\n    .dataframe tbody tr th:only-of-type {\n        vertical-align: middle;\n    }\n\n    .dataframe tbody tr th {\n        vertical-align: top;\n    }\n\n    .dataframe thead th {\n        text-align: right;\n    }\n</style>\n<table border=\"1\" class=\"dataframe\">\n  <thead>\n    <tr style=\"text-align: right;\">\n      <th></th>\n      <th>InvoiceId</th>\n      <th>Total</th>\n    </tr>\n    <tr>\n      <th>Country</th>\n      <th></th>\n      <th></th>\n    </tr>\n  </thead>\n  <tbody>\n    <tr>\n      <th>USA</th>\n      <td>494</td>\n      <td>4667.06</td>\n    </tr>\n  </tbody>\n</table>\n</div>"
     },
     "execution_count": 26,
     "metadata": {},
     "output_type": "execute_result"
    }
   ],
   "source": [
    "# 合并\n",
    "iic = invoice_items.merge(invoice, on='InvoiceId').merge(customer, on='CustomerId')\n",
    "\n",
    "# 分组聚合\n",
    "result_iic = iic.groupby('Country')['InvoiceId', 'Total'].agg({'InvoiceId':'count', 'Total':'sum'})\n",
    "\n",
    "# 排序取值\n",
    "max_order_size = result_iic.sort_values(by=['InvoiceId','Total'], ascending=False).head(1)\n",
    "max_order_size\n"
   ],
   "metadata": {
    "collapsed": false,
    "ExecuteTime": {
     "end_time": "2023-09-03T01:05:34.535156Z",
     "start_time": "2023-09-03T01:05:33.590016Z"
    }
   },
   "id": "fabbdeced732ae84"
  },
  {
   "cell_type": "code",
   "execution_count": 27,
   "outputs": [],
   "source": [
    "# 统计每一张表中的缺失值数量\n",
    "# 获取缺失数量 df.isnull().sum()"
   ],
   "metadata": {
    "collapsed": false,
    "ExecuteTime": {
     "end_time": "2023-09-03T01:05:34.535440Z",
     "start_time": "2023-09-03T01:05:33.620138Z"
    }
   },
   "id": "f0cc55086f2f8713"
  },
  {
   "cell_type": "code",
   "execution_count": 28,
   "outputs": [
    {
     "data": {
      "text/plain": "Composer        978\nUnitPrice         0\nBytes             0\nMilliseconds      0\nGenreId           0\nMediaTypeId       0\nAlbumId           0\nName              0\nTrackId           0\ndtype: int64"
     },
     "execution_count": 28,
     "metadata": {},
     "output_type": "execute_result"
    }
   ],
   "source": [
    "tracks.isnull().sum().sort_values(ascending=False)"
   ],
   "metadata": {
    "collapsed": false,
    "ExecuteTime": {
     "end_time": "2023-09-03T01:05:34.535699Z",
     "start_time": "2023-09-03T01:05:33.626138Z"
    }
   },
   "id": "6071c92cf771e7fc"
  },
  {
   "cell_type": "code",
   "execution_count": 29,
   "outputs": [
    {
     "name": "stdout",
     "output_type": "stream",
     "text": [
      "<class 'pandas.core.frame.DataFrame'>\n",
      "RangeIndex: 3503 entries, 0 to 3502\n",
      "Data columns (total 9 columns):\n",
      "TrackId         3503 non-null int64\n",
      "Name            3503 non-null object\n",
      "AlbumId         3503 non-null int64\n",
      "MediaTypeId     3503 non-null int64\n",
      "GenreId         3503 non-null int64\n",
      "Composer        2525 non-null object\n",
      "Milliseconds    3503 non-null int64\n",
      "Bytes           3503 non-null int64\n",
      "UnitPrice       3503 non-null float64\n",
      "dtypes: float64(1), int64(6), object(2)\n",
      "memory usage: 246.4+ KB\n"
     ]
    }
   ],
   "source": [
    "tracks.info()"
   ],
   "metadata": {
    "collapsed": false,
    "ExecuteTime": {
     "end_time": "2023-09-03T01:05:34.566555Z",
     "start_time": "2023-09-03T01:05:33.645527Z"
    }
   },
   "id": "46b692adef15bd5e"
  },
  {
   "cell_type": "code",
   "execution_count": 30,
   "outputs": [],
   "source": [
    "# 如果数据中包含数值类型的缺失值用均值填充, 如果包含类别型变量的缺失值用众数填充"
   ],
   "metadata": {
    "collapsed": false,
    "ExecuteTime": {
     "end_time": "2023-09-03T01:05:34.567410Z",
     "start_time": "2023-09-03T01:05:33.653434Z"
    }
   },
   "id": "a0dcda3c18adc5b3"
  },
  {
   "cell_type": "code",
   "execution_count": 31,
   "outputs": [
    {
     "data": {
      "text/plain": "      TrackId                                               Name  AlbumId  \\\n0           1            For Those About To Rock (We Salute You)        1   \n1           2                                  Balls to the Wall        2   \n2           3                                    Fast As a Shark        3   \n3           4                                  Restless and Wild        3   \n4           5                               Princess of the Dawn        3   \n5           6                              Put The Finger On You        1   \n6           7                                    Let's Get It Up        1   \n7           8                                   Inject The Venom        1   \n8           9                                         Snowballed        1   \n9          10                                         Evil Walks        1   \n10         11                                             C.O.D.        1   \n11         12                                 Breaking The Rules        1   \n12         13                           Night Of The Long Knives        1   \n13         14                                         Spellbound        1   \n14         15                                            Go Down        4   \n15         16                                        Dog Eat Dog        4   \n16         17                                  Let There Be Rock        4   \n17         18                                     Bad Boy Boogie        4   \n18         19                                      Problem Child        4   \n19         20                                           Overdose        4   \n20         21                       Hell Ain't A Bad Place To Be        4   \n21         22                                  Whole Lotta Rosie        4   \n22         23                                      Walk On Water        5   \n23         24                                Love In An Elevator        5   \n24         25                                           Rag Doll        5   \n25         26                                      What It Takes        5   \n26         27                           Dude (Looks Like A Lady)        5   \n27         28                                  Janie's Got A Gun        5   \n28         29                                             Cryin'        5   \n29         30                                            Amazing        5   \n...       ...                                                ...      ...   \n3473     3474                                       October Song      322   \n3474     3475                               What Is It About Men      322   \n3475     3476                                      Help Yourself      322   \n3476     3477                                Amy Amy Amy (Outro)      322   \n3477     3478                                           Slowness      323   \n3478     3479                        Prometheus Overture, Op. 43      324   \n3479     3480                 Sonata for Solo Violin: IV: Presto      325   \n3480     3481  A Midsummer Night's Dream, Op.61 Incidental Mu...      326   \n3481     3482    Suite No. 3 in D, BWV 1068: III. Gavotte I & II      327   \n3482     3483  Concert pour 4 Parties de V**les, H. 545: I. P...      328   \n3483     3484                                       Adios nonino      329   \n3484     3485  Symphony No. 3 Op. 36 for Orchestra and Sopran...      330   \n3485     3486                                   Act IV, Symphony      331   \n3486     3487  3 Gymnopédies: No.1 - Lent Et Grave, No.3 - Le...      332   \n3487     3488  Music for the Funeral of Queen Mary: VI. \"Thou...      333   \n3488     3489                Symphony No. 2: III. Allegro vivace      334   \n3489     3490          Partita in E Major, BWV 1006A: I. Prelude      335   \n3490     3491         Le Sacre Du Printemps: I.iv. Spring Rounds      336   \n3491     3492                                      Sing Joyfully      314   \n3492     3493                           Metopes, Op. 29: Calypso      337   \n3493     3494  Symphony No. 2, Op. 16 -  \"The Four Temperamen...      338   \n3494     3495  24 Caprices, Op. 1, No. 24, for Solo Violin, i...      339   \n3495     3496    Étude 1, In C Major - Preludio (Presto) - Liszt      340   \n3496     3497                                    Erlkonig, D.328      341   \n3497     3498  Concerto for Violin, Strings and Continuo in G...      342   \n3498     3499  Pini Di Roma (Pinien Von Rom) \\ I Pini Della V...      343   \n3499     3500  String Quartet No. 12 in C Minor, D. 703 \"Quar...      344   \n3500     3501               L'orfeo, Act 3, Sinfonia (Orchestra)      345   \n3501     3502  Quintet for Horn, Violin, 2 Violas, and Cello ...      346   \n3502     3503                                      Koyaanisqatsi      347   \n\n      MediaTypeId  GenreId                                           Composer  \\\n0               1        1          Angus Young, Malcolm Young, Brian Johnson   \n1               2        1                                               None   \n2               2        1  F. Baltes, S. Kaufman, U. Dirkscneider & W. Ho...   \n3               2        1  F. Baltes, R.A. Smith-Diesel, S. Kaufman, U. D...   \n4               2        1                         Deaffy & R.A. Smith-Diesel   \n5               1        1          Angus Young, Malcolm Young, Brian Johnson   \n6               1        1          Angus Young, Malcolm Young, Brian Johnson   \n7               1        1          Angus Young, Malcolm Young, Brian Johnson   \n8               1        1          Angus Young, Malcolm Young, Brian Johnson   \n9               1        1          Angus Young, Malcolm Young, Brian Johnson   \n10              1        1          Angus Young, Malcolm Young, Brian Johnson   \n11              1        1          Angus Young, Malcolm Young, Brian Johnson   \n12              1        1          Angus Young, Malcolm Young, Brian Johnson   \n13              1        1          Angus Young, Malcolm Young, Brian Johnson   \n14              1        1                                              AC/DC   \n15              1        1                                              AC/DC   \n16              1        1                                              AC/DC   \n17              1        1                                              AC/DC   \n18              1        1                                              AC/DC   \n19              1        1                                              AC/DC   \n20              1        1                                              AC/DC   \n21              1        1                                              AC/DC   \n22              1        1   Steven Tyler, Joe Perry, Jack Blades, Tommy Shaw   \n23              1        1                            Steven Tyler, Joe Perry   \n24              1        1  Steven Tyler, Joe Perry, Jim Vallance, Holly K...   \n25              1        1             Steven Tyler, Joe Perry, Desmond Child   \n26              1        1             Steven Tyler, Joe Perry, Desmond Child   \n27              1        1                         Steven Tyler, Tom Hamilton   \n28              1        1             Steven Tyler, Joe Perry, Taylor Rhodes   \n29              1        1                          Steven Tyler, Richie Supa   \n...           ...      ...                                                ...   \n3473            2        9                         Matt Rowe & Stefan Skarbek   \n3474            2        9  Delroy \"Chris\" Cooper, Donovan Jackson, Earl C...   \n3475            2        9          Freddy James, Jimmy hogarth & Larry Stock   \n3476            2        9  Astor Campbell, Delroy \"Chris\" Cooper, Donovan...   \n3477            2       23                                               None   \n3478            4       24                               Ludwig van Beethoven   \n3479            4       24                                        Béla Bartók   \n3480            2       24                                               None   \n3481            2       24                              Johann Sebastian Bach   \n3482            2       24                           Marc-Antoine Charpentier   \n3483            2       24                                    Astor Piazzolla   \n3484            2       24                                     Henryk Górecki   \n3485            2       24                                      Henry Purcell   \n3486            2       24                                         Erik Satie   \n3487            2       24                                      Henry Purcell   \n3488            2       24                                         Kurt Weill   \n3489            2       24                              Johann Sebastian Bach   \n3490            2       24                                    Igor Stravinsky   \n3491            2       24                                       William Byrd   \n3492            2       24                                  Karol Szymanowski   \n3493            2       24                                       Carl Nielsen   \n3494            2       24                                   Niccolò Paganini   \n3495            4       24                                               None   \n3496            2       24                                               None   \n3497            4       24                           Pietro Antonio Locatelli   \n3498            2       24                                               None   \n3499            2       24                                     Franz Schubert   \n3500            2       24                                 Claudio Monteverdi   \n3501            2       24                            Wolfgang Amadeus Mozart   \n3502            2       10                                       Philip Glass   \n\n      Milliseconds     Bytes  UnitPrice  \n0           343719  11170334       0.99  \n1           342562   5510424       0.99  \n2           230619   3990994       0.99  \n3           252051   4331779       0.99  \n4           375418   6290521       0.99  \n5           205662   6713451       0.99  \n6           233926   7636561       0.99  \n7           210834   6852860       0.99  \n8           203102   6599424       0.99  \n9           263497   8611245       0.99  \n10          199836   6566314       0.99  \n11          263288   8596840       0.99  \n12          205688   6706347       0.99  \n13          270863   8817038       0.99  \n14          331180  10847611       0.99  \n15          215196   7032162       0.99  \n16          366654  12021261       0.99  \n17          267728   8776140       0.99  \n18          325041  10617116       0.99  \n19          369319  12066294       0.99  \n20          254380   8331286       0.99  \n21          323761  10547154       0.99  \n22          295680   9719579       0.99  \n23          321828  10552051       0.99  \n24          264698   8675345       0.99  \n25          310622  10144730       0.99  \n26          264855   8679940       0.99  \n27          330736  10869391       0.99  \n28          309263  10056995       0.99  \n29          356519  11616195       0.99  \n...            ...       ...        ...  \n3473        204846   3358125       0.99  \n3474        209573   3426106       0.99  \n3475        300884   5029266       0.99  \n3476        663426  10564704       0.99  \n3477        215386   3644793       0.99  \n3478        339567  10887931       0.99  \n3479        299350   9785346       0.99  \n3480        387826   6497867       0.99  \n3481        225933   3847164       0.99  \n3482        110266   1973559       0.99  \n3483        289388   4781384       0.99  \n3484        567494   9273123       0.99  \n3485        364296   5987695       0.99  \n3486        385506   6458501       0.99  \n3487        142081   2365930       0.99  \n3488        376510   6129146       0.99  \n3489        285673   4744929       0.99  \n3490        234746   4072205       0.99  \n3491        133768   2256484       0.99  \n3492        333669   5548755       0.99  \n3493        286998   4834785       0.99  \n3494        265541   4371533       0.99  \n3495         51780   2229617       0.99  \n3496        261849   4307907       0.99  \n3497        493573  16454937       0.99  \n3498        286741   4718950       0.99  \n3499        139200   2283131       0.99  \n3500         66639   1189062       0.99  \n3501        221331   3665114       0.99  \n3502        206005   3305164       0.99  \n\n[3503 rows x 9 columns]",
      "text/html": "<div>\n<style scoped>\n    .dataframe tbody tr th:only-of-type {\n        vertical-align: middle;\n    }\n\n    .dataframe tbody tr th {\n        vertical-align: top;\n    }\n\n    .dataframe thead th {\n        text-align: right;\n    }\n</style>\n<table border=\"1\" class=\"dataframe\">\n  <thead>\n    <tr style=\"text-align: right;\">\n      <th></th>\n      <th>TrackId</th>\n      <th>Name</th>\n      <th>AlbumId</th>\n      <th>MediaTypeId</th>\n      <th>GenreId</th>\n      <th>Composer</th>\n      <th>Milliseconds</th>\n      <th>Bytes</th>\n      <th>UnitPrice</th>\n    </tr>\n  </thead>\n  <tbody>\n    <tr>\n      <th>0</th>\n      <td>1</td>\n      <td>For Those About To Rock (We Salute You)</td>\n      <td>1</td>\n      <td>1</td>\n      <td>1</td>\n      <td>Angus Young, Malcolm Young, Brian Johnson</td>\n      <td>343719</td>\n      <td>11170334</td>\n      <td>0.99</td>\n    </tr>\n    <tr>\n      <th>1</th>\n      <td>2</td>\n      <td>Balls to the Wall</td>\n      <td>2</td>\n      <td>2</td>\n      <td>1</td>\n      <td>None</td>\n      <td>342562</td>\n      <td>5510424</td>\n      <td>0.99</td>\n    </tr>\n    <tr>\n      <th>2</th>\n      <td>3</td>\n      <td>Fast As a Shark</td>\n      <td>3</td>\n      <td>2</td>\n      <td>1</td>\n      <td>F. Baltes, S. Kaufman, U. Dirkscneider &amp; W. Ho...</td>\n      <td>230619</td>\n      <td>3990994</td>\n      <td>0.99</td>\n    </tr>\n    <tr>\n      <th>3</th>\n      <td>4</td>\n      <td>Restless and Wild</td>\n      <td>3</td>\n      <td>2</td>\n      <td>1</td>\n      <td>F. Baltes, R.A. Smith-Diesel, S. Kaufman, U. D...</td>\n      <td>252051</td>\n      <td>4331779</td>\n      <td>0.99</td>\n    </tr>\n    <tr>\n      <th>4</th>\n      <td>5</td>\n      <td>Princess of the Dawn</td>\n      <td>3</td>\n      <td>2</td>\n      <td>1</td>\n      <td>Deaffy &amp; R.A. Smith-Diesel</td>\n      <td>375418</td>\n      <td>6290521</td>\n      <td>0.99</td>\n    </tr>\n    <tr>\n      <th>5</th>\n      <td>6</td>\n      <td>Put The Finger On You</td>\n      <td>1</td>\n      <td>1</td>\n      <td>1</td>\n      <td>Angus Young, Malcolm Young, Brian Johnson</td>\n      <td>205662</td>\n      <td>6713451</td>\n      <td>0.99</td>\n    </tr>\n    <tr>\n      <th>6</th>\n      <td>7</td>\n      <td>Let's Get It Up</td>\n      <td>1</td>\n      <td>1</td>\n      <td>1</td>\n      <td>Angus Young, Malcolm Young, Brian Johnson</td>\n      <td>233926</td>\n      <td>7636561</td>\n      <td>0.99</td>\n    </tr>\n    <tr>\n      <th>7</th>\n      <td>8</td>\n      <td>Inject The Venom</td>\n      <td>1</td>\n      <td>1</td>\n      <td>1</td>\n      <td>Angus Young, Malcolm Young, Brian Johnson</td>\n      <td>210834</td>\n      <td>6852860</td>\n      <td>0.99</td>\n    </tr>\n    <tr>\n      <th>8</th>\n      <td>9</td>\n      <td>Snowballed</td>\n      <td>1</td>\n      <td>1</td>\n      <td>1</td>\n      <td>Angus Young, Malcolm Young, Brian Johnson</td>\n      <td>203102</td>\n      <td>6599424</td>\n      <td>0.99</td>\n    </tr>\n    <tr>\n      <th>9</th>\n      <td>10</td>\n      <td>Evil Walks</td>\n      <td>1</td>\n      <td>1</td>\n      <td>1</td>\n      <td>Angus Young, Malcolm Young, Brian Johnson</td>\n      <td>263497</td>\n      <td>8611245</td>\n      <td>0.99</td>\n    </tr>\n    <tr>\n      <th>10</th>\n      <td>11</td>\n      <td>C.O.D.</td>\n      <td>1</td>\n      <td>1</td>\n      <td>1</td>\n      <td>Angus Young, Malcolm Young, Brian Johnson</td>\n      <td>199836</td>\n      <td>6566314</td>\n      <td>0.99</td>\n    </tr>\n    <tr>\n      <th>11</th>\n      <td>12</td>\n      <td>Breaking The Rules</td>\n      <td>1</td>\n      <td>1</td>\n      <td>1</td>\n      <td>Angus Young, Malcolm Young, Brian Johnson</td>\n      <td>263288</td>\n      <td>8596840</td>\n      <td>0.99</td>\n    </tr>\n    <tr>\n      <th>12</th>\n      <td>13</td>\n      <td>Night Of The Long Knives</td>\n      <td>1</td>\n      <td>1</td>\n      <td>1</td>\n      <td>Angus Young, Malcolm Young, Brian Johnson</td>\n      <td>205688</td>\n      <td>6706347</td>\n      <td>0.99</td>\n    </tr>\n    <tr>\n      <th>13</th>\n      <td>14</td>\n      <td>Spellbound</td>\n      <td>1</td>\n      <td>1</td>\n      <td>1</td>\n      <td>Angus Young, Malcolm Young, Brian Johnson</td>\n      <td>270863</td>\n      <td>8817038</td>\n      <td>0.99</td>\n    </tr>\n    <tr>\n      <th>14</th>\n      <td>15</td>\n      <td>Go Down</td>\n      <td>4</td>\n      <td>1</td>\n      <td>1</td>\n      <td>AC/DC</td>\n      <td>331180</td>\n      <td>10847611</td>\n      <td>0.99</td>\n    </tr>\n    <tr>\n      <th>15</th>\n      <td>16</td>\n      <td>Dog Eat Dog</td>\n      <td>4</td>\n      <td>1</td>\n      <td>1</td>\n      <td>AC/DC</td>\n      <td>215196</td>\n      <td>7032162</td>\n      <td>0.99</td>\n    </tr>\n    <tr>\n      <th>16</th>\n      <td>17</td>\n      <td>Let There Be Rock</td>\n      <td>4</td>\n      <td>1</td>\n      <td>1</td>\n      <td>AC/DC</td>\n      <td>366654</td>\n      <td>12021261</td>\n      <td>0.99</td>\n    </tr>\n    <tr>\n      <th>17</th>\n      <td>18</td>\n      <td>Bad Boy Boogie</td>\n      <td>4</td>\n      <td>1</td>\n      <td>1</td>\n      <td>AC/DC</td>\n      <td>267728</td>\n      <td>8776140</td>\n      <td>0.99</td>\n    </tr>\n    <tr>\n      <th>18</th>\n      <td>19</td>\n      <td>Problem Child</td>\n      <td>4</td>\n      <td>1</td>\n      <td>1</td>\n      <td>AC/DC</td>\n      <td>325041</td>\n      <td>10617116</td>\n      <td>0.99</td>\n    </tr>\n    <tr>\n      <th>19</th>\n      <td>20</td>\n      <td>Overdose</td>\n      <td>4</td>\n      <td>1</td>\n      <td>1</td>\n      <td>AC/DC</td>\n      <td>369319</td>\n      <td>12066294</td>\n      <td>0.99</td>\n    </tr>\n    <tr>\n      <th>20</th>\n      <td>21</td>\n      <td>Hell Ain't A Bad Place To Be</td>\n      <td>4</td>\n      <td>1</td>\n      <td>1</td>\n      <td>AC/DC</td>\n      <td>254380</td>\n      <td>8331286</td>\n      <td>0.99</td>\n    </tr>\n    <tr>\n      <th>21</th>\n      <td>22</td>\n      <td>Whole Lotta Rosie</td>\n      <td>4</td>\n      <td>1</td>\n      <td>1</td>\n      <td>AC/DC</td>\n      <td>323761</td>\n      <td>10547154</td>\n      <td>0.99</td>\n    </tr>\n    <tr>\n      <th>22</th>\n      <td>23</td>\n      <td>Walk On Water</td>\n      <td>5</td>\n      <td>1</td>\n      <td>1</td>\n      <td>Steven Tyler, Joe Perry, Jack Blades, Tommy Shaw</td>\n      <td>295680</td>\n      <td>9719579</td>\n      <td>0.99</td>\n    </tr>\n    <tr>\n      <th>23</th>\n      <td>24</td>\n      <td>Love In An Elevator</td>\n      <td>5</td>\n      <td>1</td>\n      <td>1</td>\n      <td>Steven Tyler, Joe Perry</td>\n      <td>321828</td>\n      <td>10552051</td>\n      <td>0.99</td>\n    </tr>\n    <tr>\n      <th>24</th>\n      <td>25</td>\n      <td>Rag Doll</td>\n      <td>5</td>\n      <td>1</td>\n      <td>1</td>\n      <td>Steven Tyler, Joe Perry, Jim Vallance, Holly K...</td>\n      <td>264698</td>\n      <td>8675345</td>\n      <td>0.99</td>\n    </tr>\n    <tr>\n      <th>25</th>\n      <td>26</td>\n      <td>What It Takes</td>\n      <td>5</td>\n      <td>1</td>\n      <td>1</td>\n      <td>Steven Tyler, Joe Perry, Desmond Child</td>\n      <td>310622</td>\n      <td>10144730</td>\n      <td>0.99</td>\n    </tr>\n    <tr>\n      <th>26</th>\n      <td>27</td>\n      <td>Dude (Looks Like A Lady)</td>\n      <td>5</td>\n      <td>1</td>\n      <td>1</td>\n      <td>Steven Tyler, Joe Perry, Desmond Child</td>\n      <td>264855</td>\n      <td>8679940</td>\n      <td>0.99</td>\n    </tr>\n    <tr>\n      <th>27</th>\n      <td>28</td>\n      <td>Janie's Got A Gun</td>\n      <td>5</td>\n      <td>1</td>\n      <td>1</td>\n      <td>Steven Tyler, Tom Hamilton</td>\n      <td>330736</td>\n      <td>10869391</td>\n      <td>0.99</td>\n    </tr>\n    <tr>\n      <th>28</th>\n      <td>29</td>\n      <td>Cryin'</td>\n      <td>5</td>\n      <td>1</td>\n      <td>1</td>\n      <td>Steven Tyler, Joe Perry, Taylor Rhodes</td>\n      <td>309263</td>\n      <td>10056995</td>\n      <td>0.99</td>\n    </tr>\n    <tr>\n      <th>29</th>\n      <td>30</td>\n      <td>Amazing</td>\n      <td>5</td>\n      <td>1</td>\n      <td>1</td>\n      <td>Steven Tyler, Richie Supa</td>\n      <td>356519</td>\n      <td>11616195</td>\n      <td>0.99</td>\n    </tr>\n    <tr>\n      <th>...</th>\n      <td>...</td>\n      <td>...</td>\n      <td>...</td>\n      <td>...</td>\n      <td>...</td>\n      <td>...</td>\n      <td>...</td>\n      <td>...</td>\n      <td>...</td>\n    </tr>\n    <tr>\n      <th>3473</th>\n      <td>3474</td>\n      <td>October Song</td>\n      <td>322</td>\n      <td>2</td>\n      <td>9</td>\n      <td>Matt Rowe &amp; Stefan Skarbek</td>\n      <td>204846</td>\n      <td>3358125</td>\n      <td>0.99</td>\n    </tr>\n    <tr>\n      <th>3474</th>\n      <td>3475</td>\n      <td>What Is It About Men</td>\n      <td>322</td>\n      <td>2</td>\n      <td>9</td>\n      <td>Delroy \"Chris\" Cooper, Donovan Jackson, Earl C...</td>\n      <td>209573</td>\n      <td>3426106</td>\n      <td>0.99</td>\n    </tr>\n    <tr>\n      <th>3475</th>\n      <td>3476</td>\n      <td>Help Yourself</td>\n      <td>322</td>\n      <td>2</td>\n      <td>9</td>\n      <td>Freddy James, Jimmy hogarth &amp; Larry Stock</td>\n      <td>300884</td>\n      <td>5029266</td>\n      <td>0.99</td>\n    </tr>\n    <tr>\n      <th>3476</th>\n      <td>3477</td>\n      <td>Amy Amy Amy (Outro)</td>\n      <td>322</td>\n      <td>2</td>\n      <td>9</td>\n      <td>Astor Campbell, Delroy \"Chris\" Cooper, Donovan...</td>\n      <td>663426</td>\n      <td>10564704</td>\n      <td>0.99</td>\n    </tr>\n    <tr>\n      <th>3477</th>\n      <td>3478</td>\n      <td>Slowness</td>\n      <td>323</td>\n      <td>2</td>\n      <td>23</td>\n      <td>None</td>\n      <td>215386</td>\n      <td>3644793</td>\n      <td>0.99</td>\n    </tr>\n    <tr>\n      <th>3478</th>\n      <td>3479</td>\n      <td>Prometheus Overture, Op. 43</td>\n      <td>324</td>\n      <td>4</td>\n      <td>24</td>\n      <td>Ludwig van Beethoven</td>\n      <td>339567</td>\n      <td>10887931</td>\n      <td>0.99</td>\n    </tr>\n    <tr>\n      <th>3479</th>\n      <td>3480</td>\n      <td>Sonata for Solo Violin: IV: Presto</td>\n      <td>325</td>\n      <td>4</td>\n      <td>24</td>\n      <td>Béla Bartók</td>\n      <td>299350</td>\n      <td>9785346</td>\n      <td>0.99</td>\n    </tr>\n    <tr>\n      <th>3480</th>\n      <td>3481</td>\n      <td>A Midsummer Night's Dream, Op.61 Incidental Mu...</td>\n      <td>326</td>\n      <td>2</td>\n      <td>24</td>\n      <td>None</td>\n      <td>387826</td>\n      <td>6497867</td>\n      <td>0.99</td>\n    </tr>\n    <tr>\n      <th>3481</th>\n      <td>3482</td>\n      <td>Suite No. 3 in D, BWV 1068: III. Gavotte I &amp; II</td>\n      <td>327</td>\n      <td>2</td>\n      <td>24</td>\n      <td>Johann Sebastian Bach</td>\n      <td>225933</td>\n      <td>3847164</td>\n      <td>0.99</td>\n    </tr>\n    <tr>\n      <th>3482</th>\n      <td>3483</td>\n      <td>Concert pour 4 Parties de V**les, H. 545: I. P...</td>\n      <td>328</td>\n      <td>2</td>\n      <td>24</td>\n      <td>Marc-Antoine Charpentier</td>\n      <td>110266</td>\n      <td>1973559</td>\n      <td>0.99</td>\n    </tr>\n    <tr>\n      <th>3483</th>\n      <td>3484</td>\n      <td>Adios nonino</td>\n      <td>329</td>\n      <td>2</td>\n      <td>24</td>\n      <td>Astor Piazzolla</td>\n      <td>289388</td>\n      <td>4781384</td>\n      <td>0.99</td>\n    </tr>\n    <tr>\n      <th>3484</th>\n      <td>3485</td>\n      <td>Symphony No. 3 Op. 36 for Orchestra and Sopran...</td>\n      <td>330</td>\n      <td>2</td>\n      <td>24</td>\n      <td>Henryk Górecki</td>\n      <td>567494</td>\n      <td>9273123</td>\n      <td>0.99</td>\n    </tr>\n    <tr>\n      <th>3485</th>\n      <td>3486</td>\n      <td>Act IV, Symphony</td>\n      <td>331</td>\n      <td>2</td>\n      <td>24</td>\n      <td>Henry Purcell</td>\n      <td>364296</td>\n      <td>5987695</td>\n      <td>0.99</td>\n    </tr>\n    <tr>\n      <th>3486</th>\n      <td>3487</td>\n      <td>3 Gymnopédies: No.1 - Lent Et Grave, No.3 - Le...</td>\n      <td>332</td>\n      <td>2</td>\n      <td>24</td>\n      <td>Erik Satie</td>\n      <td>385506</td>\n      <td>6458501</td>\n      <td>0.99</td>\n    </tr>\n    <tr>\n      <th>3487</th>\n      <td>3488</td>\n      <td>Music for the Funeral of Queen Mary: VI. \"Thou...</td>\n      <td>333</td>\n      <td>2</td>\n      <td>24</td>\n      <td>Henry Purcell</td>\n      <td>142081</td>\n      <td>2365930</td>\n      <td>0.99</td>\n    </tr>\n    <tr>\n      <th>3488</th>\n      <td>3489</td>\n      <td>Symphony No. 2: III. Allegro vivace</td>\n      <td>334</td>\n      <td>2</td>\n      <td>24</td>\n      <td>Kurt Weill</td>\n      <td>376510</td>\n      <td>6129146</td>\n      <td>0.99</td>\n    </tr>\n    <tr>\n      <th>3489</th>\n      <td>3490</td>\n      <td>Partita in E Major, BWV 1006A: I. Prelude</td>\n      <td>335</td>\n      <td>2</td>\n      <td>24</td>\n      <td>Johann Sebastian Bach</td>\n      <td>285673</td>\n      <td>4744929</td>\n      <td>0.99</td>\n    </tr>\n    <tr>\n      <th>3490</th>\n      <td>3491</td>\n      <td>Le Sacre Du Printemps: I.iv. Spring Rounds</td>\n      <td>336</td>\n      <td>2</td>\n      <td>24</td>\n      <td>Igor Stravinsky</td>\n      <td>234746</td>\n      <td>4072205</td>\n      <td>0.99</td>\n    </tr>\n    <tr>\n      <th>3491</th>\n      <td>3492</td>\n      <td>Sing Joyfully</td>\n      <td>314</td>\n      <td>2</td>\n      <td>24</td>\n      <td>William Byrd</td>\n      <td>133768</td>\n      <td>2256484</td>\n      <td>0.99</td>\n    </tr>\n    <tr>\n      <th>3492</th>\n      <td>3493</td>\n      <td>Metopes, Op. 29: Calypso</td>\n      <td>337</td>\n      <td>2</td>\n      <td>24</td>\n      <td>Karol Szymanowski</td>\n      <td>333669</td>\n      <td>5548755</td>\n      <td>0.99</td>\n    </tr>\n    <tr>\n      <th>3493</th>\n      <td>3494</td>\n      <td>Symphony No. 2, Op. 16 -  \"The Four Temperamen...</td>\n      <td>338</td>\n      <td>2</td>\n      <td>24</td>\n      <td>Carl Nielsen</td>\n      <td>286998</td>\n      <td>4834785</td>\n      <td>0.99</td>\n    </tr>\n    <tr>\n      <th>3494</th>\n      <td>3495</td>\n      <td>24 Caprices, Op. 1, No. 24, for Solo Violin, i...</td>\n      <td>339</td>\n      <td>2</td>\n      <td>24</td>\n      <td>Niccolò Paganini</td>\n      <td>265541</td>\n      <td>4371533</td>\n      <td>0.99</td>\n    </tr>\n    <tr>\n      <th>3495</th>\n      <td>3496</td>\n      <td>Étude 1, In C Major - Preludio (Presto) - Liszt</td>\n      <td>340</td>\n      <td>4</td>\n      <td>24</td>\n      <td>None</td>\n      <td>51780</td>\n      <td>2229617</td>\n      <td>0.99</td>\n    </tr>\n    <tr>\n      <th>3496</th>\n      <td>3497</td>\n      <td>Erlkonig, D.328</td>\n      <td>341</td>\n      <td>2</td>\n      <td>24</td>\n      <td>None</td>\n      <td>261849</td>\n      <td>4307907</td>\n      <td>0.99</td>\n    </tr>\n    <tr>\n      <th>3497</th>\n      <td>3498</td>\n      <td>Concerto for Violin, Strings and Continuo in G...</td>\n      <td>342</td>\n      <td>4</td>\n      <td>24</td>\n      <td>Pietro Antonio Locatelli</td>\n      <td>493573</td>\n      <td>16454937</td>\n      <td>0.99</td>\n    </tr>\n    <tr>\n      <th>3498</th>\n      <td>3499</td>\n      <td>Pini Di Roma (Pinien Von Rom) \\ I Pini Della V...</td>\n      <td>343</td>\n      <td>2</td>\n      <td>24</td>\n      <td>None</td>\n      <td>286741</td>\n      <td>4718950</td>\n      <td>0.99</td>\n    </tr>\n    <tr>\n      <th>3499</th>\n      <td>3500</td>\n      <td>String Quartet No. 12 in C Minor, D. 703 \"Quar...</td>\n      <td>344</td>\n      <td>2</td>\n      <td>24</td>\n      <td>Franz Schubert</td>\n      <td>139200</td>\n      <td>2283131</td>\n      <td>0.99</td>\n    </tr>\n    <tr>\n      <th>3500</th>\n      <td>3501</td>\n      <td>L'orfeo, Act 3, Sinfonia (Orchestra)</td>\n      <td>345</td>\n      <td>2</td>\n      <td>24</td>\n      <td>Claudio Monteverdi</td>\n      <td>66639</td>\n      <td>1189062</td>\n      <td>0.99</td>\n    </tr>\n    <tr>\n      <th>3501</th>\n      <td>3502</td>\n      <td>Quintet for Horn, Violin, 2 Violas, and Cello ...</td>\n      <td>346</td>\n      <td>2</td>\n      <td>24</td>\n      <td>Wolfgang Amadeus Mozart</td>\n      <td>221331</td>\n      <td>3665114</td>\n      <td>0.99</td>\n    </tr>\n    <tr>\n      <th>3502</th>\n      <td>3503</td>\n      <td>Koyaanisqatsi</td>\n      <td>347</td>\n      <td>2</td>\n      <td>10</td>\n      <td>Philip Glass</td>\n      <td>206005</td>\n      <td>3305164</td>\n      <td>0.99</td>\n    </tr>\n  </tbody>\n</table>\n<p>3503 rows × 9 columns</p>\n</div>"
     },
     "execution_count": 31,
     "metadata": {},
     "output_type": "execute_result"
    }
   ],
   "source": [
    "tracks.fillna(tracks['Composer'].mode())"
   ],
   "metadata": {
    "collapsed": false,
    "ExecuteTime": {
     "end_time": "2023-09-03T01:05:34.568470Z",
     "start_time": "2023-09-03T01:05:33.698727Z"
    }
   },
   "id": "eb53bffc5a40abea"
  },
  {
   "cell_type": "code",
   "execution_count": 32,
   "outputs": [
    {
     "data": {
      "text/plain": "BillingState         202\nBillingPostalCode     28\nTotal                  0\nBillingCountry         0\nBillingCity            0\nBillingAddress         0\nInvoiceDate            0\nCustomerId             0\nInvoiceId              0\ndtype: int64"
     },
     "execution_count": 32,
     "metadata": {},
     "output_type": "execute_result"
    }
   ],
   "source": [
    "invoice.isnull().sum().sort_values(ascending=False)"
   ],
   "metadata": {
    "collapsed": false,
    "ExecuteTime": {
     "end_time": "2023-09-03T01:05:34.568915Z",
     "start_time": "2023-09-03T01:05:33.715132Z"
    }
   },
   "id": "6cc0467ea6ae5e93"
  },
  {
   "cell_type": "code",
   "execution_count": 33,
   "outputs": [
    {
     "name": "stdout",
     "output_type": "stream",
     "text": [
      "<class 'pandas.core.frame.DataFrame'>\n",
      "RangeIndex: 412 entries, 0 to 411\n",
      "Data columns (total 9 columns):\n",
      "InvoiceId            412 non-null int64\n",
      "CustomerId           412 non-null int64\n",
      "InvoiceDate          412 non-null object\n",
      "BillingAddress       412 non-null object\n",
      "BillingCity          412 non-null object\n",
      "BillingState         210 non-null object\n",
      "BillingCountry       412 non-null object\n",
      "BillingPostalCode    384 non-null object\n",
      "Total                412 non-null float64\n",
      "dtypes: float64(1), int64(2), object(6)\n",
      "memory usage: 29.0+ KB\n"
     ]
    }
   ],
   "source": [
    "invoice.info()"
   ],
   "metadata": {
    "collapsed": false,
    "ExecuteTime": {
     "end_time": "2023-09-03T01:05:34.569090Z",
     "start_time": "2023-09-03T01:05:33.722951Z"
    }
   },
   "id": "e65107084f728afd"
  },
  {
   "cell_type": "code",
   "execution_count": 34,
   "outputs": [
    {
     "data": {
      "text/plain": "Quantity         0\nUnitPrice        0\nTrackId          0\nInvoiceId        0\nInvoiceLineId    0\ndtype: int64"
     },
     "execution_count": 34,
     "metadata": {},
     "output_type": "execute_result"
    }
   ],
   "source": [
    "invoice_items.isnull().sum().sort_values(ascending=False)"
   ],
   "metadata": {
    "collapsed": false,
    "ExecuteTime": {
     "end_time": "2023-09-03T01:05:34.569313Z",
     "start_time": "2023-09-03T01:05:33.740533Z"
    }
   },
   "id": "eb9c8858907a3a20"
  },
  {
   "cell_type": "code",
   "execution_count": 35,
   "outputs": [
    {
     "data": {
      "text/plain": "ReportsTo     1\nEmail         0\nFax           0\nPhone         0\nPostalCode    0\nCountry       0\nState         0\nCity          0\nAddress       0\nHireDate      0\nBirthDate     0\nTitle         0\nFirstName     0\nLastName      0\nEmployeeId    0\ndtype: int64"
     },
     "execution_count": 35,
     "metadata": {},
     "output_type": "execute_result"
    }
   ],
   "source": [
    "employees.isnull().sum().sort_values(ascending=False)"
   ],
   "metadata": {
    "collapsed": false,
    "ExecuteTime": {
     "end_time": "2023-09-03T01:05:34.569502Z",
     "start_time": "2023-09-03T01:05:33.753778Z"
    }
   },
   "id": "8b2e9106a06e1873"
  },
  {
   "cell_type": "code",
   "execution_count": 36,
   "outputs": [
    {
     "name": "stdout",
     "output_type": "stream",
     "text": [
      "<class 'pandas.core.frame.DataFrame'>\n",
      "RangeIndex: 8 entries, 0 to 7\n",
      "Data columns (total 15 columns):\n",
      "EmployeeId    8 non-null int64\n",
      "LastName      8 non-null object\n",
      "FirstName     8 non-null object\n",
      "Title         8 non-null object\n",
      "ReportsTo     7 non-null float64\n",
      "BirthDate     8 non-null object\n",
      "HireDate      8 non-null object\n",
      "Address       8 non-null object\n",
      "City          8 non-null object\n",
      "State         8 non-null object\n",
      "Country       8 non-null object\n",
      "PostalCode    8 non-null object\n",
      "Phone         8 non-null object\n",
      "Fax           8 non-null object\n",
      "Email         8 non-null object\n",
      "dtypes: float64(1), int64(1), object(13)\n",
      "memory usage: 1.0+ KB\n"
     ]
    }
   ],
   "source": [
    "employees.info()"
   ],
   "metadata": {
    "collapsed": false,
    "ExecuteTime": {
     "end_time": "2023-09-03T01:05:34.569667Z",
     "start_time": "2023-09-03T01:05:33.762521Z"
    }
   },
   "id": "1fcb18ce8ec3876e"
  },
  {
   "cell_type": "code",
   "execution_count": 37,
   "outputs": [],
   "source": [
    "employees.fillna(employees['ReportsTo'].mean(), inplace=True)"
   ],
   "metadata": {
    "collapsed": false,
    "ExecuteTime": {
     "end_time": "2023-09-03T01:05:34.569809Z",
     "start_time": "2023-09-03T01:05:33.849133Z"
    }
   },
   "id": "1d52ef5a6c15bddb"
  },
  {
   "cell_type": "code",
   "execution_count": 38,
   "outputs": [
    {
     "data": {
      "text/plain": "Email         0\nFax           0\nPhone         0\nPostalCode    0\nCountry       0\nState         0\nCity          0\nAddress       0\nHireDate      0\nBirthDate     0\nReportsTo     0\nTitle         0\nFirstName     0\nLastName      0\nEmployeeId    0\ndtype: int64"
     },
     "execution_count": 38,
     "metadata": {},
     "output_type": "execute_result"
    }
   ],
   "source": [
    "employees.isnull().sum().sort_values(ascending=False)"
   ],
   "metadata": {
    "collapsed": false,
    "ExecuteTime": {
     "end_time": "2023-09-03T01:05:34.606425Z",
     "start_time": "2023-09-03T01:05:33.865512Z"
    }
   },
   "id": "ca44febe4a51880a"
  },
  {
   "cell_type": "code",
   "execution_count": 38,
   "outputs": [],
   "source": [],
   "metadata": {
    "collapsed": false,
    "ExecuteTime": {
     "end_time": "2023-09-03T01:05:34.623449Z",
     "start_time": "2023-09-03T01:05:33.870686Z"
    }
   },
   "id": "3063f890b68fc8ea"
  }
 ],
 "metadata": {
  "kernelspec": {
   "display_name": "Python 3 (ipykernel)",
   "language": "python",
   "name": "python3"
  },
  "language_info": {
   "codemirror_mode": {
    "name": "ipython",
    "version": 3
   },
   "file_extension": ".py",
   "mimetype": "text/x-python",
   "name": "python",
   "nbconvert_exporter": "python",
   "pygments_lexer": "ipython3",
   "version": "3.11.4"
  }
 },
 "nbformat": 4,
 "nbformat_minor": 5
}
