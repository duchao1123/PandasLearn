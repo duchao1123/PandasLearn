{
 "cells": [
  {
   "cell_type": "code",
   "execution_count": 1,
   "id": "7cec6c85-b2d4-40ce-864c-ff430ea4018c",
   "metadata": {
    "tags": [],
    "ExecuteTime": {
     "end_time": "2023-09-02T11:33:49.073658Z",
     "start_time": "2023-09-02T11:33:48.585802Z"
    }
   },
   "outputs": [],
   "source": [
    "import pandas as pd"
   ]
  },
  {
   "cell_type": "markdown",
   "id": "7262fed6-53a2-4565-9357-421ace34cd41",
   "metadata": {
    "tags": []
   },
   "source": [
    "### 一维数据"
   ]
  },
  {
   "cell_type": "code",
   "execution_count": 8,
   "id": "23d373bf-0e0a-4bba-b649-b521906fd1c6",
   "metadata": {
    "ExecuteTime": {
     "end_time": "2023-09-02T11:39:47.126036Z",
     "start_time": "2023-09-02T11:39:46.895964Z"
    }
   },
   "outputs": [
    {
     "data": {
      "text/plain": "a\n1    1.414214\n3    1.414214\nName: b, dtype: float64"
     },
     "execution_count": 8,
     "metadata": {},
     "output_type": "execute_result"
    }
   ],
   "source": [
    "df = pd.DataFrame([\n",
    "    [1,2,3],\n",
    "    [1,4,5],\n",
    "    [3,7,8],\n",
    "    [3,9,0]\n",
    "], columns=['a', 'b', 'c'])\n",
    "\n",
    "\n",
    "df.groupby('a')['b'].std()"
   ]
  },
  {
   "cell_type": "code",
   "execution_count": null,
   "outputs": [],
   "source": [],
   "metadata": {
    "collapsed": false
   },
   "id": "8863876a8926a1e8"
  }
 ],
 "metadata": {
  "kernelspec": {
   "display_name": "Python 3 (ipykernel)",
   "language": "python",
   "name": "python3"
  },
  "language_info": {
   "codemirror_mode": {
    "name": "ipython",
    "version": 3
   },
   "file_extension": ".py",
   "mimetype": "text/x-python",
   "name": "python",
   "nbconvert_exporter": "python",
   "pygments_lexer": "ipython3",
   "version": "3.11.4"
  }
 },
 "nbformat": 4,
 "nbformat_minor": 5
}
