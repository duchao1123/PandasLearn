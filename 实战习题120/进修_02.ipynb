{
 "cells": [
  {
   "cell_type": "code",
   "execution_count": 1,
   "id": "8447a1bb-75f8-45e7-a67b-9d245ed55462",
   "metadata": {
    "tags": []
   },
   "outputs": [],
   "source": [
    "import pandas as pd\n",
    "import numpy as np\n",
    "import matplotlib.pyplot as plt"
   ]
  },
  {
   "cell_type": "code",
   "execution_count": 12,
   "id": "cae6ff24-38f6-4867-a08b-f2649d9db362",
   "metadata": {
    "tags": []
   },
   "outputs": [],
   "source": [
    "data_str = '''createTime  education  salary\n",
    "2020-03-16 11:30:18  本科  20k-35k\n",
    "2020-03-16 10:58:48  本科  20k-40k\n",
    "2020-03-16 10:46:39  不限  20k-35k\n",
    "2020-03-16 10:45:44  本科  13k-20k\n",
    "2020-03-16 10:20:41  本科  10k-20k\n",
    "2020-03-16 10:33:48  本科  10k-18k\n",
    "2020-03-16 10:11:54  硕士  16k-30k\n",
    "2020-03-16 09:49:12  本科  10k-15k\n",
    "2020-03-16 09:25:48  不限  6k-8k\n",
    "2020-03-16 09:35:50  本科  12k-20k\n",
    "2020-03-16 10:34:19  本科  15k-25k\n",
    "2020-03-16 09:30:40  本科  8k-12k\n",
    "2020-03-16 11:30:17  本科  20k-40k\n",
    "2020-03-16 10:54:56  本科  20k-30k\n",
    "2020-03-15 12:14:45  本科  25k-35k\n",
    "2020-03-16 10:52:14  硕士  10k-15k\n",
    "2020-03-16 10:36:57  本科  25k-50k\n",
    "2020-03-16 11:01:23  本科  10k-15k\n",
    "2020-03-16 11:01:22  本科  30k-40k\n",
    "2020-03-16 11:03:56  本科  15k-25k'''\n",
    "data = [row.split('  ') for row in data_str.split('\\n')]"
   ]
  },
  {
   "cell_type": "code",
   "execution_count": 13,
   "id": "673d6ca2-d4ca-46bd-ba22-517198fde931",
   "metadata": {
    "tags": []
   },
   "outputs": [],
   "source": [
    "import openpyxl\n",
    "\n",
    "def writer_excel(file_name, args: list, sheet_title=\"sheet1\"):\n",
    "    # 创建一个全新的Excel文件\n",
    "    wb = openpyxl.Workbook()\n",
    "    # 创建sheet\n",
    "    # !!!! index 参数必须传递，否者导致写入数据错误\n",
    "    sheet = wb.create_sheet(title=sheet_title, index=0)\n",
    "    # 行写入\n",
    "    for line in args:\n",
    "        sheet.append(line)\n",
    "    # 保存文件\n",
    "    wb.save(file_name)\n",
    "\n",
    "writer_excel('outputdir/data.xlsx', data)"
   ]
  },
  {
   "cell_type": "code",
   "execution_count": 14,
   "id": "27001129-d59b-4453-8cb3-15ced35d9494",
   "metadata": {
    "tags": []
   },
   "outputs": [],
   "source": [
    "# 21.读取本地EXCEL数据"
   ]
  },
  {
   "cell_type": "code",
   "execution_count": 17,
   "id": "57ce3b7e-e7ea-4a7a-9a9d-63ed1da1eb8a",
   "metadata": {
    "tags": []
   },
   "outputs": [],
   "source": [
    "df = pd.read_excel('outputdir/data.xlsx')"
   ]
  },
  {
   "cell_type": "code",
   "execution_count": 16,
   "id": "cf815f7a-6a3f-4303-98f2-a4dfa3ebcfad",
   "metadata": {
    "tags": []
   },
   "outputs": [],
   "source": [
    "# 22.查看df数据前5行"
   ]
  },
  {
   "cell_type": "code",
   "execution_count": 18,
   "id": "50eb5a5a-1233-4710-829f-5cb7b90b7792",
   "metadata": {
    "tags": []
   },
   "outputs": [
    {
     "data": {
      "text/html": [
       "<div>\n",
       "<style scoped>\n",
       "    .dataframe tbody tr th:only-of-type {\n",
       "        vertical-align: middle;\n",
       "    }\n",
       "\n",
       "    .dataframe tbody tr th {\n",
       "        vertical-align: top;\n",
       "    }\n",
       "\n",
       "    .dataframe thead th {\n",
       "        text-align: right;\n",
       "    }\n",
       "</style>\n",
       "<table border=\"1\" class=\"dataframe\">\n",
       "  <thead>\n",
       "    <tr style=\"text-align: right;\">\n",
       "      <th></th>\n",
       "      <th>createTime</th>\n",
       "      <th>education</th>\n",
       "      <th>salary</th>\n",
       "    </tr>\n",
       "  </thead>\n",
       "  <tbody>\n",
       "    <tr>\n",
       "      <th>0</th>\n",
       "      <td>2020-03-16 11:30:18</td>\n",
       "      <td>本科</td>\n",
       "      <td>20k-35k</td>\n",
       "    </tr>\n",
       "    <tr>\n",
       "      <th>1</th>\n",
       "      <td>2020-03-16 10:58:48</td>\n",
       "      <td>本科</td>\n",
       "      <td>20k-40k</td>\n",
       "    </tr>\n",
       "    <tr>\n",
       "      <th>2</th>\n",
       "      <td>2020-03-16 10:46:39</td>\n",
       "      <td>不限</td>\n",
       "      <td>20k-35k</td>\n",
       "    </tr>\n",
       "    <tr>\n",
       "      <th>3</th>\n",
       "      <td>2020-03-16 10:45:44</td>\n",
       "      <td>本科</td>\n",
       "      <td>13k-20k</td>\n",
       "    </tr>\n",
       "    <tr>\n",
       "      <th>4</th>\n",
       "      <td>2020-03-16 10:20:41</td>\n",
       "      <td>本科</td>\n",
       "      <td>10k-20k</td>\n",
       "    </tr>\n",
       "  </tbody>\n",
       "</table>\n",
       "</div>"
      ],
      "text/plain": [
       "            createTime education   salary\n",
       "0  2020-03-16 11:30:18        本科  20k-35k\n",
       "1  2020-03-16 10:58:48        本科  20k-40k\n",
       "2  2020-03-16 10:46:39        不限  20k-35k\n",
       "3  2020-03-16 10:45:44        本科  13k-20k\n",
       "4  2020-03-16 10:20:41        本科  10k-20k"
      ]
     },
     "execution_count": 18,
     "metadata": {},
     "output_type": "execute_result"
    }
   ],
   "source": [
    "df.head()"
   ]
  },
  {
   "cell_type": "code",
   "execution_count": 19,
   "id": "76533059-79cb-43b4-9931-85f878f7fd7e",
   "metadata": {
    "tags": []
   },
   "outputs": [],
   "source": [
    "# 23.将salary列数据转换为最大值与最小值的平均值"
   ]
  },
  {
   "cell_type": "code",
   "execution_count": 26,
   "id": "c614133a-880d-41e4-985e-ba49ddcdb632",
   "metadata": {
    "tags": []
   },
   "outputs": [],
   "source": [
    "def get_mean(data_range):\n",
    "    mima_list = data_range.split('-')\n",
    "    arg0 = str(mima_list[0])\n",
    "    arg0 = int(arg0[:len(arg0) - 1])\n",
    "    arg1 = str(mima_list[1])\n",
    "    arg1 = int(arg1[:len(arg1) - 1])\n",
    "    mean_arg = (arg0 + arg1) / 2\n",
    "    return str(mean_arg) + 'K'\n",
    "\n",
    "df['salary'] = [get_mean(row) for row in df['salary'].values]"
   ]
  },
  {
   "cell_type": "code",
   "execution_count": 27,
   "id": "258bfab1-feae-44aa-9b50-70c041aaf3ed",
   "metadata": {
    "tags": []
   },
   "outputs": [
    {
     "data": {
      "text/html": [
       "<div>\n",
       "<style scoped>\n",
       "    .dataframe tbody tr th:only-of-type {\n",
       "        vertical-align: middle;\n",
       "    }\n",
       "\n",
       "    .dataframe tbody tr th {\n",
       "        vertical-align: top;\n",
       "    }\n",
       "\n",
       "    .dataframe thead th {\n",
       "        text-align: right;\n",
       "    }\n",
       "</style>\n",
       "<table border=\"1\" class=\"dataframe\">\n",
       "  <thead>\n",
       "    <tr style=\"text-align: right;\">\n",
       "      <th></th>\n",
       "      <th>createTime</th>\n",
       "      <th>education</th>\n",
       "      <th>salary</th>\n",
       "    </tr>\n",
       "  </thead>\n",
       "  <tbody>\n",
       "    <tr>\n",
       "      <th>0</th>\n",
       "      <td>2020-03-16 11:30:18</td>\n",
       "      <td>本科</td>\n",
       "      <td>27.5K</td>\n",
       "    </tr>\n",
       "    <tr>\n",
       "      <th>1</th>\n",
       "      <td>2020-03-16 10:58:48</td>\n",
       "      <td>本科</td>\n",
       "      <td>30.0K</td>\n",
       "    </tr>\n",
       "    <tr>\n",
       "      <th>2</th>\n",
       "      <td>2020-03-16 10:46:39</td>\n",
       "      <td>不限</td>\n",
       "      <td>27.5K</td>\n",
       "    </tr>\n",
       "    <tr>\n",
       "      <th>3</th>\n",
       "      <td>2020-03-16 10:45:44</td>\n",
       "      <td>本科</td>\n",
       "      <td>16.5K</td>\n",
       "    </tr>\n",
       "    <tr>\n",
       "      <th>4</th>\n",
       "      <td>2020-03-16 10:20:41</td>\n",
       "      <td>本科</td>\n",
       "      <td>15.0K</td>\n",
       "    </tr>\n",
       "    <tr>\n",
       "      <th>5</th>\n",
       "      <td>2020-03-16 10:33:48</td>\n",
       "      <td>本科</td>\n",
       "      <td>14.0K</td>\n",
       "    </tr>\n",
       "    <tr>\n",
       "      <th>6</th>\n",
       "      <td>2020-03-16 10:11:54</td>\n",
       "      <td>硕士</td>\n",
       "      <td>23.0K</td>\n",
       "    </tr>\n",
       "    <tr>\n",
       "      <th>7</th>\n",
       "      <td>2020-03-16 09:49:12</td>\n",
       "      <td>本科</td>\n",
       "      <td>12.5K</td>\n",
       "    </tr>\n",
       "    <tr>\n",
       "      <th>8</th>\n",
       "      <td>2020-03-16 09:25:48</td>\n",
       "      <td>不限</td>\n",
       "      <td>7.0K</td>\n",
       "    </tr>\n",
       "    <tr>\n",
       "      <th>9</th>\n",
       "      <td>2020-03-16 09:35:50</td>\n",
       "      <td>本科</td>\n",
       "      <td>16.0K</td>\n",
       "    </tr>\n",
       "    <tr>\n",
       "      <th>10</th>\n",
       "      <td>2020-03-16 10:34:19</td>\n",
       "      <td>本科</td>\n",
       "      <td>20.0K</td>\n",
       "    </tr>\n",
       "    <tr>\n",
       "      <th>11</th>\n",
       "      <td>2020-03-16 09:30:40</td>\n",
       "      <td>本科</td>\n",
       "      <td>10.0K</td>\n",
       "    </tr>\n",
       "    <tr>\n",
       "      <th>12</th>\n",
       "      <td>2020-03-16 11:30:17</td>\n",
       "      <td>本科</td>\n",
       "      <td>30.0K</td>\n",
       "    </tr>\n",
       "    <tr>\n",
       "      <th>13</th>\n",
       "      <td>2020-03-16 10:54:56</td>\n",
       "      <td>本科</td>\n",
       "      <td>25.0K</td>\n",
       "    </tr>\n",
       "    <tr>\n",
       "      <th>14</th>\n",
       "      <td>2020-03-15 12:14:45</td>\n",
       "      <td>本科</td>\n",
       "      <td>30.0K</td>\n",
       "    </tr>\n",
       "    <tr>\n",
       "      <th>15</th>\n",
       "      <td>2020-03-16 10:52:14</td>\n",
       "      <td>硕士</td>\n",
       "      <td>12.5K</td>\n",
       "    </tr>\n",
       "    <tr>\n",
       "      <th>16</th>\n",
       "      <td>2020-03-16 10:36:57</td>\n",
       "      <td>本科</td>\n",
       "      <td>37.5K</td>\n",
       "    </tr>\n",
       "    <tr>\n",
       "      <th>17</th>\n",
       "      <td>2020-03-16 11:01:23</td>\n",
       "      <td>本科</td>\n",
       "      <td>12.5K</td>\n",
       "    </tr>\n",
       "    <tr>\n",
       "      <th>18</th>\n",
       "      <td>2020-03-16 11:01:22</td>\n",
       "      <td>本科</td>\n",
       "      <td>35.0K</td>\n",
       "    </tr>\n",
       "    <tr>\n",
       "      <th>19</th>\n",
       "      <td>2020-03-16 11:03:56</td>\n",
       "      <td>本科</td>\n",
       "      <td>20.0K</td>\n",
       "    </tr>\n",
       "  </tbody>\n",
       "</table>\n",
       "</div>"
      ],
      "text/plain": [
       "             createTime education salary\n",
       "0   2020-03-16 11:30:18        本科  27.5K\n",
       "1   2020-03-16 10:58:48        本科  30.0K\n",
       "2   2020-03-16 10:46:39        不限  27.5K\n",
       "3   2020-03-16 10:45:44        本科  16.5K\n",
       "4   2020-03-16 10:20:41        本科  15.0K\n",
       "5   2020-03-16 10:33:48        本科  14.0K\n",
       "6   2020-03-16 10:11:54        硕士  23.0K\n",
       "7   2020-03-16 09:49:12        本科  12.5K\n",
       "8   2020-03-16 09:25:48        不限   7.0K\n",
       "9   2020-03-16 09:35:50        本科  16.0K\n",
       "10  2020-03-16 10:34:19        本科  20.0K\n",
       "11  2020-03-16 09:30:40        本科  10.0K\n",
       "12  2020-03-16 11:30:17        本科  30.0K\n",
       "13  2020-03-16 10:54:56        本科  25.0K\n",
       "14  2020-03-15 12:14:45        本科  30.0K\n",
       "15  2020-03-16 10:52:14        硕士  12.5K\n",
       "16  2020-03-16 10:36:57        本科  37.5K\n",
       "17  2020-03-16 11:01:23        本科  12.5K\n",
       "18  2020-03-16 11:01:22        本科  35.0K\n",
       "19  2020-03-16 11:03:56        本科  20.0K"
      ]
     },
     "execution_count": 27,
     "metadata": {},
     "output_type": "execute_result"
    }
   ],
   "source": [
    "df"
   ]
  },
  {
   "cell_type": "code",
   "execution_count": 28,
   "id": "5bf04b94-0f72-402d-bfac-3bbc44fa86f9",
   "metadata": {
    "tags": []
   },
   "outputs": [],
   "source": [
    "# 23-1 将salary中数据提出来，去掉科学计数"
   ]
  },
  {
   "cell_type": "code",
   "execution_count": 39,
   "id": "2772a440-7aa7-4f0e-b32e-b22893c75b26",
   "metadata": {
    "tags": []
   },
   "outputs": [
    {
     "data": {
      "text/html": [
       "<div>\n",
       "<style scoped>\n",
       "    .dataframe tbody tr th:only-of-type {\n",
       "        vertical-align: middle;\n",
       "    }\n",
       "\n",
       "    .dataframe tbody tr th {\n",
       "        vertical-align: top;\n",
       "    }\n",
       "\n",
       "    .dataframe thead th {\n",
       "        text-align: right;\n",
       "    }\n",
       "</style>\n",
       "<table border=\"1\" class=\"dataframe\">\n",
       "  <thead>\n",
       "    <tr style=\"text-align: right;\">\n",
       "      <th></th>\n",
       "      <th>createTime</th>\n",
       "      <th>education</th>\n",
       "      <th>salary</th>\n",
       "    </tr>\n",
       "  </thead>\n",
       "  <tbody>\n",
       "    <tr>\n",
       "      <th>0</th>\n",
       "      <td>2020-03-16 11:30:18</td>\n",
       "      <td>本科</td>\n",
       "      <td>27500.0</td>\n",
       "    </tr>\n",
       "    <tr>\n",
       "      <th>1</th>\n",
       "      <td>2020-03-16 10:58:48</td>\n",
       "      <td>本科</td>\n",
       "      <td>30000.0</td>\n",
       "    </tr>\n",
       "    <tr>\n",
       "      <th>2</th>\n",
       "      <td>2020-03-16 10:46:39</td>\n",
       "      <td>不限</td>\n",
       "      <td>27500.0</td>\n",
       "    </tr>\n",
       "    <tr>\n",
       "      <th>3</th>\n",
       "      <td>2020-03-16 10:45:44</td>\n",
       "      <td>本科</td>\n",
       "      <td>16500.0</td>\n",
       "    </tr>\n",
       "    <tr>\n",
       "      <th>4</th>\n",
       "      <td>2020-03-16 10:20:41</td>\n",
       "      <td>本科</td>\n",
       "      <td>15000.0</td>\n",
       "    </tr>\n",
       "    <tr>\n",
       "      <th>5</th>\n",
       "      <td>2020-03-16 10:33:48</td>\n",
       "      <td>本科</td>\n",
       "      <td>14000.0</td>\n",
       "    </tr>\n",
       "    <tr>\n",
       "      <th>6</th>\n",
       "      <td>2020-03-16 10:11:54</td>\n",
       "      <td>硕士</td>\n",
       "      <td>23000.0</td>\n",
       "    </tr>\n",
       "    <tr>\n",
       "      <th>7</th>\n",
       "      <td>2020-03-16 09:49:12</td>\n",
       "      <td>本科</td>\n",
       "      <td>12500.0</td>\n",
       "    </tr>\n",
       "    <tr>\n",
       "      <th>8</th>\n",
       "      <td>2020-03-16 09:25:48</td>\n",
       "      <td>不限</td>\n",
       "      <td>7000.0</td>\n",
       "    </tr>\n",
       "    <tr>\n",
       "      <th>9</th>\n",
       "      <td>2020-03-16 09:35:50</td>\n",
       "      <td>本科</td>\n",
       "      <td>16000.0</td>\n",
       "    </tr>\n",
       "    <tr>\n",
       "      <th>10</th>\n",
       "      <td>2020-03-16 10:34:19</td>\n",
       "      <td>本科</td>\n",
       "      <td>20000.0</td>\n",
       "    </tr>\n",
       "    <tr>\n",
       "      <th>11</th>\n",
       "      <td>2020-03-16 09:30:40</td>\n",
       "      <td>本科</td>\n",
       "      <td>10000.0</td>\n",
       "    </tr>\n",
       "    <tr>\n",
       "      <th>12</th>\n",
       "      <td>2020-03-16 11:30:17</td>\n",
       "      <td>本科</td>\n",
       "      <td>30000.0</td>\n",
       "    </tr>\n",
       "    <tr>\n",
       "      <th>13</th>\n",
       "      <td>2020-03-16 10:54:56</td>\n",
       "      <td>本科</td>\n",
       "      <td>25000.0</td>\n",
       "    </tr>\n",
       "    <tr>\n",
       "      <th>14</th>\n",
       "      <td>2020-03-15 12:14:45</td>\n",
       "      <td>本科</td>\n",
       "      <td>30000.0</td>\n",
       "    </tr>\n",
       "    <tr>\n",
       "      <th>15</th>\n",
       "      <td>2020-03-16 10:52:14</td>\n",
       "      <td>硕士</td>\n",
       "      <td>12500.0</td>\n",
       "    </tr>\n",
       "    <tr>\n",
       "      <th>16</th>\n",
       "      <td>2020-03-16 10:36:57</td>\n",
       "      <td>本科</td>\n",
       "      <td>37500.0</td>\n",
       "    </tr>\n",
       "    <tr>\n",
       "      <th>17</th>\n",
       "      <td>2020-03-16 11:01:23</td>\n",
       "      <td>本科</td>\n",
       "      <td>12500.0</td>\n",
       "    </tr>\n",
       "    <tr>\n",
       "      <th>18</th>\n",
       "      <td>2020-03-16 11:01:22</td>\n",
       "      <td>本科</td>\n",
       "      <td>35000.0</td>\n",
       "    </tr>\n",
       "    <tr>\n",
       "      <th>19</th>\n",
       "      <td>2020-03-16 11:03:56</td>\n",
       "      <td>本科</td>\n",
       "      <td>20000.0</td>\n",
       "    </tr>\n",
       "  </tbody>\n",
       "</table>\n",
       "</div>"
      ],
      "text/plain": [
       "             createTime education   salary\n",
       "0   2020-03-16 11:30:18        本科  27500.0\n",
       "1   2020-03-16 10:58:48        本科  30000.0\n",
       "2   2020-03-16 10:46:39        不限  27500.0\n",
       "3   2020-03-16 10:45:44        本科  16500.0\n",
       "4   2020-03-16 10:20:41        本科  15000.0\n",
       "5   2020-03-16 10:33:48        本科  14000.0\n",
       "6   2020-03-16 10:11:54        硕士  23000.0\n",
       "7   2020-03-16 09:49:12        本科  12500.0\n",
       "8   2020-03-16 09:25:48        不限   7000.0\n",
       "9   2020-03-16 09:35:50        本科  16000.0\n",
       "10  2020-03-16 10:34:19        本科  20000.0\n",
       "11  2020-03-16 09:30:40        本科  10000.0\n",
       "12  2020-03-16 11:30:17        本科  30000.0\n",
       "13  2020-03-16 10:54:56        本科  25000.0\n",
       "14  2020-03-15 12:14:45        本科  30000.0\n",
       "15  2020-03-16 10:52:14        硕士  12500.0\n",
       "16  2020-03-16 10:36:57        本科  37500.0\n",
       "17  2020-03-16 11:01:23        本科  12500.0\n",
       "18  2020-03-16 11:01:22        本科  35000.0\n",
       "19  2020-03-16 11:03:56        本科  20000.0"
      ]
     },
     "execution_count": 39,
     "metadata": {},
     "output_type": "execute_result"
    }
   ],
   "source": [
    "import re\n",
    "df['salary'] = [float(re.match('\\d+\\\\.\\d+', row).group()) * 1000 for row in df['salary'].values]\n",
    "df"
   ]
  },
  {
   "cell_type": "code",
   "execution_count": 40,
   "id": "1588d176-cd5a-415a-9c44-02bae0c4a2de",
   "metadata": {
    "tags": []
   },
   "outputs": [],
   "source": [
    "# 24.将数据根据学历进行分组并计算平均薪资"
   ]
  },
  {
   "cell_type": "code",
   "execution_count": 42,
   "id": "9ce8b77e-192a-4445-811f-73bb099b7b42",
   "metadata": {
    "tags": []
   },
   "outputs": [
    {
     "data": {
      "text/html": [
       "<div>\n",
       "<style scoped>\n",
       "    .dataframe tbody tr th:only-of-type {\n",
       "        vertical-align: middle;\n",
       "    }\n",
       "\n",
       "    .dataframe tbody tr th {\n",
       "        vertical-align: top;\n",
       "    }\n",
       "\n",
       "    .dataframe thead th {\n",
       "        text-align: right;\n",
       "    }\n",
       "</style>\n",
       "<table border=\"1\" class=\"dataframe\">\n",
       "  <thead>\n",
       "    <tr style=\"text-align: right;\">\n",
       "      <th></th>\n",
       "      <th>salary</th>\n",
       "    </tr>\n",
       "    <tr>\n",
       "      <th>education</th>\n",
       "      <th></th>\n",
       "    </tr>\n",
       "  </thead>\n",
       "  <tbody>\n",
       "    <tr>\n",
       "      <th>不限</th>\n",
       "      <td>17250.00</td>\n",
       "    </tr>\n",
       "    <tr>\n",
       "      <th>本科</th>\n",
       "      <td>21968.75</td>\n",
       "    </tr>\n",
       "    <tr>\n",
       "      <th>硕士</th>\n",
       "      <td>17750.00</td>\n",
       "    </tr>\n",
       "  </tbody>\n",
       "</table>\n",
       "</div>"
      ],
      "text/plain": [
       "             salary\n",
       "education          \n",
       "不限         17250.00\n",
       "本科         21968.75\n",
       "硕士         17750.00"
      ]
     },
     "execution_count": 42,
     "metadata": {},
     "output_type": "execute_result"
    }
   ],
   "source": [
    "df.groupby(['education'])[['salary']].mean()"
   ]
  },
  {
   "cell_type": "code",
   "execution_count": 43,
   "id": "cec0e0fb-cc9f-41f7-9ada-b1d3fd6e5abe",
   "metadata": {
    "tags": []
   },
   "outputs": [],
   "source": [
    "# 25.将createTime列时间转换为月-日"
   ]
  },
  {
   "cell_type": "code",
   "execution_count": 46,
   "id": "f624cc7c-dd08-46b4-ad87-fb44a203ea0a",
   "metadata": {
    "tags": []
   },
   "outputs": [
    {
     "data": {
      "text/html": [
       "<div>\n",
       "<style scoped>\n",
       "    .dataframe tbody tr th:only-of-type {\n",
       "        vertical-align: middle;\n",
       "    }\n",
       "\n",
       "    .dataframe tbody tr th {\n",
       "        vertical-align: top;\n",
       "    }\n",
       "\n",
       "    .dataframe thead th {\n",
       "        text-align: right;\n",
       "    }\n",
       "</style>\n",
       "<table border=\"1\" class=\"dataframe\">\n",
       "  <thead>\n",
       "    <tr style=\"text-align: right;\">\n",
       "      <th></th>\n",
       "      <th>createTime</th>\n",
       "      <th>education</th>\n",
       "      <th>salary</th>\n",
       "    </tr>\n",
       "  </thead>\n",
       "  <tbody>\n",
       "    <tr>\n",
       "      <th>0</th>\n",
       "      <td>03-16</td>\n",
       "      <td>本科</td>\n",
       "      <td>27500.0</td>\n",
       "    </tr>\n",
       "    <tr>\n",
       "      <th>1</th>\n",
       "      <td>03-16</td>\n",
       "      <td>本科</td>\n",
       "      <td>30000.0</td>\n",
       "    </tr>\n",
       "    <tr>\n",
       "      <th>2</th>\n",
       "      <td>03-16</td>\n",
       "      <td>不限</td>\n",
       "      <td>27500.0</td>\n",
       "    </tr>\n",
       "    <tr>\n",
       "      <th>3</th>\n",
       "      <td>03-16</td>\n",
       "      <td>本科</td>\n",
       "      <td>16500.0</td>\n",
       "    </tr>\n",
       "    <tr>\n",
       "      <th>4</th>\n",
       "      <td>03-16</td>\n",
       "      <td>本科</td>\n",
       "      <td>15000.0</td>\n",
       "    </tr>\n",
       "    <tr>\n",
       "      <th>5</th>\n",
       "      <td>03-16</td>\n",
       "      <td>本科</td>\n",
       "      <td>14000.0</td>\n",
       "    </tr>\n",
       "    <tr>\n",
       "      <th>6</th>\n",
       "      <td>03-16</td>\n",
       "      <td>硕士</td>\n",
       "      <td>23000.0</td>\n",
       "    </tr>\n",
       "    <tr>\n",
       "      <th>7</th>\n",
       "      <td>03-16</td>\n",
       "      <td>本科</td>\n",
       "      <td>12500.0</td>\n",
       "    </tr>\n",
       "    <tr>\n",
       "      <th>8</th>\n",
       "      <td>03-16</td>\n",
       "      <td>不限</td>\n",
       "      <td>7000.0</td>\n",
       "    </tr>\n",
       "    <tr>\n",
       "      <th>9</th>\n",
       "      <td>03-16</td>\n",
       "      <td>本科</td>\n",
       "      <td>16000.0</td>\n",
       "    </tr>\n",
       "    <tr>\n",
       "      <th>10</th>\n",
       "      <td>03-16</td>\n",
       "      <td>本科</td>\n",
       "      <td>20000.0</td>\n",
       "    </tr>\n",
       "    <tr>\n",
       "      <th>11</th>\n",
       "      <td>03-16</td>\n",
       "      <td>本科</td>\n",
       "      <td>10000.0</td>\n",
       "    </tr>\n",
       "    <tr>\n",
       "      <th>12</th>\n",
       "      <td>03-16</td>\n",
       "      <td>本科</td>\n",
       "      <td>30000.0</td>\n",
       "    </tr>\n",
       "    <tr>\n",
       "      <th>13</th>\n",
       "      <td>03-16</td>\n",
       "      <td>本科</td>\n",
       "      <td>25000.0</td>\n",
       "    </tr>\n",
       "    <tr>\n",
       "      <th>14</th>\n",
       "      <td>03-15</td>\n",
       "      <td>本科</td>\n",
       "      <td>30000.0</td>\n",
       "    </tr>\n",
       "    <tr>\n",
       "      <th>15</th>\n",
       "      <td>03-16</td>\n",
       "      <td>硕士</td>\n",
       "      <td>12500.0</td>\n",
       "    </tr>\n",
       "    <tr>\n",
       "      <th>16</th>\n",
       "      <td>03-16</td>\n",
       "      <td>本科</td>\n",
       "      <td>37500.0</td>\n",
       "    </tr>\n",
       "    <tr>\n",
       "      <th>17</th>\n",
       "      <td>03-16</td>\n",
       "      <td>本科</td>\n",
       "      <td>12500.0</td>\n",
       "    </tr>\n",
       "    <tr>\n",
       "      <th>18</th>\n",
       "      <td>03-16</td>\n",
       "      <td>本科</td>\n",
       "      <td>35000.0</td>\n",
       "    </tr>\n",
       "    <tr>\n",
       "      <th>19</th>\n",
       "      <td>03-16</td>\n",
       "      <td>本科</td>\n",
       "      <td>20000.0</td>\n",
       "    </tr>\n",
       "  </tbody>\n",
       "</table>\n",
       "</div>"
      ],
      "text/plain": [
       "   createTime education   salary\n",
       "0       03-16        本科  27500.0\n",
       "1       03-16        本科  30000.0\n",
       "2       03-16        不限  27500.0\n",
       "3       03-16        本科  16500.0\n",
       "4       03-16        本科  15000.0\n",
       "5       03-16        本科  14000.0\n",
       "6       03-16        硕士  23000.0\n",
       "7       03-16        本科  12500.0\n",
       "8       03-16        不限   7000.0\n",
       "9       03-16        本科  16000.0\n",
       "10      03-16        本科  20000.0\n",
       "11      03-16        本科  10000.0\n",
       "12      03-16        本科  30000.0\n",
       "13      03-16        本科  25000.0\n",
       "14      03-15        本科  30000.0\n",
       "15      03-16        硕士  12500.0\n",
       "16      03-16        本科  37500.0\n",
       "17      03-16        本科  12500.0\n",
       "18      03-16        本科  35000.0\n",
       "19      03-16        本科  20000.0"
      ]
     },
     "execution_count": 46,
     "metadata": {},
     "output_type": "execute_result"
    }
   ],
   "source": [
    "df['createTime'] = [re.match('\\d{4}-(\\d{2}-\\d{2}).+', row).group(1) for row in df['createTime'].values]\n",
    "df"
   ]
  },
  {
   "cell_type": "code",
   "execution_count": null,
   "id": "12c86053-4daf-4df9-8482-61337f7d134c",
   "metadata": {
    "tags": []
   },
   "outputs": [],
   "source": [
    "# 26.查看索引、数据类型和内存信息"
   ]
  },
  {
   "cell_type": "markdown",
   "id": "7805e045-9781-4e57-8f21-5f0b8d552d41",
   "metadata": {},
   "source": [
    "**df.info() 可以查看内存信息**"
   ]
  },
  {
   "cell_type": "code",
   "execution_count": 49,
   "id": "7a508144-1cf8-4da3-b8ae-b579f8613d47",
   "metadata": {
    "tags": []
   },
   "outputs": [
    {
     "name": "stdout",
     "output_type": "stream",
     "text": [
      "<class 'pandas.core.frame.DataFrame'>\n",
      "RangeIndex: 20 entries, 0 to 19\n",
      "Data columns (total 3 columns):\n",
      " #   Column      Non-Null Count  Dtype  \n",
      "---  ------      --------------  -----  \n",
      " 0   createTime  20 non-null     object \n",
      " 1   education   20 non-null     object \n",
      " 2   salary      20 non-null     float64\n",
      "dtypes: float64(1), object(2)\n",
      "memory usage: 612.0+ bytes\n"
     ]
    }
   ],
   "source": [
    "df.info()"
   ]
  },
  {
   "cell_type": "code",
   "execution_count": 50,
   "id": "76f21499-11bd-4a69-bcc8-baa8d8c13729",
   "metadata": {
    "tags": []
   },
   "outputs": [],
   "source": [
    "# 27.查看数值型列的汇总统计"
   ]
  },
  {
   "cell_type": "code",
   "execution_count": 51,
   "id": "b882d865-bd19-434f-b0e1-884045488c0c",
   "metadata": {
    "tags": []
   },
   "outputs": [
    {
     "data": {
      "text/html": [
       "<div>\n",
       "<style scoped>\n",
       "    .dataframe tbody tr th:only-of-type {\n",
       "        vertical-align: middle;\n",
       "    }\n",
       "\n",
       "    .dataframe tbody tr th {\n",
       "        vertical-align: top;\n",
       "    }\n",
       "\n",
       "    .dataframe thead th {\n",
       "        text-align: right;\n",
       "    }\n",
       "</style>\n",
       "<table border=\"1\" class=\"dataframe\">\n",
       "  <thead>\n",
       "    <tr style=\"text-align: right;\">\n",
       "      <th></th>\n",
       "      <th>salary</th>\n",
       "    </tr>\n",
       "  </thead>\n",
       "  <tbody>\n",
       "    <tr>\n",
       "      <th>count</th>\n",
       "      <td>20.000000</td>\n",
       "    </tr>\n",
       "    <tr>\n",
       "      <th>mean</th>\n",
       "      <td>21075.000000</td>\n",
       "    </tr>\n",
       "    <tr>\n",
       "      <th>std</th>\n",
       "      <td>8830.680668</td>\n",
       "    </tr>\n",
       "    <tr>\n",
       "      <th>min</th>\n",
       "      <td>7000.000000</td>\n",
       "    </tr>\n",
       "    <tr>\n",
       "      <th>25%</th>\n",
       "      <td>13625.000000</td>\n",
       "    </tr>\n",
       "    <tr>\n",
       "      <th>50%</th>\n",
       "      <td>20000.000000</td>\n",
       "    </tr>\n",
       "    <tr>\n",
       "      <th>75%</th>\n",
       "      <td>28125.000000</td>\n",
       "    </tr>\n",
       "    <tr>\n",
       "      <th>max</th>\n",
       "      <td>37500.000000</td>\n",
       "    </tr>\n",
       "  </tbody>\n",
       "</table>\n",
       "</div>"
      ],
      "text/plain": [
       "             salary\n",
       "count     20.000000\n",
       "mean   21075.000000\n",
       "std     8830.680668\n",
       "min     7000.000000\n",
       "25%    13625.000000\n",
       "50%    20000.000000\n",
       "75%    28125.000000\n",
       "max    37500.000000"
      ]
     },
     "execution_count": 51,
     "metadata": {},
     "output_type": "execute_result"
    }
   ],
   "source": [
    "df.describe()"
   ]
  },
  {
   "cell_type": "code",
   "execution_count": 52,
   "id": "4887aae4-ffd2-459e-94e9-f10ec53535ca",
   "metadata": {
    "tags": []
   },
   "outputs": [],
   "source": [
    "# 28.新增一列根据salary将数据分为三组"
   ]
  },
  {
   "cell_type": "code",
   "execution_count": 62,
   "id": "0a929eb1-89ef-45a4-a8ee-a7aa005bbc25",
   "metadata": {
    "tags": []
   },
   "outputs": [
    {
     "data": {
      "text/plain": [
       "0       (26666.667, 37500.0]\n",
       "1       (26666.667, 37500.0]\n",
       "2       (26666.667, 37500.0]\n",
       "3     (15333.333, 26666.667]\n",
       "4      (6999.999, 15333.333]\n",
       "5      (6999.999, 15333.333]\n",
       "6     (15333.333, 26666.667]\n",
       "7      (6999.999, 15333.333]\n",
       "8      (6999.999, 15333.333]\n",
       "9     (15333.333, 26666.667]\n",
       "10    (15333.333, 26666.667]\n",
       "11     (6999.999, 15333.333]\n",
       "12      (26666.667, 37500.0]\n",
       "13    (15333.333, 26666.667]\n",
       "14      (26666.667, 37500.0]\n",
       "15     (6999.999, 15333.333]\n",
       "16      (26666.667, 37500.0]\n",
       "17     (6999.999, 15333.333]\n",
       "18      (26666.667, 37500.0]\n",
       "19    (15333.333, 26666.667]\n",
       "Name: salary, dtype: category\n",
       "Categories (3, interval[float64, right]): [(6999.999, 15333.333] < (15333.333, 26666.667] < (26666.667, 37500.0]]"
      ]
     },
     "execution_count": 62,
     "metadata": {},
     "output_type": "execute_result"
    }
   ],
   "source": [
    "pd.qcut(df['salary'], 3)"
   ]
  },
  {
   "cell_type": "code",
   "execution_count": 64,
   "id": "fd6ca92b-f86f-44f7-a160-96d0173b7241",
   "metadata": {
    "tags": []
   },
   "outputs": [
    {
     "data": {
      "text/html": [
       "<div>\n",
       "<style scoped>\n",
       "    .dataframe tbody tr th:only-of-type {\n",
       "        vertical-align: middle;\n",
       "    }\n",
       "\n",
       "    .dataframe tbody tr th {\n",
       "        vertical-align: top;\n",
       "    }\n",
       "\n",
       "    .dataframe thead th {\n",
       "        text-align: right;\n",
       "    }\n",
       "</style>\n",
       "<table border=\"1\" class=\"dataframe\">\n",
       "  <thead>\n",
       "    <tr style=\"text-align: right;\">\n",
       "      <th></th>\n",
       "      <th>createTime</th>\n",
       "      <th>education</th>\n",
       "      <th>salary</th>\n",
       "      <th>s_group_range</th>\n",
       "      <th>categories</th>\n",
       "    </tr>\n",
       "  </thead>\n",
       "  <tbody>\n",
       "    <tr>\n",
       "      <th>0</th>\n",
       "      <td>03-16</td>\n",
       "      <td>本科</td>\n",
       "      <td>27500.0</td>\n",
       "      <td>(26677, 40000]</td>\n",
       "      <td>高</td>\n",
       "    </tr>\n",
       "    <tr>\n",
       "      <th>1</th>\n",
       "      <td>03-16</td>\n",
       "      <td>本科</td>\n",
       "      <td>30000.0</td>\n",
       "      <td>(26677, 40000]</td>\n",
       "      <td>高</td>\n",
       "    </tr>\n",
       "    <tr>\n",
       "      <th>2</th>\n",
       "      <td>03-16</td>\n",
       "      <td>不限</td>\n",
       "      <td>27500.0</td>\n",
       "      <td>(26677, 40000]</td>\n",
       "      <td>高</td>\n",
       "    </tr>\n",
       "    <tr>\n",
       "      <th>3</th>\n",
       "      <td>03-16</td>\n",
       "      <td>本科</td>\n",
       "      <td>16500.0</td>\n",
       "      <td>(15334, 26677]</td>\n",
       "      <td>中</td>\n",
       "    </tr>\n",
       "    <tr>\n",
       "      <th>4</th>\n",
       "      <td>03-16</td>\n",
       "      <td>本科</td>\n",
       "      <td>15000.0</td>\n",
       "      <td>(0, 15334]</td>\n",
       "      <td>低</td>\n",
       "    </tr>\n",
       "    <tr>\n",
       "      <th>5</th>\n",
       "      <td>03-16</td>\n",
       "      <td>本科</td>\n",
       "      <td>14000.0</td>\n",
       "      <td>(0, 15334]</td>\n",
       "      <td>低</td>\n",
       "    </tr>\n",
       "    <tr>\n",
       "      <th>6</th>\n",
       "      <td>03-16</td>\n",
       "      <td>硕士</td>\n",
       "      <td>23000.0</td>\n",
       "      <td>(15334, 26677]</td>\n",
       "      <td>中</td>\n",
       "    </tr>\n",
       "    <tr>\n",
       "      <th>7</th>\n",
       "      <td>03-16</td>\n",
       "      <td>本科</td>\n",
       "      <td>12500.0</td>\n",
       "      <td>(0, 15334]</td>\n",
       "      <td>低</td>\n",
       "    </tr>\n",
       "    <tr>\n",
       "      <th>8</th>\n",
       "      <td>03-16</td>\n",
       "      <td>不限</td>\n",
       "      <td>7000.0</td>\n",
       "      <td>(0, 15334]</td>\n",
       "      <td>低</td>\n",
       "    </tr>\n",
       "    <tr>\n",
       "      <th>9</th>\n",
       "      <td>03-16</td>\n",
       "      <td>本科</td>\n",
       "      <td>16000.0</td>\n",
       "      <td>(15334, 26677]</td>\n",
       "      <td>中</td>\n",
       "    </tr>\n",
       "    <tr>\n",
       "      <th>10</th>\n",
       "      <td>03-16</td>\n",
       "      <td>本科</td>\n",
       "      <td>20000.0</td>\n",
       "      <td>(15334, 26677]</td>\n",
       "      <td>中</td>\n",
       "    </tr>\n",
       "    <tr>\n",
       "      <th>11</th>\n",
       "      <td>03-16</td>\n",
       "      <td>本科</td>\n",
       "      <td>10000.0</td>\n",
       "      <td>(0, 15334]</td>\n",
       "      <td>低</td>\n",
       "    </tr>\n",
       "    <tr>\n",
       "      <th>12</th>\n",
       "      <td>03-16</td>\n",
       "      <td>本科</td>\n",
       "      <td>30000.0</td>\n",
       "      <td>(26677, 40000]</td>\n",
       "      <td>高</td>\n",
       "    </tr>\n",
       "    <tr>\n",
       "      <th>13</th>\n",
       "      <td>03-16</td>\n",
       "      <td>本科</td>\n",
       "      <td>25000.0</td>\n",
       "      <td>(15334, 26677]</td>\n",
       "      <td>中</td>\n",
       "    </tr>\n",
       "    <tr>\n",
       "      <th>14</th>\n",
       "      <td>03-15</td>\n",
       "      <td>本科</td>\n",
       "      <td>30000.0</td>\n",
       "      <td>(26677, 40000]</td>\n",
       "      <td>高</td>\n",
       "    </tr>\n",
       "    <tr>\n",
       "      <th>15</th>\n",
       "      <td>03-16</td>\n",
       "      <td>硕士</td>\n",
       "      <td>12500.0</td>\n",
       "      <td>(0, 15334]</td>\n",
       "      <td>低</td>\n",
       "    </tr>\n",
       "    <tr>\n",
       "      <th>16</th>\n",
       "      <td>03-16</td>\n",
       "      <td>本科</td>\n",
       "      <td>37500.0</td>\n",
       "      <td>(26677, 40000]</td>\n",
       "      <td>高</td>\n",
       "    </tr>\n",
       "    <tr>\n",
       "      <th>17</th>\n",
       "      <td>03-16</td>\n",
       "      <td>本科</td>\n",
       "      <td>12500.0</td>\n",
       "      <td>(0, 15334]</td>\n",
       "      <td>低</td>\n",
       "    </tr>\n",
       "    <tr>\n",
       "      <th>18</th>\n",
       "      <td>03-16</td>\n",
       "      <td>本科</td>\n",
       "      <td>35000.0</td>\n",
       "      <td>(26677, 40000]</td>\n",
       "      <td>高</td>\n",
       "    </tr>\n",
       "    <tr>\n",
       "      <th>19</th>\n",
       "      <td>03-16</td>\n",
       "      <td>本科</td>\n",
       "      <td>20000.0</td>\n",
       "      <td>(15334, 26677]</td>\n",
       "      <td>中</td>\n",
       "    </tr>\n",
       "  </tbody>\n",
       "</table>\n",
       "</div>"
      ],
      "text/plain": [
       "   createTime education   salary   s_group_range categories\n",
       "0       03-16        本科  27500.0  (26677, 40000]          高\n",
       "1       03-16        本科  30000.0  (26677, 40000]          高\n",
       "2       03-16        不限  27500.0  (26677, 40000]          高\n",
       "3       03-16        本科  16500.0  (15334, 26677]          中\n",
       "4       03-16        本科  15000.0      (0, 15334]          低\n",
       "5       03-16        本科  14000.0      (0, 15334]          低\n",
       "6       03-16        硕士  23000.0  (15334, 26677]          中\n",
       "7       03-16        本科  12500.0      (0, 15334]          低\n",
       "8       03-16        不限   7000.0      (0, 15334]          低\n",
       "9       03-16        本科  16000.0  (15334, 26677]          中\n",
       "10      03-16        本科  20000.0  (15334, 26677]          中\n",
       "11      03-16        本科  10000.0      (0, 15334]          低\n",
       "12      03-16        本科  30000.0  (26677, 40000]          高\n",
       "13      03-16        本科  25000.0  (15334, 26677]          中\n",
       "14      03-15        本科  30000.0  (26677, 40000]          高\n",
       "15      03-16        硕士  12500.0      (0, 15334]          低\n",
       "16      03-16        本科  37500.0  (26677, 40000]          高\n",
       "17      03-16        本科  12500.0      (0, 15334]          低\n",
       "18      03-16        本科  35000.0  (26677, 40000]          高\n",
       "19      03-16        本科  20000.0  (15334, 26677]          中"
      ]
     },
     "execution_count": 64,
     "metadata": {},
     "output_type": "execute_result"
    }
   ],
   "source": [
    "bins = [0, 15334, 26677, 40000]\n",
    "label_names = ['低', '中', '高']\n",
    "df['categories'] = pd.cut(df['salary'], bins, labels=label_names)\n",
    "df"
   ]
  },
  {
   "cell_type": "markdown",
   "id": "39b210f8-d131-4b8f-8172-74df6019ac3e",
   "metadata": {
    "tags": []
   },
   "source": [
    "### cut 自定义分组\n",
    "- x： 分组应用数据\n",
    "- bins： 分组区间\n",
    "- right：左开右闭区间， 默认True，False为左闭右开 \n",
    "- labels: 标签列\n",
    "- retbins\n",
    "- precision\n",
    "- incloude_lowest\n",
    "- duplicates\n",
    "- ordered"
   ]
  },
  {
   "cell_type": "code",
   "execution_count": 66,
   "id": "b76c7a76-652f-4808-ae71-743623e0f70d",
   "metadata": {
    "tags": []
   },
   "outputs": [],
   "source": [
    "### qcut()"
   ]
  },
  {
   "cell_type": "code",
   "execution_count": 67,
   "id": "d8236c06-d43e-43ff-9236-1b8a542bf3e5",
   "metadata": {
    "tags": []
   },
   "outputs": [],
   "source": [
    "# 29.按照salary列对数据降序排列"
   ]
  },
  {
   "cell_type": "code",
   "execution_count": 69,
   "id": "88fd9370-a07c-4803-9a45-42bdd3e0eb5d",
   "metadata": {
    "tags": []
   },
   "outputs": [
    {
     "data": {
      "text/html": [
       "<div>\n",
       "<style scoped>\n",
       "    .dataframe tbody tr th:only-of-type {\n",
       "        vertical-align: middle;\n",
       "    }\n",
       "\n",
       "    .dataframe tbody tr th {\n",
       "        vertical-align: top;\n",
       "    }\n",
       "\n",
       "    .dataframe thead th {\n",
       "        text-align: right;\n",
       "    }\n",
       "</style>\n",
       "<table border=\"1\" class=\"dataframe\">\n",
       "  <thead>\n",
       "    <tr style=\"text-align: right;\">\n",
       "      <th></th>\n",
       "      <th>createTime</th>\n",
       "      <th>education</th>\n",
       "      <th>salary</th>\n",
       "      <th>s_group_range</th>\n",
       "      <th>categories</th>\n",
       "    </tr>\n",
       "  </thead>\n",
       "  <tbody>\n",
       "    <tr>\n",
       "      <th>16</th>\n",
       "      <td>03-16</td>\n",
       "      <td>本科</td>\n",
       "      <td>37500.0</td>\n",
       "      <td>(26677, 40000]</td>\n",
       "      <td>高</td>\n",
       "    </tr>\n",
       "    <tr>\n",
       "      <th>18</th>\n",
       "      <td>03-16</td>\n",
       "      <td>本科</td>\n",
       "      <td>35000.0</td>\n",
       "      <td>(26677, 40000]</td>\n",
       "      <td>高</td>\n",
       "    </tr>\n",
       "    <tr>\n",
       "      <th>1</th>\n",
       "      <td>03-16</td>\n",
       "      <td>本科</td>\n",
       "      <td>30000.0</td>\n",
       "      <td>(26677, 40000]</td>\n",
       "      <td>高</td>\n",
       "    </tr>\n",
       "    <tr>\n",
       "      <th>14</th>\n",
       "      <td>03-15</td>\n",
       "      <td>本科</td>\n",
       "      <td>30000.0</td>\n",
       "      <td>(26677, 40000]</td>\n",
       "      <td>高</td>\n",
       "    </tr>\n",
       "    <tr>\n",
       "      <th>12</th>\n",
       "      <td>03-16</td>\n",
       "      <td>本科</td>\n",
       "      <td>30000.0</td>\n",
       "      <td>(26677, 40000]</td>\n",
       "      <td>高</td>\n",
       "    </tr>\n",
       "    <tr>\n",
       "      <th>0</th>\n",
       "      <td>03-16</td>\n",
       "      <td>本科</td>\n",
       "      <td>27500.0</td>\n",
       "      <td>(26677, 40000]</td>\n",
       "      <td>高</td>\n",
       "    </tr>\n",
       "    <tr>\n",
       "      <th>2</th>\n",
       "      <td>03-16</td>\n",
       "      <td>不限</td>\n",
       "      <td>27500.0</td>\n",
       "      <td>(26677, 40000]</td>\n",
       "      <td>高</td>\n",
       "    </tr>\n",
       "    <tr>\n",
       "      <th>13</th>\n",
       "      <td>03-16</td>\n",
       "      <td>本科</td>\n",
       "      <td>25000.0</td>\n",
       "      <td>(15334, 26677]</td>\n",
       "      <td>中</td>\n",
       "    </tr>\n",
       "    <tr>\n",
       "      <th>6</th>\n",
       "      <td>03-16</td>\n",
       "      <td>硕士</td>\n",
       "      <td>23000.0</td>\n",
       "      <td>(15334, 26677]</td>\n",
       "      <td>中</td>\n",
       "    </tr>\n",
       "    <tr>\n",
       "      <th>10</th>\n",
       "      <td>03-16</td>\n",
       "      <td>本科</td>\n",
       "      <td>20000.0</td>\n",
       "      <td>(15334, 26677]</td>\n",
       "      <td>中</td>\n",
       "    </tr>\n",
       "    <tr>\n",
       "      <th>19</th>\n",
       "      <td>03-16</td>\n",
       "      <td>本科</td>\n",
       "      <td>20000.0</td>\n",
       "      <td>(15334, 26677]</td>\n",
       "      <td>中</td>\n",
       "    </tr>\n",
       "    <tr>\n",
       "      <th>3</th>\n",
       "      <td>03-16</td>\n",
       "      <td>本科</td>\n",
       "      <td>16500.0</td>\n",
       "      <td>(15334, 26677]</td>\n",
       "      <td>中</td>\n",
       "    </tr>\n",
       "    <tr>\n",
       "      <th>9</th>\n",
       "      <td>03-16</td>\n",
       "      <td>本科</td>\n",
       "      <td>16000.0</td>\n",
       "      <td>(15334, 26677]</td>\n",
       "      <td>中</td>\n",
       "    </tr>\n",
       "    <tr>\n",
       "      <th>4</th>\n",
       "      <td>03-16</td>\n",
       "      <td>本科</td>\n",
       "      <td>15000.0</td>\n",
       "      <td>(0, 15334]</td>\n",
       "      <td>低</td>\n",
       "    </tr>\n",
       "    <tr>\n",
       "      <th>5</th>\n",
       "      <td>03-16</td>\n",
       "      <td>本科</td>\n",
       "      <td>14000.0</td>\n",
       "      <td>(0, 15334]</td>\n",
       "      <td>低</td>\n",
       "    </tr>\n",
       "    <tr>\n",
       "      <th>7</th>\n",
       "      <td>03-16</td>\n",
       "      <td>本科</td>\n",
       "      <td>12500.0</td>\n",
       "      <td>(0, 15334]</td>\n",
       "      <td>低</td>\n",
       "    </tr>\n",
       "    <tr>\n",
       "      <th>15</th>\n",
       "      <td>03-16</td>\n",
       "      <td>硕士</td>\n",
       "      <td>12500.0</td>\n",
       "      <td>(0, 15334]</td>\n",
       "      <td>低</td>\n",
       "    </tr>\n",
       "    <tr>\n",
       "      <th>17</th>\n",
       "      <td>03-16</td>\n",
       "      <td>本科</td>\n",
       "      <td>12500.0</td>\n",
       "      <td>(0, 15334]</td>\n",
       "      <td>低</td>\n",
       "    </tr>\n",
       "    <tr>\n",
       "      <th>11</th>\n",
       "      <td>03-16</td>\n",
       "      <td>本科</td>\n",
       "      <td>10000.0</td>\n",
       "      <td>(0, 15334]</td>\n",
       "      <td>低</td>\n",
       "    </tr>\n",
       "    <tr>\n",
       "      <th>8</th>\n",
       "      <td>03-16</td>\n",
       "      <td>不限</td>\n",
       "      <td>7000.0</td>\n",
       "      <td>(0, 15334]</td>\n",
       "      <td>低</td>\n",
       "    </tr>\n",
       "  </tbody>\n",
       "</table>\n",
       "</div>"
      ],
      "text/plain": [
       "   createTime education   salary   s_group_range categories\n",
       "16      03-16        本科  37500.0  (26677, 40000]          高\n",
       "18      03-16        本科  35000.0  (26677, 40000]          高\n",
       "1       03-16        本科  30000.0  (26677, 40000]          高\n",
       "14      03-15        本科  30000.0  (26677, 40000]          高\n",
       "12      03-16        本科  30000.0  (26677, 40000]          高\n",
       "0       03-16        本科  27500.0  (26677, 40000]          高\n",
       "2       03-16        不限  27500.0  (26677, 40000]          高\n",
       "13      03-16        本科  25000.0  (15334, 26677]          中\n",
       "6       03-16        硕士  23000.0  (15334, 26677]          中\n",
       "10      03-16        本科  20000.0  (15334, 26677]          中\n",
       "19      03-16        本科  20000.0  (15334, 26677]          中\n",
       "3       03-16        本科  16500.0  (15334, 26677]          中\n",
       "9       03-16        本科  16000.0  (15334, 26677]          中\n",
       "4       03-16        本科  15000.0      (0, 15334]          低\n",
       "5       03-16        本科  14000.0      (0, 15334]          低\n",
       "7       03-16        本科  12500.0      (0, 15334]          低\n",
       "15      03-16        硕士  12500.0      (0, 15334]          低\n",
       "17      03-16        本科  12500.0      (0, 15334]          低\n",
       "11      03-16        本科  10000.0      (0, 15334]          低\n",
       "8       03-16        不限   7000.0      (0, 15334]          低"
      ]
     },
     "execution_count": 69,
     "metadata": {},
     "output_type": "execute_result"
    }
   ],
   "source": [
    "df.sort_values(by='salary', ascending=False, inplace=True)\n",
    "df"
   ]
  },
  {
   "cell_type": "code",
   "execution_count": 75,
   "id": "5ba46c13-b77f-4f77-8fd3-781dac311619",
   "metadata": {
    "tags": []
   },
   "outputs": [],
   "source": [
    "# 30.取出第15行数据"
   ]
  },
  {
   "cell_type": "code",
   "execution_count": 76,
   "id": "289798b8-f5f6-4d87-a58b-8a8f68f91463",
   "metadata": {
    "tags": []
   },
   "outputs": [
    {
     "data": {
      "text/plain": [
       "createTime            03-16\n",
       "education                硕士\n",
       "salary              12500.0\n",
       "s_group_range    (0, 15334]\n",
       "categories                低\n",
       "Name: 15, dtype: object"
      ]
     },
     "execution_count": 76,
     "metadata": {},
     "output_type": "execute_result"
    }
   ],
   "source": [
    "df.loc[15]"
   ]
  },
  {
   "cell_type": "code",
   "execution_count": 77,
   "id": "3603425f-7ef8-45e3-b9b6-d3446e7047dd",
   "metadata": {
    "tags": []
   },
   "outputs": [],
   "source": [
    "# 31.计算salary列的中位数"
   ]
  },
  {
   "cell_type": "code",
   "execution_count": 78,
   "id": "2f460eee-0244-48fc-9562-3a3ab2e1de96",
   "metadata": {
    "tags": []
   },
   "outputs": [
    {
     "data": {
      "text/plain": [
       "20000.0"
      ]
     },
     "execution_count": 78,
     "metadata": {},
     "output_type": "execute_result"
    }
   ],
   "source": [
    "df['salary'].median()"
   ]
  },
  {
   "cell_type": "code",
   "execution_count": 79,
   "id": "2f629fd2-9841-4a12-b992-f1ff38d58b55",
   "metadata": {
    "tags": []
   },
   "outputs": [],
   "source": [
    "# 32.绘制薪资水平频率分布直方图"
   ]
  },
  {
   "cell_type": "markdown",
   "id": "e741697a-4232-4a0e-a968-2bfda2330af7",
   "metadata": {
    "tags": []
   },
   "source": [
    "### plot 绘制\n",
    "- kind {}"
   ]
  },
  {
   "cell_type": "code",
   "execution_count": 82,
   "id": "b310c9ce-3589-4f9e-853f-bba2aaf0d6e5",
   "metadata": {
    "tags": []
   },
   "outputs": [
    {
     "data": {
      "text/plain": [
       "<Axes: ylabel='Frequency'>"
      ]
     },
     "execution_count": 82,
     "metadata": {},
     "output_type": "execute_result"
    },
    {
     "data": {
      "image/png": "[encoded data removed]",
      "text/plain": [
       "<Figure size 640x480 with 1 Axes>"
      ]
     },
     "metadata": {},
     "output_type": "display_data"
    }
   ],
   "source": [
    "df['salary'].plot(kind='hist')"
   ]
  },
  {
   "cell_type": "code",
   "execution_count": 83,
   "id": "e2d578fa-2441-45da-9e49-6c38c3576788",
   "metadata": {
    "tags": []
   },
   "outputs": [],
   "source": [
    "# 33.绘制薪资水平密度曲线"
   ]
  },
  {
   "cell_type": "code",
   "execution_count": 85,
   "id": "498cd3a7-e195-4de0-83b7-e68c2bf3acb8",
   "metadata": {
    "tags": []
   },
   "outputs": [
    {
     "data": {
      "text/plain": [
       "<Axes: ylabel='Density'>"
      ]
     },
     "execution_count": 85,
     "metadata": {},
     "output_type": "execute_result"
    },
    {
     "data": {
      "image/png": "[encoded data removed]",
      "text/plain": [
       "<Figure size 640x480 with 1 Axes>"
      ]
     },
     "metadata": {},
     "output_type": "display_data"
    }
   ],
   "source": [
    "df['salary'].plot(kind='kde')"
   ]
  },
  {
   "cell_type": "code",
   "execution_count": 87,
   "id": "55f87cbc-65c2-4afa-8ad9-431fa1523b8f",
   "metadata": {
    "tags": []
   },
   "outputs": [
    {
     "data": {
      "text/html": [
       "<div>\n",
       "<style scoped>\n",
       "    .dataframe tbody tr th:only-of-type {\n",
       "        vertical-align: middle;\n",
       "    }\n",
       "\n",
       "    .dataframe tbody tr th {\n",
       "        vertical-align: top;\n",
       "    }\n",
       "\n",
       "    .dataframe thead th {\n",
       "        text-align: right;\n",
       "    }\n",
       "</style>\n",
       "<table border=\"1\" class=\"dataframe\">\n",
       "  <thead>\n",
       "    <tr style=\"text-align: right;\">\n",
       "      <th></th>\n",
       "      <th>createTime</th>\n",
       "      <th>education</th>\n",
       "      <th>salary</th>\n",
       "      <th>s_group_range</th>\n",
       "      <th>categories</th>\n",
       "    </tr>\n",
       "  </thead>\n",
       "  <tbody>\n",
       "    <tr>\n",
       "      <th>16</th>\n",
       "      <td>03-16</td>\n",
       "      <td>本科</td>\n",
       "      <td>37500.0</td>\n",
       "      <td>(26677, 40000]</td>\n",
       "      <td>高</td>\n",
       "    </tr>\n",
       "    <tr>\n",
       "      <th>18</th>\n",
       "      <td>03-16</td>\n",
       "      <td>本科</td>\n",
       "      <td>35000.0</td>\n",
       "      <td>(26677, 40000]</td>\n",
       "      <td>高</td>\n",
       "    </tr>\n",
       "    <tr>\n",
       "      <th>1</th>\n",
       "      <td>03-16</td>\n",
       "      <td>本科</td>\n",
       "      <td>30000.0</td>\n",
       "      <td>(26677, 40000]</td>\n",
       "      <td>高</td>\n",
       "    </tr>\n",
       "    <tr>\n",
       "      <th>14</th>\n",
       "      <td>03-15</td>\n",
       "      <td>本科</td>\n",
       "      <td>30000.0</td>\n",
       "      <td>(26677, 40000]</td>\n",
       "      <td>高</td>\n",
       "    </tr>\n",
       "    <tr>\n",
       "      <th>12</th>\n",
       "      <td>03-16</td>\n",
       "      <td>本科</td>\n",
       "      <td>30000.0</td>\n",
       "      <td>(26677, 40000]</td>\n",
       "      <td>高</td>\n",
       "    </tr>\n",
       "  </tbody>\n",
       "</table>\n",
       "</div>"
      ],
      "text/plain": [
       "   createTime education   salary   s_group_range categories\n",
       "16      03-16        本科  37500.0  (26677, 40000]          高\n",
       "18      03-16        本科  35000.0  (26677, 40000]          高\n",
       "1       03-16        本科  30000.0  (26677, 40000]          高\n",
       "14      03-15        本科  30000.0  (26677, 40000]          高\n",
       "12      03-16        本科  30000.0  (26677, 40000]          高"
      ]
     },
     "execution_count": 87,
     "metadata": {},
     "output_type": "execute_result"
    }
   ],
   "source": [
    "# 34.删除最后一列categories\n",
    "df.head()"
   ]
  },
  {
   "cell_type": "code",
   "execution_count": 91,
   "id": "d52651b2-6c50-4770-be3c-1c45a7dc5cb4",
   "metadata": {
    "tags": []
   },
   "outputs": [],
   "source": [
    "df.drop(columns='s_group_range', inplace=True)"
   ]
  },
  {
   "cell_type": "code",
   "execution_count": 93,
   "id": "7209edb4-4ce6-42f7-8a1d-9db7b3314391",
   "metadata": {
    "tags": []
   },
   "outputs": [
    {
     "data": {
      "text/html": [
       "<div>\n",
       "<style scoped>\n",
       "    .dataframe tbody tr th:only-of-type {\n",
       "        vertical-align: middle;\n",
       "    }\n",
       "\n",
       "    .dataframe tbody tr th {\n",
       "        vertical-align: top;\n",
       "    }\n",
       "\n",
       "    .dataframe thead th {\n",
       "        text-align: right;\n",
       "    }\n",
       "</style>\n",
       "<table border=\"1\" class=\"dataframe\">\n",
       "  <thead>\n",
       "    <tr style=\"text-align: right;\">\n",
       "      <th></th>\n",
       "      <th>createTime</th>\n",
       "      <th>education</th>\n",
       "      <th>salary</th>\n",
       "    </tr>\n",
       "  </thead>\n",
       "  <tbody>\n",
       "    <tr>\n",
       "      <th>16</th>\n",
       "      <td>03-16</td>\n",
       "      <td>本科</td>\n",
       "      <td>37500.0</td>\n",
       "    </tr>\n",
       "    <tr>\n",
       "      <th>18</th>\n",
       "      <td>03-16</td>\n",
       "      <td>本科</td>\n",
       "      <td>35000.0</td>\n",
       "    </tr>\n",
       "    <tr>\n",
       "      <th>1</th>\n",
       "      <td>03-16</td>\n",
       "      <td>本科</td>\n",
       "      <td>30000.0</td>\n",
       "    </tr>\n",
       "    <tr>\n",
       "      <th>14</th>\n",
       "      <td>03-15</td>\n",
       "      <td>本科</td>\n",
       "      <td>30000.0</td>\n",
       "    </tr>\n",
       "    <tr>\n",
       "      <th>12</th>\n",
       "      <td>03-16</td>\n",
       "      <td>本科</td>\n",
       "      <td>30000.0</td>\n",
       "    </tr>\n",
       "  </tbody>\n",
       "</table>\n",
       "</div>"
      ],
      "text/plain": [
       "   createTime education   salary\n",
       "16      03-16        本科  37500.0\n",
       "18      03-16        本科  35000.0\n",
       "1       03-16        本科  30000.0\n",
       "14      03-15        本科  30000.0\n",
       "12      03-16        本科  30000.0"
      ]
     },
     "execution_count": 93,
     "metadata": {},
     "output_type": "execute_result"
    }
   ],
   "source": [
    "df.drop(columns='categories', inplace=True)\n",
    "df.head()"
   ]
  },
  {
   "cell_type": "code",
   "execution_count": 94,
   "id": "b59c9bb2-4c48-4833-8606-00df75eccd83",
   "metadata": {
    "tags": []
   },
   "outputs": [],
   "source": [
    "# 35.将df的第一列与第二列合并为新的一列"
   ]
  },
  {
   "cell_type": "code",
   "execution_count": 95,
   "id": "c1d2fd12-fb45-4b22-a67e-7c202e5de45c",
   "metadata": {
    "tags": []
   },
   "outputs": [],
   "source": [
    "df['new'] = df['createTime'] + df['education']"
   ]
  },
  {
   "cell_type": "code",
   "execution_count": 96,
   "id": "8a100bca-80ae-4cbe-adf2-0d62e0cb05bc",
   "metadata": {
    "tags": []
   },
   "outputs": [
    {
     "data": {
      "text/html": [
       "<div>\n",
       "<style scoped>\n",
       "    .dataframe tbody tr th:only-of-type {\n",
       "        vertical-align: middle;\n",
       "    }\n",
       "\n",
       "    .dataframe tbody tr th {\n",
       "        vertical-align: top;\n",
       "    }\n",
       "\n",
       "    .dataframe thead th {\n",
       "        text-align: right;\n",
       "    }\n",
       "</style>\n",
       "<table border=\"1\" class=\"dataframe\">\n",
       "  <thead>\n",
       "    <tr style=\"text-align: right;\">\n",
       "      <th></th>\n",
       "      <th>createTime</th>\n",
       "      <th>education</th>\n",
       "      <th>salary</th>\n",
       "      <th>new</th>\n",
       "    </tr>\n",
       "  </thead>\n",
       "  <tbody>\n",
       "    <tr>\n",
       "      <th>16</th>\n",
       "      <td>03-16</td>\n",
       "      <td>本科</td>\n",
       "      <td>37500.0</td>\n",
       "      <td>03-16本科</td>\n",
       "    </tr>\n",
       "    <tr>\n",
       "      <th>18</th>\n",
       "      <td>03-16</td>\n",
       "      <td>本科</td>\n",
       "      <td>35000.0</td>\n",
       "      <td>03-16本科</td>\n",
       "    </tr>\n",
       "    <tr>\n",
       "      <th>1</th>\n",
       "      <td>03-16</td>\n",
       "      <td>本科</td>\n",
       "      <td>30000.0</td>\n",
       "      <td>03-16本科</td>\n",
       "    </tr>\n",
       "    <tr>\n",
       "      <th>14</th>\n",
       "      <td>03-15</td>\n",
       "      <td>本科</td>\n",
       "      <td>30000.0</td>\n",
       "      <td>03-15本科</td>\n",
       "    </tr>\n",
       "    <tr>\n",
       "      <th>12</th>\n",
       "      <td>03-16</td>\n",
       "      <td>本科</td>\n",
       "      <td>30000.0</td>\n",
       "      <td>03-16本科</td>\n",
       "    </tr>\n",
       "  </tbody>\n",
       "</table>\n",
       "</div>"
      ],
      "text/plain": [
       "   createTime education   salary      new\n",
       "16      03-16        本科  37500.0  03-16本科\n",
       "18      03-16        本科  35000.0  03-16本科\n",
       "1       03-16        本科  30000.0  03-16本科\n",
       "14      03-15        本科  30000.0  03-15本科\n",
       "12      03-16        本科  30000.0  03-16本科"
      ]
     },
     "execution_count": 96,
     "metadata": {},
     "output_type": "execute_result"
    }
   ],
   "source": [
    "df.head()"
   ]
  },
  {
   "cell_type": "code",
   "execution_count": 97,
   "id": "83bb4012-efd5-4a75-a20e-11591d2b9513",
   "metadata": {
    "tags": []
   },
   "outputs": [],
   "source": [
    "# 36.将education列与salary列合并为新的一列"
   ]
  },
  {
   "cell_type": "code",
   "execution_count": 99,
   "id": "ccf16feb-a598-4f91-b552-ab2120e564fb",
   "metadata": {
    "tags": []
   },
   "outputs": [],
   "source": [
    "df['test'] = df['education'] + df['salary'].map(lambda x: str(x))"
   ]
  },
  {
   "cell_type": "code",
   "execution_count": 100,
   "id": "7410a82a-e334-4011-ab30-db7d013a0e0e",
   "metadata": {
    "tags": []
   },
   "outputs": [
    {
     "data": {
      "text/html": [
       "<div>\n",
       "<style scoped>\n",
       "    .dataframe tbody tr th:only-of-type {\n",
       "        vertical-align: middle;\n",
       "    }\n",
       "\n",
       "    .dataframe tbody tr th {\n",
       "        vertical-align: top;\n",
       "    }\n",
       "\n",
       "    .dataframe thead th {\n",
       "        text-align: right;\n",
       "    }\n",
       "</style>\n",
       "<table border=\"1\" class=\"dataframe\">\n",
       "  <thead>\n",
       "    <tr style=\"text-align: right;\">\n",
       "      <th></th>\n",
       "      <th>createTime</th>\n",
       "      <th>education</th>\n",
       "      <th>salary</th>\n",
       "      <th>new</th>\n",
       "      <th>test</th>\n",
       "    </tr>\n",
       "  </thead>\n",
       "  <tbody>\n",
       "    <tr>\n",
       "      <th>16</th>\n",
       "      <td>03-16</td>\n",
       "      <td>本科</td>\n",
       "      <td>37500.0</td>\n",
       "      <td>03-16本科</td>\n",
       "      <td>本科37500.0</td>\n",
       "    </tr>\n",
       "    <tr>\n",
       "      <th>18</th>\n",
       "      <td>03-16</td>\n",
       "      <td>本科</td>\n",
       "      <td>35000.0</td>\n",
       "      <td>03-16本科</td>\n",
       "      <td>本科35000.0</td>\n",
       "    </tr>\n",
       "    <tr>\n",
       "      <th>1</th>\n",
       "      <td>03-16</td>\n",
       "      <td>本科</td>\n",
       "      <td>30000.0</td>\n",
       "      <td>03-16本科</td>\n",
       "      <td>本科30000.0</td>\n",
       "    </tr>\n",
       "    <tr>\n",
       "      <th>14</th>\n",
       "      <td>03-15</td>\n",
       "      <td>本科</td>\n",
       "      <td>30000.0</td>\n",
       "      <td>03-15本科</td>\n",
       "      <td>本科30000.0</td>\n",
       "    </tr>\n",
       "    <tr>\n",
       "      <th>12</th>\n",
       "      <td>03-16</td>\n",
       "      <td>本科</td>\n",
       "      <td>30000.0</td>\n",
       "      <td>03-16本科</td>\n",
       "      <td>本科30000.0</td>\n",
       "    </tr>\n",
       "    <tr>\n",
       "      <th>0</th>\n",
       "      <td>03-16</td>\n",
       "      <td>本科</td>\n",
       "      <td>27500.0</td>\n",
       "      <td>03-16本科</td>\n",
       "      <td>本科27500.0</td>\n",
       "    </tr>\n",
       "    <tr>\n",
       "      <th>2</th>\n",
       "      <td>03-16</td>\n",
       "      <td>不限</td>\n",
       "      <td>27500.0</td>\n",
       "      <td>03-16不限</td>\n",
       "      <td>不限27500.0</td>\n",
       "    </tr>\n",
       "    <tr>\n",
       "      <th>13</th>\n",
       "      <td>03-16</td>\n",
       "      <td>本科</td>\n",
       "      <td>25000.0</td>\n",
       "      <td>03-16本科</td>\n",
       "      <td>本科25000.0</td>\n",
       "    </tr>\n",
       "    <tr>\n",
       "      <th>6</th>\n",
       "      <td>03-16</td>\n",
       "      <td>硕士</td>\n",
       "      <td>23000.0</td>\n",
       "      <td>03-16硕士</td>\n",
       "      <td>硕士23000.0</td>\n",
       "    </tr>\n",
       "    <tr>\n",
       "      <th>10</th>\n",
       "      <td>03-16</td>\n",
       "      <td>本科</td>\n",
       "      <td>20000.0</td>\n",
       "      <td>03-16本科</td>\n",
       "      <td>本科20000.0</td>\n",
       "    </tr>\n",
       "    <tr>\n",
       "      <th>19</th>\n",
       "      <td>03-16</td>\n",
       "      <td>本科</td>\n",
       "      <td>20000.0</td>\n",
       "      <td>03-16本科</td>\n",
       "      <td>本科20000.0</td>\n",
       "    </tr>\n",
       "    <tr>\n",
       "      <th>3</th>\n",
       "      <td>03-16</td>\n",
       "      <td>本科</td>\n",
       "      <td>16500.0</td>\n",
       "      <td>03-16本科</td>\n",
       "      <td>本科16500.0</td>\n",
       "    </tr>\n",
       "    <tr>\n",
       "      <th>9</th>\n",
       "      <td>03-16</td>\n",
       "      <td>本科</td>\n",
       "      <td>16000.0</td>\n",
       "      <td>03-16本科</td>\n",
       "      <td>本科16000.0</td>\n",
       "    </tr>\n",
       "    <tr>\n",
       "      <th>4</th>\n",
       "      <td>03-16</td>\n",
       "      <td>本科</td>\n",
       "      <td>15000.0</td>\n",
       "      <td>03-16本科</td>\n",
       "      <td>本科15000.0</td>\n",
       "    </tr>\n",
       "    <tr>\n",
       "      <th>5</th>\n",
       "      <td>03-16</td>\n",
       "      <td>本科</td>\n",
       "      <td>14000.0</td>\n",
       "      <td>03-16本科</td>\n",
       "      <td>本科14000.0</td>\n",
       "    </tr>\n",
       "    <tr>\n",
       "      <th>7</th>\n",
       "      <td>03-16</td>\n",
       "      <td>本科</td>\n",
       "      <td>12500.0</td>\n",
       "      <td>03-16本科</td>\n",
       "      <td>本科12500.0</td>\n",
       "    </tr>\n",
       "    <tr>\n",
       "      <th>15</th>\n",
       "      <td>03-16</td>\n",
       "      <td>硕士</td>\n",
       "      <td>12500.0</td>\n",
       "      <td>03-16硕士</td>\n",
       "      <td>硕士12500.0</td>\n",
       "    </tr>\n",
       "    <tr>\n",
       "      <th>17</th>\n",
       "      <td>03-16</td>\n",
       "      <td>本科</td>\n",
       "      <td>12500.0</td>\n",
       "      <td>03-16本科</td>\n",
       "      <td>本科12500.0</td>\n",
       "    </tr>\n",
       "    <tr>\n",
       "      <th>11</th>\n",
       "      <td>03-16</td>\n",
       "      <td>本科</td>\n",
       "      <td>10000.0</td>\n",
       "      <td>03-16本科</td>\n",
       "      <td>本科10000.0</td>\n",
       "    </tr>\n",
       "    <tr>\n",
       "      <th>8</th>\n",
       "      <td>03-16</td>\n",
       "      <td>不限</td>\n",
       "      <td>7000.0</td>\n",
       "      <td>03-16不限</td>\n",
       "      <td>不限7000.0</td>\n",
       "    </tr>\n",
       "  </tbody>\n",
       "</table>\n",
       "</div>"
      ],
      "text/plain": [
       "   createTime education   salary      new       test\n",
       "16      03-16        本科  37500.0  03-16本科  本科37500.0\n",
       "18      03-16        本科  35000.0  03-16本科  本科35000.0\n",
       "1       03-16        本科  30000.0  03-16本科  本科30000.0\n",
       "14      03-15        本科  30000.0  03-15本科  本科30000.0\n",
       "12      03-16        本科  30000.0  03-16本科  本科30000.0\n",
       "0       03-16        本科  27500.0  03-16本科  本科27500.0\n",
       "2       03-16        不限  27500.0  03-16不限  不限27500.0\n",
       "13      03-16        本科  25000.0  03-16本科  本科25000.0\n",
       "6       03-16        硕士  23000.0  03-16硕士  硕士23000.0\n",
       "10      03-16        本科  20000.0  03-16本科  本科20000.0\n",
       "19      03-16        本科  20000.0  03-16本科  本科20000.0\n",
       "3       03-16        本科  16500.0  03-16本科  本科16500.0\n",
       "9       03-16        本科  16000.0  03-16本科  本科16000.0\n",
       "4       03-16        本科  15000.0  03-16本科  本科15000.0\n",
       "5       03-16        本科  14000.0  03-16本科  本科14000.0\n",
       "7       03-16        本科  12500.0  03-16本科  本科12500.0\n",
       "15      03-16        硕士  12500.0  03-16硕士  硕士12500.0\n",
       "17      03-16        本科  12500.0  03-16本科  本科12500.0\n",
       "11      03-16        本科  10000.0  03-16本科  本科10000.0\n",
       "8       03-16        不限   7000.0  03-16不限   不限7000.0"
      ]
     },
     "execution_count": 100,
     "metadata": {},
     "output_type": "execute_result"
    }
   ],
   "source": [
    "df"
   ]
  },
  {
   "cell_type": "code",
   "execution_count": 101,
   "id": "5440511e-f62b-4fda-a66b-a62e1e838b0d",
   "metadata": {
    "tags": []
   },
   "outputs": [],
   "source": [
    "# 37.计算salary最大值与最小值之差"
   ]
  },
  {
   "cell_type": "code",
   "execution_count": 102,
   "id": "0129488f-d57c-49e8-9b53-104df282493c",
   "metadata": {
    "tags": []
   },
   "outputs": [
    {
     "data": {
      "text/plain": [
       "30500.0"
      ]
     },
     "execution_count": 102,
     "metadata": {},
     "output_type": "execute_result"
    }
   ],
   "source": [
    "df['salary'].max() - df['salary'].min()"
   ]
  },
  {
   "cell_type": "code",
   "execution_count": 103,
   "id": "f2786fbd-0560-430f-b315-87129824d590",
   "metadata": {
    "tags": []
   },
   "outputs": [],
   "source": [
    "# 38.将第一行与最后一行拼接"
   ]
  },
  {
   "cell_type": "markdown",
   "id": "dea793ba-27c3-4590-9afa-6fb9309f8863",
   "metadata": {},
   "source": [
    "**concat([]) 一定要注意参数1是【】**"
   ]
  },
  {
   "cell_type": "code",
   "execution_count": 113,
   "id": "85cd57c2-ad0e-44cf-8db4-c1764e49d66f",
   "metadata": {
    "tags": []
   },
   "outputs": [
    {
     "data": {
      "text/html": [
       "<div>\n",
       "<style scoped>\n",
       "    .dataframe tbody tr th:only-of-type {\n",
       "        vertical-align: middle;\n",
       "    }\n",
       "\n",
       "    .dataframe tbody tr th {\n",
       "        vertical-align: top;\n",
       "    }\n",
       "\n",
       "    .dataframe thead th {\n",
       "        text-align: right;\n",
       "    }\n",
       "</style>\n",
       "<table border=\"1\" class=\"dataframe\">\n",
       "  <thead>\n",
       "    <tr style=\"text-align: right;\">\n",
       "      <th></th>\n",
       "      <th>createTime</th>\n",
       "      <th>education</th>\n",
       "      <th>salary</th>\n",
       "      <th>new</th>\n",
       "      <th>test</th>\n",
       "    </tr>\n",
       "  </thead>\n",
       "  <tbody>\n",
       "    <tr>\n",
       "      <th>16</th>\n",
       "      <td>03-16</td>\n",
       "      <td>本科</td>\n",
       "      <td>37500.0</td>\n",
       "      <td>03-16本科</td>\n",
       "      <td>本科37500.0</td>\n",
       "    </tr>\n",
       "    <tr>\n",
       "      <th>8</th>\n",
       "      <td>03-16</td>\n",
       "      <td>不限</td>\n",
       "      <td>7000.0</td>\n",
       "      <td>03-16不限</td>\n",
       "      <td>不限7000.0</td>\n",
       "    </tr>\n",
       "  </tbody>\n",
       "</table>\n",
       "</div>"
      ],
      "text/plain": [
       "   createTime education   salary      new       test\n",
       "16      03-16        本科  37500.0  03-16本科  本科37500.0\n",
       "8       03-16        不限   7000.0  03-16不限   不限7000.0"
      ]
     },
     "execution_count": 113,
     "metadata": {},
     "output_type": "execute_result"
    }
   ],
   "source": [
    "pd.concat([df[:1], df[-1:]])"
   ]
  },
  {
   "cell_type": "code",
   "execution_count": 114,
   "id": "665d206c-410d-4ed4-9ac8-6db7a9d29bc5",
   "metadata": {
    "tags": []
   },
   "outputs": [],
   "source": [
    "# 39.将第8行数据添加至末尾"
   ]
  },
  {
   "cell_type": "code",
   "execution_count": 119,
   "id": "cc5830db-5410-4a7b-8210-c44761bf91e1",
   "metadata": {
    "tags": []
   },
   "outputs": [
    {
     "data": {
      "text/html": [
       "<div>\n",
       "<style scoped>\n",
       "    .dataframe tbody tr th:only-of-type {\n",
       "        vertical-align: middle;\n",
       "    }\n",
       "\n",
       "    .dataframe tbody tr th {\n",
       "        vertical-align: top;\n",
       "    }\n",
       "\n",
       "    .dataframe thead th {\n",
       "        text-align: right;\n",
       "    }\n",
       "</style>\n",
       "<table border=\"1\" class=\"dataframe\">\n",
       "  <thead>\n",
       "    <tr style=\"text-align: right;\">\n",
       "      <th></th>\n",
       "      <th>createTime</th>\n",
       "      <th>education</th>\n",
       "      <th>salary</th>\n",
       "      <th>new</th>\n",
       "      <th>test</th>\n",
       "    </tr>\n",
       "  </thead>\n",
       "  <tbody>\n",
       "    <tr>\n",
       "      <th>16</th>\n",
       "      <td>03-16</td>\n",
       "      <td>本科</td>\n",
       "      <td>37500.0</td>\n",
       "      <td>03-16本科</td>\n",
       "      <td>本科37500.0</td>\n",
       "    </tr>\n",
       "    <tr>\n",
       "      <th>18</th>\n",
       "      <td>03-16</td>\n",
       "      <td>本科</td>\n",
       "      <td>35000.0</td>\n",
       "      <td>03-16本科</td>\n",
       "      <td>本科35000.0</td>\n",
       "    </tr>\n",
       "    <tr>\n",
       "      <th>1</th>\n",
       "      <td>03-16</td>\n",
       "      <td>本科</td>\n",
       "      <td>30000.0</td>\n",
       "      <td>03-16本科</td>\n",
       "      <td>本科30000.0</td>\n",
       "    </tr>\n",
       "    <tr>\n",
       "      <th>14</th>\n",
       "      <td>03-15</td>\n",
       "      <td>本科</td>\n",
       "      <td>30000.0</td>\n",
       "      <td>03-15本科</td>\n",
       "      <td>本科30000.0</td>\n",
       "    </tr>\n",
       "    <tr>\n",
       "      <th>12</th>\n",
       "      <td>03-16</td>\n",
       "      <td>本科</td>\n",
       "      <td>30000.0</td>\n",
       "      <td>03-16本科</td>\n",
       "      <td>本科30000.0</td>\n",
       "    </tr>\n",
       "    <tr>\n",
       "      <th>0</th>\n",
       "      <td>03-16</td>\n",
       "      <td>本科</td>\n",
       "      <td>27500.0</td>\n",
       "      <td>03-16本科</td>\n",
       "      <td>本科27500.0</td>\n",
       "    </tr>\n",
       "    <tr>\n",
       "      <th>2</th>\n",
       "      <td>03-16</td>\n",
       "      <td>不限</td>\n",
       "      <td>27500.0</td>\n",
       "      <td>03-16不限</td>\n",
       "      <td>不限27500.0</td>\n",
       "    </tr>\n",
       "    <tr>\n",
       "      <th>13</th>\n",
       "      <td>03-16</td>\n",
       "      <td>本科</td>\n",
       "      <td>25000.0</td>\n",
       "      <td>03-16本科</td>\n",
       "      <td>本科25000.0</td>\n",
       "    </tr>\n",
       "    <tr>\n",
       "      <th>6</th>\n",
       "      <td>03-16</td>\n",
       "      <td>硕士</td>\n",
       "      <td>23000.0</td>\n",
       "      <td>03-16硕士</td>\n",
       "      <td>硕士23000.0</td>\n",
       "    </tr>\n",
       "    <tr>\n",
       "      <th>10</th>\n",
       "      <td>03-16</td>\n",
       "      <td>本科</td>\n",
       "      <td>20000.0</td>\n",
       "      <td>03-16本科</td>\n",
       "      <td>本科20000.0</td>\n",
       "    </tr>\n",
       "    <tr>\n",
       "      <th>19</th>\n",
       "      <td>03-16</td>\n",
       "      <td>本科</td>\n",
       "      <td>20000.0</td>\n",
       "      <td>03-16本科</td>\n",
       "      <td>本科20000.0</td>\n",
       "    </tr>\n",
       "    <tr>\n",
       "      <th>3</th>\n",
       "      <td>03-16</td>\n",
       "      <td>本科</td>\n",
       "      <td>16500.0</td>\n",
       "      <td>03-16本科</td>\n",
       "      <td>本科16500.0</td>\n",
       "    </tr>\n",
       "    <tr>\n",
       "      <th>9</th>\n",
       "      <td>03-16</td>\n",
       "      <td>本科</td>\n",
       "      <td>16000.0</td>\n",
       "      <td>03-16本科</td>\n",
       "      <td>本科16000.0</td>\n",
       "    </tr>\n",
       "    <tr>\n",
       "      <th>4</th>\n",
       "      <td>03-16</td>\n",
       "      <td>本科</td>\n",
       "      <td>15000.0</td>\n",
       "      <td>03-16本科</td>\n",
       "      <td>本科15000.0</td>\n",
       "    </tr>\n",
       "    <tr>\n",
       "      <th>5</th>\n",
       "      <td>03-16</td>\n",
       "      <td>本科</td>\n",
       "      <td>14000.0</td>\n",
       "      <td>03-16本科</td>\n",
       "      <td>本科14000.0</td>\n",
       "    </tr>\n",
       "    <tr>\n",
       "      <th>7</th>\n",
       "      <td>03-16</td>\n",
       "      <td>本科</td>\n",
       "      <td>12500.0</td>\n",
       "      <td>03-16本科</td>\n",
       "      <td>本科12500.0</td>\n",
       "    </tr>\n",
       "    <tr>\n",
       "      <th>15</th>\n",
       "      <td>03-16</td>\n",
       "      <td>硕士</td>\n",
       "      <td>12500.0</td>\n",
       "      <td>03-16硕士</td>\n",
       "      <td>硕士12500.0</td>\n",
       "    </tr>\n",
       "    <tr>\n",
       "      <th>17</th>\n",
       "      <td>03-16</td>\n",
       "      <td>本科</td>\n",
       "      <td>12500.0</td>\n",
       "      <td>03-16本科</td>\n",
       "      <td>本科12500.0</td>\n",
       "    </tr>\n",
       "    <tr>\n",
       "      <th>11</th>\n",
       "      <td>03-16</td>\n",
       "      <td>本科</td>\n",
       "      <td>10000.0</td>\n",
       "      <td>03-16本科</td>\n",
       "      <td>本科10000.0</td>\n",
       "    </tr>\n",
       "    <tr>\n",
       "      <th>8</th>\n",
       "      <td>03-16</td>\n",
       "      <td>不限</td>\n",
       "      <td>7000.0</td>\n",
       "      <td>03-16不限</td>\n",
       "      <td>不限7000.0</td>\n",
       "    </tr>\n",
       "    <tr>\n",
       "      <th>6</th>\n",
       "      <td>03-16</td>\n",
       "      <td>硕士</td>\n",
       "      <td>23000.0</td>\n",
       "      <td>03-16硕士</td>\n",
       "      <td>硕士23000.0</td>\n",
       "    </tr>\n",
       "  </tbody>\n",
       "</table>\n",
       "</div>"
      ],
      "text/plain": [
       "   createTime education   salary      new       test\n",
       "16      03-16        本科  37500.0  03-16本科  本科37500.0\n",
       "18      03-16        本科  35000.0  03-16本科  本科35000.0\n",
       "1       03-16        本科  30000.0  03-16本科  本科30000.0\n",
       "14      03-15        本科  30000.0  03-15本科  本科30000.0\n",
       "12      03-16        本科  30000.0  03-16本科  本科30000.0\n",
       "0       03-16        本科  27500.0  03-16本科  本科27500.0\n",
       "2       03-16        不限  27500.0  03-16不限  不限27500.0\n",
       "13      03-16        本科  25000.0  03-16本科  本科25000.0\n",
       "6       03-16        硕士  23000.0  03-16硕士  硕士23000.0\n",
       "10      03-16        本科  20000.0  03-16本科  本科20000.0\n",
       "19      03-16        本科  20000.0  03-16本科  本科20000.0\n",
       "3       03-16        本科  16500.0  03-16本科  本科16500.0\n",
       "9       03-16        本科  16000.0  03-16本科  本科16000.0\n",
       "4       03-16        本科  15000.0  03-16本科  本科15000.0\n",
       "5       03-16        本科  14000.0  03-16本科  本科14000.0\n",
       "7       03-16        本科  12500.0  03-16本科  本科12500.0\n",
       "15      03-16        硕士  12500.0  03-16硕士  硕士12500.0\n",
       "17      03-16        本科  12500.0  03-16本科  本科12500.0\n",
       "11      03-16        本科  10000.0  03-16本科  本科10000.0\n",
       "8       03-16        不限   7000.0  03-16不限   不限7000.0\n",
       "6       03-16        硕士  23000.0  03-16硕士  硕士23000.0"
      ]
     },
     "execution_count": 119,
     "metadata": {},
     "output_type": "execute_result"
    }
   ],
   "source": [
    "pd.concat([df, df[8:9]])"
   ]
  },
  {
   "cell_type": "code",
   "execution_count": 120,
   "id": "0ddf5fdb-4ced-4561-878f-9342820b39b9",
   "metadata": {
    "tags": []
   },
   "outputs": [],
   "source": [
    "# 40.查看每列的数据类型"
   ]
  },
  {
   "cell_type": "code",
   "execution_count": 122,
   "id": "fd8ce13e-177e-4d31-8217-25fa6cfc20d3",
   "metadata": {
    "tags": []
   },
   "outputs": [
    {
     "data": {
      "text/plain": [
       "createTime     object\n",
       "education      object\n",
       "salary        float64\n",
       "new            object\n",
       "test           object\n",
       "dtype: object"
      ]
     },
     "execution_count": 122,
     "metadata": {},
     "output_type": "execute_result"
    }
   ],
   "source": [
    "df.dtypes"
   ]
  },
  {
   "cell_type": "code",
   "execution_count": 123,
   "id": "640f2686-3cf4-4548-869b-68aebdd98e45",
   "metadata": {
    "tags": []
   },
   "outputs": [],
   "source": [
    "# 41.将createTime列设置为索引"
   ]
  },
  {
   "cell_type": "code",
   "execution_count": 124,
   "id": "d0fc3438-7546-48fb-9710-900ebf7ef3c3",
   "metadata": {
    "tags": []
   },
   "outputs": [
    {
     "data": {
      "text/html": [
       "<div>\n",
       "<style scoped>\n",
       "    .dataframe tbody tr th:only-of-type {\n",
       "        vertical-align: middle;\n",
       "    }\n",
       "\n",
       "    .dataframe tbody tr th {\n",
       "        vertical-align: top;\n",
       "    }\n",
       "\n",
       "    .dataframe thead th {\n",
       "        text-align: right;\n",
       "    }\n",
       "</style>\n",
       "<table border=\"1\" class=\"dataframe\">\n",
       "  <thead>\n",
       "    <tr style=\"text-align: right;\">\n",
       "      <th></th>\n",
       "      <th>education</th>\n",
       "      <th>salary</th>\n",
       "      <th>new</th>\n",
       "      <th>test</th>\n",
       "    </tr>\n",
       "    <tr>\n",
       "      <th>createTime</th>\n",
       "      <th></th>\n",
       "      <th></th>\n",
       "      <th></th>\n",
       "      <th></th>\n",
       "    </tr>\n",
       "  </thead>\n",
       "  <tbody>\n",
       "    <tr>\n",
       "      <th>03-16</th>\n",
       "      <td>本科</td>\n",
       "      <td>37500.0</td>\n",
       "      <td>03-16本科</td>\n",
       "      <td>本科37500.0</td>\n",
       "    </tr>\n",
       "    <tr>\n",
       "      <th>03-16</th>\n",
       "      <td>本科</td>\n",
       "      <td>35000.0</td>\n",
       "      <td>03-16本科</td>\n",
       "      <td>本科35000.0</td>\n",
       "    </tr>\n",
       "    <tr>\n",
       "      <th>03-16</th>\n",
       "      <td>本科</td>\n",
       "      <td>30000.0</td>\n",
       "      <td>03-16本科</td>\n",
       "      <td>本科30000.0</td>\n",
       "    </tr>\n",
       "    <tr>\n",
       "      <th>03-15</th>\n",
       "      <td>本科</td>\n",
       "      <td>30000.0</td>\n",
       "      <td>03-15本科</td>\n",
       "      <td>本科30000.0</td>\n",
       "    </tr>\n",
       "    <tr>\n",
       "      <th>03-16</th>\n",
       "      <td>本科</td>\n",
       "      <td>30000.0</td>\n",
       "      <td>03-16本科</td>\n",
       "      <td>本科30000.0</td>\n",
       "    </tr>\n",
       "    <tr>\n",
       "      <th>03-16</th>\n",
       "      <td>本科</td>\n",
       "      <td>27500.0</td>\n",
       "      <td>03-16本科</td>\n",
       "      <td>本科27500.0</td>\n",
       "    </tr>\n",
       "    <tr>\n",
       "      <th>03-16</th>\n",
       "      <td>不限</td>\n",
       "      <td>27500.0</td>\n",
       "      <td>03-16不限</td>\n",
       "      <td>不限27500.0</td>\n",
       "    </tr>\n",
       "    <tr>\n",
       "      <th>03-16</th>\n",
       "      <td>本科</td>\n",
       "      <td>25000.0</td>\n",
       "      <td>03-16本科</td>\n",
       "      <td>本科25000.0</td>\n",
       "    </tr>\n",
       "    <tr>\n",
       "      <th>03-16</th>\n",
       "      <td>硕士</td>\n",
       "      <td>23000.0</td>\n",
       "      <td>03-16硕士</td>\n",
       "      <td>硕士23000.0</td>\n",
       "    </tr>\n",
       "    <tr>\n",
       "      <th>03-16</th>\n",
       "      <td>本科</td>\n",
       "      <td>20000.0</td>\n",
       "      <td>03-16本科</td>\n",
       "      <td>本科20000.0</td>\n",
       "    </tr>\n",
       "    <tr>\n",
       "      <th>03-16</th>\n",
       "      <td>本科</td>\n",
       "      <td>20000.0</td>\n",
       "      <td>03-16本科</td>\n",
       "      <td>本科20000.0</td>\n",
       "    </tr>\n",
       "    <tr>\n",
       "      <th>03-16</th>\n",
       "      <td>本科</td>\n",
       "      <td>16500.0</td>\n",
       "      <td>03-16本科</td>\n",
       "      <td>本科16500.0</td>\n",
       "    </tr>\n",
       "    <tr>\n",
       "      <th>03-16</th>\n",
       "      <td>本科</td>\n",
       "      <td>16000.0</td>\n",
       "      <td>03-16本科</td>\n",
       "      <td>本科16000.0</td>\n",
       "    </tr>\n",
       "    <tr>\n",
       "      <th>03-16</th>\n",
       "      <td>本科</td>\n",
       "      <td>15000.0</td>\n",
       "      <td>03-16本科</td>\n",
       "      <td>本科15000.0</td>\n",
       "    </tr>\n",
       "    <tr>\n",
       "      <th>03-16</th>\n",
       "      <td>本科</td>\n",
       "      <td>14000.0</td>\n",
       "      <td>03-16本科</td>\n",
       "      <td>本科14000.0</td>\n",
       "    </tr>\n",
       "    <tr>\n",
       "      <th>03-16</th>\n",
       "      <td>本科</td>\n",
       "      <td>12500.0</td>\n",
       "      <td>03-16本科</td>\n",
       "      <td>本科12500.0</td>\n",
       "    </tr>\n",
       "    <tr>\n",
       "      <th>03-16</th>\n",
       "      <td>硕士</td>\n",
       "      <td>12500.0</td>\n",
       "      <td>03-16硕士</td>\n",
       "      <td>硕士12500.0</td>\n",
       "    </tr>\n",
       "    <tr>\n",
       "      <th>03-16</th>\n",
       "      <td>本科</td>\n",
       "      <td>12500.0</td>\n",
       "      <td>03-16本科</td>\n",
       "      <td>本科12500.0</td>\n",
       "    </tr>\n",
       "    <tr>\n",
       "      <th>03-16</th>\n",
       "      <td>本科</td>\n",
       "      <td>10000.0</td>\n",
       "      <td>03-16本科</td>\n",
       "      <td>本科10000.0</td>\n",
       "    </tr>\n",
       "    <tr>\n",
       "      <th>03-16</th>\n",
       "      <td>不限</td>\n",
       "      <td>7000.0</td>\n",
       "      <td>03-16不限</td>\n",
       "      <td>不限7000.0</td>\n",
       "    </tr>\n",
       "  </tbody>\n",
       "</table>\n",
       "</div>"
      ],
      "text/plain": [
       "           education   salary      new       test\n",
       "createTime                                       \n",
       "03-16             本科  37500.0  03-16本科  本科37500.0\n",
       "03-16             本科  35000.0  03-16本科  本科35000.0\n",
       "03-16             本科  30000.0  03-16本科  本科30000.0\n",
       "03-15             本科  30000.0  03-15本科  本科30000.0\n",
       "03-16             本科  30000.0  03-16本科  本科30000.0\n",
       "03-16             本科  27500.0  03-16本科  本科27500.0\n",
       "03-16             不限  27500.0  03-16不限  不限27500.0\n",
       "03-16             本科  25000.0  03-16本科  本科25000.0\n",
       "03-16             硕士  23000.0  03-16硕士  硕士23000.0\n",
       "03-16             本科  20000.0  03-16本科  本科20000.0\n",
       "03-16             本科  20000.0  03-16本科  本科20000.0\n",
       "03-16             本科  16500.0  03-16本科  本科16500.0\n",
       "03-16             本科  16000.0  03-16本科  本科16000.0\n",
       "03-16             本科  15000.0  03-16本科  本科15000.0\n",
       "03-16             本科  14000.0  03-16本科  本科14000.0\n",
       "03-16             本科  12500.0  03-16本科  本科12500.0\n",
       "03-16             硕士  12500.0  03-16硕士  硕士12500.0\n",
       "03-16             本科  12500.0  03-16本科  本科12500.0\n",
       "03-16             本科  10000.0  03-16本科  本科10000.0\n",
       "03-16             不限   7000.0  03-16不限   不限7000.0"
      ]
     },
     "execution_count": 124,
     "metadata": {},
     "output_type": "execute_result"
    }
   ],
   "source": [
    "df.set_index('createTime')"
   ]
  },
  {
   "cell_type": "code",
   "execution_count": 125,
   "id": "dc54431c-71e9-442f-8ff0-1ce1cd56c214",
   "metadata": {
    "tags": []
   },
   "outputs": [],
   "source": [
    "# 42.生成一个和df长度相同的随机数dataframe"
   ]
  },
  {
   "cell_type": "code",
   "execution_count": 147,
   "id": "5c0e6fc9-08e0-471b-94f7-ec86a159abf1",
   "metadata": {
    "tags": []
   },
   "outputs": [
    {
     "data": {
      "text/html": [
       "<div>\n",
       "<style scoped>\n",
       "    .dataframe tbody tr th:only-of-type {\n",
       "        vertical-align: middle;\n",
       "    }\n",
       "\n",
       "    .dataframe tbody tr th {\n",
       "        vertical-align: top;\n",
       "    }\n",
       "\n",
       "    .dataframe thead th {\n",
       "        text-align: right;\n",
       "    }\n",
       "</style>\n",
       "<table border=\"1\" class=\"dataframe\">\n",
       "  <thead>\n",
       "    <tr style=\"text-align: right;\">\n",
       "      <th></th>\n",
       "      <th>rand</th>\n",
       "    </tr>\n",
       "  </thead>\n",
       "  <tbody>\n",
       "    <tr>\n",
       "      <th>0</th>\n",
       "      <td>3</td>\n",
       "    </tr>\n",
       "    <tr>\n",
       "      <th>1</th>\n",
       "      <td>3</td>\n",
       "    </tr>\n",
       "    <tr>\n",
       "      <th>2</th>\n",
       "      <td>4</td>\n",
       "    </tr>\n",
       "    <tr>\n",
       "      <th>3</th>\n",
       "      <td>0</td>\n",
       "    </tr>\n",
       "    <tr>\n",
       "      <th>4</th>\n",
       "      <td>8</td>\n",
       "    </tr>\n",
       "  </tbody>\n",
       "</table>\n",
       "</div>"
      ],
      "text/plain": [
       "   rand\n",
       "0     3\n",
       "1     3\n",
       "2     4\n",
       "3     0\n",
       "4     8"
      ]
     },
     "execution_count": 147,
     "metadata": {},
     "output_type": "execute_result"
    }
   ],
   "source": [
    "rand_data = np.random.randint(0, 10, (df.shape[0], 1))\n",
    "r_df = pd.DataFrame(rand_data, columns=['rand'])\n",
    "r_df.head()"
   ]
  },
  {
   "cell_type": "code",
   "execution_count": 133,
   "id": "ec2863f9-927e-4596-99eb-0b1a38a38380",
   "metadata": {
    "tags": []
   },
   "outputs": [],
   "source": [
    "# 43.将上一题生成的dataframe与df合并"
   ]
  },
  {
   "cell_type": "markdown",
   "id": "02183797-4a91-4392-935e-8ff005699721",
   "metadata": {},
   "source": [
    "**concat() axis决定按行合并还是按列合并**"
   ]
  },
  {
   "cell_type": "code",
   "execution_count": 160,
   "id": "98fafb65-44f7-4e2f-b358-a3642b34cc5e",
   "metadata": {
    "tags": []
   },
   "outputs": [
    {
     "data": {
      "text/html": [
       "<div>\n",
       "<style scoped>\n",
       "    .dataframe tbody tr th:only-of-type {\n",
       "        vertical-align: middle;\n",
       "    }\n",
       "\n",
       "    .dataframe tbody tr th {\n",
       "        vertical-align: top;\n",
       "    }\n",
       "\n",
       "    .dataframe thead th {\n",
       "        text-align: right;\n",
       "    }\n",
       "</style>\n",
       "<table border=\"1\" class=\"dataframe\">\n",
       "  <thead>\n",
       "    <tr style=\"text-align: right;\">\n",
       "      <th></th>\n",
       "      <th>createTime</th>\n",
       "      <th>education</th>\n",
       "      <th>salary</th>\n",
       "      <th>new</th>\n",
       "      <th>test</th>\n",
       "      <th>rand</th>\n",
       "    </tr>\n",
       "  </thead>\n",
       "  <tbody>\n",
       "    <tr>\n",
       "      <th>16</th>\n",
       "      <td>03-16</td>\n",
       "      <td>本科</td>\n",
       "      <td>37500.0</td>\n",
       "      <td>03-16本科</td>\n",
       "      <td>本科37500.0</td>\n",
       "      <td>2</td>\n",
       "    </tr>\n",
       "    <tr>\n",
       "      <th>18</th>\n",
       "      <td>03-16</td>\n",
       "      <td>本科</td>\n",
       "      <td>35000.0</td>\n",
       "      <td>03-16本科</td>\n",
       "      <td>本科35000.0</td>\n",
       "      <td>3</td>\n",
       "    </tr>\n",
       "    <tr>\n",
       "      <th>1</th>\n",
       "      <td>03-16</td>\n",
       "      <td>本科</td>\n",
       "      <td>30000.0</td>\n",
       "      <td>03-16本科</td>\n",
       "      <td>本科30000.0</td>\n",
       "      <td>3</td>\n",
       "    </tr>\n",
       "    <tr>\n",
       "      <th>14</th>\n",
       "      <td>03-15</td>\n",
       "      <td>本科</td>\n",
       "      <td>30000.0</td>\n",
       "      <td>03-15本科</td>\n",
       "      <td>本科30000.0</td>\n",
       "      <td>0</td>\n",
       "    </tr>\n",
       "    <tr>\n",
       "      <th>12</th>\n",
       "      <td>03-16</td>\n",
       "      <td>本科</td>\n",
       "      <td>30000.0</td>\n",
       "      <td>03-16本科</td>\n",
       "      <td>本科30000.0</td>\n",
       "      <td>8</td>\n",
       "    </tr>\n",
       "  </tbody>\n",
       "</table>\n",
       "</div>"
      ],
      "text/plain": [
       "   createTime education   salary      new       test  rand\n",
       "16      03-16        本科  37500.0  03-16本科  本科37500.0     2\n",
       "18      03-16        本科  35000.0  03-16本科  本科35000.0     3\n",
       "1       03-16        本科  30000.0  03-16本科  本科30000.0     3\n",
       "14      03-15        本科  30000.0  03-15本科  本科30000.0     0\n",
       "12      03-16        本科  30000.0  03-16本科  本科30000.0     8"
      ]
     },
     "execution_count": 160,
     "metadata": {},
     "output_type": "execute_result"
    }
   ],
   "source": [
    "df = pd.concat([df, r_df],axis=1)\n",
    "df.head()"
   ]
  },
  {
   "cell_type": "code",
   "execution_count": 140,
   "id": "4167f519-3964-441d-9a3f-52c5cc7479dd",
   "metadata": {
    "tags": []
   },
   "outputs": [],
   "source": [
    "# 44.生成新的一列new为salary列减去之前生成随机数列"
   ]
  },
  {
   "cell_type": "code",
   "execution_count": 162,
   "id": "7fe96b19-351c-4d67-8340-4b823cd5c794",
   "metadata": {
    "tags": []
   },
   "outputs": [
    {
     "data": {
      "text/html": [
       "<div>\n",
       "<style scoped>\n",
       "    .dataframe tbody tr th:only-of-type {\n",
       "        vertical-align: middle;\n",
       "    }\n",
       "\n",
       "    .dataframe tbody tr th {\n",
       "        vertical-align: top;\n",
       "    }\n",
       "\n",
       "    .dataframe thead th {\n",
       "        text-align: right;\n",
       "    }\n",
       "</style>\n",
       "<table border=\"1\" class=\"dataframe\">\n",
       "  <thead>\n",
       "    <tr style=\"text-align: right;\">\n",
       "      <th></th>\n",
       "      <th>createTime</th>\n",
       "      <th>education</th>\n",
       "      <th>salary</th>\n",
       "      <th>new</th>\n",
       "      <th>test</th>\n",
       "      <th>rand</th>\n",
       "      <th>sub_result</th>\n",
       "    </tr>\n",
       "  </thead>\n",
       "  <tbody>\n",
       "    <tr>\n",
       "      <th>16</th>\n",
       "      <td>03-16</td>\n",
       "      <td>本科</td>\n",
       "      <td>37500.0</td>\n",
       "      <td>03-16本科</td>\n",
       "      <td>本科37500.0</td>\n",
       "      <td>2</td>\n",
       "      <td>37498.0</td>\n",
       "    </tr>\n",
       "    <tr>\n",
       "      <th>18</th>\n",
       "      <td>03-16</td>\n",
       "      <td>本科</td>\n",
       "      <td>35000.0</td>\n",
       "      <td>03-16本科</td>\n",
       "      <td>本科35000.0</td>\n",
       "      <td>3</td>\n",
       "      <td>34997.0</td>\n",
       "    </tr>\n",
       "    <tr>\n",
       "      <th>1</th>\n",
       "      <td>03-16</td>\n",
       "      <td>本科</td>\n",
       "      <td>30000.0</td>\n",
       "      <td>03-16本科</td>\n",
       "      <td>本科30000.0</td>\n",
       "      <td>3</td>\n",
       "      <td>29997.0</td>\n",
       "    </tr>\n",
       "    <tr>\n",
       "      <th>14</th>\n",
       "      <td>03-15</td>\n",
       "      <td>本科</td>\n",
       "      <td>30000.0</td>\n",
       "      <td>03-15本科</td>\n",
       "      <td>本科30000.0</td>\n",
       "      <td>0</td>\n",
       "      <td>30000.0</td>\n",
       "    </tr>\n",
       "    <tr>\n",
       "      <th>12</th>\n",
       "      <td>03-16</td>\n",
       "      <td>本科</td>\n",
       "      <td>30000.0</td>\n",
       "      <td>03-16本科</td>\n",
       "      <td>本科30000.0</td>\n",
       "      <td>8</td>\n",
       "      <td>29992.0</td>\n",
       "    </tr>\n",
       "  </tbody>\n",
       "</table>\n",
       "</div>"
      ],
      "text/plain": [
       "   createTime education   salary      new       test  rand  sub_result\n",
       "16      03-16        本科  37500.0  03-16本科  本科37500.0     2     37498.0\n",
       "18      03-16        本科  35000.0  03-16本科  本科35000.0     3     34997.0\n",
       "1       03-16        本科  30000.0  03-16本科  本科30000.0     3     29997.0\n",
       "14      03-15        本科  30000.0  03-15本科  本科30000.0     0     30000.0\n",
       "12      03-16        本科  30000.0  03-16本科  本科30000.0     8     29992.0"
      ]
     },
     "execution_count": 162,
     "metadata": {},
     "output_type": "execute_result"
    }
   ],
   "source": [
    "df['sub_result'] = df['salary'] - df['rand']\n",
    "df.head()"
   ]
  },
  {
   "cell_type": "code",
   "execution_count": 163,
   "id": "78b782c6-8db4-415c-b7fc-d0e5882d7a52",
   "metadata": {
    "tags": []
   },
   "outputs": [],
   "source": [
    "# 45.检查数据中是否含有任何缺失值"
   ]
  },
  {
   "cell_type": "code",
   "execution_count": 166,
   "id": "923019fd-2c94-47a0-b1fa-8278d3d30f82",
   "metadata": {
    "tags": []
   },
   "outputs": [
    {
     "data": {
      "text/plain": [
       "False"
      ]
     },
     "execution_count": 166,
     "metadata": {},
     "output_type": "execute_result"
    }
   ],
   "source": [
    "np.any(df.isnull())"
   ]
  },
  {
   "cell_type": "code",
   "execution_count": 167,
   "id": "41d58f2a-cdcc-440a-bf46-38b1e2378545",
   "metadata": {
    "tags": []
   },
   "outputs": [],
   "source": [
    "# 46.将salary列类型转换为浮点数"
   ]
  },
  {
   "cell_type": "markdown",
   "id": "5da933b2-b5e6-4e58-bc7d-695fa9c31bb9",
   "metadata": {},
   "source": [
    "### astype() 指定数据类型\n",
    "- "
   ]
  },
  {
   "cell_type": "code",
   "execution_count": 169,
   "id": "03560eaf-0232-439d-a117-2744d1f827af",
   "metadata": {
    "tags": []
   },
   "outputs": [
    {
     "data": {
      "text/plain": [
       "16    37500.0\n",
       "18    35000.0\n",
       "1     30000.0\n",
       "14    30000.0\n",
       "12    30000.0\n",
       "0     27500.0\n",
       "2     27500.0\n",
       "13    25000.0\n",
       "6     23000.0\n",
       "10    20000.0\n",
       "19    20000.0\n",
       "3     16500.0\n",
       "9     16000.0\n",
       "4     15000.0\n",
       "5     14000.0\n",
       "7     12500.0\n",
       "15    12500.0\n",
       "17    12500.0\n",
       "11    10000.0\n",
       "8      7000.0\n",
       "Name: salary, dtype: float32"
      ]
     },
     "execution_count": 169,
     "metadata": {},
     "output_type": "execute_result"
    }
   ],
   "source": [
    "df['salary'].astype(np.float32)"
   ]
  },
  {
   "cell_type": "code",
   "execution_count": 170,
   "id": "3872ae91-2b57-45af-8f15-0bb0bae0c374",
   "metadata": {
    "tags": []
   },
   "outputs": [],
   "source": [
    "# 47.计算salary大于10000的次数"
   ]
  },
  {
   "cell_type": "code",
   "execution_count": 174,
   "id": "addb3718-6c6b-449a-a656-cc6c8254f4a3",
   "metadata": {
    "tags": []
   },
   "outputs": [
    {
     "data": {
      "text/plain": [
       "18"
      ]
     },
     "execution_count": 174,
     "metadata": {},
     "output_type": "execute_result"
    }
   ],
   "source": [
    "len(df[df['salary'] > 10000])"
   ]
  },
  {
   "cell_type": "code",
   "execution_count": 175,
   "id": "cd81ef7f-b12f-47c5-a501-e63b8f6f1697",
   "metadata": {
    "tags": []
   },
   "outputs": [],
   "source": [
    "# 48.查看每种学历出现的次数"
   ]
  },
  {
   "cell_type": "code",
   "execution_count": 177,
   "id": "8f579efd-827b-4d00-bd3e-eb76cffeb541",
   "metadata": {
    "tags": []
   },
   "outputs": [
    {
     "data": {
      "text/plain": [
       "本科    16\n",
       "不限     2\n",
       "硕士     2\n",
       "Name: education, dtype: int64"
      ]
     },
     "execution_count": 177,
     "metadata": {},
     "output_type": "execute_result"
    }
   ],
   "source": [
    "df['education'].value_counts()"
   ]
  },
  {
   "cell_type": "code",
   "execution_count": 178,
   "id": "2c2cbc27-498d-4e7c-ad3a-e004c9575907",
   "metadata": {
    "tags": []
   },
   "outputs": [],
   "source": [
    "# 49.查看education列共有几种学历"
   ]
  },
  {
   "cell_type": "code",
   "execution_count": 179,
   "id": "394bebb8-6f82-4a4a-ba3b-20dbbe4c5c00",
   "metadata": {
    "tags": []
   },
   "outputs": [
    {
     "data": {
      "text/plain": [
       "3"
      ]
     },
     "execution_count": 179,
     "metadata": {},
     "output_type": "execute_result"
    }
   ],
   "source": [
    "df['education'].nunique()"
   ]
  },
  {
   "cell_type": "code",
   "execution_count": 180,
   "id": "f43cb85a-efa4-44ea-9797-9dc9799db413",
   "metadata": {
    "tags": []
   },
   "outputs": [],
   "source": [
    "# 50.提取salary与new列的和大于60000的最后3行"
   ]
  },
  {
   "cell_type": "code",
   "execution_count": 185,
   "id": "af95c4bf-5c11-499c-9540-0fe456bd95cb",
   "metadata": {
    "tags": []
   },
   "outputs": [
    {
     "data": {
      "text/html": [
       "<div>\n",
       "<style scoped>\n",
       "    .dataframe tbody tr th:only-of-type {\n",
       "        vertical-align: middle;\n",
       "    }\n",
       "\n",
       "    .dataframe tbody tr th {\n",
       "        vertical-align: top;\n",
       "    }\n",
       "\n",
       "    .dataframe thead th {\n",
       "        text-align: right;\n",
       "    }\n",
       "</style>\n",
       "<table border=\"1\" class=\"dataframe\">\n",
       "  <thead>\n",
       "    <tr style=\"text-align: right;\">\n",
       "      <th></th>\n",
       "      <th>createTime</th>\n",
       "      <th>education</th>\n",
       "      <th>salary</th>\n",
       "      <th>new</th>\n",
       "      <th>test</th>\n",
       "      <th>rand</th>\n",
       "      <th>sub_result</th>\n",
       "    </tr>\n",
       "  </thead>\n",
       "  <tbody>\n",
       "    <tr>\n",
       "      <th>16</th>\n",
       "      <td>03-16</td>\n",
       "      <td>本科</td>\n",
       "      <td>37500.0</td>\n",
       "      <td>03-16本科</td>\n",
       "      <td>本科37500.0</td>\n",
       "      <td>2</td>\n",
       "      <td>37498.0</td>\n",
       "    </tr>\n",
       "    <tr>\n",
       "      <th>18</th>\n",
       "      <td>03-16</td>\n",
       "      <td>本科</td>\n",
       "      <td>35000.0</td>\n",
       "      <td>03-16本科</td>\n",
       "      <td>本科35000.0</td>\n",
       "      <td>3</td>\n",
       "      <td>34997.0</td>\n",
       "    </tr>\n",
       "    <tr>\n",
       "      <th>1</th>\n",
       "      <td>03-16</td>\n",
       "      <td>本科</td>\n",
       "      <td>30000.0</td>\n",
       "      <td>03-16本科</td>\n",
       "      <td>本科30000.0</td>\n",
       "      <td>3</td>\n",
       "      <td>29997.0</td>\n",
       "    </tr>\n",
       "    <tr>\n",
       "      <th>14</th>\n",
       "      <td>03-15</td>\n",
       "      <td>本科</td>\n",
       "      <td>30000.0</td>\n",
       "      <td>03-15本科</td>\n",
       "      <td>本科30000.0</td>\n",
       "      <td>0</td>\n",
       "      <td>30000.0</td>\n",
       "    </tr>\n",
       "    <tr>\n",
       "      <th>12</th>\n",
       "      <td>03-16</td>\n",
       "      <td>本科</td>\n",
       "      <td>30000.0</td>\n",
       "      <td>03-16本科</td>\n",
       "      <td>本科30000.0</td>\n",
       "      <td>8</td>\n",
       "      <td>29992.0</td>\n",
       "    </tr>\n",
       "    <tr>\n",
       "      <th>0</th>\n",
       "      <td>03-16</td>\n",
       "      <td>本科</td>\n",
       "      <td>27500.0</td>\n",
       "      <td>03-16本科</td>\n",
       "      <td>本科27500.0</td>\n",
       "      <td>3</td>\n",
       "      <td>27497.0</td>\n",
       "    </tr>\n",
       "    <tr>\n",
       "      <th>2</th>\n",
       "      <td>03-16</td>\n",
       "      <td>不限</td>\n",
       "      <td>27500.0</td>\n",
       "      <td>03-16不限</td>\n",
       "      <td>不限27500.0</td>\n",
       "      <td>4</td>\n",
       "      <td>27496.0</td>\n",
       "    </tr>\n",
       "    <tr>\n",
       "      <th>13</th>\n",
       "      <td>03-16</td>\n",
       "      <td>本科</td>\n",
       "      <td>25000.0</td>\n",
       "      <td>03-16本科</td>\n",
       "      <td>本科25000.0</td>\n",
       "      <td>9</td>\n",
       "      <td>24991.0</td>\n",
       "    </tr>\n",
       "    <tr>\n",
       "      <th>6</th>\n",
       "      <td>03-16</td>\n",
       "      <td>硕士</td>\n",
       "      <td>23000.0</td>\n",
       "      <td>03-16硕士</td>\n",
       "      <td>硕士23000.0</td>\n",
       "      <td>1</td>\n",
       "      <td>22999.0</td>\n",
       "    </tr>\n",
       "  </tbody>\n",
       "</table>\n",
       "</div>"
      ],
      "text/plain": [
       "   createTime education   salary      new       test  rand  sub_result\n",
       "16      03-16        本科  37500.0  03-16本科  本科37500.0     2     37498.0\n",
       "18      03-16        本科  35000.0  03-16本科  本科35000.0     3     34997.0\n",
       "1       03-16        本科  30000.0  03-16本科  本科30000.0     3     29997.0\n",
       "14      03-15        本科  30000.0  03-15本科  本科30000.0     0     30000.0\n",
       "12      03-16        本科  30000.0  03-16本科  本科30000.0     8     29992.0\n",
       "0       03-16        本科  27500.0  03-16本科  本科27500.0     3     27497.0\n",
       "2       03-16        不限  27500.0  03-16不限  不限27500.0     4     27496.0\n",
       "13      03-16        本科  25000.0  03-16本科  本科25000.0     9     24991.0\n",
       "6       03-16        硕士  23000.0  03-16硕士  硕士23000.0     1     22999.0"
      ]
     },
     "execution_count": 185,
     "metadata": {},
     "output_type": "execute_result"
    }
   ],
   "source": [
    "df[df['salary']>20000]"
   ]
  },
  {
   "cell_type": "code",
   "execution_count": 186,
   "id": "9935cc85-3ef2-43e5-b2b5-94e90e1d0e62",
   "metadata": {
    "tags": []
   },
   "outputs": [
    {
     "data": {
      "text/html": [
       "<div>\n",
       "<style scoped>\n",
       "    .dataframe tbody tr th:only-of-type {\n",
       "        vertical-align: middle;\n",
       "    }\n",
       "\n",
       "    .dataframe tbody tr th {\n",
       "        vertical-align: top;\n",
       "    }\n",
       "\n",
       "    .dataframe thead th {\n",
       "        text-align: right;\n",
       "    }\n",
       "</style>\n",
       "<table border=\"1\" class=\"dataframe\">\n",
       "  <thead>\n",
       "    <tr style=\"text-align: right;\">\n",
       "      <th></th>\n",
       "      <th>createTime</th>\n",
       "      <th>education</th>\n",
       "      <th>salary</th>\n",
       "      <th>new</th>\n",
       "      <th>test</th>\n",
       "      <th>rand</th>\n",
       "      <th>sub_result</th>\n",
       "    </tr>\n",
       "  </thead>\n",
       "  <tbody>\n",
       "    <tr>\n",
       "      <th>2</th>\n",
       "      <td>03-16</td>\n",
       "      <td>不限</td>\n",
       "      <td>27500.0</td>\n",
       "      <td>03-16不限</td>\n",
       "      <td>不限27500.0</td>\n",
       "      <td>4</td>\n",
       "      <td>27496.0</td>\n",
       "    </tr>\n",
       "    <tr>\n",
       "      <th>13</th>\n",
       "      <td>03-16</td>\n",
       "      <td>本科</td>\n",
       "      <td>25000.0</td>\n",
       "      <td>03-16本科</td>\n",
       "      <td>本科25000.0</td>\n",
       "      <td>9</td>\n",
       "      <td>24991.0</td>\n",
       "    </tr>\n",
       "    <tr>\n",
       "      <th>6</th>\n",
       "      <td>03-16</td>\n",
       "      <td>硕士</td>\n",
       "      <td>23000.0</td>\n",
       "      <td>03-16硕士</td>\n",
       "      <td>硕士23000.0</td>\n",
       "      <td>1</td>\n",
       "      <td>22999.0</td>\n",
       "    </tr>\n",
       "  </tbody>\n",
       "</table>\n",
       "</div>"
      ],
      "text/plain": [
       "   createTime education   salary      new       test  rand  sub_result\n",
       "2       03-16        不限  27500.0  03-16不限  不限27500.0     4     27496.0\n",
       "13      03-16        本科  25000.0  03-16本科  本科25000.0     9     24991.0\n",
       "6       03-16        硕士  23000.0  03-16硕士  硕士23000.0     1     22999.0"
      ]
     },
     "execution_count": 186,
     "metadata": {},
     "output_type": "execute_result"
    }
   ],
   "source": [
    "result = df[(df['salary'] + df['sub_result']) > 40000].tail(3)\n",
    "result"
   ]
  },
  {
   "cell_type": "code",
   "execution_count": null,
   "id": "d8fa3cf1-27f1-4f9f-8599-3a04e5354eba",
   "metadata": {},
   "outputs": [],
   "source": []
  }
 ],
 "metadata": {
  "kernelspec": {
   "display_name": "Python 3 (ipykernel)",
   "language": "python",
   "name": "python3"
  },
  "language_info": {
   "codemirror_mode": {
    "name": "ipython",
    "version": 3
   },
   "file_extension": ".py",
   "mimetype": "text/x-python",
   "name": "python",
   "nbconvert_exporter": "python",
   "pygments_lexer": "ipython3",
   "version": "3.11.4"
  }
 },
 "nbformat": 4,
 "nbformat_minor": 5
}
